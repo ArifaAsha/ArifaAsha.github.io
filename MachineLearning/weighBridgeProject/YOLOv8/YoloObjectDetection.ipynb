{
  "cells": [
    {
      "cell_type": "markdown",
      "metadata": {
        "id": "view-in-github",
        "colab_type": "text"
      },
      "source": [
        "<a href=\"https://colab.research.google.com/github/ArifaAsha/ArifaAsha.github.io/blob/master/MachineLearning/weighBridgeProject/YOLOv8/YoloObjectDetection.ipynb\" target=\"_parent\"><img src=\"https://colab.research.google.com/assets/colab-badge.svg\" alt=\"Open In Colab\"/></a>"
      ]
    },
    {
      "cell_type": "markdown",
      "metadata": {
        "id": "hU2XTyud49hA"
      },
      "source": [
        "#Available GPUs"
      ]
    },
    {
      "cell_type": "code",
      "execution_count": 1,
      "metadata": {
        "colab": {
          "base_uri": "https://localhost:8080/"
        },
        "id": "BOAKNA1HQ1-X",
        "outputId": "64fb3cfd-3bfa-4559-ebde-ce4c49728725"
      },
      "outputs": [
        {
          "output_type": "stream",
          "name": "stdout",
          "text": [
            "Thu Sep 26 09:05:46 2024       \n",
            "+---------------------------------------------------------------------------------------+\n",
            "| NVIDIA-SMI 535.104.05             Driver Version: 535.104.05   CUDA Version: 12.2     |\n",
            "|-----------------------------------------+----------------------+----------------------+\n",
            "| GPU  Name                 Persistence-M | Bus-Id        Disp.A | Volatile Uncorr. ECC |\n",
            "| Fan  Temp   Perf          Pwr:Usage/Cap |         Memory-Usage | GPU-Util  Compute M. |\n",
            "|                                         |                      |               MIG M. |\n",
            "|=========================================+======================+======================|\n",
            "|   0  Tesla T4                       Off | 00000000:00:04.0 Off |                    0 |\n",
            "| N/A   60C    P8              11W /  70W |      0MiB / 15360MiB |      0%      Default |\n",
            "|                                         |                      |                  N/A |\n",
            "+-----------------------------------------+----------------------+----------------------+\n",
            "                                                                                         \n",
            "+---------------------------------------------------------------------------------------+\n",
            "| Processes:                                                                            |\n",
            "|  GPU   GI   CI        PID   Type   Process name                            GPU Memory |\n",
            "|        ID   ID                                                             Usage      |\n",
            "|=======================================================================================|\n",
            "|  No running processes found                                                           |\n",
            "+---------------------------------------------------------------------------------------+\n"
          ]
        }
      ],
      "source": [
        "!nvidia-smi"
      ]
    },
    {
      "cell_type": "code",
      "execution_count": 2,
      "metadata": {
        "colab": {
          "base_uri": "https://localhost:8080/"
        },
        "id": "KHXa_TjVcLM2",
        "outputId": "4fb01ad0-f246-4fcc-a998-f4caa75e4d4b"
      },
      "outputs": [
        {
          "output_type": "stream",
          "name": "stdout",
          "text": [
            "/content\n"
          ]
        }
      ],
      "source": [
        "import os\n",
        "HOME = os.getcwd()\n",
        "print(HOME)"
      ]
    },
    {
      "cell_type": "code",
      "execution_count": 3,
      "metadata": {
        "colab": {
          "base_uri": "https://localhost:8080/"
        },
        "collapsed": true,
        "id": "xbY1u5-gHKg3",
        "outputId": "f5e7493c-b39e-4fd1-8954-ebe89a431ae4"
      },
      "outputs": [
        {
          "output_type": "stream",
          "name": "stdout",
          "text": [
            "Collecting roboflow\n",
            "  Downloading roboflow-1.1.45-py3-none-any.whl.metadata (9.7 kB)\n",
            "Requirement already satisfied: certifi in /usr/local/lib/python3.10/dist-packages (from roboflow) (2024.8.30)\n",
            "Collecting idna==3.7 (from roboflow)\n",
            "  Downloading idna-3.7-py3-none-any.whl.metadata (9.9 kB)\n",
            "Requirement already satisfied: cycler in /usr/local/lib/python3.10/dist-packages (from roboflow) (0.12.1)\n",
            "Requirement already satisfied: kiwisolver>=1.3.1 in /usr/local/lib/python3.10/dist-packages (from roboflow) (1.4.7)\n",
            "Requirement already satisfied: matplotlib in /usr/local/lib/python3.10/dist-packages (from roboflow) (3.7.1)\n",
            "Requirement already satisfied: numpy>=1.18.5 in /usr/local/lib/python3.10/dist-packages (from roboflow) (1.26.4)\n",
            "Requirement already satisfied: opencv-python-headless==4.10.0.84 in /usr/local/lib/python3.10/dist-packages (from roboflow) (4.10.0.84)\n",
            "Requirement already satisfied: Pillow>=7.1.2 in /usr/local/lib/python3.10/dist-packages (from roboflow) (10.4.0)\n",
            "Requirement already satisfied: python-dateutil in /usr/local/lib/python3.10/dist-packages (from roboflow) (2.8.2)\n",
            "Collecting python-dotenv (from roboflow)\n",
            "  Downloading python_dotenv-1.0.1-py3-none-any.whl.metadata (23 kB)\n",
            "Requirement already satisfied: requests in /usr/local/lib/python3.10/dist-packages (from roboflow) (2.32.3)\n",
            "Requirement already satisfied: six in /usr/local/lib/python3.10/dist-packages (from roboflow) (1.16.0)\n",
            "Requirement already satisfied: urllib3>=1.26.6 in /usr/local/lib/python3.10/dist-packages (from roboflow) (2.2.3)\n",
            "Requirement already satisfied: tqdm>=4.41.0 in /usr/local/lib/python3.10/dist-packages (from roboflow) (4.66.5)\n",
            "Requirement already satisfied: PyYAML>=5.3.1 in /usr/local/lib/python3.10/dist-packages (from roboflow) (6.0.2)\n",
            "Collecting requests-toolbelt (from roboflow)\n",
            "  Downloading requests_toolbelt-1.0.0-py2.py3-none-any.whl.metadata (14 kB)\n",
            "Collecting filetype (from roboflow)\n",
            "  Downloading filetype-1.2.0-py2.py3-none-any.whl.metadata (6.5 kB)\n",
            "Requirement already satisfied: contourpy>=1.0.1 in /usr/local/lib/python3.10/dist-packages (from matplotlib->roboflow) (1.3.0)\n",
            "Requirement already satisfied: fonttools>=4.22.0 in /usr/local/lib/python3.10/dist-packages (from matplotlib->roboflow) (4.53.1)\n",
            "Requirement already satisfied: packaging>=20.0 in /usr/local/lib/python3.10/dist-packages (from matplotlib->roboflow) (24.1)\n",
            "Requirement already satisfied: pyparsing>=2.3.1 in /usr/local/lib/python3.10/dist-packages (from matplotlib->roboflow) (3.1.4)\n",
            "Requirement already satisfied: charset-normalizer<4,>=2 in /usr/local/lib/python3.10/dist-packages (from requests->roboflow) (3.3.2)\n",
            "Downloading roboflow-1.1.45-py3-none-any.whl (80 kB)\n",
            "\u001b[2K   \u001b[90m━━━━━━━━━━━━━━━━━━━━━━━━━━━━━━━━━━━━━━━━\u001b[0m \u001b[32m80.3/80.3 kB\u001b[0m \u001b[31m3.5 MB/s\u001b[0m eta \u001b[36m0:00:00\u001b[0m\n",
            "\u001b[?25hDownloading idna-3.7-py3-none-any.whl (66 kB)\n",
            "\u001b[2K   \u001b[90m━━━━━━━━━━━━━━━━━━━━━━━━━━━━━━━━━━━━━━━━\u001b[0m \u001b[32m66.8/66.8 kB\u001b[0m \u001b[31m5.5 MB/s\u001b[0m eta \u001b[36m0:00:00\u001b[0m\n",
            "\u001b[?25hDownloading filetype-1.2.0-py2.py3-none-any.whl (19 kB)\n",
            "Downloading python_dotenv-1.0.1-py3-none-any.whl (19 kB)\n",
            "Downloading requests_toolbelt-1.0.0-py2.py3-none-any.whl (54 kB)\n",
            "\u001b[2K   \u001b[90m━━━━━━━━━━━━━━━━━━━━━━━━━━━━━━━━━━━━━━━━\u001b[0m \u001b[32m54.5/54.5 kB\u001b[0m \u001b[31m4.8 MB/s\u001b[0m eta \u001b[36m0:00:00\u001b[0m\n",
            "\u001b[?25hInstalling collected packages: filetype, python-dotenv, idna, requests-toolbelt, roboflow\n",
            "  Attempting uninstall: idna\n",
            "    Found existing installation: idna 3.10\n",
            "    Uninstalling idna-3.10:\n",
            "      Successfully uninstalled idna-3.10\n",
            "Successfully installed filetype-1.2.0 idna-3.7 python-dotenv-1.0.1 requests-toolbelt-1.0.0 roboflow-1.1.45\n",
            "Collecting ultralytics\n",
            "  Downloading ultralytics-8.2.101-py3-none-any.whl.metadata (39 kB)\n",
            "Requirement already satisfied: numpy<2.0.0,>=1.23.0 in /usr/local/lib/python3.10/dist-packages (from ultralytics) (1.26.4)\n",
            "Requirement already satisfied: matplotlib>=3.3.0 in /usr/local/lib/python3.10/dist-packages (from ultralytics) (3.7.1)\n",
            "Requirement already satisfied: opencv-python>=4.6.0 in /usr/local/lib/python3.10/dist-packages (from ultralytics) (4.10.0.84)\n",
            "Requirement already satisfied: pillow>=7.1.2 in /usr/local/lib/python3.10/dist-packages (from ultralytics) (10.4.0)\n",
            "Requirement already satisfied: pyyaml>=5.3.1 in /usr/local/lib/python3.10/dist-packages (from ultralytics) (6.0.2)\n",
            "Requirement already satisfied: requests>=2.23.0 in /usr/local/lib/python3.10/dist-packages (from ultralytics) (2.32.3)\n",
            "Requirement already satisfied: scipy>=1.4.1 in /usr/local/lib/python3.10/dist-packages (from ultralytics) (1.13.1)\n",
            "Requirement already satisfied: torch>=1.8.0 in /usr/local/lib/python3.10/dist-packages (from ultralytics) (2.4.1+cu121)\n",
            "Requirement already satisfied: torchvision>=0.9.0 in /usr/local/lib/python3.10/dist-packages (from ultralytics) (0.19.1+cu121)\n",
            "Requirement already satisfied: tqdm>=4.64.0 in /usr/local/lib/python3.10/dist-packages (from ultralytics) (4.66.5)\n",
            "Requirement already satisfied: psutil in /usr/local/lib/python3.10/dist-packages (from ultralytics) (5.9.5)\n",
            "Requirement already satisfied: py-cpuinfo in /usr/local/lib/python3.10/dist-packages (from ultralytics) (9.0.0)\n",
            "Requirement already satisfied: pandas>=1.1.4 in /usr/local/lib/python3.10/dist-packages (from ultralytics) (2.1.4)\n",
            "Requirement already satisfied: seaborn>=0.11.0 in /usr/local/lib/python3.10/dist-packages (from ultralytics) (0.13.1)\n",
            "Collecting ultralytics-thop>=2.0.0 (from ultralytics)\n",
            "  Downloading ultralytics_thop-2.0.8-py3-none-any.whl.metadata (9.3 kB)\n",
            "Requirement already satisfied: contourpy>=1.0.1 in /usr/local/lib/python3.10/dist-packages (from matplotlib>=3.3.0->ultralytics) (1.3.0)\n",
            "Requirement already satisfied: cycler>=0.10 in /usr/local/lib/python3.10/dist-packages (from matplotlib>=3.3.0->ultralytics) (0.12.1)\n",
            "Requirement already satisfied: fonttools>=4.22.0 in /usr/local/lib/python3.10/dist-packages (from matplotlib>=3.3.0->ultralytics) (4.53.1)\n",
            "Requirement already satisfied: kiwisolver>=1.0.1 in /usr/local/lib/python3.10/dist-packages (from matplotlib>=3.3.0->ultralytics) (1.4.7)\n",
            "Requirement already satisfied: packaging>=20.0 in /usr/local/lib/python3.10/dist-packages (from matplotlib>=3.3.0->ultralytics) (24.1)\n",
            "Requirement already satisfied: pyparsing>=2.3.1 in /usr/local/lib/python3.10/dist-packages (from matplotlib>=3.3.0->ultralytics) (3.1.4)\n",
            "Requirement already satisfied: python-dateutil>=2.7 in /usr/local/lib/python3.10/dist-packages (from matplotlib>=3.3.0->ultralytics) (2.8.2)\n",
            "Requirement already satisfied: pytz>=2020.1 in /usr/local/lib/python3.10/dist-packages (from pandas>=1.1.4->ultralytics) (2024.2)\n",
            "Requirement already satisfied: tzdata>=2022.1 in /usr/local/lib/python3.10/dist-packages (from pandas>=1.1.4->ultralytics) (2024.1)\n",
            "Requirement already satisfied: charset-normalizer<4,>=2 in /usr/local/lib/python3.10/dist-packages (from requests>=2.23.0->ultralytics) (3.3.2)\n",
            "Requirement already satisfied: idna<4,>=2.5 in /usr/local/lib/python3.10/dist-packages (from requests>=2.23.0->ultralytics) (3.7)\n",
            "Requirement already satisfied: urllib3<3,>=1.21.1 in /usr/local/lib/python3.10/dist-packages (from requests>=2.23.0->ultralytics) (2.2.3)\n",
            "Requirement already satisfied: certifi>=2017.4.17 in /usr/local/lib/python3.10/dist-packages (from requests>=2.23.0->ultralytics) (2024.8.30)\n",
            "Requirement already satisfied: filelock in /usr/local/lib/python3.10/dist-packages (from torch>=1.8.0->ultralytics) (3.16.1)\n",
            "Requirement already satisfied: typing-extensions>=4.8.0 in /usr/local/lib/python3.10/dist-packages (from torch>=1.8.0->ultralytics) (4.12.2)\n",
            "Requirement already satisfied: sympy in /usr/local/lib/python3.10/dist-packages (from torch>=1.8.0->ultralytics) (1.13.3)\n",
            "Requirement already satisfied: networkx in /usr/local/lib/python3.10/dist-packages (from torch>=1.8.0->ultralytics) (3.3)\n",
            "Requirement already satisfied: jinja2 in /usr/local/lib/python3.10/dist-packages (from torch>=1.8.0->ultralytics) (3.1.4)\n",
            "Requirement already satisfied: fsspec in /usr/local/lib/python3.10/dist-packages (from torch>=1.8.0->ultralytics) (2024.6.1)\n",
            "Requirement already satisfied: six>=1.5 in /usr/local/lib/python3.10/dist-packages (from python-dateutil>=2.7->matplotlib>=3.3.0->ultralytics) (1.16.0)\n",
            "Requirement already satisfied: MarkupSafe>=2.0 in /usr/local/lib/python3.10/dist-packages (from jinja2->torch>=1.8.0->ultralytics) (2.1.5)\n",
            "Requirement already satisfied: mpmath<1.4,>=1.1.0 in /usr/local/lib/python3.10/dist-packages (from sympy->torch>=1.8.0->ultralytics) (1.3.0)\n",
            "Downloading ultralytics-8.2.101-py3-none-any.whl (874 kB)\n",
            "\u001b[2K   \u001b[90m━━━━━━━━━━━━━━━━━━━━━━━━━━━━━━━━━━━━━━━━\u001b[0m \u001b[32m874.1/874.1 kB\u001b[0m \u001b[31m14.9 MB/s\u001b[0m eta \u001b[36m0:00:00\u001b[0m\n",
            "\u001b[?25hDownloading ultralytics_thop-2.0.8-py3-none-any.whl (26 kB)\n",
            "Installing collected packages: ultralytics-thop, ultralytics\n",
            "Successfully installed ultralytics-8.2.101 ultralytics-thop-2.0.8\n"
          ]
        }
      ],
      "source": [
        "!pip install roboflow\n",
        "!pip install ultralytics"
      ]
    },
    {
      "cell_type": "markdown",
      "metadata": {
        "id": "a6ewJLTGc18u"
      },
      "source": [
        "#Yolo installation status check"
      ]
    },
    {
      "cell_type": "code",
      "execution_count": 5,
      "metadata": {
        "colab": {
          "base_uri": "https://localhost:8080/"
        },
        "id": "mma12-Wnc4ZN",
        "outputId": "ada25cae-e5c8-4e3d-b4dc-477f4c31d15c"
      },
      "outputs": [
        {
          "output_type": "stream",
          "name": "stdout",
          "text": [
            "Ultralytics YOLOv8.2.101 🚀 Python-3.10.12 torch-2.4.1+cu121 CUDA:0 (Tesla T4, 15102MiB)\n",
            "Setup complete ✅ (8 CPUs, 51.0 GB RAM, 36.5/235.7 GB disk)\n"
          ]
        }
      ],
      "source": [
        "from IPython import display\n",
        "display.clear_output()\n",
        "\n",
        "import ultralytics\n",
        "\n",
        "#checks the installation status of required libraries\n",
        "ultralytics.checks()"
      ]
    },
    {
      "cell_type": "code",
      "execution_count": 6,
      "metadata": {
        "id": "EzPC4gppc_fA"
      },
      "outputs": [],
      "source": [
        "from ultralytics import YOLO\n",
        "\n",
        "#display images directly within the notebook's output cells.\n",
        "from IPython.display import display, Image"
      ]
    },
    {
      "cell_type": "markdown",
      "metadata": {
        "id": "Hs7I7hJEdNy3"
      },
      "source": [
        "#Download Dataset from Roboflow"
      ]
    },
    {
      "cell_type": "code",
      "execution_count": 7,
      "metadata": {
        "colab": {
          "base_uri": "https://localhost:8080/",
          "height": 559
        },
        "collapsed": true,
        "id": "vHsXyMz7ZSei",
        "outputId": "56377be1-b79f-4891-9bd3-99f7b9681130"
      },
      "outputs": [
        {
          "output_type": "stream",
          "name": "stdout",
          "text": [
            "Requirement already satisfied: roboflow in /usr/local/lib/python3.10/dist-packages (1.1.45)\n",
            "Requirement already satisfied: certifi in /usr/local/lib/python3.10/dist-packages (from roboflow) (2024.8.30)\n",
            "Requirement already satisfied: idna==3.7 in /usr/local/lib/python3.10/dist-packages (from roboflow) (3.7)\n",
            "Requirement already satisfied: cycler in /usr/local/lib/python3.10/dist-packages (from roboflow) (0.12.1)\n",
            "Requirement already satisfied: kiwisolver>=1.3.1 in /usr/local/lib/python3.10/dist-packages (from roboflow) (1.4.7)\n",
            "Requirement already satisfied: matplotlib in /usr/local/lib/python3.10/dist-packages (from roboflow) (3.7.1)\n",
            "Requirement already satisfied: numpy>=1.18.5 in /usr/local/lib/python3.10/dist-packages (from roboflow) (1.26.4)\n",
            "Requirement already satisfied: opencv-python-headless==4.10.0.84 in /usr/local/lib/python3.10/dist-packages (from roboflow) (4.10.0.84)\n",
            "Requirement already satisfied: Pillow>=7.1.2 in /usr/local/lib/python3.10/dist-packages (from roboflow) (10.4.0)\n",
            "Requirement already satisfied: python-dateutil in /usr/local/lib/python3.10/dist-packages (from roboflow) (2.8.2)\n",
            "Requirement already satisfied: python-dotenv in /usr/local/lib/python3.10/dist-packages (from roboflow) (1.0.1)\n",
            "Requirement already satisfied: requests in /usr/local/lib/python3.10/dist-packages (from roboflow) (2.32.3)\n",
            "Requirement already satisfied: six in /usr/local/lib/python3.10/dist-packages (from roboflow) (1.16.0)\n",
            "Requirement already satisfied: urllib3>=1.26.6 in /usr/local/lib/python3.10/dist-packages (from roboflow) (2.2.3)\n",
            "Requirement already satisfied: tqdm>=4.41.0 in /usr/local/lib/python3.10/dist-packages (from roboflow) (4.66.5)\n",
            "Requirement already satisfied: PyYAML>=5.3.1 in /usr/local/lib/python3.10/dist-packages (from roboflow) (6.0.2)\n",
            "Requirement already satisfied: requests-toolbelt in /usr/local/lib/python3.10/dist-packages (from roboflow) (1.0.0)\n",
            "Requirement already satisfied: filetype in /usr/local/lib/python3.10/dist-packages (from roboflow) (1.2.0)\n",
            "Requirement already satisfied: contourpy>=1.0.1 in /usr/local/lib/python3.10/dist-packages (from matplotlib->roboflow) (1.3.0)\n",
            "Requirement already satisfied: fonttools>=4.22.0 in /usr/local/lib/python3.10/dist-packages (from matplotlib->roboflow) (4.53.1)\n",
            "Requirement already satisfied: packaging>=20.0 in /usr/local/lib/python3.10/dist-packages (from matplotlib->roboflow) (24.1)\n",
            "Requirement already satisfied: pyparsing>=2.3.1 in /usr/local/lib/python3.10/dist-packages (from matplotlib->roboflow) (3.1.4)\n",
            "Requirement already satisfied: charset-normalizer<4,>=2 in /usr/local/lib/python3.10/dist-packages (from requests->roboflow) (3.3.2)\n",
            "loading Roboflow workspace...\n",
            "loading Roboflow project...\n",
            "Dependency ultralytics==8.0.196 is required but found version=8.2.101, to fix: `pip install ultralytics==8.0.196`\n"
          ]
        },
        {
          "output_type": "stream",
          "name": "stderr",
          "text": [
            "Downloading Dataset Version Zip in WeighBridge-2-1 to yolov8:: 100%|██████████| 5437/5437 [00:00<00:00, 20059.42it/s]"
          ]
        },
        {
          "output_type": "stream",
          "name": "stdout",
          "text": [
            "\n"
          ]
        },
        {
          "output_type": "stream",
          "name": "stderr",
          "text": [
            "\n",
            "Extracting Dataset Version Zip to WeighBridge-2-1 in yolov8:: 100%|██████████| 448/448 [00:00<00:00, 8566.36it/s]\n"
          ]
        },
        {
          "output_type": "execute_result",
          "data": {
            "text/plain": [
              "'/content/datasets/WeighBridge-2-1'"
            ],
            "application/vnd.google.colaboratory.intrinsic+json": {
              "type": "string"
            }
          },
          "metadata": {},
          "execution_count": 7
        }
      ],
      "source": [
        "!pip install roboflow\n",
        "\n",
        "from roboflow import Roboflow\n",
        "import shutil\n",
        "\n",
        "# Initialize Roboflow with API key\n",
        "rf = Roboflow(api_key=\"9F8QbA1tKFNyXfhxzR6n\")\n",
        "\n",
        "# Access my project\n",
        "project = rf.workspace(\"weighbridge\").project(\"weighbridge-2\")\n",
        "version = project.version(1)\n",
        "\n",
        "# Download the dataset (default download location)\n",
        "dataset = version.download(\"yolov8\")\n",
        "\n",
        "# Move the downloaded dataset to the desired directory\n",
        "shutil.move(dataset.location, \"/content/datasets/WeighBridge-2-1\")"
      ]
    },
    {
      "cell_type": "markdown",
      "metadata": {
        "id": "Hj-nHX9tOyGM"
      },
      "source": [
        "#Train YOLOv8 and get the best.pt"
      ]
    },
    {
      "cell_type": "code",
      "execution_count": 9,
      "metadata": {
        "colab": {
          "base_uri": "https://localhost:8080/"
        },
        "collapsed": true,
        "id": "GSopI38c9Qxg",
        "outputId": "38df990c-8d78-497c-f491-0ee4a9c6b399"
      },
      "outputs": [
        {
          "output_type": "stream",
          "name": "stdout",
          "text": [
            "Ultralytics YOLOv8.2.101 🚀 Python-3.10.12 torch-2.4.1+cu121 CUDA:0 (Tesla T4, 15102MiB)\n",
            "\u001b[34m\u001b[1mengine/trainer: \u001b[0mtask=detect, mode=train, model=/content/datasets/WeighBridge-2-1/yolov8n.pt, data=/content/datasets/WeighBridge-2-1/data.yaml, epochs=50, time=None, patience=100, batch=16, imgsz=640, save=True, save_period=-1, cache=False, device=None, workers=8, project=/content/assemblyCompoDetection, name=detect_component2, exist_ok=False, pretrained=True, optimizer=auto, verbose=True, seed=0, deterministic=True, single_cls=False, rect=False, cos_lr=False, close_mosaic=10, resume=False, amp=True, fraction=1.0, profile=False, freeze=None, multi_scale=False, overlap_mask=True, mask_ratio=4, dropout=0.0, val=True, split=val, save_json=False, save_hybrid=False, conf=None, iou=0.7, max_det=300, half=False, dnn=False, plots=True, source=None, vid_stride=1, stream_buffer=False, visualize=False, augment=False, agnostic_nms=False, classes=None, retina_masks=False, embed=None, show=False, save_frames=False, save_txt=False, save_conf=False, save_crop=False, show_labels=True, show_conf=True, show_boxes=True, line_width=None, format=torchscript, keras=False, optimize=False, int8=False, dynamic=False, simplify=True, opset=None, workspace=4, nms=False, lr0=0.01, lrf=0.01, momentum=0.937, weight_decay=0.0005, warmup_epochs=3.0, warmup_momentum=0.8, warmup_bias_lr=0.1, box=7.5, cls=0.5, dfl=1.5, pose=12.0, kobj=1.0, label_smoothing=0.0, nbs=64, hsv_h=0.015, hsv_s=0.7, hsv_v=0.4, degrees=0.0, translate=0.1, scale=0.5, shear=0.0, perspective=0.0, flipud=0.0, fliplr=0.5, bgr=0.0, mosaic=1.0, mixup=0.0, copy_paste=0.0, auto_augment=randaugment, erasing=0.4, crop_fraction=1.0, cfg=None, tracker=botsort.yaml, save_dir=/content/assemblyCompoDetection/detect_component2\n",
            "Downloading https://ultralytics.com/assets/Arial.ttf to '/root/.config/Ultralytics/Arial.ttf'...\n"
          ]
        },
        {
          "output_type": "stream",
          "name": "stderr",
          "text": [
            "100%|██████████| 755k/755k [00:00<00:00, 14.4MB/s]\n"
          ]
        },
        {
          "output_type": "stream",
          "name": "stdout",
          "text": [
            "Overriding model.yaml nc=80 with nc=4\n",
            "\n",
            "                   from  n    params  module                                       arguments                     \n",
            "  0                  -1  1       464  ultralytics.nn.modules.conv.Conv             [3, 16, 3, 2]                 \n",
            "  1                  -1  1      4672  ultralytics.nn.modules.conv.Conv             [16, 32, 3, 2]                \n",
            "  2                  -1  1      7360  ultralytics.nn.modules.block.C2f             [32, 32, 1, True]             \n",
            "  3                  -1  1     18560  ultralytics.nn.modules.conv.Conv             [32, 64, 3, 2]                \n",
            "  4                  -1  2     49664  ultralytics.nn.modules.block.C2f             [64, 64, 2, True]             \n",
            "  5                  -1  1     73984  ultralytics.nn.modules.conv.Conv             [64, 128, 3, 2]               \n",
            "  6                  -1  2    197632  ultralytics.nn.modules.block.C2f             [128, 128, 2, True]           \n",
            "  7                  -1  1    295424  ultralytics.nn.modules.conv.Conv             [128, 256, 3, 2]              \n",
            "  8                  -1  1    460288  ultralytics.nn.modules.block.C2f             [256, 256, 1, True]           \n",
            "  9                  -1  1    164608  ultralytics.nn.modules.block.SPPF            [256, 256, 5]                 \n",
            " 10                  -1  1         0  torch.nn.modules.upsampling.Upsample         [None, 2, 'nearest']          \n",
            " 11             [-1, 6]  1         0  ultralytics.nn.modules.conv.Concat           [1]                           \n",
            " 12                  -1  1    148224  ultralytics.nn.modules.block.C2f             [384, 128, 1]                 \n",
            " 13                  -1  1         0  torch.nn.modules.upsampling.Upsample         [None, 2, 'nearest']          \n",
            " 14             [-1, 4]  1         0  ultralytics.nn.modules.conv.Concat           [1]                           \n",
            " 15                  -1  1     37248  ultralytics.nn.modules.block.C2f             [192, 64, 1]                  \n",
            " 16                  -1  1     36992  ultralytics.nn.modules.conv.Conv             [64, 64, 3, 2]                \n",
            " 17            [-1, 12]  1         0  ultralytics.nn.modules.conv.Concat           [1]                           \n",
            " 18                  -1  1    123648  ultralytics.nn.modules.block.C2f             [192, 128, 1]                 \n",
            " 19                  -1  1    147712  ultralytics.nn.modules.conv.Conv             [128, 128, 3, 2]              \n",
            " 20             [-1, 9]  1         0  ultralytics.nn.modules.conv.Concat           [1]                           \n",
            " 21                  -1  1    493056  ultralytics.nn.modules.block.C2f             [384, 256, 1]                 \n",
            " 22        [15, 18, 21]  1    752092  ultralytics.nn.modules.head.Detect           [4, [64, 128, 256]]           \n",
            "Model summary: 225 layers, 3,011,628 parameters, 3,011,612 gradients, 8.2 GFLOPs\n",
            "\n",
            "Transferred 319/355 items from pretrained weights\n",
            "\u001b[34m\u001b[1mTensorBoard: \u001b[0mStart with 'tensorboard --logdir /content/assemblyCompoDetection/detect_component2', view at http://localhost:6006/\n",
            "Freezing layer 'model.22.dfl.conv.weight'\n",
            "\u001b[34m\u001b[1mAMP: \u001b[0mrunning Automatic Mixed Precision (AMP) checks with YOLOv8n...\n",
            "\u001b[34m\u001b[1mAMP: \u001b[0mchecks passed ✅\n"
          ]
        },
        {
          "output_type": "stream",
          "name": "stderr",
          "text": [
            "\u001b[34m\u001b[1mtrain: \u001b[0mScanning /content/datasets/WeighBridge-2-1/train/labels... 153 images, 0 backgrounds, 0 corrupt: 100%|██████████| 153/153 [00:00<00:00, 1232.95it/s]"
          ]
        },
        {
          "output_type": "stream",
          "name": "stdout",
          "text": [
            "\u001b[34m\u001b[1mtrain: \u001b[0mNew cache created: /content/datasets/WeighBridge-2-1/train/labels.cache\n",
            "WARNING ⚠️ Box and segment counts should be equal, but got len(segments) = 10, len(boxes) = 567. To resolve this only boxes will be used and all segments will be removed. To avoid this please supply either a detect or segment dataset, not a detect-segment mixed dataset.\n"
          ]
        },
        {
          "output_type": "stream",
          "name": "stderr",
          "text": [
            "\n"
          ]
        },
        {
          "output_type": "stream",
          "name": "stdout",
          "text": [
            "\u001b[34m\u001b[1malbumentations: \u001b[0mBlur(p=0.01, blur_limit=(3, 7)), MedianBlur(p=0.01, blur_limit=(3, 7)), ToGray(p=0.01, num_output_channels=3, method='weighted_average'), CLAHE(p=0.01, clip_limit=(1, 4.0), tile_grid_size=(8, 8))\n"
          ]
        },
        {
          "output_type": "stream",
          "name": "stderr",
          "text": [
            "A new version of Albumentations is available: 1.4.16 (you have 1.4.15). Upgrade using: pip install -U albumentations. To disable automatic update checks, set the environment variable NO_ALBUMENTATIONS_UPDATE to 1.\n",
            "\u001b[34m\u001b[1mval: \u001b[0mScanning /content/datasets/WeighBridge-2-1/valid/labels... 43 images, 0 backgrounds, 0 corrupt: 100%|██████████| 43/43 [00:00<00:00, 959.54it/s]"
          ]
        },
        {
          "output_type": "stream",
          "name": "stdout",
          "text": [
            "\u001b[34m\u001b[1mval: \u001b[0mNew cache created: /content/datasets/WeighBridge-2-1/valid/labels.cache\n"
          ]
        },
        {
          "output_type": "stream",
          "name": "stderr",
          "text": [
            "\n"
          ]
        },
        {
          "output_type": "stream",
          "name": "stdout",
          "text": [
            "Plotting labels to /content/assemblyCompoDetection/detect_component2/labels.jpg... \n",
            "\u001b[34m\u001b[1moptimizer:\u001b[0m 'optimizer=auto' found, ignoring 'lr0=0.01' and 'momentum=0.937' and determining best 'optimizer', 'lr0' and 'momentum' automatically... \n",
            "\u001b[34m\u001b[1moptimizer:\u001b[0m AdamW(lr=0.00125, momentum=0.9) with parameter groups 57 weight(decay=0.0), 64 weight(decay=0.0005), 63 bias(decay=0.0)\n",
            "\u001b[34m\u001b[1mTensorBoard: \u001b[0mmodel graph visualization added ✅\n",
            "Image sizes 640 train, 640 val\n",
            "Using 8 dataloader workers\n",
            "Logging results to \u001b[1m/content/assemblyCompoDetection/detect_component2\u001b[0m\n",
            "Starting training for 50 epochs...\n",
            "\n",
            "      Epoch    GPU_mem   box_loss   cls_loss   dfl_loss  Instances       Size\n"
          ]
        },
        {
          "output_type": "stream",
          "name": "stderr",
          "text": [
            "       1/50      2.25G      1.151      3.618      1.183         72        640: 100%|██████████| 10/10 [00:03<00:00,  2.84it/s]\n",
            "                 Class     Images  Instances      Box(P          R      mAP50  mAP50-95): 100%|██████████| 2/2 [00:01<00:00,  1.32it/s]"
          ]
        },
        {
          "output_type": "stream",
          "name": "stdout",
          "text": [
            "                   all         43        163     0.0106      0.654      0.224      0.159\n"
          ]
        },
        {
          "output_type": "stream",
          "name": "stderr",
          "text": [
            "\n"
          ]
        },
        {
          "output_type": "stream",
          "name": "stdout",
          "text": [
            "\n",
            "      Epoch    GPU_mem   box_loss   cls_loss   dfl_loss  Instances       Size\n"
          ]
        },
        {
          "output_type": "stream",
          "name": "stderr",
          "text": [
            "       2/50      2.19G     0.8276      2.361     0.9755         77        640: 100%|██████████| 10/10 [00:01<00:00,  6.64it/s]\n",
            "                 Class     Images  Instances      Box(P          R      mAP50  mAP50-95): 100%|██████████| 2/2 [00:00<00:00,  9.03it/s]"
          ]
        },
        {
          "output_type": "stream",
          "name": "stdout",
          "text": [
            "                   all         43        163     0.0165      0.936      0.588      0.458\n"
          ]
        },
        {
          "output_type": "stream",
          "name": "stderr",
          "text": [
            "\n"
          ]
        },
        {
          "output_type": "stream",
          "name": "stdout",
          "text": [
            "\n",
            "      Epoch    GPU_mem   box_loss   cls_loss   dfl_loss  Instances       Size\n"
          ]
        },
        {
          "output_type": "stream",
          "name": "stderr",
          "text": [
            "       3/50      2.18G     0.7552      1.324     0.9263         66        640: 100%|██████████| 10/10 [00:01<00:00,  7.06it/s]\n",
            "                 Class     Images  Instances      Box(P          R      mAP50  mAP50-95): 100%|██████████| 2/2 [00:00<00:00,  9.52it/s]"
          ]
        },
        {
          "output_type": "stream",
          "name": "stdout",
          "text": [
            "                   all         43        163          1      0.112      0.596      0.484\n"
          ]
        },
        {
          "output_type": "stream",
          "name": "stderr",
          "text": [
            "\n"
          ]
        },
        {
          "output_type": "stream",
          "name": "stdout",
          "text": [
            "\n",
            "      Epoch    GPU_mem   box_loss   cls_loss   dfl_loss  Instances       Size\n"
          ]
        },
        {
          "output_type": "stream",
          "name": "stderr",
          "text": [
            "       4/50       2.2G     0.7084      1.024      0.903         79        640: 100%|██████████| 10/10 [00:01<00:00,  6.91it/s]\n",
            "                 Class     Images  Instances      Box(P          R      mAP50  mAP50-95): 100%|██████████| 2/2 [00:00<00:00,  8.43it/s]"
          ]
        },
        {
          "output_type": "stream",
          "name": "stdout",
          "text": [
            "                   all         43        163      0.982      0.298      0.721      0.597\n"
          ]
        },
        {
          "output_type": "stream",
          "name": "stderr",
          "text": [
            "\n"
          ]
        },
        {
          "output_type": "stream",
          "name": "stdout",
          "text": [
            "\n",
            "      Epoch    GPU_mem   box_loss   cls_loss   dfl_loss  Instances       Size\n"
          ]
        },
        {
          "output_type": "stream",
          "name": "stderr",
          "text": [
            "       5/50      2.18G      0.697     0.8517     0.8976         79        640: 100%|██████████| 10/10 [00:01<00:00,  6.87it/s]\n",
            "                 Class     Images  Instances      Box(P          R      mAP50  mAP50-95): 100%|██████████| 2/2 [00:00<00:00,  8.97it/s]"
          ]
        },
        {
          "output_type": "stream",
          "name": "stdout",
          "text": [
            "                   all         43        163       0.95      0.348      0.876      0.682\n"
          ]
        },
        {
          "output_type": "stream",
          "name": "stderr",
          "text": [
            "\n"
          ]
        },
        {
          "output_type": "stream",
          "name": "stdout",
          "text": [
            "\n",
            "      Epoch    GPU_mem   box_loss   cls_loss   dfl_loss  Instances       Size\n"
          ]
        },
        {
          "output_type": "stream",
          "name": "stderr",
          "text": [
            "       6/50      2.21G      0.669      0.772      0.886         71        640: 100%|██████████| 10/10 [00:01<00:00,  6.76it/s]\n",
            "                 Class     Images  Instances      Box(P          R      mAP50  mAP50-95): 100%|██████████| 2/2 [00:00<00:00,  8.54it/s]"
          ]
        },
        {
          "output_type": "stream",
          "name": "stdout",
          "text": [
            "                   all         43        163      0.945      0.502      0.933      0.782\n"
          ]
        },
        {
          "output_type": "stream",
          "name": "stderr",
          "text": [
            "\n"
          ]
        },
        {
          "output_type": "stream",
          "name": "stdout",
          "text": [
            "\n",
            "      Epoch    GPU_mem   box_loss   cls_loss   dfl_loss  Instances       Size\n"
          ]
        },
        {
          "output_type": "stream",
          "name": "stderr",
          "text": [
            "       7/50      2.19G      0.679     0.7476     0.8858         73        640: 100%|██████████| 10/10 [00:01<00:00,  7.21it/s]\n",
            "                 Class     Images  Instances      Box(P          R      mAP50  mAP50-95): 100%|██████████| 2/2 [00:00<00:00, 10.04it/s]"
          ]
        },
        {
          "output_type": "stream",
          "name": "stdout",
          "text": [
            "                   all         43        163      0.946      0.548      0.964      0.793\n"
          ]
        },
        {
          "output_type": "stream",
          "name": "stderr",
          "text": [
            "\n"
          ]
        },
        {
          "output_type": "stream",
          "name": "stdout",
          "text": [
            "\n",
            "      Epoch    GPU_mem   box_loss   cls_loss   dfl_loss  Instances       Size\n"
          ]
        },
        {
          "output_type": "stream",
          "name": "stderr",
          "text": [
            "       8/50      2.21G     0.6729       0.74     0.8843         61        640: 100%|██████████| 10/10 [00:01<00:00,  7.24it/s]\n",
            "                 Class     Images  Instances      Box(P          R      mAP50  mAP50-95): 100%|██████████| 2/2 [00:00<00:00,  9.25it/s]"
          ]
        },
        {
          "output_type": "stream",
          "name": "stdout",
          "text": [
            "                   all         43        163      0.909      0.741      0.979      0.823\n"
          ]
        },
        {
          "output_type": "stream",
          "name": "stderr",
          "text": [
            "\n"
          ]
        },
        {
          "output_type": "stream",
          "name": "stdout",
          "text": [
            "\n",
            "      Epoch    GPU_mem   box_loss   cls_loss   dfl_loss  Instances       Size\n"
          ]
        },
        {
          "output_type": "stream",
          "name": "stderr",
          "text": [
            "       9/50      2.19G     0.6585     0.7374     0.8907         85        640: 100%|██████████| 10/10 [00:01<00:00,  7.17it/s]\n",
            "                 Class     Images  Instances      Box(P          R      mAP50  mAP50-95): 100%|██████████| 2/2 [00:00<00:00,  8.94it/s]"
          ]
        },
        {
          "output_type": "stream",
          "name": "stdout",
          "text": [
            "                   all         43        163      0.914      0.902      0.978      0.836\n"
          ]
        },
        {
          "output_type": "stream",
          "name": "stderr",
          "text": [
            "\n"
          ]
        },
        {
          "output_type": "stream",
          "name": "stdout",
          "text": [
            "\n",
            "      Epoch    GPU_mem   box_loss   cls_loss   dfl_loss  Instances       Size\n"
          ]
        },
        {
          "output_type": "stream",
          "name": "stderr",
          "text": [
            "      10/50      2.19G     0.6488     0.7076     0.8873         74        640: 100%|██████████| 10/10 [00:01<00:00,  7.18it/s]\n",
            "                 Class     Images  Instances      Box(P          R      mAP50  mAP50-95): 100%|██████████| 2/2 [00:00<00:00, 10.17it/s]\n"
          ]
        },
        {
          "output_type": "stream",
          "name": "stdout",
          "text": [
            "                   all         43        163      0.943      0.983      0.983      0.835\n",
            "\n",
            "      Epoch    GPU_mem   box_loss   cls_loss   dfl_loss  Instances       Size\n"
          ]
        },
        {
          "output_type": "stream",
          "name": "stderr",
          "text": [
            "      11/50      2.19G     0.6272     0.7089     0.8884         78        640: 100%|██████████| 10/10 [00:01<00:00,  7.12it/s]\n",
            "                 Class     Images  Instances      Box(P          R      mAP50  mAP50-95): 100%|██████████| 2/2 [00:00<00:00,  8.87it/s]"
          ]
        },
        {
          "output_type": "stream",
          "name": "stdout",
          "text": [
            "                   all         43        163      0.945      0.976      0.987       0.85\n"
          ]
        },
        {
          "output_type": "stream",
          "name": "stderr",
          "text": [
            "\n"
          ]
        },
        {
          "output_type": "stream",
          "name": "stdout",
          "text": [
            "\n",
            "      Epoch    GPU_mem   box_loss   cls_loss   dfl_loss  Instances       Size\n"
          ]
        },
        {
          "output_type": "stream",
          "name": "stderr",
          "text": [
            "      12/50      2.19G      0.657     0.7132     0.8865         95        640: 100%|██████████| 10/10 [00:01<00:00,  7.17it/s]\n",
            "                 Class     Images  Instances      Box(P          R      mAP50  mAP50-95): 100%|██████████| 2/2 [00:00<00:00, 10.08it/s]\n"
          ]
        },
        {
          "output_type": "stream",
          "name": "stdout",
          "text": [
            "                   all         43        163      0.966      0.994      0.979      0.849\n",
            "\n",
            "      Epoch    GPU_mem   box_loss   cls_loss   dfl_loss  Instances       Size\n"
          ]
        },
        {
          "output_type": "stream",
          "name": "stderr",
          "text": [
            "      13/50       2.2G     0.6375     0.6695     0.8836         66        640: 100%|██████████| 10/10 [00:01<00:00,  7.33it/s]\n",
            "                 Class     Images  Instances      Box(P          R      mAP50  mAP50-95): 100%|██████████| 2/2 [00:00<00:00,  9.68it/s]"
          ]
        },
        {
          "output_type": "stream",
          "name": "stdout",
          "text": [
            "                   all         43        163      0.936      0.927      0.974      0.825\n"
          ]
        },
        {
          "output_type": "stream",
          "name": "stderr",
          "text": [
            "\n"
          ]
        },
        {
          "output_type": "stream",
          "name": "stdout",
          "text": [
            "\n",
            "      Epoch    GPU_mem   box_loss   cls_loss   dfl_loss  Instances       Size\n"
          ]
        },
        {
          "output_type": "stream",
          "name": "stderr",
          "text": [
            "      14/50      2.19G     0.6331     0.6749      0.884         77        640: 100%|██████████| 10/10 [00:01<00:00,  7.17it/s]\n",
            "                 Class     Images  Instances      Box(P          R      mAP50  mAP50-95): 100%|██████████| 2/2 [00:00<00:00,  9.94it/s]"
          ]
        },
        {
          "output_type": "stream",
          "name": "stdout",
          "text": [
            "                   all         43        163      0.983      0.988      0.987      0.858\n"
          ]
        },
        {
          "output_type": "stream",
          "name": "stderr",
          "text": [
            "\n"
          ]
        },
        {
          "output_type": "stream",
          "name": "stdout",
          "text": [
            "\n",
            "      Epoch    GPU_mem   box_loss   cls_loss   dfl_loss  Instances       Size\n"
          ]
        },
        {
          "output_type": "stream",
          "name": "stderr",
          "text": [
            "      15/50       2.2G     0.6146     0.6346     0.8765         71        640: 100%|██████████| 10/10 [00:01<00:00,  7.31it/s]\n",
            "                 Class     Images  Instances      Box(P          R      mAP50  mAP50-95): 100%|██████████| 2/2 [00:00<00:00, 10.00it/s]"
          ]
        },
        {
          "output_type": "stream",
          "name": "stdout",
          "text": [
            "                   all         43        163      0.978      0.993      0.986      0.853\n"
          ]
        },
        {
          "output_type": "stream",
          "name": "stderr",
          "text": [
            "\n"
          ]
        },
        {
          "output_type": "stream",
          "name": "stdout",
          "text": [
            "\n",
            "      Epoch    GPU_mem   box_loss   cls_loss   dfl_loss  Instances       Size\n"
          ]
        },
        {
          "output_type": "stream",
          "name": "stderr",
          "text": [
            "      16/50       2.2G     0.6198      0.625     0.8758         72        640: 100%|██████████| 10/10 [00:01<00:00,  7.22it/s]\n",
            "                 Class     Images  Instances      Box(P          R      mAP50  mAP50-95): 100%|██████████| 2/2 [00:00<00:00,  9.77it/s]"
          ]
        },
        {
          "output_type": "stream",
          "name": "stdout",
          "text": [
            "                   all         43        163      0.983      0.992      0.985      0.855\n"
          ]
        },
        {
          "output_type": "stream",
          "name": "stderr",
          "text": [
            "\n"
          ]
        },
        {
          "output_type": "stream",
          "name": "stdout",
          "text": [
            "\n",
            "      Epoch    GPU_mem   box_loss   cls_loss   dfl_loss  Instances       Size\n"
          ]
        },
        {
          "output_type": "stream",
          "name": "stderr",
          "text": [
            "      17/50      2.19G     0.6219     0.6286     0.8879         73        640: 100%|██████████| 10/10 [00:01<00:00,  7.24it/s]\n",
            "                 Class     Images  Instances      Box(P          R      mAP50  mAP50-95): 100%|██████████| 2/2 [00:00<00:00,  9.03it/s]"
          ]
        },
        {
          "output_type": "stream",
          "name": "stdout",
          "text": [
            "                   all         43        163      0.982      0.993      0.987      0.856\n"
          ]
        },
        {
          "output_type": "stream",
          "name": "stderr",
          "text": [
            "\n"
          ]
        },
        {
          "output_type": "stream",
          "name": "stdout",
          "text": [
            "\n",
            "      Epoch    GPU_mem   box_loss   cls_loss   dfl_loss  Instances       Size\n"
          ]
        },
        {
          "output_type": "stream",
          "name": "stderr",
          "text": [
            "      18/50      2.19G     0.6095     0.6075     0.8742         74        640: 100%|██████████| 10/10 [00:01<00:00,  7.11it/s]\n",
            "                 Class     Images  Instances      Box(P          R      mAP50  mAP50-95): 100%|██████████| 2/2 [00:00<00:00,  8.01it/s]"
          ]
        },
        {
          "output_type": "stream",
          "name": "stdout",
          "text": [
            "                   all         43        163      0.988      0.993      0.991      0.864\n"
          ]
        },
        {
          "output_type": "stream",
          "name": "stderr",
          "text": [
            "\n"
          ]
        },
        {
          "output_type": "stream",
          "name": "stdout",
          "text": [
            "\n",
            "      Epoch    GPU_mem   box_loss   cls_loss   dfl_loss  Instances       Size\n"
          ]
        },
        {
          "output_type": "stream",
          "name": "stderr",
          "text": [
            "      19/50       2.2G     0.6061     0.5761     0.8725         64        640: 100%|██████████| 10/10 [00:01<00:00,  7.15it/s]\n",
            "                 Class     Images  Instances      Box(P          R      mAP50  mAP50-95): 100%|██████████| 2/2 [00:00<00:00,  9.89it/s]"
          ]
        },
        {
          "output_type": "stream",
          "name": "stdout",
          "text": [
            "                   all         43        163      0.985      0.993      0.988      0.856\n"
          ]
        },
        {
          "output_type": "stream",
          "name": "stderr",
          "text": [
            "\n"
          ]
        },
        {
          "output_type": "stream",
          "name": "stdout",
          "text": [
            "\n",
            "      Epoch    GPU_mem   box_loss   cls_loss   dfl_loss  Instances       Size\n"
          ]
        },
        {
          "output_type": "stream",
          "name": "stderr",
          "text": [
            "      20/50      2.19G     0.6153     0.5778     0.8731         70        640: 100%|██████████| 10/10 [00:01<00:00,  7.15it/s]\n",
            "                 Class     Images  Instances      Box(P          R      mAP50  mAP50-95): 100%|██████████| 2/2 [00:00<00:00,  9.75it/s]"
          ]
        },
        {
          "output_type": "stream",
          "name": "stdout",
          "text": [
            "                   all         43        163      0.977      0.992      0.989      0.861\n"
          ]
        },
        {
          "output_type": "stream",
          "name": "stderr",
          "text": [
            "\n"
          ]
        },
        {
          "output_type": "stream",
          "name": "stdout",
          "text": [
            "\n",
            "      Epoch    GPU_mem   box_loss   cls_loss   dfl_loss  Instances       Size\n"
          ]
        },
        {
          "output_type": "stream",
          "name": "stderr",
          "text": [
            "      21/50       2.2G     0.6001     0.5724     0.8725         74        640: 100%|██████████| 10/10 [00:01<00:00,  7.26it/s]\n",
            "                 Class     Images  Instances      Box(P          R      mAP50  mAP50-95): 100%|██████████| 2/2 [00:00<00:00,  9.72it/s]"
          ]
        },
        {
          "output_type": "stream",
          "name": "stdout",
          "text": [
            "                   all         43        163      0.978      0.991      0.987       0.86\n"
          ]
        },
        {
          "output_type": "stream",
          "name": "stderr",
          "text": [
            "\n"
          ]
        },
        {
          "output_type": "stream",
          "name": "stdout",
          "text": [
            "\n",
            "      Epoch    GPU_mem   box_loss   cls_loss   dfl_loss  Instances       Size\n"
          ]
        },
        {
          "output_type": "stream",
          "name": "stderr",
          "text": [
            "      22/50      2.19G     0.5813     0.5689     0.8729         75        640: 100%|██████████| 10/10 [00:01<00:00,  7.12it/s]\n",
            "                 Class     Images  Instances      Box(P          R      mAP50  mAP50-95): 100%|██████████| 2/2 [00:00<00:00,  9.63it/s]"
          ]
        },
        {
          "output_type": "stream",
          "name": "stdout",
          "text": [
            "                   all         43        163      0.988      0.984      0.988      0.859\n"
          ]
        },
        {
          "output_type": "stream",
          "name": "stderr",
          "text": [
            "\n"
          ]
        },
        {
          "output_type": "stream",
          "name": "stdout",
          "text": [
            "\n",
            "      Epoch    GPU_mem   box_loss   cls_loss   dfl_loss  Instances       Size\n"
          ]
        },
        {
          "output_type": "stream",
          "name": "stderr",
          "text": [
            "      23/50      2.19G     0.5883     0.5536     0.8667         58        640: 100%|██████████| 10/10 [00:01<00:00,  7.24it/s]\n",
            "                 Class     Images  Instances      Box(P          R      mAP50  mAP50-95): 100%|██████████| 2/2 [00:00<00:00,  9.41it/s]"
          ]
        },
        {
          "output_type": "stream",
          "name": "stdout",
          "text": [
            "                   all         43        163      0.988      0.983      0.989      0.852\n"
          ]
        },
        {
          "output_type": "stream",
          "name": "stderr",
          "text": [
            "\n"
          ]
        },
        {
          "output_type": "stream",
          "name": "stdout",
          "text": [
            "\n",
            "      Epoch    GPU_mem   box_loss   cls_loss   dfl_loss  Instances       Size\n"
          ]
        },
        {
          "output_type": "stream",
          "name": "stderr",
          "text": [
            "      24/50      2.19G     0.5847      0.556     0.8784         57        640: 100%|██████████| 10/10 [00:01<00:00,  6.86it/s]\n",
            "                 Class     Images  Instances      Box(P          R      mAP50  mAP50-95): 100%|██████████| 2/2 [00:00<00:00,  9.47it/s]"
          ]
        },
        {
          "output_type": "stream",
          "name": "stdout",
          "text": [
            "                   all         43        163      0.989      0.994      0.988      0.863\n"
          ]
        },
        {
          "output_type": "stream",
          "name": "stderr",
          "text": [
            "\n"
          ]
        },
        {
          "output_type": "stream",
          "name": "stdout",
          "text": [
            "\n",
            "      Epoch    GPU_mem   box_loss   cls_loss   dfl_loss  Instances       Size\n"
          ]
        },
        {
          "output_type": "stream",
          "name": "stderr",
          "text": [
            "      25/50       2.2G     0.5875     0.5465      0.869         65        640: 100%|██████████| 10/10 [00:01<00:00,  7.11it/s]\n",
            "                 Class     Images  Instances      Box(P          R      mAP50  mAP50-95): 100%|██████████| 2/2 [00:00<00:00,  9.91it/s]"
          ]
        },
        {
          "output_type": "stream",
          "name": "stdout",
          "text": [
            "                   all         43        163      0.985      0.994      0.986      0.864\n"
          ]
        },
        {
          "output_type": "stream",
          "name": "stderr",
          "text": [
            "\n"
          ]
        },
        {
          "output_type": "stream",
          "name": "stdout",
          "text": [
            "\n",
            "      Epoch    GPU_mem   box_loss   cls_loss   dfl_loss  Instances       Size\n"
          ]
        },
        {
          "output_type": "stream",
          "name": "stderr",
          "text": [
            "      26/50      2.19G      0.575      0.535     0.8669         69        640: 100%|██████████| 10/10 [00:01<00:00,  7.15it/s]\n",
            "                 Class     Images  Instances      Box(P          R      mAP50  mAP50-95): 100%|██████████| 2/2 [00:00<00:00, 10.17it/s]\n"
          ]
        },
        {
          "output_type": "stream",
          "name": "stdout",
          "text": [
            "                   all         43        163      0.984      0.994      0.988      0.858\n",
            "\n",
            "      Epoch    GPU_mem   box_loss   cls_loss   dfl_loss  Instances       Size\n"
          ]
        },
        {
          "output_type": "stream",
          "name": "stderr",
          "text": [
            "      27/50      2.19G     0.5826     0.5263     0.8667         79        640: 100%|██████████| 10/10 [00:01<00:00,  7.25it/s]\n",
            "                 Class     Images  Instances      Box(P          R      mAP50  mAP50-95): 100%|██████████| 2/2 [00:00<00:00,  9.57it/s]"
          ]
        },
        {
          "output_type": "stream",
          "name": "stdout",
          "text": [
            "                   all         43        163      0.985      0.994       0.99      0.856\n"
          ]
        },
        {
          "output_type": "stream",
          "name": "stderr",
          "text": [
            "\n"
          ]
        },
        {
          "output_type": "stream",
          "name": "stdout",
          "text": [
            "\n",
            "      Epoch    GPU_mem   box_loss   cls_loss   dfl_loss  Instances       Size\n"
          ]
        },
        {
          "output_type": "stream",
          "name": "stderr",
          "text": [
            "      28/50      2.19G     0.5728     0.5037     0.8649         96        640: 100%|██████████| 10/10 [00:01<00:00,  7.12it/s]\n",
            "                 Class     Images  Instances      Box(P          R      mAP50  mAP50-95): 100%|██████████| 2/2 [00:00<00:00,  9.43it/s]"
          ]
        },
        {
          "output_type": "stream",
          "name": "stdout",
          "text": [
            "                   all         43        163      0.983      0.994       0.99      0.872\n"
          ]
        },
        {
          "output_type": "stream",
          "name": "stderr",
          "text": [
            "\n"
          ]
        },
        {
          "output_type": "stream",
          "name": "stdout",
          "text": [
            "\n",
            "      Epoch    GPU_mem   box_loss   cls_loss   dfl_loss  Instances       Size\n"
          ]
        },
        {
          "output_type": "stream",
          "name": "stderr",
          "text": [
            "      29/50       2.2G     0.5576     0.5183     0.8564         54        640: 100%|██████████| 10/10 [00:01<00:00,  7.18it/s]\n",
            "                 Class     Images  Instances      Box(P          R      mAP50  mAP50-95): 100%|██████████| 2/2 [00:00<00:00, 10.04it/s]"
          ]
        },
        {
          "output_type": "stream",
          "name": "stdout",
          "text": [
            "                   all         43        163      0.989      0.994       0.99      0.868\n"
          ]
        },
        {
          "output_type": "stream",
          "name": "stderr",
          "text": [
            "\n"
          ]
        },
        {
          "output_type": "stream",
          "name": "stdout",
          "text": [
            "\n",
            "      Epoch    GPU_mem   box_loss   cls_loss   dfl_loss  Instances       Size\n"
          ]
        },
        {
          "output_type": "stream",
          "name": "stderr",
          "text": [
            "      30/50      2.19G     0.5755     0.5147     0.8708         67        640: 100%|██████████| 10/10 [00:01<00:00,  7.04it/s]\n",
            "                 Class     Images  Instances      Box(P          R      mAP50  mAP50-95): 100%|██████████| 2/2 [00:00<00:00,  9.04it/s]"
          ]
        },
        {
          "output_type": "stream",
          "name": "stdout",
          "text": [
            "                   all         43        163      0.987      0.994      0.989      0.864\n"
          ]
        },
        {
          "output_type": "stream",
          "name": "stderr",
          "text": [
            "\n"
          ]
        },
        {
          "output_type": "stream",
          "name": "stdout",
          "text": [
            "\n",
            "      Epoch    GPU_mem   box_loss   cls_loss   dfl_loss  Instances       Size\n"
          ]
        },
        {
          "output_type": "stream",
          "name": "stderr",
          "text": [
            "      31/50      2.19G     0.5727      0.521     0.8672         74        640: 100%|██████████| 10/10 [00:01<00:00,  7.10it/s]\n",
            "                 Class     Images  Instances      Box(P          R      mAP50  mAP50-95): 100%|██████████| 2/2 [00:00<00:00,  8.74it/s]"
          ]
        },
        {
          "output_type": "stream",
          "name": "stdout",
          "text": [
            "                   all         43        163       0.99      0.994      0.987      0.861\n"
          ]
        },
        {
          "output_type": "stream",
          "name": "stderr",
          "text": [
            "\n"
          ]
        },
        {
          "output_type": "stream",
          "name": "stdout",
          "text": [
            "\n",
            "      Epoch    GPU_mem   box_loss   cls_loss   dfl_loss  Instances       Size\n"
          ]
        },
        {
          "output_type": "stream",
          "name": "stderr",
          "text": [
            "      32/50      2.19G     0.5481      0.472     0.8557         72        640: 100%|██████████| 10/10 [00:01<00:00,  6.80it/s]\n",
            "                 Class     Images  Instances      Box(P          R      mAP50  mAP50-95): 100%|██████████| 2/2 [00:00<00:00,  9.30it/s]"
          ]
        },
        {
          "output_type": "stream",
          "name": "stdout",
          "text": [
            "                   all         43        163      0.986      0.988      0.987       0.86\n"
          ]
        },
        {
          "output_type": "stream",
          "name": "stderr",
          "text": [
            "\n"
          ]
        },
        {
          "output_type": "stream",
          "name": "stdout",
          "text": [
            "\n",
            "      Epoch    GPU_mem   box_loss   cls_loss   dfl_loss  Instances       Size\n"
          ]
        },
        {
          "output_type": "stream",
          "name": "stderr",
          "text": [
            "      33/50      2.19G     0.5433     0.4751      0.856         88        640: 100%|██████████| 10/10 [00:01<00:00,  7.01it/s]\n",
            "                 Class     Images  Instances      Box(P          R      mAP50  mAP50-95): 100%|██████████| 2/2 [00:00<00:00,  9.12it/s]"
          ]
        },
        {
          "output_type": "stream",
          "name": "stdout",
          "text": [
            "                   all         43        163      0.981      0.994      0.989      0.867\n"
          ]
        },
        {
          "output_type": "stream",
          "name": "stderr",
          "text": [
            "\n"
          ]
        },
        {
          "output_type": "stream",
          "name": "stdout",
          "text": [
            "\n",
            "      Epoch    GPU_mem   box_loss   cls_loss   dfl_loss  Instances       Size\n"
          ]
        },
        {
          "output_type": "stream",
          "name": "stderr",
          "text": [
            "      34/50      2.19G     0.5365     0.4836     0.8597         78        640: 100%|██████████| 10/10 [00:01<00:00,  7.05it/s]\n",
            "                 Class     Images  Instances      Box(P          R      mAP50  mAP50-95): 100%|██████████| 2/2 [00:00<00:00,  9.65it/s]"
          ]
        },
        {
          "output_type": "stream",
          "name": "stdout",
          "text": [
            "                   all         43        163      0.985      0.989      0.989      0.868\n"
          ]
        },
        {
          "output_type": "stream",
          "name": "stderr",
          "text": [
            "\n"
          ]
        },
        {
          "output_type": "stream",
          "name": "stdout",
          "text": [
            "\n",
            "      Epoch    GPU_mem   box_loss   cls_loss   dfl_loss  Instances       Size\n"
          ]
        },
        {
          "output_type": "stream",
          "name": "stderr",
          "text": [
            "      35/50      2.19G     0.5367      0.481     0.8575         59        640: 100%|██████████| 10/10 [00:01<00:00,  7.13it/s]\n",
            "                 Class     Images  Instances      Box(P          R      mAP50  mAP50-95): 100%|██████████| 2/2 [00:00<00:00,  9.44it/s]"
          ]
        },
        {
          "output_type": "stream",
          "name": "stdout",
          "text": [
            "                   all         43        163      0.986      0.992       0.99      0.876\n"
          ]
        },
        {
          "output_type": "stream",
          "name": "stderr",
          "text": [
            "\n"
          ]
        },
        {
          "output_type": "stream",
          "name": "stdout",
          "text": [
            "\n",
            "      Epoch    GPU_mem   box_loss   cls_loss   dfl_loss  Instances       Size\n"
          ]
        },
        {
          "output_type": "stream",
          "name": "stderr",
          "text": [
            "      36/50      2.19G     0.5589     0.4666     0.8581         60        640: 100%|██████████| 10/10 [00:01<00:00,  7.03it/s]\n",
            "                 Class     Images  Instances      Box(P          R      mAP50  mAP50-95): 100%|██████████| 2/2 [00:00<00:00, 10.11it/s]\n"
          ]
        },
        {
          "output_type": "stream",
          "name": "stdout",
          "text": [
            "                   all         43        163      0.989      0.994      0.989      0.878\n",
            "\n",
            "      Epoch    GPU_mem   box_loss   cls_loss   dfl_loss  Instances       Size\n"
          ]
        },
        {
          "output_type": "stream",
          "name": "stderr",
          "text": [
            "      37/50      2.19G     0.5419     0.4622     0.8523         66        640: 100%|██████████| 10/10 [00:01<00:00,  6.92it/s]\n",
            "                 Class     Images  Instances      Box(P          R      mAP50  mAP50-95): 100%|██████████| 2/2 [00:00<00:00,  9.62it/s]"
          ]
        },
        {
          "output_type": "stream",
          "name": "stdout",
          "text": [
            "                   all         43        163       0.99      0.994      0.988       0.87\n"
          ]
        },
        {
          "output_type": "stream",
          "name": "stderr",
          "text": [
            "\n"
          ]
        },
        {
          "output_type": "stream",
          "name": "stdout",
          "text": [
            "\n",
            "      Epoch    GPU_mem   box_loss   cls_loss   dfl_loss  Instances       Size\n"
          ]
        },
        {
          "output_type": "stream",
          "name": "stderr",
          "text": [
            "      38/50       2.2G     0.5469     0.4716     0.8548         71        640: 100%|██████████| 10/10 [00:01<00:00,  6.88it/s]\n",
            "                 Class     Images  Instances      Box(P          R      mAP50  mAP50-95): 100%|██████████| 2/2 [00:00<00:00, 10.09it/s]\n"
          ]
        },
        {
          "output_type": "stream",
          "name": "stdout",
          "text": [
            "                   all         43        163      0.987      0.993      0.987      0.875\n",
            "\n",
            "      Epoch    GPU_mem   box_loss   cls_loss   dfl_loss  Instances       Size\n"
          ]
        },
        {
          "output_type": "stream",
          "name": "stderr",
          "text": [
            "      39/50      2.19G     0.5375     0.4624     0.8634         81        640: 100%|██████████| 10/10 [00:01<00:00,  7.12it/s]\n",
            "                 Class     Images  Instances      Box(P          R      mAP50  mAP50-95): 100%|██████████| 2/2 [00:00<00:00,  9.71it/s]"
          ]
        },
        {
          "output_type": "stream",
          "name": "stdout",
          "text": [
            "                   all         43        163      0.986      0.994      0.987      0.873\n"
          ]
        },
        {
          "output_type": "stream",
          "name": "stderr",
          "text": [
            "\n"
          ]
        },
        {
          "output_type": "stream",
          "name": "stdout",
          "text": [
            "\n",
            "      Epoch    GPU_mem   box_loss   cls_loss   dfl_loss  Instances       Size\n"
          ]
        },
        {
          "output_type": "stream",
          "name": "stderr",
          "text": [
            "      40/50      2.19G     0.5378     0.4599     0.8528         82        640: 100%|██████████| 10/10 [00:01<00:00,  6.99it/s]\n",
            "                 Class     Images  Instances      Box(P          R      mAP50  mAP50-95): 100%|██████████| 2/2 [00:00<00:00,  9.92it/s]"
          ]
        },
        {
          "output_type": "stream",
          "name": "stdout",
          "text": [
            "                   all         43        163      0.991      0.994      0.986       0.87\n"
          ]
        },
        {
          "output_type": "stream",
          "name": "stderr",
          "text": [
            "\n"
          ]
        },
        {
          "output_type": "stream",
          "name": "stdout",
          "text": [
            "Closing dataloader mosaic\n",
            "\u001b[34m\u001b[1malbumentations: \u001b[0mBlur(p=0.01, blur_limit=(3, 7)), MedianBlur(p=0.01, blur_limit=(3, 7)), ToGray(p=0.01, num_output_channels=3, method='weighted_average'), CLAHE(p=0.01, clip_limit=(1, 4.0), tile_grid_size=(8, 8))\n",
            "\n",
            "      Epoch    GPU_mem   box_loss   cls_loss   dfl_loss  Instances       Size\n"
          ]
        },
        {
          "output_type": "stream",
          "name": "stderr",
          "text": [
            "      41/50      2.15G     0.5503     0.5812     0.8383         27        640: 100%|██████████| 10/10 [00:02<00:00,  4.73it/s]\n",
            "                 Class     Images  Instances      Box(P          R      mAP50  mAP50-95): 100%|██████████| 2/2 [00:00<00:00,  9.79it/s]"
          ]
        },
        {
          "output_type": "stream",
          "name": "stdout",
          "text": [
            "                   all         43        163      0.989      0.994      0.987      0.866\n"
          ]
        },
        {
          "output_type": "stream",
          "name": "stderr",
          "text": [
            "\n"
          ]
        },
        {
          "output_type": "stream",
          "name": "stdout",
          "text": [
            "\n",
            "      Epoch    GPU_mem   box_loss   cls_loss   dfl_loss  Instances       Size\n"
          ]
        },
        {
          "output_type": "stream",
          "name": "stderr",
          "text": [
            "      42/50      2.15G     0.5371     0.5659     0.8447         33        640: 100%|██████████| 10/10 [00:01<00:00,  7.12it/s]\n",
            "                 Class     Images  Instances      Box(P          R      mAP50  mAP50-95): 100%|██████████| 2/2 [00:00<00:00,  7.66it/s]"
          ]
        },
        {
          "output_type": "stream",
          "name": "stdout",
          "text": [
            "                   all         43        163      0.987      0.994      0.987      0.865\n"
          ]
        },
        {
          "output_type": "stream",
          "name": "stderr",
          "text": [
            "\n"
          ]
        },
        {
          "output_type": "stream",
          "name": "stdout",
          "text": [
            "\n",
            "      Epoch    GPU_mem   box_loss   cls_loss   dfl_loss  Instances       Size\n"
          ]
        },
        {
          "output_type": "stream",
          "name": "stderr",
          "text": [
            "      43/50      2.15G     0.5411     0.5516     0.8398         31        640: 100%|██████████| 10/10 [00:01<00:00,  7.11it/s]\n",
            "                 Class     Images  Instances      Box(P          R      mAP50  mAP50-95): 100%|██████████| 2/2 [00:00<00:00,  8.30it/s]"
          ]
        },
        {
          "output_type": "stream",
          "name": "stdout",
          "text": [
            "                   all         43        163      0.984      0.994      0.988      0.869\n"
          ]
        },
        {
          "output_type": "stream",
          "name": "stderr",
          "text": [
            "\n"
          ]
        },
        {
          "output_type": "stream",
          "name": "stdout",
          "text": [
            "\n",
            "      Epoch    GPU_mem   box_loss   cls_loss   dfl_loss  Instances       Size\n"
          ]
        },
        {
          "output_type": "stream",
          "name": "stderr",
          "text": [
            "      44/50      2.15G     0.5406     0.5153     0.8431         32        640: 100%|██████████| 10/10 [00:01<00:00,  6.89it/s]\n",
            "                 Class     Images  Instances      Box(P          R      mAP50  mAP50-95): 100%|██████████| 2/2 [00:00<00:00,  9.30it/s]"
          ]
        },
        {
          "output_type": "stream",
          "name": "stdout",
          "text": [
            "                   all         43        163      0.982      0.989      0.988      0.873\n"
          ]
        },
        {
          "output_type": "stream",
          "name": "stderr",
          "text": [
            "\n"
          ]
        },
        {
          "output_type": "stream",
          "name": "stdout",
          "text": [
            "\n",
            "      Epoch    GPU_mem   box_loss   cls_loss   dfl_loss  Instances       Size\n"
          ]
        },
        {
          "output_type": "stream",
          "name": "stderr",
          "text": [
            "      45/50      2.15G     0.5383     0.5159     0.8463         32        640: 100%|██████████| 10/10 [00:01<00:00,  7.09it/s]\n",
            "                 Class     Images  Instances      Box(P          R      mAP50  mAP50-95): 100%|██████████| 2/2 [00:00<00:00,  9.75it/s]"
          ]
        },
        {
          "output_type": "stream",
          "name": "stdout",
          "text": [
            "                   all         43        163       0.98      0.992      0.987      0.872\n"
          ]
        },
        {
          "output_type": "stream",
          "name": "stderr",
          "text": [
            "\n"
          ]
        },
        {
          "output_type": "stream",
          "name": "stdout",
          "text": [
            "\n",
            "      Epoch    GPU_mem   box_loss   cls_loss   dfl_loss  Instances       Size\n"
          ]
        },
        {
          "output_type": "stream",
          "name": "stderr",
          "text": [
            "      46/50      2.15G     0.5183     0.4889       0.84         33        640: 100%|██████████| 10/10 [00:01<00:00,  7.04it/s]\n",
            "                 Class     Images  Instances      Box(P          R      mAP50  mAP50-95): 100%|██████████| 2/2 [00:00<00:00,  9.36it/s]"
          ]
        },
        {
          "output_type": "stream",
          "name": "stdout",
          "text": [
            "                   all         43        163      0.983      0.994      0.988      0.866\n"
          ]
        },
        {
          "output_type": "stream",
          "name": "stderr",
          "text": [
            "\n"
          ]
        },
        {
          "output_type": "stream",
          "name": "stdout",
          "text": [
            "\n",
            "      Epoch    GPU_mem   box_loss   cls_loss   dfl_loss  Instances       Size\n"
          ]
        },
        {
          "output_type": "stream",
          "name": "stderr",
          "text": [
            "      47/50      2.15G     0.5056     0.4806     0.8343         32        640: 100%|██████████| 10/10 [00:01<00:00,  7.20it/s]\n",
            "                 Class     Images  Instances      Box(P          R      mAP50  mAP50-95): 100%|██████████| 2/2 [00:00<00:00,  9.82it/s]"
          ]
        },
        {
          "output_type": "stream",
          "name": "stdout",
          "text": [
            "                   all         43        163      0.983      0.994      0.988      0.878\n"
          ]
        },
        {
          "output_type": "stream",
          "name": "stderr",
          "text": [
            "\n"
          ]
        },
        {
          "output_type": "stream",
          "name": "stdout",
          "text": [
            "\n",
            "      Epoch    GPU_mem   box_loss   cls_loss   dfl_loss  Instances       Size\n"
          ]
        },
        {
          "output_type": "stream",
          "name": "stderr",
          "text": [
            "      48/50      2.15G     0.5063     0.4761      0.835         31        640: 100%|██████████| 10/10 [00:01<00:00,  7.14it/s]\n",
            "                 Class     Images  Instances      Box(P          R      mAP50  mAP50-95): 100%|██████████| 2/2 [00:00<00:00,  9.71it/s]"
          ]
        },
        {
          "output_type": "stream",
          "name": "stdout",
          "text": [
            "                   all         43        163      0.983      0.994      0.986       0.87\n"
          ]
        },
        {
          "output_type": "stream",
          "name": "stderr",
          "text": [
            "\n"
          ]
        },
        {
          "output_type": "stream",
          "name": "stdout",
          "text": [
            "\n",
            "      Epoch    GPU_mem   box_loss   cls_loss   dfl_loss  Instances       Size\n"
          ]
        },
        {
          "output_type": "stream",
          "name": "stderr",
          "text": [
            "      49/50      2.15G     0.5095     0.4669     0.8451         34        640: 100%|██████████| 10/10 [00:01<00:00,  7.09it/s]\n",
            "                 Class     Images  Instances      Box(P          R      mAP50  mAP50-95): 100%|██████████| 2/2 [00:00<00:00,  9.56it/s]"
          ]
        },
        {
          "output_type": "stream",
          "name": "stdout",
          "text": [
            "                   all         43        163      0.982      0.994      0.985      0.866\n"
          ]
        },
        {
          "output_type": "stream",
          "name": "stderr",
          "text": [
            "\n"
          ]
        },
        {
          "output_type": "stream",
          "name": "stdout",
          "text": [
            "\n",
            "      Epoch    GPU_mem   box_loss   cls_loss   dfl_loss  Instances       Size\n"
          ]
        },
        {
          "output_type": "stream",
          "name": "stderr",
          "text": [
            "      50/50      2.15G     0.5044     0.4574     0.8384         33        640: 100%|██████████| 10/10 [00:01<00:00,  6.89it/s]\n",
            "                 Class     Images  Instances      Box(P          R      mAP50  mAP50-95): 100%|██████████| 2/2 [00:00<00:00,  8.80it/s]"
          ]
        },
        {
          "output_type": "stream",
          "name": "stdout",
          "text": [
            "                   all         43        163      0.981      0.994      0.985      0.868\n"
          ]
        },
        {
          "output_type": "stream",
          "name": "stderr",
          "text": [
            "\n"
          ]
        },
        {
          "output_type": "stream",
          "name": "stdout",
          "text": [
            "\n",
            "50 epochs completed in 0.033 hours.\n",
            "Optimizer stripped from /content/assemblyCompoDetection/detect_component2/weights/last.pt, 6.2MB\n",
            "Optimizer stripped from /content/assemblyCompoDetection/detect_component2/weights/best.pt, 6.2MB\n",
            "\n",
            "Validating /content/assemblyCompoDetection/detect_component2/weights/best.pt...\n",
            "Ultralytics YOLOv8.2.101 🚀 Python-3.10.12 torch-2.4.1+cu121 CUDA:0 (Tesla T4, 15102MiB)\n",
            "Model summary (fused): 168 layers, 3,006,428 parameters, 0 gradients, 8.1 GFLOPs\n"
          ]
        },
        {
          "output_type": "stream",
          "name": "stderr",
          "text": [
            "                 Class     Images  Instances      Box(P          R      mAP50  mAP50-95): 100%|██████████| 2/2 [00:00<00:00,  7.76it/s]\n"
          ]
        },
        {
          "output_type": "stream",
          "name": "stdout",
          "text": [
            "                   all         43        163      0.983      0.994      0.988      0.877\n",
            "                    ac         43         43      0.998          1      0.995      0.817\n",
            "               ensuite         42         43      0.975      0.977      0.978      0.856\n",
            "                   tbb         40         40      0.965          1      0.985      0.933\n",
            "               toolbox         37         37      0.995          1      0.995      0.902\n",
            "Speed: 0.1ms preprocess, 0.9ms inference, 0.0ms loss, 1.4ms postprocess per image\n",
            "Results saved to \u001b[1m/content/assemblyCompoDetection/detect_component2\u001b[0m\n"
          ]
        },
        {
          "output_type": "execute_result",
          "data": {
            "text/plain": [
              "ultralytics.utils.metrics.DetMetrics object with attributes:\n",
              "\n",
              "ap_class_index: array([0, 1, 2, 3])\n",
              "box: ultralytics.utils.metrics.Metric object\n",
              "confusion_matrix: <ultralytics.utils.metrics.ConfusionMatrix object at 0x7b7f5159b3a0>\n",
              "curves: ['Precision-Recall(B)', 'F1-Confidence(B)', 'Precision-Confidence(B)', 'Recall-Confidence(B)']\n",
              "curves_results: [[array([          0,    0.001001,    0.002002,    0.003003,    0.004004,    0.005005,    0.006006,    0.007007,    0.008008,    0.009009,     0.01001,    0.011011,    0.012012,    0.013013,    0.014014,    0.015015,    0.016016,    0.017017,    0.018018,    0.019019,     0.02002,    0.021021,    0.022022,    0.023023,\n",
              "          0.024024,    0.025025,    0.026026,    0.027027,    0.028028,    0.029029,     0.03003,    0.031031,    0.032032,    0.033033,    0.034034,    0.035035,    0.036036,    0.037037,    0.038038,    0.039039,     0.04004,    0.041041,    0.042042,    0.043043,    0.044044,    0.045045,    0.046046,    0.047047,\n",
              "          0.048048,    0.049049,     0.05005,    0.051051,    0.052052,    0.053053,    0.054054,    0.055055,    0.056056,    0.057057,    0.058058,    0.059059,     0.06006,    0.061061,    0.062062,    0.063063,    0.064064,    0.065065,    0.066066,    0.067067,    0.068068,    0.069069,     0.07007,    0.071071,\n",
              "          0.072072,    0.073073,    0.074074,    0.075075,    0.076076,    0.077077,    0.078078,    0.079079,     0.08008,    0.081081,    0.082082,    0.083083,    0.084084,    0.085085,    0.086086,    0.087087,    0.088088,    0.089089,     0.09009,    0.091091,    0.092092,    0.093093,    0.094094,    0.095095,\n",
              "          0.096096,    0.097097,    0.098098,    0.099099,      0.1001,      0.1011,      0.1021,      0.1031,      0.1041,     0.10511,     0.10611,     0.10711,     0.10811,     0.10911,     0.11011,     0.11111,     0.11211,     0.11311,     0.11411,     0.11512,     0.11612,     0.11712,     0.11812,     0.11912,\n",
              "           0.12012,     0.12112,     0.12212,     0.12312,     0.12412,     0.12513,     0.12613,     0.12713,     0.12813,     0.12913,     0.13013,     0.13113,     0.13213,     0.13313,     0.13413,     0.13514,     0.13614,     0.13714,     0.13814,     0.13914,     0.14014,     0.14114,     0.14214,     0.14314,\n",
              "           0.14414,     0.14515,     0.14615,     0.14715,     0.14815,     0.14915,     0.15015,     0.15115,     0.15215,     0.15315,     0.15415,     0.15516,     0.15616,     0.15716,     0.15816,     0.15916,     0.16016,     0.16116,     0.16216,     0.16316,     0.16416,     0.16517,     0.16617,     0.16717,\n",
              "           0.16817,     0.16917,     0.17017,     0.17117,     0.17217,     0.17317,     0.17417,     0.17518,     0.17618,     0.17718,     0.17818,     0.17918,     0.18018,     0.18118,     0.18218,     0.18318,     0.18418,     0.18519,     0.18619,     0.18719,     0.18819,     0.18919,     0.19019,     0.19119,\n",
              "           0.19219,     0.19319,     0.19419,      0.1952,      0.1962,      0.1972,      0.1982,      0.1992,      0.2002,      0.2012,      0.2022,      0.2032,      0.2042,     0.20521,     0.20621,     0.20721,     0.20821,     0.20921,     0.21021,     0.21121,     0.21221,     0.21321,     0.21421,     0.21522,\n",
              "           0.21622,     0.21722,     0.21822,     0.21922,     0.22022,     0.22122,     0.22222,     0.22322,     0.22422,     0.22523,     0.22623,     0.22723,     0.22823,     0.22923,     0.23023,     0.23123,     0.23223,     0.23323,     0.23423,     0.23524,     0.23624,     0.23724,     0.23824,     0.23924,\n",
              "           0.24024,     0.24124,     0.24224,     0.24324,     0.24424,     0.24525,     0.24625,     0.24725,     0.24825,     0.24925,     0.25025,     0.25125,     0.25225,     0.25325,     0.25425,     0.25526,     0.25626,     0.25726,     0.25826,     0.25926,     0.26026,     0.26126,     0.26226,     0.26326,\n",
              "           0.26426,     0.26527,     0.26627,     0.26727,     0.26827,     0.26927,     0.27027,     0.27127,     0.27227,     0.27327,     0.27427,     0.27528,     0.27628,     0.27728,     0.27828,     0.27928,     0.28028,     0.28128,     0.28228,     0.28328,     0.28428,     0.28529,     0.28629,     0.28729,\n",
              "           0.28829,     0.28929,     0.29029,     0.29129,     0.29229,     0.29329,     0.29429,      0.2953,      0.2963,      0.2973,      0.2983,      0.2993,      0.3003,      0.3013,      0.3023,      0.3033,      0.3043,     0.30531,     0.30631,     0.30731,     0.30831,     0.30931,     0.31031,     0.31131,\n",
              "           0.31231,     0.31331,     0.31431,     0.31532,     0.31632,     0.31732,     0.31832,     0.31932,     0.32032,     0.32132,     0.32232,     0.32332,     0.32432,     0.32533,     0.32633,     0.32733,     0.32833,     0.32933,     0.33033,     0.33133,     0.33233,     0.33333,     0.33433,     0.33534,\n",
              "           0.33634,     0.33734,     0.33834,     0.33934,     0.34034,     0.34134,     0.34234,     0.34334,     0.34434,     0.34535,     0.34635,     0.34735,     0.34835,     0.34935,     0.35035,     0.35135,     0.35235,     0.35335,     0.35435,     0.35536,     0.35636,     0.35736,     0.35836,     0.35936,\n",
              "           0.36036,     0.36136,     0.36236,     0.36336,     0.36436,     0.36537,     0.36637,     0.36737,     0.36837,     0.36937,     0.37037,     0.37137,     0.37237,     0.37337,     0.37437,     0.37538,     0.37638,     0.37738,     0.37838,     0.37938,     0.38038,     0.38138,     0.38238,     0.38338,\n",
              "           0.38438,     0.38539,     0.38639,     0.38739,     0.38839,     0.38939,     0.39039,     0.39139,     0.39239,     0.39339,     0.39439,      0.3954,      0.3964,      0.3974,      0.3984,      0.3994,      0.4004,      0.4014,      0.4024,      0.4034,      0.4044,     0.40541,     0.40641,     0.40741,\n",
              "           0.40841,     0.40941,     0.41041,     0.41141,     0.41241,     0.41341,     0.41441,     0.41542,     0.41642,     0.41742,     0.41842,     0.41942,     0.42042,     0.42142,     0.42242,     0.42342,     0.42442,     0.42543,     0.42643,     0.42743,     0.42843,     0.42943,     0.43043,     0.43143,\n",
              "           0.43243,     0.43343,     0.43443,     0.43544,     0.43644,     0.43744,     0.43844,     0.43944,     0.44044,     0.44144,     0.44244,     0.44344,     0.44444,     0.44545,     0.44645,     0.44745,     0.44845,     0.44945,     0.45045,     0.45145,     0.45245,     0.45345,     0.45445,     0.45546,\n",
              "           0.45646,     0.45746,     0.45846,     0.45946,     0.46046,     0.46146,     0.46246,     0.46346,     0.46446,     0.46547,     0.46647,     0.46747,     0.46847,     0.46947,     0.47047,     0.47147,     0.47247,     0.47347,     0.47447,     0.47548,     0.47648,     0.47748,     0.47848,     0.47948,\n",
              "           0.48048,     0.48148,     0.48248,     0.48348,     0.48448,     0.48549,     0.48649,     0.48749,     0.48849,     0.48949,     0.49049,     0.49149,     0.49249,     0.49349,     0.49449,      0.4955,      0.4965,      0.4975,      0.4985,      0.4995,      0.5005,      0.5015,      0.5025,      0.5035,\n",
              "            0.5045,     0.50551,     0.50651,     0.50751,     0.50851,     0.50951,     0.51051,     0.51151,     0.51251,     0.51351,     0.51451,     0.51552,     0.51652,     0.51752,     0.51852,     0.51952,     0.52052,     0.52152,     0.52252,     0.52352,     0.52452,     0.52553,     0.52653,     0.52753,\n",
              "           0.52853,     0.52953,     0.53053,     0.53153,     0.53253,     0.53353,     0.53453,     0.53554,     0.53654,     0.53754,     0.53854,     0.53954,     0.54054,     0.54154,     0.54254,     0.54354,     0.54454,     0.54555,     0.54655,     0.54755,     0.54855,     0.54955,     0.55055,     0.55155,\n",
              "           0.55255,     0.55355,     0.55455,     0.55556,     0.55656,     0.55756,     0.55856,     0.55956,     0.56056,     0.56156,     0.56256,     0.56356,     0.56456,     0.56557,     0.56657,     0.56757,     0.56857,     0.56957,     0.57057,     0.57157,     0.57257,     0.57357,     0.57457,     0.57558,\n",
              "           0.57658,     0.57758,     0.57858,     0.57958,     0.58058,     0.58158,     0.58258,     0.58358,     0.58458,     0.58559,     0.58659,     0.58759,     0.58859,     0.58959,     0.59059,     0.59159,     0.59259,     0.59359,     0.59459,      0.5956,      0.5966,      0.5976,      0.5986,      0.5996,\n",
              "            0.6006,      0.6016,      0.6026,      0.6036,      0.6046,     0.60561,     0.60661,     0.60761,     0.60861,     0.60961,     0.61061,     0.61161,     0.61261,     0.61361,     0.61461,     0.61562,     0.61662,     0.61762,     0.61862,     0.61962,     0.62062,     0.62162,     0.62262,     0.62362,\n",
              "           0.62462,     0.62563,     0.62663,     0.62763,     0.62863,     0.62963,     0.63063,     0.63163,     0.63263,     0.63363,     0.63463,     0.63564,     0.63664,     0.63764,     0.63864,     0.63964,     0.64064,     0.64164,     0.64264,     0.64364,     0.64464,     0.64565,     0.64665,     0.64765,\n",
              "           0.64865,     0.64965,     0.65065,     0.65165,     0.65265,     0.65365,     0.65465,     0.65566,     0.65666,     0.65766,     0.65866,     0.65966,     0.66066,     0.66166,     0.66266,     0.66366,     0.66466,     0.66567,     0.66667,     0.66767,     0.66867,     0.66967,     0.67067,     0.67167,\n",
              "           0.67267,     0.67367,     0.67467,     0.67568,     0.67668,     0.67768,     0.67868,     0.67968,     0.68068,     0.68168,     0.68268,     0.68368,     0.68468,     0.68569,     0.68669,     0.68769,     0.68869,     0.68969,     0.69069,     0.69169,     0.69269,     0.69369,     0.69469,      0.6957,\n",
              "            0.6967,      0.6977,      0.6987,      0.6997,      0.7007,      0.7017,      0.7027,      0.7037,      0.7047,     0.70571,     0.70671,     0.70771,     0.70871,     0.70971,     0.71071,     0.71171,     0.71271,     0.71371,     0.71471,     0.71572,     0.71672,     0.71772,     0.71872,     0.71972,\n",
              "           0.72072,     0.72172,     0.72272,     0.72372,     0.72472,     0.72573,     0.72673,     0.72773,     0.72873,     0.72973,     0.73073,     0.73173,     0.73273,     0.73373,     0.73473,     0.73574,     0.73674,     0.73774,     0.73874,     0.73974,     0.74074,     0.74174,     0.74274,     0.74374,\n",
              "           0.74474,     0.74575,     0.74675,     0.74775,     0.74875,     0.74975,     0.75075,     0.75175,     0.75275,     0.75375,     0.75475,     0.75576,     0.75676,     0.75776,     0.75876,     0.75976,     0.76076,     0.76176,     0.76276,     0.76376,     0.76476,     0.76577,     0.76677,     0.76777,\n",
              "           0.76877,     0.76977,     0.77077,     0.77177,     0.77277,     0.77377,     0.77477,     0.77578,     0.77678,     0.77778,     0.77878,     0.77978,     0.78078,     0.78178,     0.78278,     0.78378,     0.78478,     0.78579,     0.78679,     0.78779,     0.78879,     0.78979,     0.79079,     0.79179,\n",
              "           0.79279,     0.79379,     0.79479,      0.7958,      0.7968,      0.7978,      0.7988,      0.7998,      0.8008,      0.8018,      0.8028,      0.8038,      0.8048,     0.80581,     0.80681,     0.80781,     0.80881,     0.80981,     0.81081,     0.81181,     0.81281,     0.81381,     0.81481,     0.81582,\n",
              "           0.81682,     0.81782,     0.81882,     0.81982,     0.82082,     0.82182,     0.82282,     0.82382,     0.82482,     0.82583,     0.82683,     0.82783,     0.82883,     0.82983,     0.83083,     0.83183,     0.83283,     0.83383,     0.83483,     0.83584,     0.83684,     0.83784,     0.83884,     0.83984,\n",
              "           0.84084,     0.84184,     0.84284,     0.84384,     0.84484,     0.84585,     0.84685,     0.84785,     0.84885,     0.84985,     0.85085,     0.85185,     0.85285,     0.85385,     0.85485,     0.85586,     0.85686,     0.85786,     0.85886,     0.85986,     0.86086,     0.86186,     0.86286,     0.86386,\n",
              "           0.86486,     0.86587,     0.86687,     0.86787,     0.86887,     0.86987,     0.87087,     0.87187,     0.87287,     0.87387,     0.87487,     0.87588,     0.87688,     0.87788,     0.87888,     0.87988,     0.88088,     0.88188,     0.88288,     0.88388,     0.88488,     0.88589,     0.88689,     0.88789,\n",
              "           0.88889,     0.88989,     0.89089,     0.89189,     0.89289,     0.89389,     0.89489,      0.8959,      0.8969,      0.8979,      0.8989,      0.8999,      0.9009,      0.9019,      0.9029,      0.9039,      0.9049,     0.90591,     0.90691,     0.90791,     0.90891,     0.90991,     0.91091,     0.91191,\n",
              "           0.91291,     0.91391,     0.91491,     0.91592,     0.91692,     0.91792,     0.91892,     0.91992,     0.92092,     0.92192,     0.92292,     0.92392,     0.92492,     0.92593,     0.92693,     0.92793,     0.92893,     0.92993,     0.93093,     0.93193,     0.93293,     0.93393,     0.93493,     0.93594,\n",
              "           0.93694,     0.93794,     0.93894,     0.93994,     0.94094,     0.94194,     0.94294,     0.94394,     0.94494,     0.94595,     0.94695,     0.94795,     0.94895,     0.94995,     0.95095,     0.95195,     0.95295,     0.95395,     0.95495,     0.95596,     0.95696,     0.95796,     0.95896,     0.95996,\n",
              "           0.96096,     0.96196,     0.96296,     0.96396,     0.96496,     0.96597,     0.96697,     0.96797,     0.96897,     0.96997,     0.97097,     0.97197,     0.97297,     0.97397,     0.97497,     0.97598,     0.97698,     0.97798,     0.97898,     0.97998,     0.98098,     0.98198,     0.98298,     0.98398,\n",
              "           0.98498,     0.98599,     0.98699,     0.98799,     0.98899,     0.98999,     0.99099,     0.99199,     0.99299,     0.99399,     0.99499,       0.996,       0.997,       0.998,       0.999,           1]), array([[          1,           1,           1, ...,           1,           1,           0],\n",
              "       [          1,           1,           1, ...,     0.24571,     0.24571,           0],\n",
              "       [          1,           1,           1, ...,     0.97561,     0.97561,           0],\n",
              "       [          1,           1,           1, ...,           1,           1,           0]]), 'Recall', 'Precision'], [array([          0,    0.001001,    0.002002,    0.003003,    0.004004,    0.005005,    0.006006,    0.007007,    0.008008,    0.009009,     0.01001,    0.011011,    0.012012,    0.013013,    0.014014,    0.015015,    0.016016,    0.017017,    0.018018,    0.019019,     0.02002,    0.021021,    0.022022,    0.023023,\n",
              "          0.024024,    0.025025,    0.026026,    0.027027,    0.028028,    0.029029,     0.03003,    0.031031,    0.032032,    0.033033,    0.034034,    0.035035,    0.036036,    0.037037,    0.038038,    0.039039,     0.04004,    0.041041,    0.042042,    0.043043,    0.044044,    0.045045,    0.046046,    0.047047,\n",
              "          0.048048,    0.049049,     0.05005,    0.051051,    0.052052,    0.053053,    0.054054,    0.055055,    0.056056,    0.057057,    0.058058,    0.059059,     0.06006,    0.061061,    0.062062,    0.063063,    0.064064,    0.065065,    0.066066,    0.067067,    0.068068,    0.069069,     0.07007,    0.071071,\n",
              "          0.072072,    0.073073,    0.074074,    0.075075,    0.076076,    0.077077,    0.078078,    0.079079,     0.08008,    0.081081,    0.082082,    0.083083,    0.084084,    0.085085,    0.086086,    0.087087,    0.088088,    0.089089,     0.09009,    0.091091,    0.092092,    0.093093,    0.094094,    0.095095,\n",
              "          0.096096,    0.097097,    0.098098,    0.099099,      0.1001,      0.1011,      0.1021,      0.1031,      0.1041,     0.10511,     0.10611,     0.10711,     0.10811,     0.10911,     0.11011,     0.11111,     0.11211,     0.11311,     0.11411,     0.11512,     0.11612,     0.11712,     0.11812,     0.11912,\n",
              "           0.12012,     0.12112,     0.12212,     0.12312,     0.12412,     0.12513,     0.12613,     0.12713,     0.12813,     0.12913,     0.13013,     0.13113,     0.13213,     0.13313,     0.13413,     0.13514,     0.13614,     0.13714,     0.13814,     0.13914,     0.14014,     0.14114,     0.14214,     0.14314,\n",
              "           0.14414,     0.14515,     0.14615,     0.14715,     0.14815,     0.14915,     0.15015,     0.15115,     0.15215,     0.15315,     0.15415,     0.15516,     0.15616,     0.15716,     0.15816,     0.15916,     0.16016,     0.16116,     0.16216,     0.16316,     0.16416,     0.16517,     0.16617,     0.16717,\n",
              "           0.16817,     0.16917,     0.17017,     0.17117,     0.17217,     0.17317,     0.17417,     0.17518,     0.17618,     0.17718,     0.17818,     0.17918,     0.18018,     0.18118,     0.18218,     0.18318,     0.18418,     0.18519,     0.18619,     0.18719,     0.18819,     0.18919,     0.19019,     0.19119,\n",
              "           0.19219,     0.19319,     0.19419,      0.1952,      0.1962,      0.1972,      0.1982,      0.1992,      0.2002,      0.2012,      0.2022,      0.2032,      0.2042,     0.20521,     0.20621,     0.20721,     0.20821,     0.20921,     0.21021,     0.21121,     0.21221,     0.21321,     0.21421,     0.21522,\n",
              "           0.21622,     0.21722,     0.21822,     0.21922,     0.22022,     0.22122,     0.22222,     0.22322,     0.22422,     0.22523,     0.22623,     0.22723,     0.22823,     0.22923,     0.23023,     0.23123,     0.23223,     0.23323,     0.23423,     0.23524,     0.23624,     0.23724,     0.23824,     0.23924,\n",
              "           0.24024,     0.24124,     0.24224,     0.24324,     0.24424,     0.24525,     0.24625,     0.24725,     0.24825,     0.24925,     0.25025,     0.25125,     0.25225,     0.25325,     0.25425,     0.25526,     0.25626,     0.25726,     0.25826,     0.25926,     0.26026,     0.26126,     0.26226,     0.26326,\n",
              "           0.26426,     0.26527,     0.26627,     0.26727,     0.26827,     0.26927,     0.27027,     0.27127,     0.27227,     0.27327,     0.27427,     0.27528,     0.27628,     0.27728,     0.27828,     0.27928,     0.28028,     0.28128,     0.28228,     0.28328,     0.28428,     0.28529,     0.28629,     0.28729,\n",
              "           0.28829,     0.28929,     0.29029,     0.29129,     0.29229,     0.29329,     0.29429,      0.2953,      0.2963,      0.2973,      0.2983,      0.2993,      0.3003,      0.3013,      0.3023,      0.3033,      0.3043,     0.30531,     0.30631,     0.30731,     0.30831,     0.30931,     0.31031,     0.31131,\n",
              "           0.31231,     0.31331,     0.31431,     0.31532,     0.31632,     0.31732,     0.31832,     0.31932,     0.32032,     0.32132,     0.32232,     0.32332,     0.32432,     0.32533,     0.32633,     0.32733,     0.32833,     0.32933,     0.33033,     0.33133,     0.33233,     0.33333,     0.33433,     0.33534,\n",
              "           0.33634,     0.33734,     0.33834,     0.33934,     0.34034,     0.34134,     0.34234,     0.34334,     0.34434,     0.34535,     0.34635,     0.34735,     0.34835,     0.34935,     0.35035,     0.35135,     0.35235,     0.35335,     0.35435,     0.35536,     0.35636,     0.35736,     0.35836,     0.35936,\n",
              "           0.36036,     0.36136,     0.36236,     0.36336,     0.36436,     0.36537,     0.36637,     0.36737,     0.36837,     0.36937,     0.37037,     0.37137,     0.37237,     0.37337,     0.37437,     0.37538,     0.37638,     0.37738,     0.37838,     0.37938,     0.38038,     0.38138,     0.38238,     0.38338,\n",
              "           0.38438,     0.38539,     0.38639,     0.38739,     0.38839,     0.38939,     0.39039,     0.39139,     0.39239,     0.39339,     0.39439,      0.3954,      0.3964,      0.3974,      0.3984,      0.3994,      0.4004,      0.4014,      0.4024,      0.4034,      0.4044,     0.40541,     0.40641,     0.40741,\n",
              "           0.40841,     0.40941,     0.41041,     0.41141,     0.41241,     0.41341,     0.41441,     0.41542,     0.41642,     0.41742,     0.41842,     0.41942,     0.42042,     0.42142,     0.42242,     0.42342,     0.42442,     0.42543,     0.42643,     0.42743,     0.42843,     0.42943,     0.43043,     0.43143,\n",
              "           0.43243,     0.43343,     0.43443,     0.43544,     0.43644,     0.43744,     0.43844,     0.43944,     0.44044,     0.44144,     0.44244,     0.44344,     0.44444,     0.44545,     0.44645,     0.44745,     0.44845,     0.44945,     0.45045,     0.45145,     0.45245,     0.45345,     0.45445,     0.45546,\n",
              "           0.45646,     0.45746,     0.45846,     0.45946,     0.46046,     0.46146,     0.46246,     0.46346,     0.46446,     0.46547,     0.46647,     0.46747,     0.46847,     0.46947,     0.47047,     0.47147,     0.47247,     0.47347,     0.47447,     0.47548,     0.47648,     0.47748,     0.47848,     0.47948,\n",
              "           0.48048,     0.48148,     0.48248,     0.48348,     0.48448,     0.48549,     0.48649,     0.48749,     0.48849,     0.48949,     0.49049,     0.49149,     0.49249,     0.49349,     0.49449,      0.4955,      0.4965,      0.4975,      0.4985,      0.4995,      0.5005,      0.5015,      0.5025,      0.5035,\n",
              "            0.5045,     0.50551,     0.50651,     0.50751,     0.50851,     0.50951,     0.51051,     0.51151,     0.51251,     0.51351,     0.51451,     0.51552,     0.51652,     0.51752,     0.51852,     0.51952,     0.52052,     0.52152,     0.52252,     0.52352,     0.52452,     0.52553,     0.52653,     0.52753,\n",
              "           0.52853,     0.52953,     0.53053,     0.53153,     0.53253,     0.53353,     0.53453,     0.53554,     0.53654,     0.53754,     0.53854,     0.53954,     0.54054,     0.54154,     0.54254,     0.54354,     0.54454,     0.54555,     0.54655,     0.54755,     0.54855,     0.54955,     0.55055,     0.55155,\n",
              "           0.55255,     0.55355,     0.55455,     0.55556,     0.55656,     0.55756,     0.55856,     0.55956,     0.56056,     0.56156,     0.56256,     0.56356,     0.56456,     0.56557,     0.56657,     0.56757,     0.56857,     0.56957,     0.57057,     0.57157,     0.57257,     0.57357,     0.57457,     0.57558,\n",
              "           0.57658,     0.57758,     0.57858,     0.57958,     0.58058,     0.58158,     0.58258,     0.58358,     0.58458,     0.58559,     0.58659,     0.58759,     0.58859,     0.58959,     0.59059,     0.59159,     0.59259,     0.59359,     0.59459,      0.5956,      0.5966,      0.5976,      0.5986,      0.5996,\n",
              "            0.6006,      0.6016,      0.6026,      0.6036,      0.6046,     0.60561,     0.60661,     0.60761,     0.60861,     0.60961,     0.61061,     0.61161,     0.61261,     0.61361,     0.61461,     0.61562,     0.61662,     0.61762,     0.61862,     0.61962,     0.62062,     0.62162,     0.62262,     0.62362,\n",
              "           0.62462,     0.62563,     0.62663,     0.62763,     0.62863,     0.62963,     0.63063,     0.63163,     0.63263,     0.63363,     0.63463,     0.63564,     0.63664,     0.63764,     0.63864,     0.63964,     0.64064,     0.64164,     0.64264,     0.64364,     0.64464,     0.64565,     0.64665,     0.64765,\n",
              "           0.64865,     0.64965,     0.65065,     0.65165,     0.65265,     0.65365,     0.65465,     0.65566,     0.65666,     0.65766,     0.65866,     0.65966,     0.66066,     0.66166,     0.66266,     0.66366,     0.66466,     0.66567,     0.66667,     0.66767,     0.66867,     0.66967,     0.67067,     0.67167,\n",
              "           0.67267,     0.67367,     0.67467,     0.67568,     0.67668,     0.67768,     0.67868,     0.67968,     0.68068,     0.68168,     0.68268,     0.68368,     0.68468,     0.68569,     0.68669,     0.68769,     0.68869,     0.68969,     0.69069,     0.69169,     0.69269,     0.69369,     0.69469,      0.6957,\n",
              "            0.6967,      0.6977,      0.6987,      0.6997,      0.7007,      0.7017,      0.7027,      0.7037,      0.7047,     0.70571,     0.70671,     0.70771,     0.70871,     0.70971,     0.71071,     0.71171,     0.71271,     0.71371,     0.71471,     0.71572,     0.71672,     0.71772,     0.71872,     0.71972,\n",
              "           0.72072,     0.72172,     0.72272,     0.72372,     0.72472,     0.72573,     0.72673,     0.72773,     0.72873,     0.72973,     0.73073,     0.73173,     0.73273,     0.73373,     0.73473,     0.73574,     0.73674,     0.73774,     0.73874,     0.73974,     0.74074,     0.74174,     0.74274,     0.74374,\n",
              "           0.74474,     0.74575,     0.74675,     0.74775,     0.74875,     0.74975,     0.75075,     0.75175,     0.75275,     0.75375,     0.75475,     0.75576,     0.75676,     0.75776,     0.75876,     0.75976,     0.76076,     0.76176,     0.76276,     0.76376,     0.76476,     0.76577,     0.76677,     0.76777,\n",
              "           0.76877,     0.76977,     0.77077,     0.77177,     0.77277,     0.77377,     0.77477,     0.77578,     0.77678,     0.77778,     0.77878,     0.77978,     0.78078,     0.78178,     0.78278,     0.78378,     0.78478,     0.78579,     0.78679,     0.78779,     0.78879,     0.78979,     0.79079,     0.79179,\n",
              "           0.79279,     0.79379,     0.79479,      0.7958,      0.7968,      0.7978,      0.7988,      0.7998,      0.8008,      0.8018,      0.8028,      0.8038,      0.8048,     0.80581,     0.80681,     0.80781,     0.80881,     0.80981,     0.81081,     0.81181,     0.81281,     0.81381,     0.81481,     0.81582,\n",
              "           0.81682,     0.81782,     0.81882,     0.81982,     0.82082,     0.82182,     0.82282,     0.82382,     0.82482,     0.82583,     0.82683,     0.82783,     0.82883,     0.82983,     0.83083,     0.83183,     0.83283,     0.83383,     0.83483,     0.83584,     0.83684,     0.83784,     0.83884,     0.83984,\n",
              "           0.84084,     0.84184,     0.84284,     0.84384,     0.84484,     0.84585,     0.84685,     0.84785,     0.84885,     0.84985,     0.85085,     0.85185,     0.85285,     0.85385,     0.85485,     0.85586,     0.85686,     0.85786,     0.85886,     0.85986,     0.86086,     0.86186,     0.86286,     0.86386,\n",
              "           0.86486,     0.86587,     0.86687,     0.86787,     0.86887,     0.86987,     0.87087,     0.87187,     0.87287,     0.87387,     0.87487,     0.87588,     0.87688,     0.87788,     0.87888,     0.87988,     0.88088,     0.88188,     0.88288,     0.88388,     0.88488,     0.88589,     0.88689,     0.88789,\n",
              "           0.88889,     0.88989,     0.89089,     0.89189,     0.89289,     0.89389,     0.89489,      0.8959,      0.8969,      0.8979,      0.8989,      0.8999,      0.9009,      0.9019,      0.9029,      0.9039,      0.9049,     0.90591,     0.90691,     0.90791,     0.90891,     0.90991,     0.91091,     0.91191,\n",
              "           0.91291,     0.91391,     0.91491,     0.91592,     0.91692,     0.91792,     0.91892,     0.91992,     0.92092,     0.92192,     0.92292,     0.92392,     0.92492,     0.92593,     0.92693,     0.92793,     0.92893,     0.92993,     0.93093,     0.93193,     0.93293,     0.93393,     0.93493,     0.93594,\n",
              "           0.93694,     0.93794,     0.93894,     0.93994,     0.94094,     0.94194,     0.94294,     0.94394,     0.94494,     0.94595,     0.94695,     0.94795,     0.94895,     0.94995,     0.95095,     0.95195,     0.95295,     0.95395,     0.95495,     0.95596,     0.95696,     0.95796,     0.95896,     0.95996,\n",
              "           0.96096,     0.96196,     0.96296,     0.96396,     0.96496,     0.96597,     0.96697,     0.96797,     0.96897,     0.96997,     0.97097,     0.97197,     0.97297,     0.97397,     0.97497,     0.97598,     0.97698,     0.97798,     0.97898,     0.97998,     0.98098,     0.98198,     0.98298,     0.98398,\n",
              "           0.98498,     0.98599,     0.98699,     0.98799,     0.98899,     0.98999,     0.99099,     0.99199,     0.99299,     0.99399,     0.99499,       0.996,       0.997,       0.998,       0.999,           1]), array([[   0.028234,    0.028234,       0.145, ...,           0,           0,           0],\n",
              "       [   0.032114,    0.032114,     0.17301, ...,           0,           0,           0],\n",
              "       [    0.02476,     0.02476,    0.056855, ...,           0,           0,           0],\n",
              "       [   0.019067,    0.019067,    0.088932, ...,           0,           0,           0]]), 'Confidence', 'F1'], [array([          0,    0.001001,    0.002002,    0.003003,    0.004004,    0.005005,    0.006006,    0.007007,    0.008008,    0.009009,     0.01001,    0.011011,    0.012012,    0.013013,    0.014014,    0.015015,    0.016016,    0.017017,    0.018018,    0.019019,     0.02002,    0.021021,    0.022022,    0.023023,\n",
              "          0.024024,    0.025025,    0.026026,    0.027027,    0.028028,    0.029029,     0.03003,    0.031031,    0.032032,    0.033033,    0.034034,    0.035035,    0.036036,    0.037037,    0.038038,    0.039039,     0.04004,    0.041041,    0.042042,    0.043043,    0.044044,    0.045045,    0.046046,    0.047047,\n",
              "          0.048048,    0.049049,     0.05005,    0.051051,    0.052052,    0.053053,    0.054054,    0.055055,    0.056056,    0.057057,    0.058058,    0.059059,     0.06006,    0.061061,    0.062062,    0.063063,    0.064064,    0.065065,    0.066066,    0.067067,    0.068068,    0.069069,     0.07007,    0.071071,\n",
              "          0.072072,    0.073073,    0.074074,    0.075075,    0.076076,    0.077077,    0.078078,    0.079079,     0.08008,    0.081081,    0.082082,    0.083083,    0.084084,    0.085085,    0.086086,    0.087087,    0.088088,    0.089089,     0.09009,    0.091091,    0.092092,    0.093093,    0.094094,    0.095095,\n",
              "          0.096096,    0.097097,    0.098098,    0.099099,      0.1001,      0.1011,      0.1021,      0.1031,      0.1041,     0.10511,     0.10611,     0.10711,     0.10811,     0.10911,     0.11011,     0.11111,     0.11211,     0.11311,     0.11411,     0.11512,     0.11612,     0.11712,     0.11812,     0.11912,\n",
              "           0.12012,     0.12112,     0.12212,     0.12312,     0.12412,     0.12513,     0.12613,     0.12713,     0.12813,     0.12913,     0.13013,     0.13113,     0.13213,     0.13313,     0.13413,     0.13514,     0.13614,     0.13714,     0.13814,     0.13914,     0.14014,     0.14114,     0.14214,     0.14314,\n",
              "           0.14414,     0.14515,     0.14615,     0.14715,     0.14815,     0.14915,     0.15015,     0.15115,     0.15215,     0.15315,     0.15415,     0.15516,     0.15616,     0.15716,     0.15816,     0.15916,     0.16016,     0.16116,     0.16216,     0.16316,     0.16416,     0.16517,     0.16617,     0.16717,\n",
              "           0.16817,     0.16917,     0.17017,     0.17117,     0.17217,     0.17317,     0.17417,     0.17518,     0.17618,     0.17718,     0.17818,     0.17918,     0.18018,     0.18118,     0.18218,     0.18318,     0.18418,     0.18519,     0.18619,     0.18719,     0.18819,     0.18919,     0.19019,     0.19119,\n",
              "           0.19219,     0.19319,     0.19419,      0.1952,      0.1962,      0.1972,      0.1982,      0.1992,      0.2002,      0.2012,      0.2022,      0.2032,      0.2042,     0.20521,     0.20621,     0.20721,     0.20821,     0.20921,     0.21021,     0.21121,     0.21221,     0.21321,     0.21421,     0.21522,\n",
              "           0.21622,     0.21722,     0.21822,     0.21922,     0.22022,     0.22122,     0.22222,     0.22322,     0.22422,     0.22523,     0.22623,     0.22723,     0.22823,     0.22923,     0.23023,     0.23123,     0.23223,     0.23323,     0.23423,     0.23524,     0.23624,     0.23724,     0.23824,     0.23924,\n",
              "           0.24024,     0.24124,     0.24224,     0.24324,     0.24424,     0.24525,     0.24625,     0.24725,     0.24825,     0.24925,     0.25025,     0.25125,     0.25225,     0.25325,     0.25425,     0.25526,     0.25626,     0.25726,     0.25826,     0.25926,     0.26026,     0.26126,     0.26226,     0.26326,\n",
              "           0.26426,     0.26527,     0.26627,     0.26727,     0.26827,     0.26927,     0.27027,     0.27127,     0.27227,     0.27327,     0.27427,     0.27528,     0.27628,     0.27728,     0.27828,     0.27928,     0.28028,     0.28128,     0.28228,     0.28328,     0.28428,     0.28529,     0.28629,     0.28729,\n",
              "           0.28829,     0.28929,     0.29029,     0.29129,     0.29229,     0.29329,     0.29429,      0.2953,      0.2963,      0.2973,      0.2983,      0.2993,      0.3003,      0.3013,      0.3023,      0.3033,      0.3043,     0.30531,     0.30631,     0.30731,     0.30831,     0.30931,     0.31031,     0.31131,\n",
              "           0.31231,     0.31331,     0.31431,     0.31532,     0.31632,     0.31732,     0.31832,     0.31932,     0.32032,     0.32132,     0.32232,     0.32332,     0.32432,     0.32533,     0.32633,     0.32733,     0.32833,     0.32933,     0.33033,     0.33133,     0.33233,     0.33333,     0.33433,     0.33534,\n",
              "           0.33634,     0.33734,     0.33834,     0.33934,     0.34034,     0.34134,     0.34234,     0.34334,     0.34434,     0.34535,     0.34635,     0.34735,     0.34835,     0.34935,     0.35035,     0.35135,     0.35235,     0.35335,     0.35435,     0.35536,     0.35636,     0.35736,     0.35836,     0.35936,\n",
              "           0.36036,     0.36136,     0.36236,     0.36336,     0.36436,     0.36537,     0.36637,     0.36737,     0.36837,     0.36937,     0.37037,     0.37137,     0.37237,     0.37337,     0.37437,     0.37538,     0.37638,     0.37738,     0.37838,     0.37938,     0.38038,     0.38138,     0.38238,     0.38338,\n",
              "           0.38438,     0.38539,     0.38639,     0.38739,     0.38839,     0.38939,     0.39039,     0.39139,     0.39239,     0.39339,     0.39439,      0.3954,      0.3964,      0.3974,      0.3984,      0.3994,      0.4004,      0.4014,      0.4024,      0.4034,      0.4044,     0.40541,     0.40641,     0.40741,\n",
              "           0.40841,     0.40941,     0.41041,     0.41141,     0.41241,     0.41341,     0.41441,     0.41542,     0.41642,     0.41742,     0.41842,     0.41942,     0.42042,     0.42142,     0.42242,     0.42342,     0.42442,     0.42543,     0.42643,     0.42743,     0.42843,     0.42943,     0.43043,     0.43143,\n",
              "           0.43243,     0.43343,     0.43443,     0.43544,     0.43644,     0.43744,     0.43844,     0.43944,     0.44044,     0.44144,     0.44244,     0.44344,     0.44444,     0.44545,     0.44645,     0.44745,     0.44845,     0.44945,     0.45045,     0.45145,     0.45245,     0.45345,     0.45445,     0.45546,\n",
              "           0.45646,     0.45746,     0.45846,     0.45946,     0.46046,     0.46146,     0.46246,     0.46346,     0.46446,     0.46547,     0.46647,     0.46747,     0.46847,     0.46947,     0.47047,     0.47147,     0.47247,     0.47347,     0.47447,     0.47548,     0.47648,     0.47748,     0.47848,     0.47948,\n",
              "           0.48048,     0.48148,     0.48248,     0.48348,     0.48448,     0.48549,     0.48649,     0.48749,     0.48849,     0.48949,     0.49049,     0.49149,     0.49249,     0.49349,     0.49449,      0.4955,      0.4965,      0.4975,      0.4985,      0.4995,      0.5005,      0.5015,      0.5025,      0.5035,\n",
              "            0.5045,     0.50551,     0.50651,     0.50751,     0.50851,     0.50951,     0.51051,     0.51151,     0.51251,     0.51351,     0.51451,     0.51552,     0.51652,     0.51752,     0.51852,     0.51952,     0.52052,     0.52152,     0.52252,     0.52352,     0.52452,     0.52553,     0.52653,     0.52753,\n",
              "           0.52853,     0.52953,     0.53053,     0.53153,     0.53253,     0.53353,     0.53453,     0.53554,     0.53654,     0.53754,     0.53854,     0.53954,     0.54054,     0.54154,     0.54254,     0.54354,     0.54454,     0.54555,     0.54655,     0.54755,     0.54855,     0.54955,     0.55055,     0.55155,\n",
              "           0.55255,     0.55355,     0.55455,     0.55556,     0.55656,     0.55756,     0.55856,     0.55956,     0.56056,     0.56156,     0.56256,     0.56356,     0.56456,     0.56557,     0.56657,     0.56757,     0.56857,     0.56957,     0.57057,     0.57157,     0.57257,     0.57357,     0.57457,     0.57558,\n",
              "           0.57658,     0.57758,     0.57858,     0.57958,     0.58058,     0.58158,     0.58258,     0.58358,     0.58458,     0.58559,     0.58659,     0.58759,     0.58859,     0.58959,     0.59059,     0.59159,     0.59259,     0.59359,     0.59459,      0.5956,      0.5966,      0.5976,      0.5986,      0.5996,\n",
              "            0.6006,      0.6016,      0.6026,      0.6036,      0.6046,     0.60561,     0.60661,     0.60761,     0.60861,     0.60961,     0.61061,     0.61161,     0.61261,     0.61361,     0.61461,     0.61562,     0.61662,     0.61762,     0.61862,     0.61962,     0.62062,     0.62162,     0.62262,     0.62362,\n",
              "           0.62462,     0.62563,     0.62663,     0.62763,     0.62863,     0.62963,     0.63063,     0.63163,     0.63263,     0.63363,     0.63463,     0.63564,     0.63664,     0.63764,     0.63864,     0.63964,     0.64064,     0.64164,     0.64264,     0.64364,     0.64464,     0.64565,     0.64665,     0.64765,\n",
              "           0.64865,     0.64965,     0.65065,     0.65165,     0.65265,     0.65365,     0.65465,     0.65566,     0.65666,     0.65766,     0.65866,     0.65966,     0.66066,     0.66166,     0.66266,     0.66366,     0.66466,     0.66567,     0.66667,     0.66767,     0.66867,     0.66967,     0.67067,     0.67167,\n",
              "           0.67267,     0.67367,     0.67467,     0.67568,     0.67668,     0.67768,     0.67868,     0.67968,     0.68068,     0.68168,     0.68268,     0.68368,     0.68468,     0.68569,     0.68669,     0.68769,     0.68869,     0.68969,     0.69069,     0.69169,     0.69269,     0.69369,     0.69469,      0.6957,\n",
              "            0.6967,      0.6977,      0.6987,      0.6997,      0.7007,      0.7017,      0.7027,      0.7037,      0.7047,     0.70571,     0.70671,     0.70771,     0.70871,     0.70971,     0.71071,     0.71171,     0.71271,     0.71371,     0.71471,     0.71572,     0.71672,     0.71772,     0.71872,     0.71972,\n",
              "           0.72072,     0.72172,     0.72272,     0.72372,     0.72472,     0.72573,     0.72673,     0.72773,     0.72873,     0.72973,     0.73073,     0.73173,     0.73273,     0.73373,     0.73473,     0.73574,     0.73674,     0.73774,     0.73874,     0.73974,     0.74074,     0.74174,     0.74274,     0.74374,\n",
              "           0.74474,     0.74575,     0.74675,     0.74775,     0.74875,     0.74975,     0.75075,     0.75175,     0.75275,     0.75375,     0.75475,     0.75576,     0.75676,     0.75776,     0.75876,     0.75976,     0.76076,     0.76176,     0.76276,     0.76376,     0.76476,     0.76577,     0.76677,     0.76777,\n",
              "           0.76877,     0.76977,     0.77077,     0.77177,     0.77277,     0.77377,     0.77477,     0.77578,     0.77678,     0.77778,     0.77878,     0.77978,     0.78078,     0.78178,     0.78278,     0.78378,     0.78478,     0.78579,     0.78679,     0.78779,     0.78879,     0.78979,     0.79079,     0.79179,\n",
              "           0.79279,     0.79379,     0.79479,      0.7958,      0.7968,      0.7978,      0.7988,      0.7998,      0.8008,      0.8018,      0.8028,      0.8038,      0.8048,     0.80581,     0.80681,     0.80781,     0.80881,     0.80981,     0.81081,     0.81181,     0.81281,     0.81381,     0.81481,     0.81582,\n",
              "           0.81682,     0.81782,     0.81882,     0.81982,     0.82082,     0.82182,     0.82282,     0.82382,     0.82482,     0.82583,     0.82683,     0.82783,     0.82883,     0.82983,     0.83083,     0.83183,     0.83283,     0.83383,     0.83483,     0.83584,     0.83684,     0.83784,     0.83884,     0.83984,\n",
              "           0.84084,     0.84184,     0.84284,     0.84384,     0.84484,     0.84585,     0.84685,     0.84785,     0.84885,     0.84985,     0.85085,     0.85185,     0.85285,     0.85385,     0.85485,     0.85586,     0.85686,     0.85786,     0.85886,     0.85986,     0.86086,     0.86186,     0.86286,     0.86386,\n",
              "           0.86486,     0.86587,     0.86687,     0.86787,     0.86887,     0.86987,     0.87087,     0.87187,     0.87287,     0.87387,     0.87487,     0.87588,     0.87688,     0.87788,     0.87888,     0.87988,     0.88088,     0.88188,     0.88288,     0.88388,     0.88488,     0.88589,     0.88689,     0.88789,\n",
              "           0.88889,     0.88989,     0.89089,     0.89189,     0.89289,     0.89389,     0.89489,      0.8959,      0.8969,      0.8979,      0.8989,      0.8999,      0.9009,      0.9019,      0.9029,      0.9039,      0.9049,     0.90591,     0.90691,     0.90791,     0.90891,     0.90991,     0.91091,     0.91191,\n",
              "           0.91291,     0.91391,     0.91491,     0.91592,     0.91692,     0.91792,     0.91892,     0.91992,     0.92092,     0.92192,     0.92292,     0.92392,     0.92492,     0.92593,     0.92693,     0.92793,     0.92893,     0.92993,     0.93093,     0.93193,     0.93293,     0.93393,     0.93493,     0.93594,\n",
              "           0.93694,     0.93794,     0.93894,     0.93994,     0.94094,     0.94194,     0.94294,     0.94394,     0.94494,     0.94595,     0.94695,     0.94795,     0.94895,     0.94995,     0.95095,     0.95195,     0.95295,     0.95395,     0.95495,     0.95596,     0.95696,     0.95796,     0.95896,     0.95996,\n",
              "           0.96096,     0.96196,     0.96296,     0.96396,     0.96496,     0.96597,     0.96697,     0.96797,     0.96897,     0.96997,     0.97097,     0.97197,     0.97297,     0.97397,     0.97497,     0.97598,     0.97698,     0.97798,     0.97898,     0.97998,     0.98098,     0.98198,     0.98298,     0.98398,\n",
              "           0.98498,     0.98599,     0.98699,     0.98799,     0.98899,     0.98999,     0.99099,     0.99199,     0.99299,     0.99399,     0.99499,       0.996,       0.997,       0.998,       0.999,           1]), array([[   0.014319,    0.014319,    0.078169, ...,           1,           1,           1],\n",
              "       [   0.016319,    0.016319,    0.094694, ...,           1,           1,           1],\n",
              "       [   0.012535,    0.012535,    0.029259, ...,           1,           1,           1],\n",
              "       [  0.0096254,   0.0096254,    0.046535, ...,           1,           1,           1]]), 'Confidence', 'Precision'], [array([          0,    0.001001,    0.002002,    0.003003,    0.004004,    0.005005,    0.006006,    0.007007,    0.008008,    0.009009,     0.01001,    0.011011,    0.012012,    0.013013,    0.014014,    0.015015,    0.016016,    0.017017,    0.018018,    0.019019,     0.02002,    0.021021,    0.022022,    0.023023,\n",
              "          0.024024,    0.025025,    0.026026,    0.027027,    0.028028,    0.029029,     0.03003,    0.031031,    0.032032,    0.033033,    0.034034,    0.035035,    0.036036,    0.037037,    0.038038,    0.039039,     0.04004,    0.041041,    0.042042,    0.043043,    0.044044,    0.045045,    0.046046,    0.047047,\n",
              "          0.048048,    0.049049,     0.05005,    0.051051,    0.052052,    0.053053,    0.054054,    0.055055,    0.056056,    0.057057,    0.058058,    0.059059,     0.06006,    0.061061,    0.062062,    0.063063,    0.064064,    0.065065,    0.066066,    0.067067,    0.068068,    0.069069,     0.07007,    0.071071,\n",
              "          0.072072,    0.073073,    0.074074,    0.075075,    0.076076,    0.077077,    0.078078,    0.079079,     0.08008,    0.081081,    0.082082,    0.083083,    0.084084,    0.085085,    0.086086,    0.087087,    0.088088,    0.089089,     0.09009,    0.091091,    0.092092,    0.093093,    0.094094,    0.095095,\n",
              "          0.096096,    0.097097,    0.098098,    0.099099,      0.1001,      0.1011,      0.1021,      0.1031,      0.1041,     0.10511,     0.10611,     0.10711,     0.10811,     0.10911,     0.11011,     0.11111,     0.11211,     0.11311,     0.11411,     0.11512,     0.11612,     0.11712,     0.11812,     0.11912,\n",
              "           0.12012,     0.12112,     0.12212,     0.12312,     0.12412,     0.12513,     0.12613,     0.12713,     0.12813,     0.12913,     0.13013,     0.13113,     0.13213,     0.13313,     0.13413,     0.13514,     0.13614,     0.13714,     0.13814,     0.13914,     0.14014,     0.14114,     0.14214,     0.14314,\n",
              "           0.14414,     0.14515,     0.14615,     0.14715,     0.14815,     0.14915,     0.15015,     0.15115,     0.15215,     0.15315,     0.15415,     0.15516,     0.15616,     0.15716,     0.15816,     0.15916,     0.16016,     0.16116,     0.16216,     0.16316,     0.16416,     0.16517,     0.16617,     0.16717,\n",
              "           0.16817,     0.16917,     0.17017,     0.17117,     0.17217,     0.17317,     0.17417,     0.17518,     0.17618,     0.17718,     0.17818,     0.17918,     0.18018,     0.18118,     0.18218,     0.18318,     0.18418,     0.18519,     0.18619,     0.18719,     0.18819,     0.18919,     0.19019,     0.19119,\n",
              "           0.19219,     0.19319,     0.19419,      0.1952,      0.1962,      0.1972,      0.1982,      0.1992,      0.2002,      0.2012,      0.2022,      0.2032,      0.2042,     0.20521,     0.20621,     0.20721,     0.20821,     0.20921,     0.21021,     0.21121,     0.21221,     0.21321,     0.21421,     0.21522,\n",
              "           0.21622,     0.21722,     0.21822,     0.21922,     0.22022,     0.22122,     0.22222,     0.22322,     0.22422,     0.22523,     0.22623,     0.22723,     0.22823,     0.22923,     0.23023,     0.23123,     0.23223,     0.23323,     0.23423,     0.23524,     0.23624,     0.23724,     0.23824,     0.23924,\n",
              "           0.24024,     0.24124,     0.24224,     0.24324,     0.24424,     0.24525,     0.24625,     0.24725,     0.24825,     0.24925,     0.25025,     0.25125,     0.25225,     0.25325,     0.25425,     0.25526,     0.25626,     0.25726,     0.25826,     0.25926,     0.26026,     0.26126,     0.26226,     0.26326,\n",
              "           0.26426,     0.26527,     0.26627,     0.26727,     0.26827,     0.26927,     0.27027,     0.27127,     0.27227,     0.27327,     0.27427,     0.27528,     0.27628,     0.27728,     0.27828,     0.27928,     0.28028,     0.28128,     0.28228,     0.28328,     0.28428,     0.28529,     0.28629,     0.28729,\n",
              "           0.28829,     0.28929,     0.29029,     0.29129,     0.29229,     0.29329,     0.29429,      0.2953,      0.2963,      0.2973,      0.2983,      0.2993,      0.3003,      0.3013,      0.3023,      0.3033,      0.3043,     0.30531,     0.30631,     0.30731,     0.30831,     0.30931,     0.31031,     0.31131,\n",
              "           0.31231,     0.31331,     0.31431,     0.31532,     0.31632,     0.31732,     0.31832,     0.31932,     0.32032,     0.32132,     0.32232,     0.32332,     0.32432,     0.32533,     0.32633,     0.32733,     0.32833,     0.32933,     0.33033,     0.33133,     0.33233,     0.33333,     0.33433,     0.33534,\n",
              "           0.33634,     0.33734,     0.33834,     0.33934,     0.34034,     0.34134,     0.34234,     0.34334,     0.34434,     0.34535,     0.34635,     0.34735,     0.34835,     0.34935,     0.35035,     0.35135,     0.35235,     0.35335,     0.35435,     0.35536,     0.35636,     0.35736,     0.35836,     0.35936,\n",
              "           0.36036,     0.36136,     0.36236,     0.36336,     0.36436,     0.36537,     0.36637,     0.36737,     0.36837,     0.36937,     0.37037,     0.37137,     0.37237,     0.37337,     0.37437,     0.37538,     0.37638,     0.37738,     0.37838,     0.37938,     0.38038,     0.38138,     0.38238,     0.38338,\n",
              "           0.38438,     0.38539,     0.38639,     0.38739,     0.38839,     0.38939,     0.39039,     0.39139,     0.39239,     0.39339,     0.39439,      0.3954,      0.3964,      0.3974,      0.3984,      0.3994,      0.4004,      0.4014,      0.4024,      0.4034,      0.4044,     0.40541,     0.40641,     0.40741,\n",
              "           0.40841,     0.40941,     0.41041,     0.41141,     0.41241,     0.41341,     0.41441,     0.41542,     0.41642,     0.41742,     0.41842,     0.41942,     0.42042,     0.42142,     0.42242,     0.42342,     0.42442,     0.42543,     0.42643,     0.42743,     0.42843,     0.42943,     0.43043,     0.43143,\n",
              "           0.43243,     0.43343,     0.43443,     0.43544,     0.43644,     0.43744,     0.43844,     0.43944,     0.44044,     0.44144,     0.44244,     0.44344,     0.44444,     0.44545,     0.44645,     0.44745,     0.44845,     0.44945,     0.45045,     0.45145,     0.45245,     0.45345,     0.45445,     0.45546,\n",
              "           0.45646,     0.45746,     0.45846,     0.45946,     0.46046,     0.46146,     0.46246,     0.46346,     0.46446,     0.46547,     0.46647,     0.46747,     0.46847,     0.46947,     0.47047,     0.47147,     0.47247,     0.47347,     0.47447,     0.47548,     0.47648,     0.47748,     0.47848,     0.47948,\n",
              "           0.48048,     0.48148,     0.48248,     0.48348,     0.48448,     0.48549,     0.48649,     0.48749,     0.48849,     0.48949,     0.49049,     0.49149,     0.49249,     0.49349,     0.49449,      0.4955,      0.4965,      0.4975,      0.4985,      0.4995,      0.5005,      0.5015,      0.5025,      0.5035,\n",
              "            0.5045,     0.50551,     0.50651,     0.50751,     0.50851,     0.50951,     0.51051,     0.51151,     0.51251,     0.51351,     0.51451,     0.51552,     0.51652,     0.51752,     0.51852,     0.51952,     0.52052,     0.52152,     0.52252,     0.52352,     0.52452,     0.52553,     0.52653,     0.52753,\n",
              "           0.52853,     0.52953,     0.53053,     0.53153,     0.53253,     0.53353,     0.53453,     0.53554,     0.53654,     0.53754,     0.53854,     0.53954,     0.54054,     0.54154,     0.54254,     0.54354,     0.54454,     0.54555,     0.54655,     0.54755,     0.54855,     0.54955,     0.55055,     0.55155,\n",
              "           0.55255,     0.55355,     0.55455,     0.55556,     0.55656,     0.55756,     0.55856,     0.55956,     0.56056,     0.56156,     0.56256,     0.56356,     0.56456,     0.56557,     0.56657,     0.56757,     0.56857,     0.56957,     0.57057,     0.57157,     0.57257,     0.57357,     0.57457,     0.57558,\n",
              "           0.57658,     0.57758,     0.57858,     0.57958,     0.58058,     0.58158,     0.58258,     0.58358,     0.58458,     0.58559,     0.58659,     0.58759,     0.58859,     0.58959,     0.59059,     0.59159,     0.59259,     0.59359,     0.59459,      0.5956,      0.5966,      0.5976,      0.5986,      0.5996,\n",
              "            0.6006,      0.6016,      0.6026,      0.6036,      0.6046,     0.60561,     0.60661,     0.60761,     0.60861,     0.60961,     0.61061,     0.61161,     0.61261,     0.61361,     0.61461,     0.61562,     0.61662,     0.61762,     0.61862,     0.61962,     0.62062,     0.62162,     0.62262,     0.62362,\n",
              "           0.62462,     0.62563,     0.62663,     0.62763,     0.62863,     0.62963,     0.63063,     0.63163,     0.63263,     0.63363,     0.63463,     0.63564,     0.63664,     0.63764,     0.63864,     0.63964,     0.64064,     0.64164,     0.64264,     0.64364,     0.64464,     0.64565,     0.64665,     0.64765,\n",
              "           0.64865,     0.64965,     0.65065,     0.65165,     0.65265,     0.65365,     0.65465,     0.65566,     0.65666,     0.65766,     0.65866,     0.65966,     0.66066,     0.66166,     0.66266,     0.66366,     0.66466,     0.66567,     0.66667,     0.66767,     0.66867,     0.66967,     0.67067,     0.67167,\n",
              "           0.67267,     0.67367,     0.67467,     0.67568,     0.67668,     0.67768,     0.67868,     0.67968,     0.68068,     0.68168,     0.68268,     0.68368,     0.68468,     0.68569,     0.68669,     0.68769,     0.68869,     0.68969,     0.69069,     0.69169,     0.69269,     0.69369,     0.69469,      0.6957,\n",
              "            0.6967,      0.6977,      0.6987,      0.6997,      0.7007,      0.7017,      0.7027,      0.7037,      0.7047,     0.70571,     0.70671,     0.70771,     0.70871,     0.70971,     0.71071,     0.71171,     0.71271,     0.71371,     0.71471,     0.71572,     0.71672,     0.71772,     0.71872,     0.71972,\n",
              "           0.72072,     0.72172,     0.72272,     0.72372,     0.72472,     0.72573,     0.72673,     0.72773,     0.72873,     0.72973,     0.73073,     0.73173,     0.73273,     0.73373,     0.73473,     0.73574,     0.73674,     0.73774,     0.73874,     0.73974,     0.74074,     0.74174,     0.74274,     0.74374,\n",
              "           0.74474,     0.74575,     0.74675,     0.74775,     0.74875,     0.74975,     0.75075,     0.75175,     0.75275,     0.75375,     0.75475,     0.75576,     0.75676,     0.75776,     0.75876,     0.75976,     0.76076,     0.76176,     0.76276,     0.76376,     0.76476,     0.76577,     0.76677,     0.76777,\n",
              "           0.76877,     0.76977,     0.77077,     0.77177,     0.77277,     0.77377,     0.77477,     0.77578,     0.77678,     0.77778,     0.77878,     0.77978,     0.78078,     0.78178,     0.78278,     0.78378,     0.78478,     0.78579,     0.78679,     0.78779,     0.78879,     0.78979,     0.79079,     0.79179,\n",
              "           0.79279,     0.79379,     0.79479,      0.7958,      0.7968,      0.7978,      0.7988,      0.7998,      0.8008,      0.8018,      0.8028,      0.8038,      0.8048,     0.80581,     0.80681,     0.80781,     0.80881,     0.80981,     0.81081,     0.81181,     0.81281,     0.81381,     0.81481,     0.81582,\n",
              "           0.81682,     0.81782,     0.81882,     0.81982,     0.82082,     0.82182,     0.82282,     0.82382,     0.82482,     0.82583,     0.82683,     0.82783,     0.82883,     0.82983,     0.83083,     0.83183,     0.83283,     0.83383,     0.83483,     0.83584,     0.83684,     0.83784,     0.83884,     0.83984,\n",
              "           0.84084,     0.84184,     0.84284,     0.84384,     0.84484,     0.84585,     0.84685,     0.84785,     0.84885,     0.84985,     0.85085,     0.85185,     0.85285,     0.85385,     0.85485,     0.85586,     0.85686,     0.85786,     0.85886,     0.85986,     0.86086,     0.86186,     0.86286,     0.86386,\n",
              "           0.86486,     0.86587,     0.86687,     0.86787,     0.86887,     0.86987,     0.87087,     0.87187,     0.87287,     0.87387,     0.87487,     0.87588,     0.87688,     0.87788,     0.87888,     0.87988,     0.88088,     0.88188,     0.88288,     0.88388,     0.88488,     0.88589,     0.88689,     0.88789,\n",
              "           0.88889,     0.88989,     0.89089,     0.89189,     0.89289,     0.89389,     0.89489,      0.8959,      0.8969,      0.8979,      0.8989,      0.8999,      0.9009,      0.9019,      0.9029,      0.9039,      0.9049,     0.90591,     0.90691,     0.90791,     0.90891,     0.90991,     0.91091,     0.91191,\n",
              "           0.91291,     0.91391,     0.91491,     0.91592,     0.91692,     0.91792,     0.91892,     0.91992,     0.92092,     0.92192,     0.92292,     0.92392,     0.92492,     0.92593,     0.92693,     0.92793,     0.92893,     0.92993,     0.93093,     0.93193,     0.93293,     0.93393,     0.93493,     0.93594,\n",
              "           0.93694,     0.93794,     0.93894,     0.93994,     0.94094,     0.94194,     0.94294,     0.94394,     0.94494,     0.94595,     0.94695,     0.94795,     0.94895,     0.94995,     0.95095,     0.95195,     0.95295,     0.95395,     0.95495,     0.95596,     0.95696,     0.95796,     0.95896,     0.95996,\n",
              "           0.96096,     0.96196,     0.96296,     0.96396,     0.96496,     0.96597,     0.96697,     0.96797,     0.96897,     0.96997,     0.97097,     0.97197,     0.97297,     0.97397,     0.97497,     0.97598,     0.97698,     0.97798,     0.97898,     0.97998,     0.98098,     0.98198,     0.98298,     0.98398,\n",
              "           0.98498,     0.98599,     0.98699,     0.98799,     0.98899,     0.98999,     0.99099,     0.99199,     0.99299,     0.99399,     0.99499,       0.996,       0.997,       0.998,       0.999,           1]), array([[          1,           1,           1, ...,           0,           0,           0],\n",
              "       [          1,           1,           1, ...,           0,           0,           0],\n",
              "       [          1,           1,           1, ...,           0,           0,           0],\n",
              "       [          1,           1,           1, ...,           0,           0,           0]]), 'Confidence', 'Recall']]\n",
              "fitness: 0.8881754456685845\n",
              "keys: ['metrics/precision(B)', 'metrics/recall(B)', 'metrics/mAP50(B)', 'metrics/mAP50-95(B)']\n",
              "maps: array([    0.81701,     0.85563,     0.93317,      0.9024])\n",
              "names: {0: 'ac', 1: 'ensuite', 2: 'tbb', 3: 'toolbox'}\n",
              "plot: True\n",
              "results_dict: {'metrics/precision(B)': 0.9833888022015986, 'metrics/recall(B)': 0.9941860465116279, 'metrics/mAP50(B)': 0.988266291224374, 'metrics/mAP50-95(B)': 0.87705424060683, 'fitness': 0.8881754456685845}\n",
              "save_dir: PosixPath('/content/assemblyCompoDetection/detect_component2')\n",
              "speed: {'preprocess': 0.09507911149845566, 'inference': 0.91724063074866, 'loss': 0.0005378279575081759, 'postprocess': 1.3815081396768258}\n",
              "task: 'detect'"
            ]
          },
          "metadata": {},
          "execution_count": 9
        }
      ],
      "source": [
        "from ultralytics import YOLO\n",
        "import os\n",
        "\n",
        "#Change directory to the desired path\n",
        "os.chdir('/content/datasets/WeighBridge-2-1')\n",
        "\n",
        "data_yaml_path = '/content/datasets/WeighBridge-2-1/data.yaml'\n",
        "model = YOLO('/content/datasets/WeighBridge-2-1/yolov8n.pt')\n",
        "model.train(data=data_yaml_path, epochs=50, imgsz=640, project='/content/assemblyCompoDetection', name='detect_component')\n"
      ]
    },
    {
      "cell_type": "markdown",
      "source": [
        "#Get bounding box positions and extract CSV"
      ],
      "metadata": {
        "id": "mPnXX3o8FqGQ"
      }
    },
    {
      "cell_type": "markdown",
      "source": [
        "#Run Inference on images and get bounding box position"
      ],
      "metadata": {
        "id": "_4WzmmQKncEn"
      }
    },
    {
      "cell_type": "code",
      "source": [
        "import os\n",
        "import pandas as pd\n",
        "from ultralytics import YOLO\n",
        "\n",
        "# Load the YOLOv8 model\n",
        "best_model_path = os.path.join('/content/assemblyCompoDetection', 'detect_component2', 'weights', 'best.pt')\n",
        "model = YOLO(best_model_path)\n",
        "\n",
        "# Run inference on images, save=True ensures results are saved\n",
        "results = model('/content/unzipped_images', save=True)\n",
        "\n",
        "# Change directory to where the predictions are saved\n",
        "output_dir = 'runs/detect/predict'  # This is the default output directory\n",
        "os.chdir(output_dir)\n",
        "\n",
        "# Initialize a list to store the extracted data\n",
        "data = []\n",
        "\n",
        "classes_of_interest = ['ac', 'ensuite', 'tbb', 'toolbox']\n",
        "\n",
        "# Iterate over each result in the results\n",
        "for result in results:\n",
        "    # Extract the image name\n",
        "    image_name = os.path.basename(result.path)  # Get the image file name\n",
        "\n",
        "    # Initialize a dictionary to store bounding box data for this image\n",
        "    bbox_data = {'Image Name': image_name}\n",
        "\n",
        "    # Initialize presence, position, and confidence score variables for each class\n",
        "    highest_confidence = {class_name: 0 for class_name in classes_of_interest}  # To track the highest confidence\n",
        "    for class_name in classes_of_interest:\n",
        "        bbox_data[class_name] = 0  # Default value indicating absence\n",
        "        for coord in ['X1', 'Y1', 'X2', 'Y2']:\n",
        "            bbox_data[f'{class_name} {coord}'] = 0  # Initialize coordinates to 0\n",
        "\n",
        "    # Get detections\n",
        "    if result.boxes is not None:  # Check if boxes are detected\n",
        "        for box in result.boxes:\n",
        "            class_id = int(box.cls[0])  # Assuming class_id is at index 0\n",
        "            class_name = model.names[class_id]  # Get the class name from the index\n",
        "            x1, y1, x2, y2 = box.xyxy[0].tolist()  # Convert tensor to list\n",
        "            confidence = float(box.conf[0])  # Get the confidence score\n",
        "\n",
        "            if class_name in classes_of_interest:\n",
        "                # If this detection has a higher confidence score than previously recorded, update the data\n",
        "                if confidence > highest_confidence[class_name]:\n",
        "                    highest_confidence[class_name] = confidence  # Update the highest confidence\n",
        "                    bbox_data[class_name] = 1  # Set the presence to 1\n",
        "                    # Assign bounding box coordinates\n",
        "                    bbox_data[f'{class_name} X1'] = x1\n",
        "                    bbox_data[f'{class_name} Y1'] = y1\n",
        "                    bbox_data[f'{class_name} X2'] = x2\n",
        "                    bbox_data[f'{class_name} Y2'] = y2\n",
        "\n",
        "    # Append the dictionary to the data list\n",
        "    data.append(bbox_data)\n",
        "\n",
        "# Create a DataFrame from the collected data\n",
        "df = pd.DataFrame(data)\n",
        "\n",
        "# Save the DataFrame to a CSV file\n",
        "df.to_csv('/content/yolo_inference_results.csv', index=False)\n",
        "\n",
        "# Display the DataFrame\n",
        "print(df)\n"
      ],
      "metadata": {
        "colab": {
          "base_uri": "https://localhost:8080/"
        },
        "collapsed": true,
        "id": "kFKHa759y39h",
        "outputId": "609c9456-99ae-413b-eb5c-45a4da502aed"
      },
      "execution_count": 18,
      "outputs": [
        {
          "output_type": "stream",
          "name": "stdout",
          "text": [
            "\n",
            "\n",
            "WARNING ⚠️ inference results will accumulate in RAM unless `stream=True` is passed, causing potential out-of-memory\n",
            "errors for large sources or long-running streams and videos. See https://docs.ultralytics.com/modes/predict/ for help.\n",
            "\n",
            "Example:\n",
            "    results = model(source=..., stream=True)  # generator of Results objects\n",
            "    for r in results:\n",
            "        boxes = r.boxes  # Boxes object for bbox outputs\n",
            "        masks = r.masks  # Masks object for segment masks outputs\n",
            "        probs = r.probs  # Class probabilities for classification outputs\n",
            "\n",
            "image 1/2096 /content/unzipped_images/10671.png: 640x224 1 ac, 1 ensuite, 1 tbb, 1 toolbox, 8.0ms\n",
            "image 2/2096 /content/unzipped_images/11092.png: 640x224 1 ac, 1 ensuite, 1 tbb, 1 toolbox, 6.2ms\n",
            "image 3/2096 /content/unzipped_images/11328.png: 640x224 1 ac, 1 ensuite, 1 tbb, 6.1ms\n",
            "image 4/2096 /content/unzipped_images/11456.png: 640x224 1 ac, 1 ensuite, 1 tbb, 5.9ms\n",
            "image 5/2096 /content/unzipped_images/11678.png: 640x192 1 ac, 1 ensuite, 1 tbb, 1 toolbox, 6.9ms\n",
            "image 6/2096 /content/unzipped_images/11689.png: 640x224 1 ac, 1 ensuite, 1 tbb, 1 toolbox, 6.9ms\n",
            "image 7/2096 /content/unzipped_images/12156.png: 640x224 1 ac, 1 ensuite, 1 tbb, 1 toolbox, 6.1ms\n",
            "image 8/2096 /content/unzipped_images/12234.png: 640x224 1 ac, 1 ensuite, 2 tbbs, 6.0ms\n",
            "image 9/2096 /content/unzipped_images/12448.png: 640x224 1 ac, 1 ensuite, 1 tbb, 1 toolbox, 6.1ms\n",
            "image 10/2096 /content/unzipped_images/12470.png: 640x192 1 ac, 1 ensuite, 1 tbb, 1 toolbox, 6.8ms\n",
            "image 11/2096 /content/unzipped_images/12488.png: 640x256 1 ac, 1 ensuite, 1 tbb, 1 toolbox, 6.7ms\n",
            "image 12/2096 /content/unzipped_images/12489.png: 640x224 1 ac, 1 ensuite, 1 tbb, 1 toolbox, 6.8ms\n",
            "image 13/2096 /content/unzipped_images/12490.png: 640x288 1 ac, 1 ensuite, 1 tbb, 1 toolbox, 7.4ms\n",
            "image 14/2096 /content/unzipped_images/12573.png: 640x224 1 ac, 1 ensuite, 1 tbb, 1 toolbox, 7.0ms\n",
            "image 15/2096 /content/unzipped_images/12580.png: 640x256 1 ac, 1 ensuite, 1 tbb, 1 toolbox, 6.9ms\n",
            "image 16/2096 /content/unzipped_images/12612.png: 640x224 1 ac, 1 ensuite, 1 tbb, 1 toolbox, 6.8ms\n",
            "image 17/2096 /content/unzipped_images/12784.png: 640x224 1 ac, 1 ensuite, 1 tbb, 1 toolbox, 6.2ms\n",
            "image 18/2096 /content/unzipped_images/12785.png: 640x224 1 ac, 1 ensuite, 1 tbb, 1 toolbox, 6.0ms\n",
            "image 19/2096 /content/unzipped_images/12786.png: 640x224 1 ac, 1 ensuite, 1 tbb, 6.0ms\n",
            "image 20/2096 /content/unzipped_images/12789.png: 640x192 1 ac, 1 ensuite, 1 tbb, 1 toolbox, 7.0ms\n",
            "image 21/2096 /content/unzipped_images/12790.png: 640x192 1 ac, 1 ensuite, 1 tbb, 1 toolbox, 6.1ms\n",
            "image 22/2096 /content/unzipped_images/12791.png: 640x192 1 ac, 1 ensuite, 1 tbb, 1 toolbox, 6.0ms\n",
            "image 23/2096 /content/unzipped_images/12792.png: 640x224 1 ac, 1 ensuite, 1 tbb, 1 toolbox, 6.7ms\n",
            "image 24/2096 /content/unzipped_images/12793.png: 640x192 1 ac, 1 ensuite, 1 tbb, 1 toolbox, 6.7ms\n",
            "image 25/2096 /content/unzipped_images/12794.png: 640x224 1 ac, 1 ensuite, 1 tbb, 6.9ms\n",
            "image 26/2096 /content/unzipped_images/12796.png: 640x256 1 ac, 1 ensuite, 1 tbb, 1 toolbox, 6.9ms\n",
            "image 27/2096 /content/unzipped_images/12797.png: 640x288 1 ac, 1 ensuite, 1 tbb, 1 toolbox, 8.5ms\n",
            "image 28/2096 /content/unzipped_images/12799.png: 640x224 1 ac, 1 ensuite, 1 tbb, 1 toolbox, 6.9ms\n",
            "image 29/2096 /content/unzipped_images/12800.png: 640x224 1 ac, 1 ensuite, 1 tbb, 1 toolbox, 5.9ms\n",
            "image 30/2096 /content/unzipped_images/12801.png: 640x192 1 ac, 1 ensuite, 1 tbb, 1 toolbox, 6.8ms\n",
            "image 31/2096 /content/unzipped_images/12803.png: 640x224 1 ac, 1 ensuite, 1 tbb, 6.6ms\n",
            "image 32/2096 /content/unzipped_images/12804.png: 640x224 1 ac, 1 ensuite, 1 tbb, 1 toolbox, 6.7ms\n",
            "image 33/2096 /content/unzipped_images/12805.png: 640x256 1 ac, 1 ensuite, 1 tbb, 7.3ms\n",
            "image 34/2096 /content/unzipped_images/12806.png: 640x224 1 ac, 1 ensuite, 1 tbb, 6.9ms\n",
            "image 35/2096 /content/unzipped_images/12817.png: 640x224 1 ac, 1 ensuite, 1 tbb, 1 toolbox, 6.0ms\n",
            "image 36/2096 /content/unzipped_images/12821.png: 640x224 1 ac, 1 ensuite, 1 tbb, 1 toolbox, 6.2ms\n",
            "image 37/2096 /content/unzipped_images/12823.png: 640x224 1 ac, 1 ensuite, 1 tbb, 1 toolbox, 6.6ms\n",
            "image 38/2096 /content/unzipped_images/12824.png: 640x224 1 ac, 1 ensuite, 1 tbb, 1 toolbox, 6.5ms\n",
            "image 39/2096 /content/unzipped_images/12825.png: 640x224 1 ac, 1 ensuite, 1 tbb, 1 toolbox, 6.6ms\n",
            "image 40/2096 /content/unzipped_images/12827.png: 640x224 1 ac, 1 ensuite, 1 tbb, 6.7ms\n",
            "image 41/2096 /content/unzipped_images/12828.png: 640x224 1 ac, 1 ensuite, 1 tbb, 1 toolbox, 6.3ms\n",
            "image 42/2096 /content/unzipped_images/12848.png: 640x288 1 ac, 1 ensuite, 1 tbb, 7.7ms\n",
            "image 43/2096 /content/unzipped_images/12849.png: 640x288 1 ac, 1 ensuite, 1 tbb, 1 toolbox, 6.6ms\n",
            "image 44/2096 /content/unzipped_images/12850.png: 640x256 1 ac, 1 ensuite, 1 tbb, 1 toolbox, 7.9ms\n",
            "image 45/2096 /content/unzipped_images/12851.png: 640x256 1 ac, 1 ensuite, 1 tbb, 1 toolbox, 7.2ms\n",
            "image 46/2096 /content/unzipped_images/12860.png: 640x288 1 ac, 1 ensuite, 1 tbb, 1 toolbox, 8.2ms\n",
            "image 47/2096 /content/unzipped_images/12868.png: 640x224 1 ac, 1 ensuite, 1 tbb, 1 toolbox, 7.5ms\n",
            "image 48/2096 /content/unzipped_images/12885.png: 640x224 1 ac, 1 ensuite, 1 tbb, 1 toolbox, 7.6ms\n",
            "image 49/2096 /content/unzipped_images/12887.png: 640x224 1 ac, 1 ensuite, 1 tbb, 1 toolbox, 6.3ms\n",
            "image 50/2096 /content/unzipped_images/12891.png: 640x224 1 ac, 1 ensuite, 1 tbb, 1 toolbox, 6.4ms\n",
            "image 51/2096 /content/unzipped_images/12893.png: 640x192 1 ac, 1 ensuite, 1 tbb, 1 toolbox, 8.1ms\n",
            "image 52/2096 /content/unzipped_images/12896.png: 640x192 1 ac, 1 ensuite, 1 tbb, 1 toolbox, 6.7ms\n",
            "image 53/2096 /content/unzipped_images/12898.png: 640x224 1 ac, 1 ensuite, 1 tbb, 7.0ms\n",
            "image 54/2096 /content/unzipped_images/12902.png: 640x224 1 ac, 1 ensuite, 1 tbb, 1 toolbox, 6.7ms\n",
            "image 55/2096 /content/unzipped_images/12907.png: 640x224 1 ac, 1 ensuite, 1 tbb, 1 toolbox, 6.5ms\n",
            "image 56/2096 /content/unzipped_images/12908.png: 640x288 1 ac, 1 ensuite, 1 tbb, 1 toolbox, 7.9ms\n",
            "image 57/2096 /content/unzipped_images/12911.png: 640x224 1 ac, 1 ensuite, 1 tbb, 1 toolbox, 7.5ms\n",
            "image 58/2096 /content/unzipped_images/12913.png: 640x256 1 ac, 1 ensuite, 1 tbb, 1 toolbox, 7.6ms\n",
            "image 59/2096 /content/unzipped_images/12917.png: 640x224 1 ac, 1 ensuite, 1 tbb, 7.6ms\n",
            "image 60/2096 /content/unzipped_images/12918.png: 640x224 1 ac, 1 ensuite, 1 tbb, 1 toolbox, 7.2ms\n",
            "image 61/2096 /content/unzipped_images/12920.png: 640x224 1 ac, 1 ensuite, 1 tbb, 1 toolbox, 6.7ms\n",
            "image 62/2096 /content/unzipped_images/12921.png: 640x288 1 ac, 1 ensuite, 1 tbb, 1 toolbox, 7.6ms\n",
            "image 63/2096 /content/unzipped_images/12922.png: 640x288 1 ac, 1 ensuite, 1 tbb, 1 toolbox, 6.5ms\n",
            "image 64/2096 /content/unzipped_images/12924.png: 640x192 1 ac, 1 ensuite, 1 tbb, 1 toolbox, 7.4ms\n",
            "image 65/2096 /content/unzipped_images/12927.png: 640x224 1 ac, 1 ensuite, 1 tbb, 1 toolbox, 7.3ms\n",
            "image 66/2096 /content/unzipped_images/12930.png: 640x192 1 ac, 1 ensuite, 1 tbb, 1 toolbox, 7.4ms\n",
            "image 67/2096 /content/unzipped_images/12934.png: 640x224 1 ac, 1 ensuite, 1 tbb, 7.0ms\n",
            "image 68/2096 /content/unzipped_images/12937.png: 640x224 1 ac, 1 ensuite, 1 tbb, 1 toolbox, 6.4ms\n",
            "image 69/2096 /content/unzipped_images/12940.png: 640x224 1 ac, 1 ensuite, 1 tbb, 1 toolbox, 6.4ms\n",
            "image 70/2096 /content/unzipped_images/12941.png: 640x192 1 ac, 1 ensuite, 1 tbb, 1 toolbox, 7.0ms\n",
            "image 71/2096 /content/unzipped_images/12947.png: 640x224 1 ac, 1 ensuite, 1 tbb, 1 toolbox, 7.1ms\n",
            "image 72/2096 /content/unzipped_images/12957.png: 640x224 1 ac, 1 ensuite, 1 tbb, 7.3ms\n",
            "image 73/2096 /content/unzipped_images/12958.png: 640x256 1 ac, 1 ensuite, 1 tbb, 7.9ms\n",
            "image 74/2096 /content/unzipped_images/12959.png: 640x224 1 ac, 1 ensuite, 1 tbb, 1 toolbox, 7.0ms\n",
            "image 75/2096 /content/unzipped_images/12960.png: 640x224 1 ac, 1 ensuite, 1 tbb, 1 toolbox, 6.2ms\n",
            "image 76/2096 /content/unzipped_images/12961.png: 640x224 1 ac, 1 ensuite, 1 tbb, 1 toolbox, 6.4ms\n",
            "image 77/2096 /content/unzipped_images/12964.png: 640x256 1 ac, 1 ensuite, 1 tbb, 1 toolbox, 7.3ms\n",
            "image 78/2096 /content/unzipped_images/12971.png: 640x224 1 ac, 1 ensuite, 1 tbb, 7.0ms\n",
            "image 79/2096 /content/unzipped_images/12972.png: 640x192 1 ac, 1 ensuite, 1 tbb, 1 toolbox, 7.6ms\n",
            "image 80/2096 /content/unzipped_images/12976.png: 640x224 1 ac, 1 ensuite, 1 tbb, 1 toolbox, 7.0ms\n",
            "image 81/2096 /content/unzipped_images/12977.png: 640x288 1 ac, 1 ensuite, 1 tbb, 7.2ms\n",
            "image 82/2096 /content/unzipped_images/12987.png: 640x288 1 ac, 1 ensuite, 1 tbb, 1 toolbox, 6.6ms\n",
            "image 83/2096 /content/unzipped_images/12988.png: 640x256 1 ac, 1 ensuite, 1 tbb, 1 toolbox, 6.8ms\n",
            "image 84/2096 /content/unzipped_images/12990.png: 640x224 1 ac, 1 ensuite, 1 tbb, 1 toolbox, 6.8ms\n",
            "image 85/2096 /content/unzipped_images/12999.png: 640x224 1 ac, 1 ensuite, 1 tbb, 1 toolbox, 6.2ms\n",
            "image 86/2096 /content/unzipped_images/13003.png: 640x224 1 ac, 1 ensuite, 1 tbb, 1 toolbox, 6.1ms\n",
            "image 87/2096 /content/unzipped_images/13012.png: 640x224 1 ac, 1 ensuite, 1 tbb, 1 toolbox, 6.2ms\n",
            "image 88/2096 /content/unzipped_images/13017.png: 640x224 1 ac, 1 ensuite, 1 tbb, 1 toolbox, 7.9ms\n",
            "image 89/2096 /content/unzipped_images/13021.png: 640x192 1 ac, 1 ensuite, 1 tbb, 1 toolbox, 7.3ms\n",
            "image 90/2096 /content/unzipped_images/13022.png: 640x224 1 ac, 1 ensuite, 1 tbb, 1 toolbox, 7.9ms\n",
            "image 91/2096 /content/unzipped_images/13027.png: 640x192 1 ac, 1 tbb, 1 toolbox, 7.1ms\n",
            "image 92/2096 /content/unzipped_images/13035.png: 640x224 1 ac, 1 ensuite, 1 tbb, 1 toolbox, 8.1ms\n",
            "image 93/2096 /content/unzipped_images/13036.png: 640x224 1 ac, 1 ensuite, 1 tbb, 1 toolbox, 6.2ms\n",
            "image 94/2096 /content/unzipped_images/13038.png: 640x224 1 ac, 1 ensuite, 1 tbb, 6.1ms\n",
            "image 95/2096 /content/unzipped_images/13039.png: 640x224 1 ac, 1 ensuite, 1 tbb, 1 toolbox, 5.9ms\n",
            "image 96/2096 /content/unzipped_images/13041.png: 640x224 1 ac, 1 ensuite, 1 tbb, 1 toolbox, 6.6ms\n",
            "image 97/2096 /content/unzipped_images/13045.png: 640x224 1 ac, 1 ensuite, 1 tbb, 1 toolbox, 7.6ms\n",
            "image 98/2096 /content/unzipped_images/13046.png: 640x192 1 ac, 1 ensuite, 1 tbb, 1 toolbox, 8.6ms\n",
            "image 99/2096 /content/unzipped_images/13047.png: 640x288 1 ac, 1 ensuite, 1 tbb, 1 toolbox, 8.6ms\n",
            "image 100/2096 /content/unzipped_images/13048.png: 640x224 1 ac, 1 ensuite, 1 tbb, 1 toolbox, 8.5ms\n",
            "image 101/2096 /content/unzipped_images/13050.png: 640x224 1 ac, 1 ensuite, 1 tbb, 1 toolbox, 7.5ms\n",
            "image 102/2096 /content/unzipped_images/13052.png: 640x224 1 ac, 1 ensuite, 1 tbb, 1 toolbox, 6.1ms\n",
            "image 103/2096 /content/unzipped_images/13053.png: 640x224 1 ac, 1 tbb, 2 toolboxs, 6.1ms\n",
            "image 104/2096 /content/unzipped_images/13054.png: 640x256 1 ensuite, 6.9ms\n",
            "image 105/2096 /content/unzipped_images/13056.png: 640x224 1 ac, 1 ensuite, 1 tbb, 1 toolbox, 6.9ms\n",
            "image 106/2096 /content/unzipped_images/13057.png: 640x224 1 ac, 1 ensuite, 1 tbb, 6.1ms\n",
            "image 107/2096 /content/unzipped_images/13058.png: 640x192 1 ac, 1 ensuite, 1 tbb, 1 toolbox, 6.8ms\n",
            "image 108/2096 /content/unzipped_images/13059.png: 640x224 1 ac, 1 ensuite, 1 tbb, 1 toolbox, 6.9ms\n",
            "image 109/2096 /content/unzipped_images/13060.png: 640x256 1 ac, 1 ensuite, 1 tbb, 1 toolbox, 6.7ms\n",
            "image 110/2096 /content/unzipped_images/13061.png: 640x224 1 ac, 1 ensuite, 1 tbb, 7.0ms\n",
            "image 111/2096 /content/unzipped_images/13063.png: 640x224 1 ac, 1 ensuite, 1 tbb, 1 toolbox, 6.3ms\n",
            "image 112/2096 /content/unzipped_images/13066.png: 640x224 1 ac, 1 ensuite, 1 tbb, 1 toolbox, 6.0ms\n",
            "image 113/2096 /content/unzipped_images/13073.png: 640x288 1 ac, 1 ensuite, 1 tbb, 1 toolbox, 8.9ms\n",
            "image 114/2096 /content/unzipped_images/13076.png: 640x224 1 ac, 1 ensuite, 1 tbb, 1 toolbox, 7.4ms\n",
            "image 115/2096 /content/unzipped_images/13077.png: 640x224 1 ac, 1 ensuite, 1 tbb, 1 toolbox, 6.2ms\n",
            "image 116/2096 /content/unzipped_images/13081.png: 640x224 1 ac, 1 ensuite, 1 tbb, 1 toolbox, 6.3ms\n",
            "image 117/2096 /content/unzipped_images/13082.png: 640x192 1 ac, 1 ensuite, 1 tbb, 1 toolbox, 7.2ms\n",
            "image 118/2096 /content/unzipped_images/13083.png: 640x224 1 ac, 1 ensuite, 1 tbb, 1 toolbox, 7.1ms\n",
            "image 119/2096 /content/unzipped_images/13094.png: 640x288 1 ac, 1 ensuite, 1 tbb, 7.2ms\n",
            "image 120/2096 /content/unzipped_images/13097.png: 640x224 1 ac, 1 ensuite, 1 tbb, 1 toolbox, 7.3ms\n",
            "image 121/2096 /content/unzipped_images/13098.png: 640x224 1 ac, 1 ensuite, 1 tbb, 1 toolbox, 6.3ms\n",
            "image 122/2096 /content/unzipped_images/13100.png: 640x224 1 ac, 1 ensuite, 1 tbb, 6.6ms\n",
            "image 123/2096 /content/unzipped_images/13104.png: 640x224 1 ac, 1 ensuite, 1 tbb, 1 toolbox, 6.2ms\n",
            "image 124/2096 /content/unzipped_images/13106.png: 640x224 1 ac, 1 ensuite, 1 tbb, 1 toolbox, 6.3ms\n",
            "image 125/2096 /content/unzipped_images/13109.png: 640x224 1 ac, 1 ensuite, 1 tbb, 1 toolbox, 6.0ms\n",
            "image 126/2096 /content/unzipped_images/13110.png: 640x256 1 ac, 1 ensuite, 1 tbb, 1 toolbox, 6.8ms\n",
            "image 127/2096 /content/unzipped_images/13112.png: 640x192 1 ac, 1 ensuite, 1 tbb, 1 toolbox, 7.1ms\n",
            "image 128/2096 /content/unzipped_images/13114.png: 640x288 1 ac, 1 ensuite, 1 tbb, 1 toolbox, 7.1ms\n",
            "image 129/2096 /content/unzipped_images/13115.png: 640x224 1 ac, 1 ensuite, 1 tbb, 1 toolbox, 8.1ms\n",
            "image 130/2096 /content/unzipped_images/13117.png: 640x224 1 ac, 1 ensuite, 1 tbb, 1 toolbox, 6.3ms\n",
            "image 131/2096 /content/unzipped_images/13119.png: 640x224 1 ac, 1 ensuite, 1 tbb, 1 toolbox, 6.4ms\n",
            "image 132/2096 /content/unzipped_images/13120.png: 640x256 1 ac, 1 ensuite, 1 tbb, 1 toolbox, 7.3ms\n",
            "image 133/2096 /content/unzipped_images/13121.png: 640x224 1 ac, 1 ensuite, 1 tbb, 1 toolbox, 7.1ms\n",
            "image 134/2096 /content/unzipped_images/13124.png: 640x256 1 ac, 1 ensuite, 1 tbb, 1 toolbox, 6.8ms\n",
            "image 135/2096 /content/unzipped_images/13126.png: 640x224 1 ac, 1 ensuite, 1 tbb, 1 toolbox, 6.9ms\n",
            "image 136/2096 /content/unzipped_images/13130.png: 640x288 1 ac, 1 ensuite, 1 tbb, 1 toolbox, 7.2ms\n",
            "image 137/2096 /content/unzipped_images/13131.png: 640x224 1 ac, 1 ensuite, 1 tbb, 1 toolbox, 8.3ms\n",
            "image 138/2096 /content/unzipped_images/13137.png: 640x224 1 ac, 1 ensuite, 1 tbb, 1 toolbox, 6.1ms\n",
            "image 139/2096 /content/unzipped_images/13151.png: 640x224 1 ac, 1 ensuite, 1 tbb, 1 toolbox, 7.5ms\n",
            "image 140/2096 /content/unzipped_images/13157.png: 640x256 1 ac, 1 ensuite, 1 tbb, 1 toolbox, 8.3ms\n",
            "image 141/2096 /content/unzipped_images/13158.png: 640x256 1 ac, 1 ensuite, 1 tbb, 1 toolbox, 7.2ms\n",
            "image 142/2096 /content/unzipped_images/13159.png: 640x192 1 ac, 1 ensuite, 1 tbb, 1 toolbox, 8.8ms\n",
            "image 143/2096 /content/unzipped_images/13162.png: 640x224 1 ac, 1 ensuite, 1 tbb, 1 toolbox, 7.5ms\n",
            "image 144/2096 /content/unzipped_images/13165.png: 640x224 1 ac, 1 ensuite, 6.1ms\n",
            "image 145/2096 /content/unzipped_images/13166.png: 640x256 1 ac, 1 ensuite, 1 tbb, 1 toolbox, 7.1ms\n",
            "image 146/2096 /content/unzipped_images/13168.png: 640x288 1 ac, 1 ensuite, 1 tbb, 6.9ms\n",
            "image 147/2096 /content/unzipped_images/13170.png: 640x224 1 ac, 1 ensuite, 1 tbb, 1 toolbox, 7.1ms\n",
            "image 148/2096 /content/unzipped_images/13171.png: 640x224 1 ac, 1 ensuite, 1 tbb, 1 toolbox, 6.1ms\n",
            "image 149/2096 /content/unzipped_images/13173.png: 640x192 1 ensuite, 1 toolbox, 6.6ms\n",
            "image 150/2096 /content/unzipped_images/13174.png: 640x256 1 ac, 1 ensuite, 1 tbb, 1 toolbox, 9.0ms\n",
            "image 151/2096 /content/unzipped_images/13175.png: 640x256 1 ac, 1 ensuite, 1 tbb, 1 toolbox, 6.3ms\n",
            "image 152/2096 /content/unzipped_images/13176.png: 640x224 1 ac, 1 ensuite, 1 tbb, 1 toolbox, 7.1ms\n",
            "image 153/2096 /content/unzipped_images/13177.png: 640x224 1 ac, 1 ensuite, 1 tbb, 1 toolbox, 6.6ms\n",
            "image 154/2096 /content/unzipped_images/13178.png: 640x224 1 ac, 1 ensuite, 1 tbb, 1 toolbox, 7.0ms\n",
            "image 155/2096 /content/unzipped_images/13180.png: 640x192 1 ac, 1 ensuite, 1 tbb, 7.6ms\n",
            "image 156/2096 /content/unzipped_images/13181.png: 640x224 1 ac, 1 ensuite, 1 tbb, 1 toolbox, 6.9ms\n",
            "image 157/2096 /content/unzipped_images/13183.png: 640x224 1 ac, 1 ensuite, 1 tbb, 1 toolbox, 6.0ms\n",
            "image 158/2096 /content/unzipped_images/13184.png: 640x224 1 ac, 1 ensuite, 1 tbb, 1 toolbox, 6.0ms\n",
            "image 159/2096 /content/unzipped_images/13187.png: 640x224 1 ac, 1 ensuite, 1 tbb, 1 toolbox, 6.0ms\n",
            "image 160/2096 /content/unzipped_images/13189.png: 640x288 1 ac, 1 ensuite, 1 tbb, 1 toolbox, 7.3ms\n",
            "image 161/2096 /content/unzipped_images/13190.png: 640x224 1 ac, 1 ensuite, 1 tbb, 1 toolbox, 7.4ms\n",
            "image 162/2096 /content/unzipped_images/13191.png: 640x192 1 ac, 1 ensuite, 1 tbb, 1 toolbox, 7.4ms\n",
            "image 163/2096 /content/unzipped_images/13192.png: 640x192 1 ac, 1 ensuite, 1 tbb, 1 toolbox, 6.8ms\n",
            "image 164/2096 /content/unzipped_images/13195.png: 640x224 1 ac, 1 ensuite, 1 tbb, 1 toolbox, 6.8ms\n",
            "image 165/2096 /content/unzipped_images/13196.png: 640x224 1 ac, 1 ensuite, 1 tbb, 1 toolbox, 6.2ms\n",
            "image 166/2096 /content/unzipped_images/13198.png: 640x224 1 ac, 1 ensuite, 1 tbb, 1 toolbox, 6.3ms\n",
            "image 167/2096 /content/unzipped_images/13199.png: 640x224 1 ac, 1 ensuite, 1 tbb, 1 toolbox, 6.6ms\n",
            "image 168/2096 /content/unzipped_images/13200.png: 640x224 1 ac, 1 ensuite, 1 tbb, 1 toolbox, 6.3ms\n",
            "image 169/2096 /content/unzipped_images/13201.png: 640x224 1 ac, 1 ensuite, 1 tbb, 1 toolbox, 6.0ms\n",
            "image 170/2096 /content/unzipped_images/13203.png: 640x192 1 ac, 1 ensuite, 1 tbb, 1 toolbox, 8.4ms\n",
            "image 171/2096 /content/unzipped_images/13204.png: 640x224 1 ac, 1 ensuite, 1 tbb, 1 toolbox, 6.7ms\n",
            "image 172/2096 /content/unzipped_images/13205.png: 640x224 1 ac, 1 ensuite, 1 tbb, 1 toolbox, 6.1ms\n",
            "image 173/2096 /content/unzipped_images/13206.png: 640x256 1 ac, 1 ensuite, 1 tbb, 1 toolbox, 6.8ms\n",
            "image 174/2096 /content/unzipped_images/13208.png: 640x224 1 ac, 1 ensuite, 1 tbb, 1 toolbox, 6.9ms\n",
            "image 175/2096 /content/unzipped_images/13209.png: 640x224 1 ac, 1 ensuite, 1 tbb, 1 toolbox, 6.0ms\n",
            "image 176/2096 /content/unzipped_images/13210.png: 640x224 1 ac, 1 ensuite, 1 tbb, 1 toolbox, 6.1ms\n",
            "image 177/2096 /content/unzipped_images/13211.png: 640x224 1 ac, 1 ensuite, 1 tbb, 6.2ms\n",
            "image 178/2096 /content/unzipped_images/13212.png: 640x224 1 ac, 1 ensuite, 1 tbb, 1 toolbox, 8.0ms\n",
            "image 179/2096 /content/unzipped_images/13214.png: 640x192 1 ac, 1 ensuite, 1 tbb, 1 toolbox, 7.0ms\n",
            "image 180/2096 /content/unzipped_images/13215.png: 640x288 1 ac, 1 ensuite, 1 tbb, 1 toolbox, 7.4ms\n",
            "image 181/2096 /content/unzipped_images/13219.png: 640x224 1 ac, 1 ensuite, 1 tbb, 1 toolbox, 7.5ms\n",
            "image 182/2096 /content/unzipped_images/13221.png: 640x256 1 ac, 1 ensuite, 1 tbb, 1 toolbox, 7.0ms\n",
            "image 183/2096 /content/unzipped_images/13223.png: 640x192 2 acs, 1 tbb, 1 toolbox, 7.5ms\n",
            "image 184/2096 /content/unzipped_images/13224.png: 640x224 1 ac, 1 ensuite, 1 tbb, 1 toolbox, 7.3ms\n",
            "image 185/2096 /content/unzipped_images/13225.png: 640x224 1 ac, 1 ensuite, 1 tbb, 1 toolbox, 6.0ms\n",
            "image 186/2096 /content/unzipped_images/13227.png: 640x224 1 ac, 1 ensuite, 1 tbb, 1 toolbox, 5.9ms\n",
            "image 187/2096 /content/unzipped_images/13228.png: 640x288 1 ac, 1 ensuite, 1 tbb, 1 toolbox, 7.1ms\n",
            "image 188/2096 /content/unzipped_images/13230.png: 640x288 1 ac, 1 ensuite, 1 tbb, 6.6ms\n",
            "image 189/2096 /content/unzipped_images/13231.png: 640x192 1 ac, 1 ensuite, 1 tbb, 1 toolbox, 7.0ms\n",
            "image 190/2096 /content/unzipped_images/13232.png: 640x224 1 ac, 1 ensuite, 1 tbb, 1 toolbox, 6.9ms\n",
            "image 191/2096 /content/unzipped_images/13234.png: 640x224 1 ac, 1 ensuite, 1 tbb, 1 toolbox, 6.1ms\n",
            "image 192/2096 /content/unzipped_images/13235.png: 640x224 1 ac, 1 ensuite, 1 tbb, 1 toolbox, 6.0ms\n",
            "image 193/2096 /content/unzipped_images/13236.png: 640x224 1 ac, 1 ensuite, 1 tbb, 1 toolbox, 5.8ms\n",
            "image 194/2096 /content/unzipped_images/13237.png: 640x224 1 ac, 1 ensuite, 1 tbb, 1 toolbox, 5.8ms\n",
            "image 195/2096 /content/unzipped_images/13238.png: 640x224 1 ac, 1 ensuite, 1 tbb, 1 toolbox, 6.0ms\n",
            "image 196/2096 /content/unzipped_images/13240.png: 640x224 1 ac, 1 ensuite, 1 tbb, 1 toolbox, 5.9ms\n",
            "image 197/2096 /content/unzipped_images/13242.png: 640x224 1 ac, 1 ensuite, 1 tbb, 1 toolbox, 6.1ms\n",
            "image 198/2096 /content/unzipped_images/13243.png: 640x224 1 ac, 1 ensuite, 1 tbb, 1 toolbox, 6.0ms\n",
            "image 199/2096 /content/unzipped_images/13244.png: 640x288 1 ac, 1 ensuite, 1 tbb, 7.0ms\n",
            "image 200/2096 /content/unzipped_images/13247.png: 640x256 1 ac, 1 ensuite, 1 tbb, 1 toolbox, 6.8ms\n",
            "image 201/2096 /content/unzipped_images/13249.png: 640x256 1 ac, 1 ensuite, 1 tbb, 1 toolbox, 6.0ms\n",
            "image 202/2096 /content/unzipped_images/13253.png: 640x192 1 ac, 1 ensuite, 1 tbb, 1 toolbox, 6.6ms\n",
            "image 203/2096 /content/unzipped_images/13257.png: 640x224 1 ac, 1 ensuite, 1 tbb, 1 toolbox, 6.8ms\n",
            "image 204/2096 /content/unzipped_images/13258.png: 640x192 1 ac, 1 ensuite, 1 tbb, 1 toolbox, 7.5ms\n",
            "image 205/2096 /content/unzipped_images/13260.png: 640x224 1 ac, 1 ensuite, 1 tbb, 1 toolbox, 7.2ms\n",
            "image 206/2096 /content/unzipped_images/13261.png: 640x256 1 ac, 1 ensuite, 1 tbb, 1 toolbox, 6.8ms\n",
            "image 207/2096 /content/unzipped_images/13263.png: 640x224 1 ac, 1 ensuite, 1 tbb, 1 toolbox, 7.0ms\n",
            "image 208/2096 /content/unzipped_images/13264.png: 640x224 1 ac, 1 ensuite, 1 tbb, 1 toolbox, 6.0ms\n",
            "image 209/2096 /content/unzipped_images/13268.png: 640x256 1 ac, 1 ensuite, 1 tbb, 1 toolbox, 7.0ms\n",
            "image 210/2096 /content/unzipped_images/13269.png: 640x192 1 ac, 1 ensuite, 1 tbb, 1 toolbox, 8.0ms\n",
            "image 211/2096 /content/unzipped_images/13271.png: 640x192 1 ac, 1 ensuite, 1 tbb, 1 toolbox, 6.1ms\n",
            "image 212/2096 /content/unzipped_images/13274.png: 640x224 1 ac, 1 ensuite, 1 tbb, 1 toolbox, 7.0ms\n",
            "image 213/2096 /content/unzipped_images/13275.png: 640x192 1 ac, 1 ensuite, 1 tbb, 1 toolbox, 7.1ms\n",
            "image 214/2096 /content/unzipped_images/13276.png: 640x288 1 ac, 1 ensuite, 1 tbb, 1 toolbox, 8.2ms\n",
            "image 215/2096 /content/unzipped_images/13279.png: 640x288 1 ac, 1 ensuite, 1 tbb, 6.7ms\n",
            "image 216/2096 /content/unzipped_images/13280.png: 640x256 1 ac, 1 ensuite, 1 tbb, 1 toolbox, 7.1ms\n",
            "image 217/2096 /content/unzipped_images/13284.png: 640x256 1 ac, 1 ensuite, 1 tbb, 1 toolbox, 6.3ms\n",
            "image 218/2096 /content/unzipped_images/13285.png: 640x224 1 ac, 1 ensuite, 1 tbb, 1 toolbox, 7.0ms\n",
            "image 219/2096 /content/unzipped_images/13286.png: 640x288 1 ac, 1 ensuite, 1 tbb, 7.3ms\n",
            "image 220/2096 /content/unzipped_images/13289.png: 640x192 1 ac, 1 ensuite, 1 tbb, 1 toolbox, 7.0ms\n",
            "image 221/2096 /content/unzipped_images/13290.png: 640x224 1 ac, 1 ensuite, 1 tbb, 1 toolbox, 7.4ms\n",
            "image 222/2096 /content/unzipped_images/13291.png: 640x192 1 ac, 1 ensuite, 1 tbb, 1 toolbox, 7.5ms\n",
            "image 223/2096 /content/unzipped_images/13292.png: 640x288 1 ac, 1 ensuite, 1 tbb, 1 toolbox, 7.3ms\n",
            "image 224/2096 /content/unzipped_images/13293.png: 640x224 1 ac, 1 ensuite, 1 tbb, 1 toolbox, 7.0ms\n",
            "image 225/2096 /content/unzipped_images/13294.png: 640x224 1 ac, 1 ensuite, 1 tbb, 1 toolbox, 7.4ms\n",
            "image 226/2096 /content/unzipped_images/13297.png: 640x224 1 ac, 1 ensuite, 1 tbb, 1 toolbox, 6.5ms\n",
            "image 227/2096 /content/unzipped_images/13299.png: 640x224 1 ac, 1 ensuite, 1 tbb, 1 toolbox, 6.1ms\n",
            "image 228/2096 /content/unzipped_images/13301.png: 640x256 1 ac, 1 ensuite, 1 tbb, 1 toolbox, 6.9ms\n",
            "image 229/2096 /content/unzipped_images/13302.png: 640x288 1 ac, 1 ensuite, 1 tbb, 7.1ms\n",
            "image 230/2096 /content/unzipped_images/13303.png: 640x224 1 ac, 1 ensuite, 1 tbb, 1 toolbox, 6.8ms\n",
            "image 231/2096 /content/unzipped_images/13304.png: 640x256 1 ac, 1 ensuite, 1 tbb, 1 toolbox, 7.0ms\n",
            "image 232/2096 /content/unzipped_images/13305.png: 640x224 1 ac, 1 ensuite, 1 toolbox, 6.7ms\n",
            "image 233/2096 /content/unzipped_images/13308.png: 640x256 1 ac, 1 ensuite, 1 tbb, 6.7ms\n",
            "image 234/2096 /content/unzipped_images/13311.png: 640x224 1 ac, 1 ensuite, 1 tbb, 1 toolbox, 6.8ms\n",
            "image 235/2096 /content/unzipped_images/13312.png: 640x224 1 ac, 1 ensuite, 1 tbb, 1 toolbox, 6.5ms\n",
            "image 236/2096 /content/unzipped_images/13313.png: 640x224 1 ac, 1 ensuite, 1 tbb, 1 toolbox, 6.1ms\n",
            "image 237/2096 /content/unzipped_images/13316.png: 640x224 1 ac, 1 ensuite, 1 tbb, 1 toolbox, 6.3ms\n",
            "image 238/2096 /content/unzipped_images/13318.png: 640x224 1 ac, 1 ensuite, 1 tbb, 1 toolbox, 7.2ms\n",
            "image 239/2096 /content/unzipped_images/13319.png: 640x288 1 ac, 1 ensuite, 1 tbb, 1 toolbox, 7.3ms\n",
            "image 240/2096 /content/unzipped_images/13321.png: 640x224 1 ac, 1 ensuite, 1 tbb, 1 toolbox, 7.4ms\n",
            "image 241/2096 /content/unzipped_images/13322.png: 640x192 (no detections), 7.3ms\n",
            "image 242/2096 /content/unzipped_images/13323.png: 640x192 1 ac, 1 ensuite, 1 tbb, 1 toolbox, 6.2ms\n",
            "image 243/2096 /content/unzipped_images/13325.png: 640x192 1 ac, 1 ensuite, 1 tbb, 1 toolbox, 6.3ms\n",
            "image 244/2096 /content/unzipped_images/13326.png: 640x192 2 acs, 1 ensuite, 1 tbb, 1 toolbox, 6.6ms\n",
            "image 245/2096 /content/unzipped_images/13327.png: 640x256 1 ac, 1 ensuite, 1 tbb, 1 toolbox, 7.5ms\n",
            "image 246/2096 /content/unzipped_images/13330.png: 640x256 1 ac, 1 ensuite, 1 tbb, 1 toolbox, 6.5ms\n",
            "image 247/2096 /content/unzipped_images/13331.png: 640x288 1 ac, 1 ensuite, 1 tbb, 1 toolbox, 7.6ms\n",
            "image 248/2096 /content/unzipped_images/13333.png: 640x224 1 ac, 1 ensuite, 1 tbb, 1 toolbox, 7.3ms\n",
            "image 249/2096 /content/unzipped_images/13334.png: 640x256 1 ac, 1 ensuite, 1 tbb, 7.0ms\n",
            "image 250/2096 /content/unzipped_images/13335.png: 640x288 1 ac, 1 ensuite, 1 tbb, 7.7ms\n",
            "image 251/2096 /content/unzipped_images/13336.png: 640x256 1 ac, 1 ensuite, 1 tbb, 1 toolbox, 8.9ms\n",
            "image 252/2096 /content/unzipped_images/13337.png: 640x224 1 ac, 1 ensuite, 1 tbb, 7.2ms\n",
            "image 253/2096 /content/unzipped_images/13338.png: 640x256 1 ac, 1 ensuite, 1 tbb, 1 toolbox, 7.1ms\n",
            "image 254/2096 /content/unzipped_images/13339.png: 640x224 1 ac, 1 ensuite, 1 tbb, 1 toolbox, 7.2ms\n",
            "image 255/2096 /content/unzipped_images/13341.png: 640x224 1 ac, 1 ensuite, 1 tbb, 6.3ms\n",
            "image 256/2096 /content/unzipped_images/13344.png: 640x224 1 ac, 1 ensuite, 1 tbb, 6.6ms\n",
            "image 257/2096 /content/unzipped_images/13345.png: 640x224 1 ac, 1 ensuite, 1 tbb, 6.2ms\n",
            "image 258/2096 /content/unzipped_images/13350.png: 640x224 1 ac, 1 ensuite, 1 tbb, 1 toolbox, 6.4ms\n",
            "image 259/2096 /content/unzipped_images/13353.png: 640x224 1 ac, 1 ensuite, 1 tbb, 6.9ms\n",
            "image 260/2096 /content/unzipped_images/13354.png: 640x256 1 ac, 1 ensuite, 1 tbb, 1 toolbox, 9.7ms\n",
            "image 261/2096 /content/unzipped_images/13356.png: 640x288 1 ac, 1 ensuite, 1 tbb, 1 toolbox, 7.9ms\n",
            "image 262/2096 /content/unzipped_images/13358.png: 640x224 1 ac, 1 ensuite, 1 tbb, 1 toolbox, 9.7ms\n",
            "image 263/2096 /content/unzipped_images/13359.png: 640x224 1 ac, 1 ensuite, 1 tbb, 1 toolbox, 8.0ms\n",
            "image 264/2096 /content/unzipped_images/13360.png: 640x288 1 ac, 1 ensuite, 1 tbb, 1 toolbox, 8.0ms\n",
            "image 265/2096 /content/unzipped_images/13365.png: 640x288 1 ac, 1 ensuite, 1 tbb, 6.7ms\n",
            "image 266/2096 /content/unzipped_images/13372.png: 640x256 1 ac, 1 ensuite, 1 tbb, 7.0ms\n",
            "image 267/2096 /content/unzipped_images/13377.png: 640x192 1 ac, 1 ensuite, 1 tbb, 1 toolbox, 7.0ms\n",
            "image 268/2096 /content/unzipped_images/13381.png: 640x256 1 ac, 1 ensuite, 1 tbb, 1 toolbox, 7.0ms\n",
            "image 269/2096 /content/unzipped_images/13383.png: 640x224 1 ac, 1 ensuite, 1 tbb, 1 toolbox, 6.7ms\n",
            "image 270/2096 /content/unzipped_images/13384.png: 640x288 1 ac, 1 ensuite, 1 tbb, 1 toolbox, 7.0ms\n",
            "image 271/2096 /content/unzipped_images/13385.png: 640x224 1 ac, 1 ensuite, 1 tbb, 6.9ms\n",
            "image 272/2096 /content/unzipped_images/13386.png: 640x224 1 ac, 1 ensuite, 1 tbb, 1 toolbox, 6.4ms\n",
            "image 273/2096 /content/unzipped_images/13387.png: 640x192 1 ac, 1 ensuite, 1 tbb, 1 toolbox, 6.9ms\n",
            "image 274/2096 /content/unzipped_images/13388.png: 640x192 1 ac, 1 ensuite, 1 tbb, 1 toolbox, 6.3ms\n",
            "image 275/2096 /content/unzipped_images/13389.png: 640x256 1 ac, 1 ensuite, 1 tbb, 1 toolbox, 7.0ms\n",
            "image 276/2096 /content/unzipped_images/13390.png: 640x224 1 ac, 1 ensuite, 1 tbb, 1 toolbox, 7.0ms\n",
            "image 277/2096 /content/unzipped_images/13392.png: 640x224 1 ac, 1 ensuite, 1 tbb, 1 toolbox, 5.9ms\n",
            "image 278/2096 /content/unzipped_images/13393.png: 640x192 1 ac, 1 ensuite, 1 tbb, 1 toolbox, 7.2ms\n",
            "image 279/2096 /content/unzipped_images/13394.png: 640x224 1 ac, 1 ensuite, 1 tbb, 1 toolbox, 6.9ms\n",
            "image 280/2096 /content/unzipped_images/13395.png: 640x288 1 ac, 1 ensuite, 1 tbb, 1 toolbox, 7.0ms\n",
            "image 281/2096 /content/unzipped_images/13399.png: 640x224 1 ac, 1 ensuite, 1 tbb, 1 toolbox, 6.9ms\n",
            "image 282/2096 /content/unzipped_images/13400.png: 640x224 1 ac, 1 ensuite, 1 tbb, 1 toolbox, 6.0ms\n",
            "image 283/2096 /content/unzipped_images/13403.png: 640x288 1 ac, 1 ensuite, 1 tbb, 7.3ms\n",
            "image 284/2096 /content/unzipped_images/13405.png: 640x256 1 ac, 1 ensuite, 1 tbb, 1 toolbox, 7.2ms\n",
            "image 285/2096 /content/unzipped_images/13406.png: 640x224 2 acs, 1 ensuite, 2 tbbs, 7.0ms\n",
            "image 286/2096 /content/unzipped_images/13407.png: 640x224 1 ac, 1 ensuite, 1 tbb, 1 toolbox, 6.8ms\n",
            "image 287/2096 /content/unzipped_images/13410.png: 640x224 1 ac, 1 ensuite, 1 tbb, 1 toolbox, 6.6ms\n",
            "image 288/2096 /content/unzipped_images/13411.png: 640x224 1 ac, 1 ensuite, 1 tbb, 6.4ms\n",
            "image 289/2096 /content/unzipped_images/13413.png: 640x288 1 ac, 1 ensuite, 1 tbb, 7.3ms\n",
            "image 290/2096 /content/unzipped_images/13429.png: 640x224 1 ac, 1 ensuite, 1 tbb, 1 toolbox, 6.9ms\n",
            "image 291/2096 /content/unzipped_images/13431.png: 640x224 1 ac, 1 ensuite, 1 tbb, 1 toolbox, 6.1ms\n",
            "image 292/2096 /content/unzipped_images/13432.png: 640x224 1 ac, 1 ensuite, 1 tbb, 1 toolbox, 6.2ms\n",
            "image 293/2096 /content/unzipped_images/13433.png: 640x224 1 ac, 1 ensuite, 1 tbb, 1 toolbox, 6.1ms\n",
            "image 294/2096 /content/unzipped_images/13437.png: 640x256 1 ac, 2 ensuites, 1 tbb, 7.6ms\n",
            "image 295/2096 /content/unzipped_images/13439.png: 640x224 1 ac, 1 ensuite, 1 tbb, 1 toolbox, 7.0ms\n",
            "image 296/2096 /content/unzipped_images/13440.png: 640x224 1 ac, 1 ensuite, 1 tbb, 1 toolbox, 6.1ms\n",
            "image 297/2096 /content/unzipped_images/13441.png: 640x224 1 ac, 1 ensuite, 1 tbb, 1 toolbox, 6.4ms\n",
            "image 298/2096 /content/unzipped_images/13442.png: 640x224 1 ac, 1 ensuite, 1 tbb, 1 toolbox, 6.1ms\n",
            "image 299/2096 /content/unzipped_images/13443.png: 640x224 1 ac, 1 ensuite, 1 tbb, 1 toolbox, 6.1ms\n",
            "image 300/2096 /content/unzipped_images/13444.png: 640x288 1 ac, 1 ensuite, 1 tbb, 7.1ms\n",
            "image 301/2096 /content/unzipped_images/13445.png: 640x224 1 ac, 1 ensuite, 1 tbb, 1 toolbox, 7.0ms\n",
            "image 302/2096 /content/unzipped_images/13447.png: 640x224 1 ac, 1 ensuite, 1 tbb, 1 toolbox, 6.3ms\n",
            "image 303/2096 /content/unzipped_images/13448.png: 640x256 1 ac, 1 ensuite, 1 tbb, 1 toolbox, 7.3ms\n",
            "image 304/2096 /content/unzipped_images/13449.png: 640x224 1 ac, 1 ensuite, 1 tbb, 1 toolbox, 7.0ms\n",
            "image 305/2096 /content/unzipped_images/13450.png: 640x256 1 ac, 1 ensuite, 1 tbb, 1 toolbox, 6.9ms\n",
            "image 306/2096 /content/unzipped_images/13452.png: 640x224 1 ac, 1 ensuite, 1 tbb, 1 toolbox, 7.0ms\n",
            "image 307/2096 /content/unzipped_images/13453.png: 640x256 1 ac, 1 ensuite, 1 tbb, 7.2ms\n",
            "image 308/2096 /content/unzipped_images/13454.png: 640x192 1 ac, 1 ensuite, 1 tbb, 1 toolbox, 7.2ms\n",
            "image 309/2096 /content/unzipped_images/13455.png: 640x192 1 ensuite, 1 tbb, 1 toolbox, 6.2ms\n",
            "image 310/2096 /content/unzipped_images/13457.png: 640x224 1 ac, 1 tbb, 1 toolbox, 6.5ms\n",
            "image 311/2096 /content/unzipped_images/13458.png: 640x224 1 ac, 1 ensuite, 1 tbb, 1 toolbox, 7.3ms\n",
            "image 312/2096 /content/unzipped_images/13464.png: 640x256 1 ac, 1 ensuite, 1 tbb, 1 toolbox, 7.1ms\n",
            "image 313/2096 /content/unzipped_images/13465.png: 640x224 1 ac, 1 ensuite, 1 tbb, 1 toolbox, 6.7ms\n",
            "image 314/2096 /content/unzipped_images/13466.png: 640x256 1 ac, 1 ensuite, 1 tbb, 1 toolbox, 6.8ms\n",
            "image 315/2096 /content/unzipped_images/13467.png: 640x192 1 ac, 1 ensuite, 1 tbb, 1 toolbox, 6.7ms\n",
            "image 316/2096 /content/unzipped_images/13468.png: 640x224 1 ac, 1 ensuite, 1 tbb, 1 toolbox, 6.8ms\n",
            "image 317/2096 /content/unzipped_images/13470.png: 640x192 1 ac, 1 ensuite, 1 tbb, 1 toolbox, 6.8ms\n",
            "image 318/2096 /content/unzipped_images/13471.png: 640x224 1 ac, 1 ensuite, 1 tbb, 1 toolbox, 6.6ms\n",
            "image 319/2096 /content/unzipped_images/13473.png: 640x256 1 ac, 1 ensuite, 1 tbb, 1 toolbox, 6.7ms\n",
            "image 320/2096 /content/unzipped_images/13475.png: 640x288 1 ac, 1 ensuite, 1 tbb, 1 toolbox, 7.8ms\n",
            "image 321/2096 /content/unzipped_images/13476.png: 640x288 1 ac, 1 ensuite, 1 tbb, 1 toolbox, 6.6ms\n",
            "image 322/2096 /content/unzipped_images/13477.png: 640x224 1 ac, 1 ensuite, 1 tbb, 1 toolbox, 6.7ms\n",
            "image 323/2096 /content/unzipped_images/13478.png: 640x224 1 ac, 1 ensuite, 1 tbb, 1 toolbox, 6.1ms\n",
            "image 324/2096 /content/unzipped_images/13479.png: 640x192 1 ac, 1 ensuite, 1 tbb, 1 toolbox, 7.9ms\n",
            "image 325/2096 /content/unzipped_images/13480.png: 640x288 1 ac, 1 ensuite, 1 tbb, 2 toolboxs, 7.1ms\n",
            "image 326/2096 /content/unzipped_images/13481.png: 640x224 1 ac, 1 ensuite, 1 tbb, 1 toolbox, 7.1ms\n",
            "image 327/2096 /content/unzipped_images/13482.png: 640x224 1 ac, 1 ensuite, 1 tbb, 1 toolbox, 6.0ms\n",
            "image 328/2096 /content/unzipped_images/13483.png: 640x192 1 ac, 1 ensuite, 1 tbb, 1 toolbox, 7.2ms\n",
            "image 329/2096 /content/unzipped_images/13484.png: 640x224 1 ac, 1 ensuite, 1 tbb, 1 toolbox, 7.1ms\n",
            "image 330/2096 /content/unzipped_images/13485.png: 640x288 1 ac, 1 ensuite, 1 tbb, 1 toolbox, 7.0ms\n",
            "image 331/2096 /content/unzipped_images/13486.png: 640x224 1 ac, 1 ensuite, 1 tbb, 1 toolbox, 6.8ms\n",
            "image 332/2096 /content/unzipped_images/13487.png: 640x288 1 ac, 1 ensuite, 1 tbb, 1 toolbox, 7.0ms\n",
            "image 333/2096 /content/unzipped_images/13488.png: 640x224 1 ac, 1 ensuite, 1 tbb, 1 toolbox, 6.9ms\n",
            "image 334/2096 /content/unzipped_images/13490.png: 640x224 1 ac, 1 ensuite, 1 tbb, 1 toolbox, 6.0ms\n",
            "image 335/2096 /content/unzipped_images/13491.png: 640x288 1 ac, 1 ensuite, 1 tbb, 1 toolbox, 7.0ms\n",
            "image 336/2096 /content/unzipped_images/13492.png: 640x224 1 ac, 1 ensuite, 1 tbb, 1 toolbox, 6.7ms\n",
            "image 337/2096 /content/unzipped_images/13494.png: 640x224 1 ac, 1 ensuite, 1 tbb, 1 toolbox, 6.2ms\n",
            "image 338/2096 /content/unzipped_images/13496.png: 640x224 1 ac, 1 ensuite, 1 tbb, 1 toolbox, 6.3ms\n",
            "image 339/2096 /content/unzipped_images/13497.png: 640x224 1 ac, 1 ensuite, 1 tbb, 1 toolbox, 6.1ms\n",
            "image 340/2096 /content/unzipped_images/13498.png: 640x224 1 ac, 1 ensuite, 1 tbb, 1 toolbox, 6.0ms\n",
            "image 341/2096 /content/unzipped_images/13499.png: 640x192 1 ac, 1 ensuite, 1 tbb, 1 toolbox, 6.9ms\n",
            "image 342/2096 /content/unzipped_images/13501.png: 640x192 1 ac, 1 ensuite, 1 tbb, 1 toolbox, 6.4ms\n",
            "image 343/2096 /content/unzipped_images/13503.png: 640x224 1 ac, 1 ensuite, 1 tbb, 1 toolbox, 7.0ms\n",
            "image 344/2096 /content/unzipped_images/13505.png: 640x256 1 ac, 1 ensuite, 1 tbb, 1 toolbox, 6.7ms\n",
            "image 345/2096 /content/unzipped_images/13508.png: 640x256 1 ac, 1 ensuite, 1 tbb, 1 toolbox, 6.4ms\n",
            "image 346/2096 /content/unzipped_images/13509.png: 640x288 1 ac, 1 ensuite, 1 tbb, 1 toolbox, 7.2ms\n",
            "image 347/2096 /content/unzipped_images/13510.png: 640x224 1 ac, 1 ensuite, 1 tbb, 1 toolbox, 7.2ms\n",
            "image 348/2096 /content/unzipped_images/13513.png: 640x224 1 ac, 1 ensuite, 1 tbb, 1 toolbox, 6.9ms\n",
            "image 349/2096 /content/unzipped_images/13514.png: 640x224 1 ac, 1 ensuite, 1 tbb, 1 toolbox, 6.8ms\n",
            "image 350/2096 /content/unzipped_images/13516.png: 640x224 1 ac, 1 ensuite, 1 tbb, 1 toolbox, 6.6ms\n",
            "image 351/2096 /content/unzipped_images/13517.png: 640x256 1 ac, 1 ensuite, 1 tbb, 1 toolbox, 6.8ms\n",
            "image 352/2096 /content/unzipped_images/13520.png: 640x256 1 ac, 1 ensuite, 1 tbb, 6.1ms\n",
            "image 353/2096 /content/unzipped_images/13525.png: 640x224 1 ac, 1 ensuite, 1 tbb, 1 toolbox, 7.0ms\n",
            "image 354/2096 /content/unzipped_images/13526.png: 640x224 1 ac, 1 ensuite, 1 tbb, 1 toolbox, 6.3ms\n",
            "image 355/2096 /content/unzipped_images/13529.png: 640x224 1 ac, 1 ensuite, 1 tbb, 1 toolbox, 6.1ms\n",
            "image 356/2096 /content/unzipped_images/13531.png: 640x192 1 ac, 1 ensuite, 1 tbb, 1 toolbox, 6.9ms\n",
            "image 357/2096 /content/unzipped_images/13532.png: 640x256 1 ac, 1 ensuite, 1 tbb, 1 toolbox, 6.9ms\n",
            "image 358/2096 /content/unzipped_images/13533.png: 640x224 1 ac, 1 ensuite, 1 tbb, 1 toolbox, 6.7ms\n",
            "image 359/2096 /content/unzipped_images/13534.png: 640x288 1 ac, 1 ensuite, 1 tbb, 1 toolbox, 7.3ms\n",
            "image 360/2096 /content/unzipped_images/13535.png: 640x224 1 ac, 1 ensuite, 1 tbb, 1 toolbox, 6.6ms\n",
            "image 361/2096 /content/unzipped_images/13536.png: 640x192 1 ac, 1 ensuite, 1 tbb, 1 toolbox, 6.8ms\n",
            "image 362/2096 /content/unzipped_images/13537.png: 640x192 1 ac, 1 ensuite, 1 tbb, 1 toolbox, 6.1ms\n",
            "image 363/2096 /content/unzipped_images/13538.png: 640x224 1 ac, 1 ensuite, 1 tbb, 1 toolbox, 7.1ms\n",
            "image 364/2096 /content/unzipped_images/13539.png: 640x288 1 ac, 1 ensuite, 1 tbb, 1 toolbox, 7.0ms\n",
            "image 365/2096 /content/unzipped_images/13540.png: 640x288 1 ac, 1 ensuite, 1 tbb, 6.2ms\n",
            "image 366/2096 /content/unzipped_images/13541.png: 640x224 1 ac, 1 ensuite, 1 tbb, 1 toolbox, 6.7ms\n",
            "image 367/2096 /content/unzipped_images/13542.png: 640x224 1 ac, 1 ensuite, 1 tbb, 1 toolbox, 6.0ms\n",
            "image 368/2096 /content/unzipped_images/13543.png: 640x224 1 ac, 1 ensuite, 1 tbb, 1 toolbox, 6.1ms\n",
            "image 369/2096 /content/unzipped_images/13544.png: 640x288 1 ac, 1 ensuite, 1 tbb, 7.3ms\n",
            "image 370/2096 /content/unzipped_images/13546.png: 640x224 1 ac, 1 ensuite, 1 tbb, 6.6ms\n",
            "image 371/2096 /content/unzipped_images/13547.png: 640x224 1 ac, 1 ensuite, 1 tbb, 1 toolbox, 6.6ms\n",
            "image 372/2096 /content/unzipped_images/13549.png: 640x256 1 ac, 1 ensuite, 1 tbb, 1 toolbox, 6.9ms\n",
            "image 373/2096 /content/unzipped_images/13550.png: 640x224 1 ac, 1 ensuite, 1 tbb, 6.6ms\n",
            "image 374/2096 /content/unzipped_images/13551.png: 640x256 1 ac, 1 ensuite, 1 tbb, 1 toolbox, 8.5ms\n",
            "image 375/2096 /content/unzipped_images/13552.png: 640x224 1 ac, 1 ensuite, 1 tbb, 8.9ms\n",
            "image 376/2096 /content/unzipped_images/13565.png: 640x256 1 ac, 1 ensuite, 1 tbb, 1 toolbox, 8.2ms\n",
            "image 377/2096 /content/unzipped_images/13572.png: 640x192 1 ac, 1 ensuite, 1 tbb, 1 toolbox, 7.1ms\n",
            "image 378/2096 /content/unzipped_images/13574.png: 640x288 1 ac, 1 ensuite, 1 tbb, 7.5ms\n",
            "image 379/2096 /content/unzipped_images/13575.png: 640x288 1 ac, 1 ensuite, 1 tbb, 1 toolbox, 6.7ms\n",
            "image 380/2096 /content/unzipped_images/13581.png: 640x256 1 ac, 1 ensuite, 1 tbb, 1 toolbox, 7.7ms\n",
            "image 381/2096 /content/unzipped_images/13583.png: 640x256 1 ac, 1 ensuite, 1 tbb, 1 toolbox, 7.0ms\n",
            "image 382/2096 /content/unzipped_images/13585.png: 640x224 1 ac, 1 ensuite, 1 tbb, 1 toolbox, 7.3ms\n",
            "image 383/2096 /content/unzipped_images/13587.png: 640x224 1 ac, 1 ensuite, 1 tbb, 1 toolbox, 6.6ms\n",
            "image 384/2096 /content/unzipped_images/13595.png: 640x224 2 acs, 1 ensuite, 2 tbbs, 6.6ms\n",
            "image 385/2096 /content/unzipped_images/13598.png: 640x288 1 ac, 1 ensuite, 1 tbb, 2 toolboxs, 7.3ms\n",
            "image 386/2096 /content/unzipped_images/13599.png: 640x224 1 ac, 1 ensuite, 1 tbb, 1 toolbox, 6.7ms\n",
            "image 387/2096 /content/unzipped_images/13601.png: 640x224 1 ac, 1 ensuite, 6.6ms\n",
            "image 388/2096 /content/unzipped_images/13602.png: 640x224 1 ac, 1 ensuite, 1 tbb, 1 toolbox, 6.2ms\n",
            "image 389/2096 /content/unzipped_images/13603.png: 640x224 1 ac, 1 ensuite, 1 tbb, 1 toolbox, 6.2ms\n",
            "image 390/2096 /content/unzipped_images/13604.png: 640x192 1 ac, 1 ensuite, 1 tbb, 1 toolbox, 7.1ms\n",
            "image 391/2096 /content/unzipped_images/13605.png: 640x224 1 ac, 1 ensuite, 1 tbb, 1 toolbox, 6.8ms\n",
            "image 392/2096 /content/unzipped_images/13606.png: 640x224 1 ac, 1 ensuite, 1 tbb, 1 toolbox, 6.0ms\n",
            "image 393/2096 /content/unzipped_images/13607.png: 640x192 1 ac, 7.1ms\n",
            "image 394/2096 /content/unzipped_images/13608.png: 640x192 1 ac, 1 ensuite, 1 tbb, 1 toolbox, 6.4ms\n",
            "image 395/2096 /content/unzipped_images/13610.png: 640x192 1 ac, 1 ensuite, 1 tbb, 1 toolbox, 6.1ms\n",
            "image 396/2096 /content/unzipped_images/13615.png: 640x224 1 ac, 1 ensuite, 1 tbb, 1 toolbox, 8.0ms\n",
            "image 397/2096 /content/unzipped_images/13616.png: 640x224 1 ac, 1 ensuite, 1 toolbox, 7.0ms\n",
            "image 398/2096 /content/unzipped_images/13619.png: 640x224 1 ac, 1 ensuite, 1 tbb, 1 toolbox, 6.5ms\n",
            "image 399/2096 /content/unzipped_images/13620.png: 640x224 1 ac, 1 ensuite, 1 tbb, 1 toolbox, 6.5ms\n",
            "image 400/2096 /content/unzipped_images/13621.png: 640x224 1 ac, 1 ensuite, 1 tbb, 1 toolbox, 6.6ms\n",
            "image 401/2096 /content/unzipped_images/13622.png: 640x224 1 ac, 1 ensuite, 1 tbb, 1 toolbox, 6.3ms\n",
            "image 402/2096 /content/unzipped_images/13623.png: 640x288 1 ac, 1 ensuite, 1 tbb, 1 toolbox, 7.1ms\n",
            "image 403/2096 /content/unzipped_images/13624.png: 640x224 1 ac, 1 ensuite, 1 tbb, 1 toolbox, 6.9ms\n",
            "image 404/2096 /content/unzipped_images/13625.png: 640x224 1 ac, 1 ensuite, 1 tbb, 1 toolbox, 6.0ms\n",
            "image 405/2096 /content/unzipped_images/13627.png: 640x224 1 ac, 1 ensuite, 1 tbb, 1 toolbox, 6.1ms\n",
            "image 406/2096 /content/unzipped_images/13628.png: 640x224 1 ac, 1 ensuite, 1 toolbox, 5.9ms\n",
            "image 407/2096 /content/unzipped_images/13632.png: 640x192 1 ac, 1 tbb, 1 toolbox, 7.0ms\n",
            "image 408/2096 /content/unzipped_images/13633.png: 640x192 1 ac, 1 ensuite, 1 tbb, 1 toolbox, 6.3ms\n",
            "image 409/2096 /content/unzipped_images/13634.png: 640x224 1 ac, 1 ensuite, 1 tbb, 1 toolbox, 7.1ms\n",
            "image 410/2096 /content/unzipped_images/13636.png: 640x224 1 ac, 1 ensuite, 1 tbb, 1 toolbox, 6.5ms\n",
            "image 411/2096 /content/unzipped_images/13637.png: 640x224 1 ac, 1 ensuite, 1 tbb, 1 toolbox, 6.5ms\n",
            "image 412/2096 /content/unzipped_images/13640.png: 640x256 1 ac, 1 ensuite, 1 tbb, 1 toolbox, 7.1ms\n",
            "image 413/2096 /content/unzipped_images/13642.png: 640x224 1 ac, 1 ensuite, 1 tbb, 1 toolbox, 7.2ms\n",
            "image 414/2096 /content/unzipped_images/13645.png: 640x224 1 ac, 1 ensuite, 1 tbb, 6.3ms\n",
            "image 415/2096 /content/unzipped_images/13646.png: 640x256 1 ac, 1 ensuite, 1 tbb, 1 toolbox, 7.1ms\n",
            "image 416/2096 /content/unzipped_images/13649.png: 640x192 1 ac, 1 ensuite, 2 tbbs, 1 toolbox, 6.8ms\n",
            "image 417/2096 /content/unzipped_images/13650.png: 640x224 1 ac, 1 ensuite, 1 tbb, 1 toolbox, 8.3ms\n",
            "image 418/2096 /content/unzipped_images/13651.png: 640x224 1 ac, 1 tbb, 1 toolbox, 6.3ms\n",
            "image 419/2096 /content/unzipped_images/13652.png: 640x224 1 ac, 1 ensuite, 1 tbb, 1 toolbox, 6.2ms\n",
            "image 420/2096 /content/unzipped_images/13654.png: 640x224 1 ac, 1 ensuite, 1 tbb, 1 toolbox, 6.1ms\n",
            "image 421/2096 /content/unzipped_images/13655.png: 640x224 1 ac, 1 ensuite, 1 tbb, 1 toolbox, 6.7ms\n",
            "image 422/2096 /content/unzipped_images/13656.png: 640x288 1 ensuite, 1 tbb, 1 toolbox, 7.6ms\n",
            "image 423/2096 /content/unzipped_images/13657.png: 640x288 1 ac, 1 ensuite, 1 tbb, 1 toolbox, 6.5ms\n",
            "image 424/2096 /content/unzipped_images/13658.png: 640x224 1 ac, 1 ensuite, 1 toolbox, 7.0ms\n",
            "image 425/2096 /content/unzipped_images/13662.png: 640x224 1 ac, 1 ensuite, 1 tbb, 6.4ms\n",
            "image 426/2096 /content/unzipped_images/13663.png: 640x192 1 ac, 1 ensuite, 1 tbb, 1 toolbox, 7.3ms\n",
            "image 427/2096 /content/unzipped_images/13665.png: 640x256 1 ac, 1 ensuite, 1 tbb, 1 toolbox, 7.1ms\n",
            "image 428/2096 /content/unzipped_images/13666.png: 640x224 1 ac, 1 ensuite, 1 tbb, 1 toolbox, 7.9ms\n",
            "image 429/2096 /content/unzipped_images/13667.png: 640x224 1 ac, 1 ensuite, 1 tbb, 1 toolbox, 7.7ms\n",
            "image 430/2096 /content/unzipped_images/13668.png: 640x224 1 ac, 1 ensuite, 1 tbb, 1 toolbox, 6.6ms\n",
            "image 431/2096 /content/unzipped_images/13669.png: 640x224 1 ac, 1 ensuite, 1 tbb, 1 toolbox, 10.2ms\n",
            "image 432/2096 /content/unzipped_images/13670.png: 640x224 1 ac, 1 ensuite, 1 tbb, 1 toolbox, 7.9ms\n",
            "image 433/2096 /content/unzipped_images/13672.png: 640x192 1 ac, 1 ensuite, 1 tbb, 1 toolbox, 7.6ms\n",
            "image 434/2096 /content/unzipped_images/13673.png: 640x224 1 ac, 1 ensuite, 1 tbb, 1 toolbox, 7.3ms\n",
            "image 435/2096 /content/unzipped_images/13680.png: 640x224 1 ac, 1 ensuite, 1 tbb, 1 toolbox, 6.1ms\n",
            "image 436/2096 /content/unzipped_images/13702.png: 640x224 1 ac, 1 ensuite, 1 tbb, 1 toolbox, 6.2ms\n",
            "image 437/2096 /content/unzipped_images/13704.png: 640x224 1 ac, 1 ensuite, 1 tbb, 8.0ms\n",
            "image 438/2096 /content/unzipped_images/13705.png: 640x224 1 ac, 1 ensuite, 1 tbb, 2 toolboxs, 6.1ms\n",
            "image 439/2096 /content/unzipped_images/13706.png: 640x256 1 ac, 1 ensuite, 1 tbb, 1 toolbox, 8.8ms\n",
            "image 440/2096 /content/unzipped_images/13707.png: 640x256 1 ac, 1 ensuite, 1 tbb, 1 toolbox, 6.1ms\n",
            "image 441/2096 /content/unzipped_images/13708.png: 640x256 1 ac, 1 ensuite, 1 tbb, 1 toolbox, 6.1ms\n",
            "image 442/2096 /content/unzipped_images/13709.png: 640x288 1 ac, 1 ensuite, 1 tbb, 1 toolbox, 7.2ms\n",
            "image 443/2096 /content/unzipped_images/13712.png: 640x224 1 ac, 1 ensuite, 1 tbb, 6.7ms\n",
            "image 444/2096 /content/unzipped_images/13713.png: 640x256 1 ac, 1 ensuite, 1 tbb, 1 toolbox, 7.0ms\n",
            "image 445/2096 /content/unzipped_images/13714.png: 640x288 1 ac, 1 ensuite, 1 tbb, 1 toolbox, 7.1ms\n",
            "image 446/2096 /content/unzipped_images/13716.png: 640x224 1 ac, 1 ensuite, 1 tbb, 6.7ms\n",
            "image 447/2096 /content/unzipped_images/13717.png: 640x192 1 ac, 1 ensuite, 1 tbb, 1 toolbox, 6.7ms\n",
            "image 448/2096 /content/unzipped_images/13718.png: 640x288 1 ac, 1 ensuite, 1 tbb, 1 toolbox, 7.2ms\n",
            "image 449/2096 /content/unzipped_images/13719.png: 640x224 1 ac, 1 ensuite, 1 tbb, 1 toolbox, 8.6ms\n",
            "image 450/2096 /content/unzipped_images/13720.png: 640x224 1 ac, 1 ensuite, 1 tbb, 1 toolbox, 6.2ms\n",
            "image 451/2096 /content/unzipped_images/13721.png: 640x256 1 ac, 1 ensuite, 1 tbb, 1 toolbox, 7.2ms\n",
            "image 452/2096 /content/unzipped_images/13722.png: 640x224 1 ac, 1 ensuite, 1 tbb, 7.4ms\n",
            "image 453/2096 /content/unzipped_images/13723.png: 640x224 1 ac, 1 ensuite, 1 tbb, 1 toolbox, 6.5ms\n",
            "image 454/2096 /content/unzipped_images/13725.png: 640x288 1 ac, 1 ensuite, 1 tbb, 7.5ms\n",
            "image 455/2096 /content/unzipped_images/13726.png: 640x256 1 ac, 1 ensuite, 1 tbb, 1 toolbox, 7.3ms\n",
            "image 456/2096 /content/unzipped_images/13727.png: 640x192 1 ac, 1 ensuite, 1 tbb, 1 toolbox, 6.8ms\n",
            "image 457/2096 /content/unzipped_images/13728.png: 640x224 1 ac, 1 ensuite, 1 tbb, 1 toolbox, 6.6ms\n",
            "image 458/2096 /content/unzipped_images/13730.png: 640x224 1 ac, 1 ensuite, 1 tbb, 1 toolbox, 6.8ms\n",
            "image 459/2096 /content/unzipped_images/13731.png: 640x224 1 ac, 1 ensuite, 1 toolbox, 6.0ms\n",
            "image 460/2096 /content/unzipped_images/13732.png: 640x192 1 ac, 1 ensuite, 1 tbb, 1 toolbox, 6.9ms\n",
            "image 461/2096 /content/unzipped_images/13733.png: 640x256 1 ac, 1 ensuite, 1 tbb, 7.7ms\n",
            "image 462/2096 /content/unzipped_images/13734.png: 640x224 1 ac, 1 ensuite, 1 tbb, 1 toolbox, 6.9ms\n",
            "image 463/2096 /content/unzipped_images/13736.png: 640x224 1 ac, 1 ensuite, 1 tbb, 6.4ms\n",
            "image 464/2096 /content/unzipped_images/13737.png: 640x192 1 ac, 1 ensuite, 1 tbb, 1 toolbox, 9.1ms\n",
            "image 465/2096 /content/unzipped_images/13739.png: 640x192 1 ac, 1 ensuite, 1 tbb, 1 toolbox, 6.2ms\n",
            "image 466/2096 /content/unzipped_images/13742.png: 640x288 1 ac, 1 ensuite, 1 tbb, 1 toolbox, 7.0ms\n",
            "image 467/2096 /content/unzipped_images/13743.png: 640x224 1 ac, 1 ensuite, 1 tbb, 1 toolbox, 6.9ms\n",
            "image 468/2096 /content/unzipped_images/13744.png: 640x256 1 ac, 1 ensuite, 1 tbb, 1 toolbox, 7.5ms\n",
            "image 469/2096 /content/unzipped_images/13746.png: 640x224 1 ac, 1 ensuite, 1 tbb, 1 toolbox, 7.0ms\n",
            "image 470/2096 /content/unzipped_images/13748.png: 640x256 1 ac, 1 ensuite, 1 tbb, 6.7ms\n",
            "image 471/2096 /content/unzipped_images/13749.png: 640x224 1 ac, 1 ensuite, 1 toolbox, 6.6ms\n",
            "image 472/2096 /content/unzipped_images/13750.png: 640x288 1 ac, 1 ensuite, 1 tbb, 1 toolbox, 9.5ms\n",
            "image 473/2096 /content/unzipped_images/13751.png: 640x288 1 ac, 1 ensuite, 1 tbb, 6.3ms\n",
            "image 474/2096 /content/unzipped_images/13754.png: 640x256 1 ac, 1 ensuite, 1 tbb, 1 toolbox, 8.1ms\n",
            "image 475/2096 /content/unzipped_images/13755.png: 640x224 1 ac, 1 ensuite, 1 tbb, 7.1ms\n",
            "image 476/2096 /content/unzipped_images/13756.png: 640x192 1 ac, 1 ensuite, 1 tbb, 1 toolbox, 7.0ms\n",
            "image 477/2096 /content/unzipped_images/13757.png: 640x224 1 ac, 1 ensuite, 1 tbb, 1 toolbox, 7.0ms\n",
            "image 478/2096 /content/unzipped_images/13758.png: 640x224 1 ac, 1 ensuite, 1 tbb, 6.4ms\n",
            "image 479/2096 /content/unzipped_images/13759.png: 640x224 1 ac, 1 ensuite, 1 tbb, 1 toolbox, 6.3ms\n",
            "image 480/2096 /content/unzipped_images/13760.png: 640x256 1 ac, 1 ensuite, 1 tbb, 1 toolbox, 9.6ms\n",
            "image 481/2096 /content/unzipped_images/13761.png: 640x256 1 ac, 1 ensuite, 1 tbb, 1 toolbox, 6.2ms\n",
            "image 482/2096 /content/unzipped_images/13762.png: 640x224 1 ac, 1 ensuite, 1 toolbox, 6.8ms\n",
            "image 483/2096 /content/unzipped_images/13763.png: 640x256 1 ac, 1 ensuite, 1 tbb, 1 toolbox, 6.9ms\n",
            "image 484/2096 /content/unzipped_images/13764.png: 640x224 1 ac, 1 ensuite, 1 tbb, 1 toolbox, 7.0ms\n",
            "image 485/2096 /content/unzipped_images/13765.png: 640x224 1 ac, 1 ensuite, 1 tbb, 1 toolbox, 6.1ms\n",
            "image 486/2096 /content/unzipped_images/13767.png: 640x224 1 ac, 1 ensuite, 1 tbb, 1 toolbox, 6.2ms\n",
            "image 487/2096 /content/unzipped_images/13768.png: 640x224 1 ac, 1 ensuite, 1 tbb, 1 toolbox, 6.1ms\n",
            "image 488/2096 /content/unzipped_images/13770.png: 640x224 1 ac, 1 ensuite, 1 tbb, 1 toolbox, 6.2ms\n",
            "image 489/2096 /content/unzipped_images/13779.png: 640x224 1 ac, 1 ensuite, 1 tbb, 1 toolbox, 5.9ms\n",
            "image 490/2096 /content/unzipped_images/13780.png: 640x224 1 ac, 1 ensuite, 1 tbb, 1 toolbox, 6.0ms\n",
            "image 491/2096 /content/unzipped_images/13781.png: 640x224 1 ac, 1 ensuite, 1 toolbox, 6.4ms\n",
            "image 492/2096 /content/unzipped_images/13783.png: 640x224 1 ac, 1 ensuite, 1 tbb, 1 toolbox, 6.2ms\n",
            "image 493/2096 /content/unzipped_images/13784.png: 640x224 1 ac, 1 ensuite, 1 tbb, 1 toolbox, 6.5ms\n",
            "image 494/2096 /content/unzipped_images/13785.png: 640x192 1 ac, 1 ensuite, 1 tbb, 1 toolbox, 7.4ms\n",
            "image 495/2096 /content/unzipped_images/13791.png: 640x256 1 ac, 1 ensuite, 1 tbb, 1 toolbox, 6.9ms\n",
            "image 496/2096 /content/unzipped_images/13804.png: 640x224 1 ac, 1 ensuite, 1 tbb, 1 toolbox, 7.0ms\n",
            "image 497/2096 /content/unzipped_images/13806.png: 640x256 1 ac, 1 ensuite, 1 tbb, 1 toolbox, 7.1ms\n",
            "image 498/2096 /content/unzipped_images/13810.png: 640x256 1 ac, 1 ensuite, 1 tbb, 1 toolbox, 6.2ms\n",
            "image 499/2096 /content/unzipped_images/13811.png: 640x224 1 ac, 1 ensuite, 1 tbb, 1 toolbox, 7.8ms\n",
            "image 500/2096 /content/unzipped_images/13812.png: 640x224 1 ac, 1 ensuite, 1 tbb, 1 toolbox, 7.0ms\n",
            "image 501/2096 /content/unzipped_images/13813.png: 640x224 1 ac, 1 ensuite, 1 tbb, 1 toolbox, 5.9ms\n",
            "image 502/2096 /content/unzipped_images/13814.png: 640x224 1 ac, 1 ensuite, 1 tbb, 1 toolbox, 6.2ms\n",
            "image 503/2096 /content/unzipped_images/13815.png: 640x288 1 ac, 1 ensuite, 1 tbb, 7.3ms\n",
            "image 504/2096 /content/unzipped_images/13816.png: 640x256 1 ac, 1 ensuite, 1 tbb, 6.8ms\n",
            "image 505/2096 /content/unzipped_images/13817.png: 640x288 1 ac, 1 ensuite, 1 tbb, 7.5ms\n",
            "image 506/2096 /content/unzipped_images/13818.png: 640x224 1 ac, 1 ensuite, 1 tbb, 1 toolbox, 6.8ms\n",
            "image 507/2096 /content/unzipped_images/13819.png: 640x224 1 ac, 1 ensuite, 1 tbb, 1 toolbox, 6.2ms\n",
            "image 508/2096 /content/unzipped_images/13820.png: 640x128 (no detections), 7.1ms\n",
            "image 509/2096 /content/unzipped_images/13821.png: 640x192 1 ac, 1 tbb, 1 toolbox, 8.5ms\n",
            "image 510/2096 /content/unzipped_images/13822.png: 640x256 1 tbb, 6.9ms\n",
            "image 511/2096 /content/unzipped_images/13823.png: 640x224 1 ac, 1 ensuite, 1 tbb, 1 toolbox, 7.2ms\n",
            "image 512/2096 /content/unzipped_images/13825.png: 640x256 1 ac, 1 ensuite, 1 tbb, 1 toolbox, 7.3ms\n",
            "image 513/2096 /content/unzipped_images/13826.png: 640x224 1 ac, 1 ensuite, 1 tbb, 1 toolbox, 8.3ms\n",
            "image 514/2096 /content/unzipped_images/13827.png: 640x224 1 ac, 1 ensuite, 1 tbb, 1 toolbox, 7.7ms\n",
            "image 515/2096 /content/unzipped_images/13832.png: 640x224 1 ac, 1 toolbox, 6.2ms\n",
            "image 516/2096 /content/unzipped_images/13834.png: 640x288 1 ac, 1 ensuite, 1 tbb, 7.1ms\n",
            "image 517/2096 /content/unzipped_images/13835.png: 640x288 1 ac, 1 ensuite, 1 tbb, 1 toolbox, 6.3ms\n",
            "image 518/2096 /content/unzipped_images/13836.png: 640x224 1 ac, 1 ensuite, 1 tbb, 1 toolbox, 7.0ms\n",
            "image 519/2096 /content/unzipped_images/13838.png: 640x288 1 ac, 1 ensuite, 1 tbb, 1 toolbox, 7.3ms\n",
            "image 520/2096 /content/unzipped_images/13840.png: 640x224 1 ac, 1 ensuite, 1 tbb, 1 toolbox, 6.6ms\n",
            "image 521/2096 /content/unzipped_images/13841.png: 640x224 1 ac, 1 tbb, 1 toolbox, 6.2ms\n",
            "image 522/2096 /content/unzipped_images/13843.png: 640x224 1 ac, 1 ensuite, 1 tbb, 1 toolbox, 6.2ms\n",
            "image 523/2096 /content/unzipped_images/13844.png: 640x224 1 ac, 1 ensuite, 1 tbb, 1 toolbox, 6.2ms\n",
            "image 524/2096 /content/unzipped_images/13845.png: 640x192 1 ac, 1 ensuite, 1 toolbox, 6.8ms\n",
            "image 525/2096 /content/unzipped_images/13850.png: 640x288 1 ac, 1 ensuite, 1 tbb, 1 toolbox, 9.4ms\n",
            "image 526/2096 /content/unzipped_images/13851.png: 640x224 1 ac, 1 ensuite, 1 tbb, 1 toolbox, 6.7ms\n",
            "image 527/2096 /content/unzipped_images/13852.png: 640x224 1 ac, 1 ensuite, 1 toolbox, 6.1ms\n",
            "image 528/2096 /content/unzipped_images/13853.png: 640x192 1 ac, 1 ensuite, 1 tbb, 1 toolbox, 9.9ms\n",
            "image 529/2096 /content/unzipped_images/13854.png: 640x192 1 ac, 1 ensuite, 1 tbb, 1 toolbox, 5.9ms\n",
            "image 530/2096 /content/unzipped_images/13855.png: 640x192 1 ac, 1 ensuite, 1 tbb, 1 toolbox, 6.5ms\n",
            "image 531/2096 /content/unzipped_images/13856.png: 640x288 1 ac, 1 ensuite, 1 tbb, 1 toolbox, 7.3ms\n",
            "image 532/2096 /content/unzipped_images/13857.png: 640x224 1 ac, 1 tbb, 1 toolbox, 6.6ms\n",
            "image 533/2096 /content/unzipped_images/13858.png: 640x224 1 ac, 1 ensuite, 1 tbb, 1 toolbox, 6.0ms\n",
            "image 534/2096 /content/unzipped_images/13859.png: 640x224 1 ac, 1 ensuite, 1 tbb, 1 toolbox, 6.3ms\n",
            "image 535/2096 /content/unzipped_images/13860.png: 640x224 1 ac, 1 ensuite, 1 tbb, 1 toolbox, 6.0ms\n",
            "image 536/2096 /content/unzipped_images/13861.png: 640x224 1 ac, 1 ensuite, 1 tbb, 1 toolbox, 6.0ms\n",
            "image 537/2096 /content/unzipped_images/13864.png: 640x192 2 acs, 1 ensuite, 1 tbb, 1 toolbox, 7.0ms\n",
            "image 538/2096 /content/unzipped_images/13865.png: 640x224 1 ac, 1 ensuite, 1 tbb, 1 toolbox, 6.6ms\n",
            "image 539/2096 /content/unzipped_images/13866.png: 640x224 1 ac, 1 ensuite, 1 tbb, 1 toolbox, 5.8ms\n",
            "image 540/2096 /content/unzipped_images/13867.png: 640x256 1 ac, 1 ensuite, 1 tbb, 1 toolbox, 6.7ms\n",
            "image 541/2096 /content/unzipped_images/13868.png: 640x288 1 ac, 1 ensuite, 1 tbb, 1 toolbox, 7.1ms\n",
            "image 542/2096 /content/unzipped_images/13918.png: 640x288 1 ac, 1 ensuite, 1 tbb, 1 toolbox, 6.2ms\n",
            "image 543/2096 /content/unzipped_images/14002.png: 640x224 1 ac, 1 ensuite, 1 tbb, 7.0ms\n",
            "image 544/2096 /content/unzipped_images/14014.png: 640x224 1 ac, 1 ensuite, 1 tbb, 1 toolbox, 6.1ms\n",
            "image 545/2096 /content/unzipped_images/14015.png: 640x192 1 ac, 1 ensuite, 1 tbb, 1 toolbox, 7.4ms\n",
            "image 546/2096 /content/unzipped_images/14016.png: 640x288 1 ac, 1 ensuite, 1 tbb, 8.2ms\n",
            "image 547/2096 /content/unzipped_images/14017.png: 640x224 1 ac, 1 ensuite, 1 tbb, 1 toolbox, 7.2ms\n",
            "image 548/2096 /content/unzipped_images/14019.png: 640x224 1 ac, 1 ensuite, 1 tbb, 1 toolbox, 5.9ms\n",
            "image 549/2096 /content/unzipped_images/14020.png: 640x288 1 ac, 1 ensuite, 1 tbb, 1 toolbox, 8.3ms\n",
            "image 550/2096 /content/unzipped_images/14021.png: 640x224 1 ac, 1 ensuite, 1 tbb, 1 toolbox, 9.1ms\n",
            "image 551/2096 /content/unzipped_images/14022.png: 640x224 1 ac, 1 ensuite, 1 tbb, 1 toolbox, 6.2ms\n",
            "image 552/2096 /content/unzipped_images/14023.png: 640x224 1 ac, 1 ensuite, 1 tbb, 1 toolbox, 6.3ms\n",
            "image 553/2096 /content/unzipped_images/14024.png: 640x224 1 ac, 1 ensuite, 1 tbb, 1 toolbox, 6.6ms\n",
            "image 554/2096 /content/unzipped_images/14027.png: 640x224 1 ac, 1 ensuite, 1 tbb, 1 toolbox, 6.2ms\n",
            "image 555/2096 /content/unzipped_images/14028.png: 640x224 1 ac, 1 ensuite, 1 tbb, 1 toolbox, 6.8ms\n",
            "image 556/2096 /content/unzipped_images/14029.png: 640x224 1 ac, 1 ensuite, 1 tbb, 1 toolbox, 6.5ms\n",
            "image 557/2096 /content/unzipped_images/14030.png: 640x224 1 ensuite, 1 tbb, 1 toolbox, 6.3ms\n",
            "image 558/2096 /content/unzipped_images/14031.png: 640x224 1 ac, 1 ensuite, 1 tbb, 1 toolbox, 5.9ms\n",
            "image 559/2096 /content/unzipped_images/14032.png: 640x224 1 ac, 1 ensuite, 1 tbb, 1 toolbox, 6.3ms\n",
            "image 560/2096 /content/unzipped_images/14033.png: 640x224 1 ac, 1 ensuite, 1 tbb, 1 toolbox, 6.8ms\n",
            "image 561/2096 /content/unzipped_images/14034.png: 640x224 1 ac, 1 ensuite, 1 tbb, 1 toolbox, 6.3ms\n",
            "image 562/2096 /content/unzipped_images/14035.png: 640x224 1 ac, 1 ensuite, 1 tbb, 1 toolbox, 6.1ms\n",
            "image 563/2096 /content/unzipped_images/14037.png: 640x224 1 ac, 1 ensuite, 1 tbb, 1 toolbox, 6.2ms\n",
            "image 564/2096 /content/unzipped_images/14038.png: 640x288 1 ac, 1 ensuite, 1 tbb, 7.2ms\n",
            "image 565/2096 /content/unzipped_images/14039.png: 640x224 1 ac, 1 ensuite, 1 tbb, 1 toolbox, 7.0ms\n",
            "image 566/2096 /content/unzipped_images/14040.png: 640x224 1 ac, 1 ensuite, 1 tbb, 1 toolbox, 6.8ms\n",
            "image 567/2096 /content/unzipped_images/14043.png: 640x192 1 ac, 1 ensuite, 1 tbb, 1 toolbox, 7.3ms\n",
            "image 568/2096 /content/unzipped_images/14044.png: 640x192 1 ac, 1 ensuite, 1 tbb, 1 toolbox, 6.4ms\n",
            "image 569/2096 /content/unzipped_images/14045.png: 640x224 1 ac, 1 ensuite, 1 tbb, 7.1ms\n",
            "image 570/2096 /content/unzipped_images/14046.png: 640x192 1 ac, 1 tbb, 1 toolbox, 7.3ms\n",
            "image 571/2096 /content/unzipped_images/14047.png: 640x224 1 ac, 1 ensuite, 1 tbb, 1 toolbox, 6.7ms\n",
            "image 572/2096 /content/unzipped_images/14050.png: 640x288 1 ac, 1 ensuite, 1 tbb, 7.1ms\n",
            "image 573/2096 /content/unzipped_images/14051.png: 640x192 1 ac, 1 ensuite, 1 tbb, 1 toolbox, 7.5ms\n",
            "image 574/2096 /content/unzipped_images/14052.png: 640x224 1 ac, 1 ensuite, 1 tbb, 1 toolbox, 7.0ms\n",
            "image 575/2096 /content/unzipped_images/14053.png: 640x224 1 ac, 1 ensuite, 1 tbb, 1 toolbox, 6.4ms\n",
            "image 576/2096 /content/unzipped_images/14054.png: 640x224 1 ac, 1 ensuite, 1 tbb, 1 toolbox, 6.5ms\n",
            "image 577/2096 /content/unzipped_images/14055.png: 640x224 1 ac, 1 ensuite, 1 tbb, 1 toolbox, 5.9ms\n",
            "image 578/2096 /content/unzipped_images/14056.png: 640x224 1 ac, 1 ensuite, 1 tbb, 1 toolbox, 6.1ms\n",
            "image 579/2096 /content/unzipped_images/14057.png: 640x224 1 ac, 1 ensuite, 1 tbb, 1 toolbox, 6.0ms\n",
            "image 580/2096 /content/unzipped_images/14058.png: 640x224 1 ac, 1 ensuite, 1 tbb, 1 toolbox, 6.2ms\n",
            "image 581/2096 /content/unzipped_images/14059.png: 640x224 1 ac, 1 ensuite, 1 tbb, 1 toolbox, 6.3ms\n",
            "image 582/2096 /content/unzipped_images/14060.png: 640x192 1 ac, 1 toolbox, 6.6ms\n",
            "image 583/2096 /content/unzipped_images/14069.png: 640x256 1 ac, 1 ensuite, 1 toolbox, 7.6ms\n",
            "image 584/2096 /content/unzipped_images/14094.png: 416x640 1 ac, 1 ensuite, 1 tbb, 1 toolbox, 7.3ms\n",
            "image 585/2096 /content/unzipped_images/14095.png: 640x224 1 ac, 1 ensuite, 1 tbb, 1 toolbox, 6.9ms\n",
            "image 586/2096 /content/unzipped_images/14111.png: 640x224 1 ac, 1 ensuite, 1 tbb, 1 toolbox, 6.6ms\n",
            "image 587/2096 /content/unzipped_images/14113.png: 640x224 1 ac, 1 ensuite, 1 tbb, 1 toolbox, 6.2ms\n",
            "image 588/2096 /content/unzipped_images/14116.png: 640x224 1 ac, 1 ensuite, 1 tbb, 1 toolbox, 7.5ms\n",
            "image 589/2096 /content/unzipped_images/14121.png: 640x288 1 ac, 1 ensuite, 1 tbb, 7.2ms\n",
            "image 590/2096 /content/unzipped_images/14127.png: 640x224 1 ac, 1 ensuite, 1 tbb, 1 toolbox, 6.7ms\n",
            "image 591/2096 /content/unzipped_images/14129.png: 640x224 1 ac, 1 ensuite, 1 tbb, 1 toolbox, 6.2ms\n",
            "image 592/2096 /content/unzipped_images/14131.png: 640x256 1 ac, 1 ensuite, 1 tbb, 1 toolbox, 6.9ms\n",
            "image 593/2096 /content/unzipped_images/14132.png: 640x224 1 ac, 1 ensuite, 1 tbb, 1 toolbox, 6.6ms\n",
            "image 594/2096 /content/unzipped_images/14133.png: 640x224 1 ac, 1 ensuite, 1 tbb, 1 toolbox, 6.1ms\n",
            "image 595/2096 /content/unzipped_images/14134.png: 640x192 1 ac, 1 ensuite, 1 tbb, 1 toolbox, 6.8ms\n",
            "image 596/2096 /content/unzipped_images/14135.png: 640x288 1 ensuite, 1 tbb, 1 toolbox, 7.0ms\n",
            "image 597/2096 /content/unzipped_images/14139.png: 640x256 1 ac, 1 ensuite, 1 tbb, 1 toolbox, 6.8ms\n",
            "image 598/2096 /content/unzipped_images/14141.png: 640x288 1 ac, 1 ensuite, 1 tbb, 1 toolbox, 6.9ms\n",
            "image 599/2096 /content/unzipped_images/14150.png: 640x288 1 ac, 1 ensuite, 1 tbb, 6.3ms\n",
            "image 600/2096 /content/unzipped_images/14161.png: 640x224 1 ac, 1 ensuite, 1 tbb, 1 toolbox, 6.9ms\n",
            "image 601/2096 /content/unzipped_images/14162.png: 640x224 1 ac, 1 ensuite, 1 toolbox, 6.3ms\n",
            "image 602/2096 /content/unzipped_images/14163.png: 640x224 1 ac, 1 ensuite, 1 tbb, 1 toolbox, 6.1ms\n",
            "image 603/2096 /content/unzipped_images/14164.png: 640x224 1 ac, 1 ensuite, 1 tbb, 1 toolbox, 6.4ms\n",
            "image 604/2096 /content/unzipped_images/14165.png: 640x224 1 ac, 1 ensuite, 1 tbb, 1 toolbox, 6.5ms\n",
            "image 605/2096 /content/unzipped_images/14166.png: 640x224 1 ac, 1 ensuite, 1 tbb, 1 toolbox, 6.4ms\n",
            "image 606/2096 /content/unzipped_images/14167.png: 640x192 1 ac, 1 ensuite, 1 tbb, 1 toolbox, 7.1ms\n",
            "image 607/2096 /content/unzipped_images/14168.png: 640x192 1 ac, 1 ensuite, 1 tbb, 1 toolbox, 6.4ms\n",
            "image 608/2096 /content/unzipped_images/14169.png: 640x192 1 ac, 1 ensuite, 1 tbb, 1 toolbox, 6.1ms\n",
            "image 609/2096 /content/unzipped_images/14176.png: 640x192 1 ac, 1 ensuite, 1 tbb, 1 toolbox, 6.3ms\n",
            "image 610/2096 /content/unzipped_images/14181.png: 640x256 1 ac, 1 ensuite, 1 tbb, 1 toolbox, 8.3ms\n",
            "image 611/2096 /content/unzipped_images/14208.png: 640x224 1 ac, 1 tbb, 1 toolbox, 7.0ms\n",
            "image 612/2096 /content/unzipped_images/14211.png: 640x224 1 ac, 1 ensuite, 1 tbb, 1 toolbox, 6.2ms\n",
            "image 613/2096 /content/unzipped_images/14212.png: 416x640 1 ac, 1 ensuite, 1 tbb, 1 toolbox, 6.7ms\n",
            "image 614/2096 /content/unzipped_images/14213.png: 640x256 1 ac, 1 ensuite, 1 tbb, 1 toolbox, 7.1ms\n",
            "image 615/2096 /content/unzipped_images/14215.png: 640x224 1 ac, 1 ensuite, 1 tbb, 1 toolbox, 6.9ms\n",
            "image 616/2096 /content/unzipped_images/14216.png: 640x256 1 ac, 1 ensuite, 1 tbb, 1 toolbox, 6.8ms\n",
            "image 617/2096 /content/unzipped_images/14217.png: 640x224 1 ac, 1 ensuite, 1 tbb, 1 toolbox, 7.3ms\n",
            "image 618/2096 /content/unzipped_images/14218.png: 640x224 1 ac, 1 ensuite, 1 tbb, 1 toolbox, 6.3ms\n",
            "image 619/2096 /content/unzipped_images/14219.png: 640x224 1 ac, 1 ensuite, 1 tbb, 1 toolbox, 6.4ms\n",
            "image 620/2096 /content/unzipped_images/14220.png: 640x224 1 ac, 1 ensuite, 1 tbb, 1 toolbox, 6.6ms\n",
            "image 621/2096 /content/unzipped_images/14221.png: 640x224 1 ac, 1 ensuite, 1 tbb, 1 toolbox, 6.1ms\n",
            "image 622/2096 /content/unzipped_images/14222.png: 640x224 1 ac, 1 ensuite, 1 tbb, 1 toolbox, 6.2ms\n",
            "image 623/2096 /content/unzipped_images/14223.png: 640x224 1 ac, 1 ensuite, 1 tbb, 1 toolbox, 6.0ms\n",
            "image 624/2096 /content/unzipped_images/14224.png: 640x224 1 ac, 1 ensuite, 1 tbb, 1 toolbox, 6.2ms\n",
            "image 625/2096 /content/unzipped_images/14225.png: 640x224 1 ac, 1 ensuite, 1 tbb, 1 toolbox, 6.0ms\n",
            "image 626/2096 /content/unzipped_images/14231.png: 640x256 1 ac, 1 tbb, 1 toolbox, 6.9ms\n",
            "image 627/2096 /content/unzipped_images/14232.png: 640x224 1 ac, 1 ensuite, 1 tbb, 1 toolbox, 6.8ms\n",
            "image 628/2096 /content/unzipped_images/14234.png: 640x224 1 ac, 1 ensuite, 1 tbb, 1 toolbox, 6.1ms\n",
            "image 629/2096 /content/unzipped_images/14235.png: 640x224 1 ac, 1 ensuite, 1 tbb, 1 toolbox, 6.0ms\n",
            "image 630/2096 /content/unzipped_images/14236.png: 640x224 1 ac, 1 ensuite, 1 tbb, 1 toolbox, 6.1ms\n",
            "image 631/2096 /content/unzipped_images/14237.png: 640x224 1 ac, 1 ensuite, 1 tbb, 1 toolbox, 5.9ms\n",
            "image 632/2096 /content/unzipped_images/14238.png: 640x288 1 ac, 1 ensuite, 1 tbb, 1 toolbox, 7.1ms\n",
            "image 633/2096 /content/unzipped_images/14239.png: 640x224 1 ac, 1 ensuite, 1 tbb, 1 toolbox, 7.0ms\n",
            "image 634/2096 /content/unzipped_images/14240.png: 640x224 1 ac, 1 ensuite, 1 tbb, 7.3ms\n",
            "image 635/2096 /content/unzipped_images/14242.png: 640x192 1 ac, 1 ensuite, 1 tbb, 1 toolbox, 7.2ms\n",
            "image 636/2096 /content/unzipped_images/14243.png: 640x320 1 ac, 1 ensuite, 1 tbb, 8.2ms\n",
            "image 637/2096 /content/unzipped_images/14247.png: 640x224 1 ac, 1 ensuite, 1 tbb, 1 toolbox, 8.4ms\n",
            "image 638/2096 /content/unzipped_images/14248.png: 640x224 1 ac, 1 ensuite, 1 tbb, 1 toolbox, 7.6ms\n",
            "image 639/2096 /content/unzipped_images/14249.png: 640x224 1 ac, 1 ensuite, 1 tbb, 1 toolbox, 6.9ms\n",
            "image 640/2096 /content/unzipped_images/14252.png: 640x224 1 ac, 1 ensuite, 1 tbb, 1 toolbox, 6.0ms\n",
            "image 641/2096 /content/unzipped_images/14254.png: 640x224 1 ac, 1 ensuite, 1 tbb, 1 toolbox, 5.9ms\n",
            "image 642/2096 /content/unzipped_images/14255.png: 640x224 1 ensuite, 1 tbb, 1 toolbox, 5.9ms\n",
            "image 643/2096 /content/unzipped_images/14256.png: 640x224 1 ac, 1 ensuite, 1 tbb, 1 toolbox, 6.1ms\n",
            "image 644/2096 /content/unzipped_images/14259.png: 640x192 1 ac, 1 ensuite, 1 tbb, 1 toolbox, 6.8ms\n",
            "image 645/2096 /content/unzipped_images/14260.png: 640x288 1 ac, 1 ensuite, 1 tbb, 1 toolbox, 6.8ms\n",
            "image 646/2096 /content/unzipped_images/14261.png: 640x224 1 ac, 1 ensuite, 1 tbb, 6.7ms\n",
            "image 647/2096 /content/unzipped_images/14262.png: 640x224 1 ac, 1 ensuite, 1 tbb, 1 toolbox, 6.3ms\n",
            "image 648/2096 /content/unzipped_images/14264.png: 640x224 1 ac, 1 ensuite, 1 tbb, 1 toolbox, 8.1ms\n",
            "image 649/2096 /content/unzipped_images/14265.png: 640x224 1 ac, 1 ensuite, 1 tbb, 1 toolbox, 6.4ms\n",
            "image 650/2096 /content/unzipped_images/14266.png: 640x224 1 ac, 1 ensuite, 1 toolbox, 5.9ms\n",
            "image 651/2096 /content/unzipped_images/14267.png: 640x224 1 ac, 1 ensuite, 1 tbb, 1 toolbox, 6.1ms\n",
            "image 652/2096 /content/unzipped_images/14268.png: 640x224 1 ac, 1 ensuite, 1 tbb, 1 toolbox, 6.0ms\n",
            "image 653/2096 /content/unzipped_images/14269.png: 640x224 1 ac, 1 ensuite, 1 tbb, 1 toolbox, 6.1ms\n",
            "image 654/2096 /content/unzipped_images/14270.png: 640x192 1 ac, 1 ensuite, 1 tbb, 1 toolbox, 7.0ms\n",
            "image 655/2096 /content/unzipped_images/14271.png: 640x224 1 ac, 1 ensuite, 1 tbb, 1 toolbox, 6.7ms\n",
            "image 656/2096 /content/unzipped_images/14272.png: 640x224 1 ac, 1 ensuite, 1 toolbox, 6.3ms\n",
            "image 657/2096 /content/unzipped_images/14273.png: 640x288 1 ac, 1 ensuite, 1 tbb, 7.0ms\n",
            "image 658/2096 /content/unzipped_images/14274.png: 640x224 1 ac, 1 ensuite, 1 tbb, 1 toolbox, 6.7ms\n",
            "image 659/2096 /content/unzipped_images/14276.png: 640x192 1 ac, 1 ensuite, 1 tbb, 1 toolbox, 7.2ms\n",
            "image 660/2096 /content/unzipped_images/14278.png: 640x224 1 ac, 1 ensuite, 1 tbb, 1 toolbox, 7.1ms\n",
            "image 661/2096 /content/unzipped_images/14279.png: 640x288 1 ac, 1 ensuite, 1 tbb, 1 toolbox, 6.9ms\n",
            "image 662/2096 /content/unzipped_images/14281.png: 640x192 1 ac, 1 ensuite, 1 tbb, 1 toolbox, 6.6ms\n",
            "image 663/2096 /content/unzipped_images/14282.png: 640x224 1 ac, 1 ensuite, 1 tbb, 1 toolbox, 6.7ms\n",
            "image 664/2096 /content/unzipped_images/14287.png: 640x224 1 ac, 1 ensuite, 1 tbb, 1 toolbox, 6.8ms\n",
            "image 665/2096 /content/unzipped_images/14288.png: 640x224 1 ac, 1 ensuite, 1 tbb, 1 toolbox, 7.5ms\n",
            "image 666/2096 /content/unzipped_images/14289.png: 640x224 1 ac, 1 ensuite, 1 tbb, 1 toolbox, 6.6ms\n",
            "image 667/2096 /content/unzipped_images/14290.png: 640x192 1 ac, 1 ensuite, 1 tbb, 1 toolbox, 7.7ms\n",
            "image 668/2096 /content/unzipped_images/14291.png: 640x224 1 ac, 1 ensuite, 1 tbb, 1 toolbox, 7.4ms\n",
            "image 669/2096 /content/unzipped_images/14292.png: 640x256 1 ac, 1 ensuite, 1 tbb, 1 toolbox, 8.0ms\n",
            "image 670/2096 /content/unzipped_images/14293.png: 640x288 1 ac, 1 ensuite, 1 tbb, 1 toolbox, 7.5ms\n",
            "image 671/2096 /content/unzipped_images/14294.png: 640x224 1 ac, 1 ensuite, 1 tbb, 1 toolbox, 7.1ms\n",
            "image 672/2096 /content/unzipped_images/14295.png: 640x224 1 ac, 1 ensuite, 1 tbb, 1 toolbox, 6.1ms\n",
            "image 673/2096 /content/unzipped_images/14296.png: 640x288 1 ac, 1 ensuite, 1 tbb, 1 toolbox, 6.8ms\n",
            "image 674/2096 /content/unzipped_images/14297.png: 640x224 1 ac, 1 ensuite, 1 tbb, 1 toolbox, 8.3ms\n",
            "image 675/2096 /content/unzipped_images/14299.png: 640x224 1 ac, 1 ensuite, 1 tbb, 1 toolbox, 7.8ms\n",
            "image 676/2096 /content/unzipped_images/14300.png: 640x224 1 ac, 1 ensuite, 1 tbb, 1 toolbox, 7.0ms\n",
            "image 677/2096 /content/unzipped_images/14301.png: 640x224 1 ac, 1 ensuite, 1 tbb, 1 toolbox, 6.7ms\n",
            "image 678/2096 /content/unzipped_images/14304.png: 640x256 1 ac, 1 ensuite, 1 tbb, 7.5ms\n",
            "image 679/2096 /content/unzipped_images/14305.png: 640x224 1 ac, 1 ensuite, 1 tbb, 1 toolbox, 7.5ms\n",
            "image 680/2096 /content/unzipped_images/14306.png: 640x256 1 ac, 1 ensuite, 1 tbb, 1 toolbox, 7.7ms\n",
            "image 681/2096 /content/unzipped_images/14318.png: 640x224 1 ac, 1 ensuite, 1 tbb, 6.6ms\n",
            "image 682/2096 /content/unzipped_images/14319.png: 640x224 1 ac, 1 ensuite, 1 tbb, 1 toolbox, 6.1ms\n",
            "image 683/2096 /content/unzipped_images/14320.png: 640x256 1 ac, 1 ensuite, 1 tbb, 6.5ms\n",
            "image 684/2096 /content/unzipped_images/14321.png: 640x224 1 ac, 1 ensuite, 1 tbb, 1 toolbox, 6.9ms\n",
            "image 685/2096 /content/unzipped_images/14322.png: 640x224 1 ac, 1 ensuite, 1 tbb, 6.7ms\n",
            "image 686/2096 /content/unzipped_images/14323.png: 640x288 1 ac, 1 ensuite, 1 tbb, 6.9ms\n",
            "image 687/2096 /content/unzipped_images/14324.png: 640x224 1 ac, 1 ensuite, 1 tbb, 1 toolbox, 7.3ms\n",
            "image 688/2096 /content/unzipped_images/14325.png: 640x192 1 ac, 1 ensuite, 1 tbb, 1 toolbox, 6.9ms\n",
            "image 689/2096 /content/unzipped_images/14326.png: 640x224 1 ac, 1 tbb, 1 toolbox, 7.0ms\n",
            "image 690/2096 /content/unzipped_images/14327.png: 640x192 1 ac, 1 ensuite, 1 tbb, 1 toolbox, 6.8ms\n",
            "image 691/2096 /content/unzipped_images/14329.png: 640x224 1 ac, 1 ensuite, 1 tbb, 1 toolbox, 6.6ms\n",
            "image 692/2096 /content/unzipped_images/14330.png: 640x224 1 ac, 1 ensuite, 1 tbb, 1 toolbox, 6.2ms\n",
            "image 693/2096 /content/unzipped_images/14331.png: 640x256 1 ac, 1 ensuite, 1 tbb, 1 toolbox, 6.9ms\n",
            "image 694/2096 /content/unzipped_images/14332.png: 640x288 1 ac, 1 ensuite, 1 tbb, 1 toolbox, 7.0ms\n",
            "image 695/2096 /content/unzipped_images/14333.png: 640x256 1 ac, 1 ensuite, 1 tbb, 1 toolbox, 6.6ms\n",
            "image 696/2096 /content/unzipped_images/14334.png: 640x224 1 ac, 1 ensuite, 1 tbb, 1 toolbox, 6.7ms\n",
            "image 697/2096 /content/unzipped_images/14342.png: 640x192 1 ac, 1 ensuite, 1 tbb, 1 toolbox, 6.9ms\n",
            "image 698/2096 /content/unzipped_images/14344.png: 640x224 1 ac, 1 ensuite, 1 tbb, 6.8ms\n",
            "image 699/2096 /content/unzipped_images/14346.png: 640x192 1 ac, 1 ensuite, 1 tbb, 1 toolbox, 6.8ms\n",
            "image 700/2096 /content/unzipped_images/14347.png: 640x224 1 ac, 1 ensuite, 1 tbb, 1 toolbox, 7.1ms\n",
            "image 701/2096 /content/unzipped_images/14348.png: 640x224 1 ac, 1 ensuite, 1 toolbox, 6.8ms\n",
            "image 702/2096 /content/unzipped_images/14349.png: 640x288 1 ac, 1 ensuite, 1 tbb, 7.3ms\n",
            "image 703/2096 /content/unzipped_images/14350.png: 640x224 1 ac, 1 ensuite, 1 tbb, 1 toolbox, 6.5ms\n",
            "image 704/2096 /content/unzipped_images/14351.png: 640x288 1 ac, 1 ensuite, 1 tbb, 1 toolbox, 7.0ms\n",
            "image 705/2096 /content/unzipped_images/14352.png: 640x288 1 ac, 1 ensuite, 1 tbb, 6.2ms\n",
            "image 706/2096 /content/unzipped_images/14353.png: 640x224 1 ac, 1 ensuite, 1 tbb, 1 toolbox, 6.7ms\n",
            "image 707/2096 /content/unzipped_images/14354.png: 640x224 1 ac, 1 ensuite, 1 tbb, 1 toolbox, 5.9ms\n",
            "image 708/2096 /content/unzipped_images/14359.png: 640x224 1 ac, 1 ensuite, 1 tbb, 1 toolbox, 6.3ms\n",
            "image 709/2096 /content/unzipped_images/14360.png: 640x256 1 ac, 1 ensuite, 1 tbb, 1 toolbox, 7.0ms\n",
            "image 710/2096 /content/unzipped_images/14361.png: 640x224 1 ac, 1 ensuite, 1 tbb, 6.8ms\n",
            "image 711/2096 /content/unzipped_images/14362.png: 640x224 1 ac, 1 ensuite, 1 tbb, 1 toolbox, 6.1ms\n",
            "image 712/2096 /content/unzipped_images/14363.png: 640x192 1 ac, 1 ensuite, 1 tbb, 1 toolbox, 7.2ms\n",
            "image 713/2096 /content/unzipped_images/14365.png: 640x288 1 ac, 1 ensuite, 1 tbb, 1 toolbox, 6.9ms\n",
            "image 714/2096 /content/unzipped_images/14366.png: 640x224 1 ac, 1 ensuite, 1 tbb, 7.1ms\n",
            "image 715/2096 /content/unzipped_images/14367.png: 640x224 1 ac, 1 ensuite, 1 tbb, 1 toolbox, 6.0ms\n",
            "image 716/2096 /content/unzipped_images/14368.png: 640x192 1 ac, 1 tbb, 1 toolbox, 8.4ms\n",
            "image 717/2096 /content/unzipped_images/14369.png: 640x224 1 ac, 1 ensuite, 1 tbb, 1 toolbox, 7.8ms\n",
            "image 718/2096 /content/unzipped_images/14371.png: 640x224 1 ac, 1 ensuite, 1 tbb, 1 toolbox, 7.0ms\n",
            "image 719/2096 /content/unzipped_images/14372.png: 640x224 1 ac, 1 ensuite, 1 tbb, 1 toolbox, 7.1ms\n",
            "image 720/2096 /content/unzipped_images/14373.png: 640x224 1 ac, 1 ensuite, 1 tbb, 1 toolbox, 7.5ms\n",
            "image 721/2096 /content/unzipped_images/14374.png: 640x256 1 ac, 1 ensuite, 1 tbb, 7.1ms\n",
            "image 722/2096 /content/unzipped_images/14376.png: 640x192 2 acs, 1 ensuite, 2 tbbs, 1 toolbox, 9.7ms\n",
            "image 723/2096 /content/unzipped_images/14377.png: 640x256 1 ac, 1 ensuite, 1 tbb, 7.0ms\n",
            "image 724/2096 /content/unzipped_images/14378.png: 640x224 1 ac, 1 ensuite, 1 tbb, 1 toolbox, 6.8ms\n",
            "image 725/2096 /content/unzipped_images/14379.png: 640x224 1 ac, 2 ensuites, 1 tbb, 1 toolbox, 6.1ms\n",
            "image 726/2096 /content/unzipped_images/14380.png: 640x224 1 ac, 1 ensuite, 1 tbb, 6.2ms\n",
            "image 727/2096 /content/unzipped_images/14381.png: 640x224 1 ac, 1 ensuite, 1 tbb, 1 toolbox, 6.4ms\n",
            "image 728/2096 /content/unzipped_images/14382.png: 640x224 1 ac, 1 ensuite, 1 tbb, 1 toolbox, 6.1ms\n",
            "image 729/2096 /content/unzipped_images/14383.png: 640x224 1 ac, 1 ensuite, 1 tbb, 6.0ms\n",
            "image 730/2096 /content/unzipped_images/14384.png: 640x256 1 ac, 1 ensuite, 1 tbb, 6.9ms\n",
            "image 731/2096 /content/unzipped_images/14387.png: 640x224 1 ac, 1 ensuite, 1 tbb, 6.9ms\n",
            "image 732/2096 /content/unzipped_images/14388.png: 640x256 1 ac, 1 ensuite, 1 tbb, 6.9ms\n",
            "image 733/2096 /content/unzipped_images/14389.png: 640x256 1 ac, 1 ensuite, 1 tbb, 1 toolbox, 5.9ms\n",
            "image 734/2096 /content/unzipped_images/14390.png: 640x288 1 ac, 1 ensuite, 1 tbb, 1 toolbox, 6.9ms\n",
            "image 735/2096 /content/unzipped_images/14391.png: 640x288 1 ac, 1 ensuite, 1 tbb, 1 toolbox, 6.7ms\n",
            "image 736/2096 /content/unzipped_images/14393.png: 640x256 1 ac, 1 ensuite, 1 tbb, 1 toolbox, 6.6ms\n",
            "image 737/2096 /content/unzipped_images/14396.png: 640x256 1 ac, 1 ensuite, 1 tbb, 1 toolbox, 6.4ms\n",
            "image 738/2096 /content/unzipped_images/14397.png: 640x224 1 ac, 1 ensuite, 1 tbb, 1 toolbox, 6.8ms\n",
            "image 739/2096 /content/unzipped_images/14398.png: 640x256 1 ac, 1 ensuite, 1 tbb, 7.1ms\n",
            "image 740/2096 /content/unzipped_images/14399.png: 640x224 1 ac, 1 ensuite, 1 tbb, 1 toolbox, 8.2ms\n",
            "image 741/2096 /content/unzipped_images/14400.png: 640x192 1 ac, 1 ensuite, 1 tbb, 1 toolbox, 6.9ms\n",
            "image 742/2096 /content/unzipped_images/14401.png: 640x224 1 ac, 1 ensuite, 1 tbb, 6.7ms\n",
            "image 743/2096 /content/unzipped_images/14402.png: 640x224 1 ac, 1 ensuite, 1 tbb, 1 toolbox, 6.0ms\n",
            "image 744/2096 /content/unzipped_images/14406.png: 640x192 2 acs, 1 ensuite, 1 tbb, 1 toolbox, 7.2ms\n",
            "image 745/2096 /content/unzipped_images/14407.png: 640x224 1 ac, 1 ensuite, 1 tbb, 1 toolbox, 6.9ms\n",
            "image 746/2096 /content/unzipped_images/14408.png: 640x224 1 ac, 1 ensuite, 1 tbb, 1 toolbox, 6.8ms\n",
            "image 747/2096 /content/unzipped_images/14409.png: 640x224 1 ac, 1 ensuite, 1 tbb, 6.0ms\n",
            "image 748/2096 /content/unzipped_images/14412.png: 640x224 1 ac, 1 ensuite, 1 tbb, 5.9ms\n",
            "image 749/2096 /content/unzipped_images/14413.png: 640x192 1 ac, 1 ensuite, 1 tbb, 1 toolbox, 6.9ms\n",
            "image 750/2096 /content/unzipped_images/14416.png: 640x224 1 ac, 1 tbb, 1 toolbox, 6.6ms\n",
            "image 751/2096 /content/unzipped_images/14417.png: 640x224 1 ac, 1 ensuite, 1 tbb, 6.4ms\n",
            "image 752/2096 /content/unzipped_images/14418.png: 640x224 1 ac, 1 ensuite, 1 tbb, 6.0ms\n",
            "image 753/2096 /content/unzipped_images/14419.png: 640x224 1 ac, 1 ensuite, 1 tbb, 1 toolbox, 5.9ms\n",
            "image 754/2096 /content/unzipped_images/14420.png: 640x256 1 ac, 1 ensuite, 1 tbb, 1 toolbox, 6.9ms\n",
            "image 755/2096 /content/unzipped_images/14422.png: 640x224 1 ac, 1 ensuite, 1 tbb, 1 toolbox, 6.8ms\n",
            "image 756/2096 /content/unzipped_images/14423.png: 640x224 1 ac, 1 ensuite, 1 tbb, 1 toolbox, 5.8ms\n",
            "image 757/2096 /content/unzipped_images/14424.png: 640x224 1 ac, 1 ensuite, 1 tbb, 1 toolbox, 6.1ms\n",
            "image 758/2096 /content/unzipped_images/14428.png: 640x192 1 ac, 2 ensuites, 1 tbb, 6.7ms\n",
            "image 759/2096 /content/unzipped_images/14431.png: 640x224 1 ac, 1 ensuite, 1 tbb, 1 toolbox, 7.1ms\n",
            "image 760/2096 /content/unzipped_images/14433.png: 640x224 1 ac, 1 ensuite, 1 toolbox, 6.3ms\n",
            "image 761/2096 /content/unzipped_images/14434.png: 640x224 1 ac, 1 ensuite, 1 tbb, 1 toolbox, 6.3ms\n",
            "image 762/2096 /content/unzipped_images/14436.png: 640x192 1 ac, 1 ensuite, 1 tbb, 1 toolbox, 8.9ms\n",
            "image 763/2096 /content/unzipped_images/14437.png: 640x256 1 ac, 1 ensuite, 1 tbb, 8.5ms\n",
            "image 764/2096 /content/unzipped_images/14438.png: 640x256 1 ac, 1 ensuite, 1 tbb, 6.5ms\n",
            "image 765/2096 /content/unzipped_images/14439.png: 640x256 1 ac, 1 ensuite, 1 tbb, 6.2ms\n",
            "image 766/2096 /content/unzipped_images/14440.png: 640x256 1 ac, 1 ensuite, 1 tbb, 6.0ms\n",
            "image 767/2096 /content/unzipped_images/14441.png: 640x224 2 acs, 1 ensuite, 2 tbbs, 6.6ms\n",
            "image 768/2096 /content/unzipped_images/14442.png: 640x224 2 acs, 1 ensuite, 2 tbbs, 6.0ms\n",
            "image 769/2096 /content/unzipped_images/14443.png: 640x224 1 ac, 1 ensuite, 1 tbb, 1 toolbox, 5.9ms\n",
            "image 770/2096 /content/unzipped_images/14444.png: 640x224 1 ac, 1 ensuite, 1 tbb, 1 toolbox, 6.3ms\n",
            "image 771/2096 /content/unzipped_images/14445.png: 640x192 1 ac, 1 ensuite, 1 tbb, 1 toolbox, 6.8ms\n",
            "image 772/2096 /content/unzipped_images/14446.png: 640x224 1 ac, 1 ensuite, 1 tbb, 6.5ms\n",
            "image 773/2096 /content/unzipped_images/14448.png: 640x192 1 ac, 1 ensuite, 1 tbb, 1 toolbox, 6.7ms\n",
            "image 774/2096 /content/unzipped_images/14449.png: 640x224 1 ac, 1 ensuite, 1 tbb, 1 toolbox, 7.1ms\n",
            "image 775/2096 /content/unzipped_images/14457.png: 640x224 1 ac, 1 tbb, 1 toolbox, 7.3ms\n",
            "image 776/2096 /content/unzipped_images/14459.png: 640x192 1 ac, 1 ensuite, 1 tbb, 1 toolbox, 6.5ms\n",
            "image 777/2096 /content/unzipped_images/14461.png: 640x256 1 ac, 1 ensuite, 1 tbb, 7.1ms\n",
            "image 778/2096 /content/unzipped_images/14463.png: 640x224 1 ac, 1 ensuite, 1 tbb, 1 toolbox, 7.3ms\n",
            "image 779/2096 /content/unzipped_images/14465.png: 640x256 1 ac, 1 ensuite, 1 tbb, 1 toolbox, 7.5ms\n",
            "image 780/2096 /content/unzipped_images/14466.png: 640x256 1 ac, 1 ensuite, 1 tbb, 7.2ms\n",
            "image 781/2096 /content/unzipped_images/14468.png: 640x224 1 ac, 1 ensuite, 1 tbb, 7.2ms\n",
            "image 782/2096 /content/unzipped_images/14471.png: 640x224 1 ac, 1 ensuite, 1 tbb, 1 toolbox, 6.5ms\n",
            "image 783/2096 /content/unzipped_images/14474.png: 640x224 1 ac, 1 ensuite, 1 tbb, 6.6ms\n",
            "image 784/2096 /content/unzipped_images/14476.png: 640x224 1 ac, 1 ensuite, 1 tbb, 1 toolbox, 6.6ms\n",
            "image 785/2096 /content/unzipped_images/14477.png: 640x224 1 ac, 1 ensuite, 1 tbb, 1 toolbox, 7.1ms\n",
            "image 786/2096 /content/unzipped_images/14478.png: 640x224 1 ac, 1 ensuite, 1 toolbox, 6.6ms\n",
            "image 787/2096 /content/unzipped_images/14480.png: 640x224 1 ac, 1 ensuite, 1 tbb, 1 toolbox, 6.9ms\n",
            "image 788/2096 /content/unzipped_images/14482.png: 640x224 1 ac, 1 ensuite, 1 tbb, 1 toolbox, 6.1ms\n",
            "image 789/2096 /content/unzipped_images/14488.png: 640x224 1 ac, 1 ensuite, 1 tbb, 1 toolbox, 6.4ms\n",
            "image 790/2096 /content/unzipped_images/14493.png: 640x224 1 ac, 1 ensuite, 1 tbb, 1 toolbox, 6.2ms\n",
            "image 791/2096 /content/unzipped_images/14496.png: 640x224 1 ac, 1 ensuite, 1 tbb, 1 toolbox, 5.9ms\n",
            "image 792/2096 /content/unzipped_images/14498.png: 640x192 1 ac, 1 tbb, 1 toolbox, 6.8ms\n",
            "image 793/2096 /content/unzipped_images/14499.png: 640x224 1 tbb, 6.8ms\n",
            "image 794/2096 /content/unzipped_images/14500.png: 640x224 1 ac, 1 ensuite, 1 tbb, 1 toolbox, 6.1ms\n",
            "image 795/2096 /content/unzipped_images/14501.png: 640x224 1 ac, 1 ensuite, 1 tbb, 1 toolbox, 6.0ms\n",
            "image 796/2096 /content/unzipped_images/14502.png: 640x288 1 ac, 1 ensuite, 1 tbb, 6.8ms\n",
            "image 797/2096 /content/unzipped_images/14503.png: 640x192 1 ac, 1 ensuite, 1 tbb, 1 toolbox, 6.6ms\n",
            "image 798/2096 /content/unzipped_images/14505.png: 640x224 1 ac, 1 ensuite, 1 tbb, 1 toolbox, 6.5ms\n",
            "image 799/2096 /content/unzipped_images/14507.png: 640x224 1 ac, 1 ensuite, 1 tbb, 1 toolbox, 5.9ms\n",
            "image 800/2096 /content/unzipped_images/14508.png: 640x224 1 ac, 1 ensuite, 1 tbb, 1 toolbox, 6.1ms\n",
            "image 801/2096 /content/unzipped_images/14509.png: 640x224 1 ac, 1 ensuite, 1 tbb, 6.0ms\n",
            "image 802/2096 /content/unzipped_images/14513.png: 640x192 1 ac, 1 tbb, 1 toolbox, 8.6ms\n",
            "image 803/2096 /content/unzipped_images/14516.png: 640x224 1 ac, 1 ensuite, 1 tbb, 1 toolbox, 6.8ms\n",
            "image 804/2096 /content/unzipped_images/14522.png: 640x256 1 ac, 1 ensuite, 1 tbb, 1 toolbox, 8.7ms\n",
            "image 805/2096 /content/unzipped_images/14523.png: 640x192 1 ac, 1 ensuite, 1 tbb, 1 toolbox, 7.6ms\n",
            "image 806/2096 /content/unzipped_images/14524.png: 640x224 1 ac, 1 ensuite, 1 tbb, 6.9ms\n",
            "image 807/2096 /content/unzipped_images/14525.png: 640x288 1 ac, 1 ensuite, 1 tbb, 1 toolbox, 7.2ms\n",
            "image 808/2096 /content/unzipped_images/14526.png: 640x224 1 ac, 1 ensuite, 1 tbb, 6.8ms\n",
            "image 809/2096 /content/unzipped_images/14527.png: 640x224 1 ac, 1 ensuite, 1 tbb, 1 toolbox, 6.2ms\n",
            "image 810/2096 /content/unzipped_images/14532.png: 640x192 1 ac, 1 ensuite, 1 tbb, 1 toolbox, 6.8ms\n",
            "image 811/2096 /content/unzipped_images/14539.png: 640x224 1 ac, 1 ensuite, 1 tbb, 1 toolbox, 6.7ms\n",
            "image 812/2096 /content/unzipped_images/14540.png: 640x224 1 ac, 1 ensuite, 1 tbb, 6.0ms\n",
            "image 813/2096 /content/unzipped_images/14541.png: 640x224 1 ac, 1 ensuite, 1 tbb, 1 toolbox, 5.9ms\n",
            "image 814/2096 /content/unzipped_images/14542.png: 640x224 1 ac, 1 ensuite, 1 tbb, 1 toolbox, 5.9ms\n",
            "image 815/2096 /content/unzipped_images/14544.png: 640x224 1 ac, 1 ensuite, 1 tbb, 1 toolbox, 6.2ms\n",
            "image 816/2096 /content/unzipped_images/14545.png: 640x224 1 ac, 1 ensuite, 1 tbb, 1 toolbox, 5.9ms\n",
            "image 817/2096 /content/unzipped_images/14546.png: 640x224 1 ac, 1 ensuite, 1 tbb, 1 toolbox, 6.2ms\n",
            "image 818/2096 /content/unzipped_images/14548.png: 640x256 1 ac, 1 ensuite, 1 tbb, 6.9ms\n",
            "image 819/2096 /content/unzipped_images/14550.png: 640x192 2 acs, 1 ensuite, 2 tbbs, 1 toolbox, 6.9ms\n",
            "image 820/2096 /content/unzipped_images/14554.png: 640x256 1 ac, 1 ensuite, 1 tbb, 1 toolbox, 6.6ms\n",
            "image 821/2096 /content/unzipped_images/14557.png: 640x224 1 ac, 1 ensuite, 1 tbb, 1 toolbox, 7.2ms\n",
            "image 822/2096 /content/unzipped_images/14558.png: 640x224 1 ac, 1 ensuite, 1 tbb, 1 toolbox, 6.3ms\n",
            "image 823/2096 /content/unzipped_images/14560.png: 640x224 1 ac, 1 ensuite, 1 tbb, 1 toolbox, 6.1ms\n",
            "image 824/2096 /content/unzipped_images/14561.png: 640x224 3 acs, 1 ensuite, 2 tbbs, 1 toolbox, 6.2ms\n",
            "image 825/2096 /content/unzipped_images/14562.png: 640x224 1 ac, 1 tbb, 1 toolbox, 6.3ms\n",
            "image 826/2096 /content/unzipped_images/14565.png: 640x192 1 ensuite, 1 tbb, 1 toolbox, 6.8ms\n",
            "image 827/2096 /content/unzipped_images/14566.png: 640x224 2 acs, 1 ensuite, 2 tbbs, 1 toolbox, 6.7ms\n",
            "image 828/2096 /content/unzipped_images/14571.png: 640x224 1 ac, 1 ensuite, 1 tbb, 1 toolbox, 7.7ms\n",
            "image 829/2096 /content/unzipped_images/14572.png: 640x224 1 ac, 1 ensuite, 1 tbb, 1 toolbox, 6.4ms\n",
            "image 830/2096 /content/unzipped_images/14578.png: 640x224 1 ac, 1 ensuite, 1 tbb, 1 toolbox, 6.4ms\n",
            "image 831/2096 /content/unzipped_images/14580.png: 640x256 1 ac, 1 ensuite, 1 tbb, 1 toolbox, 6.9ms\n",
            "image 832/2096 /content/unzipped_images/14581.png: 640x288 1 ac, 1 ensuite, 1 tbb, 7.0ms\n",
            "image 833/2096 /content/unzipped_images/14583.png: 640x224 1 ac, 1 ensuite, 6.6ms\n",
            "image 834/2096 /content/unzipped_images/14585.png: 640x224 1 ac, 1 tbb, 1 toolbox, 5.9ms\n",
            "image 835/2096 /content/unzipped_images/14587.png: 640x288 1 ensuite, 1 tbb, 7.1ms\n",
            "image 836/2096 /content/unzipped_images/14592.png: 640x224 1 ac, 1 ensuite, 1 tbb, 1 toolbox, 6.6ms\n",
            "image 837/2096 /content/unzipped_images/14593.png: 640x288 1 ac, 1 ensuite, 1 tbb, 1 toolbox, 7.3ms\n",
            "image 838/2096 /content/unzipped_images/14594.png: 640x192 1 ac, 1 tbb, 1 toolbox, 7.1ms\n",
            "image 839/2096 /content/unzipped_images/14597.png: 640x224 1 ac, 1 ensuite, 1 tbb, 1 toolbox, 6.7ms\n",
            "image 840/2096 /content/unzipped_images/14603.png: 640x224 1 ac, 1 ensuite, 1 tbb, 1 toolbox, 6.1ms\n",
            "image 841/2096 /content/unzipped_images/14611.png: 640x224 1 ac, 1 ensuite, 1 tbb, 1 toolbox, 6.2ms\n",
            "image 842/2096 /content/unzipped_images/14613.png: 640x192 1 ac, 1 ensuite, 1 tbb, 1 toolbox, 6.8ms\n",
            "image 843/2096 /content/unzipped_images/14614.png: 640x224 1 ac, 1 ensuite, 1 tbb, 1 toolbox, 6.8ms\n",
            "image 844/2096 /content/unzipped_images/14615.png: 640x192 1 ac, 1 tbb, 1 toolbox, 6.9ms\n",
            "image 845/2096 /content/unzipped_images/14616.png: 640x224 1 ac, 1 ensuite, 1 tbb, 1 toolbox, 7.0ms\n",
            "image 846/2096 /content/unzipped_images/14626.png: 640x288 1 ac, 1 ensuite, 1 tbb, 1 toolbox, 7.1ms\n",
            "image 847/2096 /content/unzipped_images/14629.png: 640x192 2 acs, 1 toolbox, 7.0ms\n",
            "image 848/2096 /content/unzipped_images/14630.png: 640x288 1 ac, 1 ensuite, 1 tbb, 7.5ms\n",
            "image 849/2096 /content/unzipped_images/14631.png: 640x256 1 ac, 1 ensuite, 1 tbb, 1 toolbox, 7.2ms\n",
            "image 850/2096 /content/unzipped_images/14632.png: 640x192 4 acs, 1 ensuite, 2 tbbs, 1 toolbox, 6.8ms\n",
            "image 851/2096 /content/unzipped_images/14634.png: 640x224 1 ac, 1 ensuite, 1 tbb, 1 toolbox, 7.1ms\n",
            "image 852/2096 /content/unzipped_images/14638.png: 640x256 1 ac, 1 ensuite, 1 tbb, 1 toolbox, 7.3ms\n",
            "image 853/2096 /content/unzipped_images/14639.png: 640x256 1 ac, 1 ensuite, 1 tbb, 6.0ms\n",
            "image 854/2096 /content/unzipped_images/14640.png: 640x192 1 ac, 1 ensuite, 1 tbb, 1 toolbox, 7.1ms\n",
            "image 855/2096 /content/unzipped_images/14641.png: 640x192 1 ac, 1 tbb, 1 toolbox, 6.4ms\n",
            "image 856/2096 /content/unzipped_images/14642.png: 640x192 1 ac, 1 toolbox, 6.1ms\n",
            "image 857/2096 /content/unzipped_images/14645.png: 640x192 1 ac, 1 ensuite, 1 tbb, 6.0ms\n",
            "image 858/2096 /content/unzipped_images/14656.png: 640x192 1 ac, 1 ensuite, 1 tbb, 1 toolbox, 6.2ms\n",
            "image 859/2096 /content/unzipped_images/14657.png: 640x288 1 ac, 1 ensuite, 1 tbb, 7.0ms\n",
            "image 860/2096 /content/unzipped_images/14658.png: 640x224 1 ac, 1 ensuite, 1 tbb, 11.0ms\n",
            "image 861/2096 /content/unzipped_images/14659.png: 640x256 1 ac, 1 ensuite, 1 tbb, 8.1ms\n",
            "image 862/2096 /content/unzipped_images/14660.png: 640x224 1 ac, 1 ensuite, 1 tbb, 1 toolbox, 8.3ms\n",
            "image 863/2096 /content/unzipped_images/14664.png: 640x224 1 ac, 1 ensuite, 1 tbb, 6.5ms\n",
            "image 864/2096 /content/unzipped_images/14671.png: 640x224 1 ac, 1 ensuite, 1 tbb, 1 toolbox, 10.4ms\n",
            "image 865/2096 /content/unzipped_images/14683.png: 640x192 1 ac, 1 ensuite, 1 tbb, 1 toolbox, 7.9ms\n",
            "image 866/2096 /content/unzipped_images/14685.png: 640x288 1 ac, 1 ensuite, 1 tbb, 1 toolbox, 8.1ms\n",
            "image 867/2096 /content/unzipped_images/14686.png: 640x224 3 acs, 1 ensuite, 2 tbbs, 7.0ms\n",
            "image 868/2096 /content/unzipped_images/14687.png: 640x224 1 ac, 1 ensuite, 1 tbb, 1 toolbox, 6.4ms\n",
            "image 869/2096 /content/unzipped_images/14688.png: 640x224 1 ac, 1 tbb, 1 toolbox, 6.8ms\n",
            "image 870/2096 /content/unzipped_images/14689.png: 640x224 2 acs, 1 ensuite, 2 tbbs, 6.7ms\n",
            "image 871/2096 /content/unzipped_images/14691.png: 640x224 2 acs, 1 ensuite, 2 tbbs, 7.1ms\n",
            "image 872/2096 /content/unzipped_images/14692.png: 640x256 1 ac, 1 ensuite, 1 tbb, 9.8ms\n",
            "image 873/2096 /content/unzipped_images/14693.png: 640x224 2 acs, 1 ensuite, 2 tbbs, 6.8ms\n",
            "image 874/2096 /content/unzipped_images/14694.png: 640x224 1 ac, 1 ensuite, 1 tbb, 6.1ms\n",
            "image 875/2096 /content/unzipped_images/14695.png: 640x224 3 acs, 1 ensuite, 2 tbbs, 6.0ms\n",
            "image 876/2096 /content/unzipped_images/14696.png: 640x256 1 ac, 1 ensuite, 1 tbb, 6.8ms\n",
            "image 877/2096 /content/unzipped_images/14697.png: 640x224 3 acs, 1 ensuite, 2 tbbs, 6.7ms\n",
            "image 878/2096 /content/unzipped_images/14698.png: 640x256 1 ac, 1 ensuite, 1 tbb, 6.7ms\n",
            "image 879/2096 /content/unzipped_images/14700.png: 640x224 1 ac, 1 ensuite, 2 tbbs, 6.8ms\n",
            "image 880/2096 /content/unzipped_images/14703.png: 640x192 1 ac, 1 ensuite, 1 tbb, 1 toolbox, 7.2ms\n",
            "image 881/2096 /content/unzipped_images/14714.png: 640x224 1 ac, 1 ensuite, 1 tbb, 1 toolbox, 6.8ms\n",
            "image 882/2096 /content/unzipped_images/14717.png: 640x224 1 ac, 1 ensuite, 1 tbb, 1 toolbox, 6.0ms\n",
            "image 883/2096 /content/unzipped_images/14719.png: 640x224 2 acs, 1 ensuite, 2 tbbs, 6.2ms\n",
            "image 884/2096 /content/unzipped_images/14721.png: 640x224 1 ac, 1 ensuite, 1 tbb, 1 toolbox, 6.0ms\n",
            "image 885/2096 /content/unzipped_images/14722.png: 640x224 1 ac, 1 ensuite, 1 tbb, 1 toolbox, 6.0ms\n",
            "image 886/2096 /content/unzipped_images/14723.png: 640x256 1 ac, 1 ensuite, 1 tbb, 7.9ms\n",
            "image 887/2096 /content/unzipped_images/14725.png: 640x224 1 ac, 1 ensuite, 1 tbb, 7.6ms\n",
            "image 888/2096 /content/unzipped_images/14735.png: 640x224 1 ac, 1 ensuite, 1 tbb, 1 toolbox, 6.7ms\n",
            "image 889/2096 /content/unzipped_images/14738.png: 640x288 1 ac, 1 ensuite, 1 tbb, 1 toolbox, 7.8ms\n",
            "image 890/2096 /content/unzipped_images/14743.png: 640x256 1 ac, 1 ensuite, 1 tbb, 7.7ms\n",
            "image 891/2096 /content/unzipped_images/14750.png: 640x288 1 ac, 1 ensuite, 1 tbb, 2 toolboxs, 7.8ms\n",
            "image 892/2096 /content/unzipped_images/14751.png: 640x288 1 ac, 1 ensuite, 1 tbb, 6.4ms\n",
            "image 893/2096 /content/unzipped_images/14752.png: 640x224 1 ac, 1 ensuite, 1 tbb, 6.8ms\n",
            "image 894/2096 /content/unzipped_images/14753.png: 640x256 1 ac, 1 ensuite, 1 tbb, 7.0ms\n",
            "image 895/2096 /content/unzipped_images/14754.png: 640x224 1 ac, 1 ensuite, 1 tbb, 7.5ms\n",
            "image 896/2096 /content/unzipped_images/14755.png: 640x288 1 ac, 1 ensuite, 1 tbb, 1 toolbox, 7.1ms\n",
            "image 897/2096 /content/unzipped_images/14756.png: 640x224 1 ac, 1 tbb, 1 toolbox, 6.8ms\n",
            "image 898/2096 /content/unzipped_images/14757.png: 640x224 1 ac, 1 ensuite, 1 tbb, 1 toolbox, 6.1ms\n",
            "image 899/2096 /content/unzipped_images/14758.png: 640x256 1 ac, 1 ensuite, 1 tbb, 1 toolbox, 7.1ms\n",
            "image 900/2096 /content/unzipped_images/14761.png: 640x192 1 ac, 1 ensuite, 1 tbb, 1 toolbox, 6.8ms\n",
            "image 901/2096 /content/unzipped_images/14763.png: 640x224 1 ac, 1 ensuite, 1 tbb, 1 toolbox, 6.8ms\n",
            "image 902/2096 /content/unzipped_images/14770.png: 640x288 1 ac, 1 ensuite, 1 tbb, 7.4ms\n",
            "image 903/2096 /content/unzipped_images/14771.png: 640x192 1 ac, 1 ensuite, 1 tbb, 1 toolbox, 6.5ms\n",
            "image 904/2096 /content/unzipped_images/14772.png: 640x256 1 ac, 1 ensuite, 1 tbb, 1 toolbox, 6.8ms\n",
            "image 905/2096 /content/unzipped_images/14773.png: 640x256 1 ac, 1 ensuite, 6.9ms\n",
            "image 906/2096 /content/unzipped_images/14774.png: 640x192 1 ac, 1 ensuite, 1 tbb, 1 toolbox, 7.2ms\n",
            "image 907/2096 /content/unzipped_images/14783.png: 640x256 1 ac, 1 ensuite, 1 tbb, 1 toolbox, 7.0ms\n",
            "image 908/2096 /content/unzipped_images/14788.png: 640x288 1 ac, 1 ensuite, 1 tbb, 7.2ms\n",
            "image 909/2096 /content/unzipped_images/14791.png: 640x224 1 ac, 1 ensuite, 1 tbb, 1 toolbox, 6.9ms\n",
            "image 910/2096 /content/unzipped_images/14797.png: 640x224 1 ac, 1 ensuite, 1 tbb, 1 toolbox, 5.9ms\n",
            "image 911/2096 /content/unzipped_images/14802.png: 640x224 1 ac, 1 ensuite, 1 tbb, 1 toolbox, 6.1ms\n",
            "image 912/2096 /content/unzipped_images/14803.png: 640x224 1 ac, 1 ensuite, 1 tbb, 1 toolbox, 6.2ms\n",
            "image 913/2096 /content/unzipped_images/14806.png: 640x224 1 ac, 1 ensuite, 1 tbb, 1 toolbox, 6.1ms\n",
            "image 914/2096 /content/unzipped_images/14809.png: 640x224 1 ac, 1 ensuite, 1 tbb, 1 toolbox, 6.3ms\n",
            "image 915/2096 /content/unzipped_images/14811.png: 640x224 1 ac, 1 tbb, 1 toolbox, 5.8ms\n",
            "image 916/2096 /content/unzipped_images/14814.png: 640x192 1 ac, 1 ensuite, 1 tbb, 1 toolbox, 7.0ms\n",
            "image 917/2096 /content/unzipped_images/14817.png: 640x224 1 ac, 1 ensuite, 1 toolbox, 7.0ms\n",
            "image 918/2096 /content/unzipped_images/14832.png: 640x256 1 ac, 2 ensuites, 1 tbb, 1 toolbox, 6.8ms\n",
            "image 919/2096 /content/unzipped_images/14835.png: 640x224 1 ac, 1 ensuite, 1 tbb, 6.8ms\n",
            "image 920/2096 /content/unzipped_images/14842.png: 640x288 1 ac, 1 ensuite, 1 tbb, 1 toolbox, 7.5ms\n",
            "image 921/2096 /content/unzipped_images/14844.png: 640x224 1 ac, 1 ensuite, 1 tbb, 6.7ms\n",
            "image 922/2096 /content/unzipped_images/14860.png: 640x256 1 ac, 1 ensuite, 1 tbb, 1 toolbox, 6.8ms\n",
            "image 923/2096 /content/unzipped_images/14865.png: 640x256 1 ac, 1 ensuite, 1 tbb, 1 toolbox, 6.1ms\n",
            "image 924/2096 /content/unzipped_images/14877.png: 640x256 1 ac, 1 ensuite, 1 tbb, 1 toolbox, 6.2ms\n",
            "image 925/2096 /content/unzipped_images/14881.png: 640x256 1 ac, 1 ensuite, 1 tbb, 1 toolbox, 6.2ms\n",
            "image 926/2096 /content/unzipped_images/14898.png: 640x224 1 ac, 1 ensuite, 1 tbb, 1 toolbox, 6.8ms\n",
            "image 927/2096 /content/unzipped_images/14901.png: 640x224 1 ac, 1 ensuite, 1 tbb, 1 toolbox, 6.4ms\n",
            "image 928/2096 /content/unzipped_images/14902.png: 640x224 1 ac, 1 ensuite, 1 tbb, 6.5ms\n",
            "image 929/2096 /content/unzipped_images/14912.png: 640x192 1 ac, 1 ensuite, 1 tbb, 1 toolbox, 7.8ms\n",
            "image 930/2096 /content/unzipped_images/14935.png: 640x192 1 ac, 1 tbb, 1 toolbox, 7.5ms\n",
            "image 931/2096 /content/unzipped_images/14937.png: 640x224 1 ac, 1 ensuite, 1 tbb, 1 toolbox, 7.4ms\n",
            "image 932/2096 /content/unzipped_images/14940.png: 640x224 1 ac, 1 ensuite, 1 tbb, 1 toolbox, 7.1ms\n",
            "image 933/2096 /content/unzipped_images/14941.png: 640x224 1 ac, 1 ensuite, 1 tbb, 1 toolbox, 7.4ms\n",
            "image 934/2096 /content/unzipped_images/14943.png: 640x256 1 ac, 1 ensuite, 1 tbb, 7.7ms\n",
            "image 935/2096 /content/unzipped_images/14945.png: 640x224 1 ac, 1 ensuite, 1 tbb, 7.0ms\n",
            "image 936/2096 /content/unzipped_images/14950.png: 640x192 2 acs, 1 ensuite, 2 tbbs, 1 toolbox, 7.0ms\n",
            "image 937/2096 /content/unzipped_images/14957.png: 640x224 1 ac, 1 ensuite, 1 tbb, 1 toolbox, 6.7ms\n",
            "image 938/2096 /content/unzipped_images/14958.png: 640x224 1 ac, 1 ensuite, 1 tbb, 1 toolbox, 6.0ms\n",
            "image 939/2096 /content/unzipped_images/14959.png: 640x224 1 ac, 1 ensuite, 1 tbb, 1 toolbox, 6.1ms\n",
            "image 940/2096 /content/unzipped_images/14960.png: 640x224 2 acs, 1 ensuite, 1 tbb, 1 toolbox, 7.2ms\n",
            "image 941/2096 /content/unzipped_images/14961.png: 192x640 1 tbb, 6.9ms\n",
            "image 942/2096 /content/unzipped_images/14962.png: 640x224 1 ac, 1 ensuite, 1 tbb, 1 toolbox, 6.7ms\n",
            "image 943/2096 /content/unzipped_images/14963.png: 640x224 1 ac, 1 ensuite, 1 tbb, 1 toolbox, 6.0ms\n",
            "image 944/2096 /content/unzipped_images/14964.png: 640x192 2 acs, 1 ensuite, 1 tbb, 1 toolbox, 6.8ms\n",
            "image 945/2096 /content/unzipped_images/14965.png: 640x192 1 ac, 1 ensuite, 1 tbb, 1 toolbox, 5.9ms\n",
            "image 946/2096 /content/unzipped_images/14967.png: 128x640 1 tbb, 7.1ms\n",
            "image 947/2096 /content/unzipped_images/14968.png: 640x192 1 ac, 1 ensuite, 1 tbb, 1 toolbox, 6.7ms\n",
            "image 948/2096 /content/unzipped_images/14969.png: 640x192 1 ac, 1 ensuite, 1 tbb, 1 toolbox, 6.0ms\n",
            "image 949/2096 /content/unzipped_images/14970.png: 288x640 1 tbb, 7.2ms\n",
            "image 950/2096 /content/unzipped_images/14971.png: 640x192 1 ac, 1 ensuite, 1 tbb, 1 toolbox, 6.7ms\n",
            "image 951/2096 /content/unzipped_images/14979.png: 640x256 1 ac, 1 ensuite, 1 tbb, 1 toolbox, 6.8ms\n",
            "image 952/2096 /content/unzipped_images/14993.png: 640x224 1 ac, 1 ensuite, 1 tbb, 1 toolbox, 6.6ms\n",
            "image 953/2096 /content/unzipped_images/14997.png: 640x256 1 ac, 1 ensuite, 7.0ms\n",
            "image 954/2096 /content/unzipped_images/15026.png: 640x288 1 ac, 1 ensuite, 1 tbb, 6.8ms\n",
            "image 955/2096 /content/unzipped_images/15030.png: 640x256 1 ac, 1 ensuite, 1 tbb, 1 toolbox, 7.5ms\n",
            "image 956/2096 /content/unzipped_images/15033.png: 640x224 1 ac, 1 ensuite, 1 tbb, 1 toolbox, 7.6ms\n",
            "image 957/2096 /content/unzipped_images/15043.png: 640x256 1 ac, 1 ensuite, 1 tbb, 7.1ms\n",
            "image 958/2096 /content/unzipped_images/15052.png: 640x224 1 ac, 1 ensuite, 1 tbb, 1 toolbox, 7.1ms\n",
            "image 959/2096 /content/unzipped_images/15070.png: 640x224 1 ac, 1 ensuite, 1 tbb, 6.3ms\n",
            "image 960/2096 /content/unzipped_images/15072.png: 640x224 1 ac, 1 ensuite, 1 tbb, 6.0ms\n",
            "image 961/2096 /content/unzipped_images/15079.png: 640x224 1 ac, 1 ensuite, 1 tbb, 5.9ms\n",
            "image 962/2096 /content/unzipped_images/15080.png: 640x224 1 ac, 1 ensuite, 1 tbb, 6.0ms\n",
            "image 963/2096 /content/unzipped_images/15084.png: 640x256 1 ac, 1 ensuite, 1 tbb, 6.6ms\n",
            "image 964/2096 /content/unzipped_images/15086.png: 640x224 1 ac, 1 ensuite, 1 tbb, 7.1ms\n",
            "image 965/2096 /content/unzipped_images/15087.png: 640x224 1 ac, 1 ensuite, 1 tbb, 5.9ms\n",
            "image 966/2096 /content/unzipped_images/15089.png: 640x224 1 ac, 1 ensuite, 1 tbb, 6.3ms\n",
            "image 967/2096 /content/unzipped_images/15090.png: 640x192 2 acs, 1 ensuite, 1 tbb, 1 toolbox, 6.7ms\n",
            "image 968/2096 /content/unzipped_images/15094.png: 640x224 1 ac, 1 ensuite, 1 tbb, 6.9ms\n",
            "image 969/2096 /content/unzipped_images/15095.png: 640x256 1 ac, 1 ensuite, 1 tbb, 6.8ms\n",
            "image 970/2096 /content/unzipped_images/15097.png: 640x224 1 ac, 1 ensuite, 1 tbb, 6.7ms\n",
            "image 971/2096 /content/unzipped_images/15099.png: 640x256 1 ac, 1 ensuite, 1 tbb, 6.7ms\n",
            "image 972/2096 /content/unzipped_images/15108.png: 640x224 1 ac, 1 ensuite, 1 tbb, 1 toolbox, 7.1ms\n",
            "image 973/2096 /content/unzipped_images/15109.png: 640x224 1 ac, 1 ensuite, 1 tbb, 1 toolbox, 6.7ms\n",
            "image 974/2096 /content/unzipped_images/15110.png: 640x224 1 ac, 1 ensuite, 1 tbb, 1 toolbox, 6.8ms\n",
            "image 975/2096 /content/unzipped_images/15111.png: 640x224 1 ac, 1 ensuite, 1 tbb, 1 toolbox, 6.9ms\n",
            "image 976/2096 /content/unzipped_images/15112.png: 640x224 1 ac, 1 ensuite, 1 tbb, 1 toolbox, 6.9ms\n",
            "image 977/2096 /content/unzipped_images/15113.png: 640x224 1 ac, 1 ensuite, 1 tbb, 1 toolbox, 7.2ms\n",
            "image 978/2096 /content/unzipped_images/15114.png: 640x224 1 ac, 1 ensuite, 1 tbb, 1 toolbox, 7.4ms\n",
            "image 979/2096 /content/unzipped_images/15115.png: 640x224 1 ac, 1 ensuite, 1 tbb, 1 toolbox, 6.6ms\n",
            "image 980/2096 /content/unzipped_images/15116.png: 640x224 1 ac, 1 ensuite, 1 tbb, 1 toolbox, 5.8ms\n",
            "image 981/2096 /content/unzipped_images/15117.png: 640x224 1 ac, 1 ensuite, 1 tbb, 1 toolbox, 5.9ms\n",
            "image 982/2096 /content/unzipped_images/15118.png: 640x224 1 ac, 1 ensuite, 1 tbb, 1 toolbox, 5.8ms\n",
            "image 983/2096 /content/unzipped_images/15119.png: 640x224 1 ac, 1 ensuite, 1 tbb, 1 toolbox, 5.8ms\n",
            "image 984/2096 /content/unzipped_images/15120.png: 288x640 1 tbb, 6.8ms\n",
            "image 985/2096 /content/unzipped_images/15121.png: 640x224 1 ac, 1 ensuite, 1 tbb, 1 toolbox, 6.6ms\n",
            "image 986/2096 /content/unzipped_images/15122.png: 288x640 1 tbb, 6.7ms\n",
            "image 987/2096 /content/unzipped_images/15123.png: 640x224 2 acs, 1 ensuite, 1 tbb, 1 toolbox, 6.8ms\n",
            "image 988/2096 /content/unzipped_images/15124.png: 192x640 1 tbb, 6.8ms\n",
            "image 989/2096 /content/unzipped_images/15127.png: 192x640 1 tbb, 6.3ms\n",
            "image 990/2096 /content/unzipped_images/15128.png: 192x640 1 tbb, 6.3ms\n",
            "image 991/2096 /content/unzipped_images/15129.png: 640x192 1 ac, 1 ensuite, 1 tbb, 1 toolbox, 6.8ms\n",
            "image 992/2096 /content/unzipped_images/15130.png: 640x192 1 ac, 1 ensuite, 1 tbb, 1 toolbox, 7.2ms\n",
            "image 993/2096 /content/unzipped_images/15132.png: 640x192 2 acs, 1 ensuite, 1 tbb, 1 toolbox, 5.8ms\n",
            "image 994/2096 /content/unzipped_images/15133.png: 640x192 2 acs, 1 ensuite, 1 tbb, 1 toolbox, 6.1ms\n",
            "image 995/2096 /content/unzipped_images/15134.png: 640x192 1 ac, 1 ensuite, 1 tbb, 1 toolbox, 6.3ms\n",
            "image 996/2096 /content/unzipped_images/15135.png: 640x192 1 ac, 1 ensuite, 1 tbb, 1 toolbox, 8.5ms\n",
            "image 997/2096 /content/unzipped_images/15136.png: 640x192 1 ac, 1 ensuite, 1 tbb, 1 toolbox, 7.0ms\n",
            "image 998/2096 /content/unzipped_images/15138.png: 640x192 1 ac, 1 ensuite, 1 tbb, 1 toolbox, 6.6ms\n",
            "image 999/2096 /content/unzipped_images/15140.png: 128x640 1 tbb, 7.0ms\n",
            "image 1000/2096 /content/unzipped_images/15141.png: 128x640 1 tbb, 6.0ms\n",
            "image 1001/2096 /content/unzipped_images/15143.png: 128x640 1 tbb, 6.0ms\n",
            "image 1002/2096 /content/unzipped_images/15144.png: 128x640 1 tbb, 6.4ms\n",
            "image 1003/2096 /content/unzipped_images/15146.png: 640x192 1 ac, 1 ensuite, 1 tbb, 1 toolbox, 7.1ms\n",
            "image 1004/2096 /content/unzipped_images/15149.png: 640x192 1 ac, 1 ensuite, 1 tbb, 1 toolbox, 7.4ms\n",
            "image 1005/2096 /content/unzipped_images/15151.png: 640x192 1 ac, 1 ensuite, 1 tbb, 1 toolbox, 6.2ms\n",
            "image 1006/2096 /content/unzipped_images/15152.png: 640x192 1 ac, 1 ensuite, 1 tbb, 1 toolbox, 6.0ms\n",
            "image 1007/2096 /content/unzipped_images/15153.png: 640x192 1 ac, 1 ensuite, 1 tbb, 1 toolbox, 6.0ms\n",
            "image 1008/2096 /content/unzipped_images/15154.png: 640x192 1 ac, 2 ensuites, 1 tbb, 1 toolbox, 6.3ms\n",
            "image 1009/2096 /content/unzipped_images/15156.png: 640x192 1 ac, 1 ensuite, 1 tbb, 1 toolbox, 6.0ms\n",
            "image 1010/2096 /content/unzipped_images/15166.png: 640x224 1 ac, 1 ensuite, 1 tbb, 6.8ms\n",
            "image 1011/2096 /content/unzipped_images/15168.png: 640x224 1 ac, 1 ensuite, 1 tbb, 1 toolbox, 6.1ms\n",
            "image 1012/2096 /content/unzipped_images/15178.png: 640x224 1 ac, 1 ensuite, 1 tbb, 5.9ms\n",
            "image 1013/2096 /content/unzipped_images/15180.png: 640x224 1 ac, 1 ensuite, 1 tbb, 5.9ms\n",
            "image 1014/2096 /content/unzipped_images/15181.png: 640x224 1 ac, 1 ensuite, 1 tbb, 5.9ms\n",
            "image 1015/2096 /content/unzipped_images/15183.png: 640x256 1 ac, 1 ensuite, 1 tbb, 7.1ms\n",
            "image 1016/2096 /content/unzipped_images/15186.png: 640x224 1 ac, 1 ensuite, 1 tbb, 7.1ms\n",
            "image 1017/2096 /content/unzipped_images/15187.png: 640x256 1 ac, 1 ensuite, 1 tbb, 6.9ms\n",
            "image 1018/2096 /content/unzipped_images/15190.png: 640x224 1 ac, 1 ensuite, 1 tbb, 6.7ms\n",
            "image 1019/2096 /content/unzipped_images/15191.png: 640x224 1 ac, 1 ensuite, 1 tbb, 6.1ms\n",
            "image 1020/2096 /content/unzipped_images/15196.png: 640x224 1 ac, 1 ensuite, 1 tbb, 1 toolbox, 6.5ms\n",
            "image 1021/2096 /content/unzipped_images/15197.png: 640x192 1 ac, 1 ensuite, 1 tbb, 1 toolbox, 7.7ms\n",
            "image 1022/2096 /content/unzipped_images/15198.png: 640x192 2 acs, 1 ensuite, 1 tbb, 1 toolbox, 7.3ms\n",
            "image 1023/2096 /content/unzipped_images/15199.png: 640x192 1 ac, 1 ensuite, 1 tbb, 1 toolbox, 7.5ms\n",
            "image 1024/2096 /content/unzipped_images/15202.png: 640x192 1 ac, 1 ensuite, 1 tbb, 1 toolbox, 8.3ms\n",
            "image 1025/2096 /content/unzipped_images/15211.png: 640x256 1 ac, 1 ensuite, 1 tbb, 7.5ms\n",
            "image 1026/2096 /content/unzipped_images/15212.png: 640x224 1 ac, 1 ensuite, 1 tbb, 8.6ms\n",
            "image 1027/2096 /content/unzipped_images/15213.png: 640x224 1 ac, 1 ensuite, 1 tbb, 8.0ms\n",
            "image 1028/2096 /content/unzipped_images/15214.png: 640x256 1 ac, 1 ensuite, 1 tbb, 7.7ms\n",
            "image 1029/2096 /content/unzipped_images/15215.png: 640x224 1 ac, 1 ensuite, 1 tbb, 6.7ms\n",
            "image 1030/2096 /content/unzipped_images/15217.png: 640x224 1 ac, 1 ensuite, 1 tbb, 6.1ms\n",
            "image 1031/2096 /content/unzipped_images/15218.png: 640x224 1 ac, 1 ensuite, 1 tbb, 6.2ms\n",
            "image 1032/2096 /content/unzipped_images/15220.png: 640x224 1 ac, 1 ensuite, 1 tbb, 1 toolbox, 6.3ms\n",
            "image 1033/2096 /content/unzipped_images/15224.png: 640x224 1 ac, 1 ensuite, 1 tbb, 1 toolbox, 6.6ms\n",
            "image 1034/2096 /content/unzipped_images/15225.png: 640x224 2 acs, 1 ensuite, 1 tbb, 1 toolbox, 6.6ms\n",
            "image 1035/2096 /content/unzipped_images/15228.png: 640x192 2 acs, 1 ensuite, 1 tbb, 1 toolbox, 7.2ms\n",
            "image 1036/2096 /content/unzipped_images/15231.png: 640x192 1 ac, 1 ensuite, 1 tbb, 1 toolbox, 6.5ms\n",
            "image 1037/2096 /content/unzipped_images/15242.png: 640x224 1 ac, 1 ensuite, 1 tbb, 1 toolbox, 6.9ms\n",
            "image 1038/2096 /content/unzipped_images/15247.png: 640x192 1 ac, 1 ensuite, 1 tbb, 1 toolbox, 7.9ms\n",
            "image 1039/2096 /content/unzipped_images/15248.png: 640x192 2 acs, 1 ensuite, 1 tbb, 1 toolbox, 7.6ms\n",
            "image 1040/2096 /content/unzipped_images/15264.png: 640x192 2 acs, 1 ensuite, 1 tbb, 1 toolbox, 7.0ms\n",
            "image 1041/2096 /content/unzipped_images/15282.png: 640x224 1 ac, 1 ensuite, 1 tbb, 8.0ms\n",
            "image 1042/2096 /content/unzipped_images/15283.png: 640x288 2 acs, 1 ensuite, 1 tbb, 2 toolboxs, 7.4ms\n",
            "image 1043/2096 /content/unzipped_images/15299.png: 640x192 1 ac, 1 ensuite, 1 tbb, 1 toolbox, 8.0ms\n",
            "image 1044/2096 /content/unzipped_images/15302.png: 640x192 1 ac, 1 ensuite, 1 tbb, 1 toolbox, 6.5ms\n",
            "image 1045/2096 /content/unzipped_images/15304.png: 640x192 1 ac, 1 ensuite, 1 tbb, 1 toolbox, 6.6ms\n",
            "image 1046/2096 /content/unzipped_images/15314.png: 640x256 1 ac, 1 ensuite, 1 tbb, 1 toolbox, 7.4ms\n",
            "image 1047/2096 /content/unzipped_images/15317.png: 640x224 1 ac, 1 ensuite, 2 tbbs, 7.5ms\n",
            "image 1048/2096 /content/unzipped_images/15319.png: 640x256 1 ac, 1 ensuite, 1 tbb, 1 toolbox, 7.3ms\n",
            "image 1049/2096 /content/unzipped_images/image_1.png: 640x224 1 ac, 1 ensuite, 1 tbb, 1 toolbox, 7.9ms\n",
            "image 1050/2096 /content/unzipped_images/image_10.png: 640x224 1 ac, 1 ensuite, 1 tbb, 9.0ms\n",
            "image 1051/2096 /content/unzipped_images/image_100.png: 640x224 1 ac, 1 ensuite, 1 tbb, 1 toolbox, 7.1ms\n",
            "image 1052/2096 /content/unzipped_images/image_101.png: 640x288 1 ac, 1 ensuite, 1 tbb, 1 toolbox, 7.4ms\n",
            "image 1053/2096 /content/unzipped_images/image_102.png: 640x192 1 ac, 1 ensuite, 1 tbb, 1 toolbox, 6.8ms\n",
            "image 1054/2096 /content/unzipped_images/image_103.png: 640x256 1 ac, 1 ensuite, 1 tbb, 1 toolbox, 7.0ms\n",
            "image 1055/2096 /content/unzipped_images/image_1037.png: 416x640 1 ac, 1 ensuite, 1 tbb, 1 toolbox, 7.7ms\n",
            "image 1056/2096 /content/unzipped_images/image_1038.png: 416x640 1 ac, 1 ensuite, 1 tbb, 1 toolbox, 7.4ms\n",
            "image 1057/2096 /content/unzipped_images/image_1039.png: 640x224 1 ac, 1 ensuite, 1 tbb, 1 toolbox, 7.8ms\n",
            "image 1058/2096 /content/unzipped_images/image_104.png: 640x224 1 ac, 1 ensuite, 1 tbb, 1 toolbox, 6.0ms\n",
            "image 1059/2096 /content/unzipped_images/image_1040.png: 640x288 1 ac, 1 ensuite, 1 tbb, 1 toolbox, 7.2ms\n",
            "image 1060/2096 /content/unzipped_images/image_105.png: 640x224 1 ac, 1 ensuite, 1 tbb, 1 toolbox, 8.3ms\n",
            "image 1061/2096 /content/unzipped_images/image_106.png: 640x224 1 ac, 1 ensuite, 1 tbb, 1 toolbox, 7.4ms\n",
            "image 1062/2096 /content/unzipped_images/image_107.png: 640x192 1 ac, 1 ensuite, 1 tbb, 1 toolbox, 8.4ms\n",
            "image 1063/2096 /content/unzipped_images/image_108.png: 640x224 1 ac, 1 ensuite, 1 tbb, 1 toolbox, 8.7ms\n",
            "image 1064/2096 /content/unzipped_images/image_109.png: 640x224 1 ac, 1 ensuite, 1 tbb, 1 toolbox, 7.0ms\n",
            "image 1065/2096 /content/unzipped_images/image_11.png: 640x224 1 ac, 1 ensuite, 1 tbb, 1 toolbox, 9.5ms\n",
            "image 1066/2096 /content/unzipped_images/image_110.png: 640x224 1 ac, 1 ensuite, 1 tbb, 9.3ms\n",
            "image 1067/2096 /content/unzipped_images/image_1105.png: 640x224 1 ac, 1 ensuite, 1 tbb, 1 toolbox, 7.4ms\n",
            "image 1068/2096 /content/unzipped_images/image_1106.png: 640x224 1 ac, 1 ensuite, 1 tbb, 1 toolbox, 6.3ms\n",
            "image 1069/2096 /content/unzipped_images/image_1107.png: 640x224 1 ac, 1 ensuite, 1 tbb, 1 toolbox, 7.0ms\n",
            "image 1070/2096 /content/unzipped_images/image_1108.png: 640x224 1 ac, 1 ensuite, 1 tbb, 1 toolbox, 6.6ms\n",
            "image 1071/2096 /content/unzipped_images/image_1109.png: 640x224 1 ac, 1 ensuite, 1 tbb, 1 toolbox, 7.2ms\n",
            "image 1072/2096 /content/unzipped_images/image_111.png: 640x224 1 ac, 1 ensuite, 1 tbb, 1 toolbox, 6.6ms\n",
            "image 1073/2096 /content/unzipped_images/image_1110.png: 640x224 1 ac, 1 ensuite, 1 tbb, 1 toolbox, 6.8ms\n",
            "image 1074/2096 /content/unzipped_images/image_1111.png: 640x224 1 ac, 1 ensuite, 1 tbb, 1 toolbox, 6.6ms\n",
            "image 1075/2096 /content/unzipped_images/image_1112.png: 288x640 1 tbb, 7.5ms\n",
            "image 1076/2096 /content/unzipped_images/image_1113.png: 288x640 1 tbb, 6.7ms\n",
            "image 1077/2096 /content/unzipped_images/image_1114.png: 192x640 1 tbb, 7.3ms\n",
            "image 1078/2096 /content/unzipped_images/image_1115.png: 640x224 1 ac, 1 ensuite, 1 tbb, 1 toolbox, 6.9ms\n",
            "image 1079/2096 /content/unzipped_images/image_1116.png: 640x224 1 ac, 1 ensuite, 1 tbb, 1 toolbox, 6.5ms\n",
            "image 1080/2096 /content/unzipped_images/image_1117.png: 640x224 1 ac, 1 ensuite, 1 tbb, 1 toolbox, 9.9ms\n",
            "image 1081/2096 /content/unzipped_images/image_1118.png: 640x224 1 ac, 1 ensuite, 1 tbb, 1 toolbox, 10.6ms\n",
            "image 1082/2096 /content/unzipped_images/image_1119.png: 640x224 1 ac, 1 ensuite, 1 tbb, 1 toolbox, 6.6ms\n",
            "image 1083/2096 /content/unzipped_images/image_112.png: 640x224 1 ac, 1 ensuite, 1 tbb, 1 toolbox, 6.4ms\n",
            "image 1084/2096 /content/unzipped_images/image_1120.png: 640x224 1 ac, 1 ensuite, 1 tbb, 1 toolbox, 6.5ms\n",
            "image 1085/2096 /content/unzipped_images/image_1121.png: 640x224 2 acs, 1 ensuite, 1 tbb, 1 toolbox, 6.6ms\n",
            "image 1086/2096 /content/unzipped_images/image_1122.png: 192x640 1 tbb, 7.1ms\n",
            "image 1087/2096 /content/unzipped_images/image_1123.png: 192x640 1 tbb, 6.2ms\n",
            "image 1088/2096 /content/unzipped_images/image_1124.png: 640x192 1 ac, 1 ensuite, 1 tbb, 1 toolbox, 7.0ms\n",
            "image 1089/2096 /content/unzipped_images/image_1125.png: 640x192 2 acs, 1 ensuite, 1 tbb, 1 toolbox, 6.1ms\n",
            "image 1090/2096 /content/unzipped_images/image_1126.png: 640x192 1 ac, 1 ensuite, 1 tbb, 1 toolbox, 6.1ms\n",
            "image 1091/2096 /content/unzipped_images/image_1127.png: 128x640 1 tbb, 6.9ms\n",
            "image 1092/2096 /content/unzipped_images/image_1128.png: 128x640 1 tbb, 6.7ms\n",
            "image 1093/2096 /content/unzipped_images/image_1129.png: 128x640 1 tbb, 6.2ms\n",
            "image 1094/2096 /content/unzipped_images/image_113.png: 640x192 1 ac, 1 ensuite, 1 tbb, 1 toolbox, 6.8ms\n",
            "image 1095/2096 /content/unzipped_images/image_1130.png: 128x640 1 tbb, 7.9ms\n",
            "image 1096/2096 /content/unzipped_images/image_1131.png: 640x192 1 ac, 1 ensuite, 1 tbb, 1 toolbox, 6.7ms\n",
            "image 1097/2096 /content/unzipped_images/image_1132.png: 640x192 1 ac, 1 ensuite, 1 tbb, 1 toolbox, 6.3ms\n",
            "image 1098/2096 /content/unzipped_images/image_1133.png: 640x192 1 ac, 1 ensuite, 1 tbb, 1 toolbox, 6.0ms\n",
            "image 1099/2096 /content/unzipped_images/image_1134.png: 640x224 1 ac, 1 ensuite, 1 tbb, 1 toolbox, 7.1ms\n",
            "image 1100/2096 /content/unzipped_images/image_1135.png: 640x224 1 ac, 1 ensuite, 1 tbb, 6.2ms\n",
            "image 1101/2096 /content/unzipped_images/image_1136.png: 640x224 1 ac, 1 ensuite, 1 tbb, 5.8ms\n",
            "image 1102/2096 /content/unzipped_images/image_1137.png: 640x224 1 ac, 1 ensuite, 1 tbb, 6.0ms\n",
            "image 1103/2096 /content/unzipped_images/image_1138.png: 640x224 1 ac, 1 ensuite, 1 tbb, 1 toolbox, 6.0ms\n",
            "image 1104/2096 /content/unzipped_images/image_1139.png: 640x192 1 ensuite, 1 tbb, 1 toolbox, 10.4ms\n",
            "image 1105/2096 /content/unzipped_images/image_114.png: 640x256 1 ac, 1 ensuite, 1 tbb, 1 toolbox, 9.0ms\n",
            "image 1106/2096 /content/unzipped_images/image_1140.png: 640x224 2 acs, 1 ensuite, 2 tbbs, 1 toolbox, 7.1ms\n",
            "image 1107/2096 /content/unzipped_images/image_1141.png: 640x256 1 ac, 1 ensuite, 1 tbb, 1 toolbox, 8.8ms\n",
            "image 1108/2096 /content/unzipped_images/image_1142.png: 640x224 1 ac, 1 ensuite, 2 tbbs, 6.8ms\n",
            "image 1109/2096 /content/unzipped_images/image_1143.png: 640x224 1 ac, 1 ensuite, 1 tbb, 1 toolbox, 7.9ms\n",
            "image 1110/2096 /content/unzipped_images/image_1144.png: 640x288 1 ensuite, 1 tbb, 7.3ms\n",
            "image 1111/2096 /content/unzipped_images/image_1146.png: 640x192 1 ac, 1 ensuite, 1 tbb, 1 toolbox, 7.0ms\n",
            "image 1112/2096 /content/unzipped_images/image_1147.png: 640x192 1 ac, 1 ensuite, 1 tbb, 1 toolbox, 6.3ms\n",
            "image 1113/2096 /content/unzipped_images/image_1148.png: 640x192 2 acs, 1 ensuite, 1 tbb, 1 toolbox, 6.6ms\n",
            "image 1114/2096 /content/unzipped_images/image_1149.png: 640x192 1 ac, 1 ensuite, 1 tbb, 1 toolbox, 6.4ms\n",
            "image 1115/2096 /content/unzipped_images/image_115.png: 640x224 1 ac, 1 ensuite, 1 tbb, 1 toolbox, 7.2ms\n",
            "image 1116/2096 /content/unzipped_images/image_1150.png: 640x192 1 ac, 1 ensuite, 1 tbb, 1 toolbox, 7.1ms\n",
            "image 1117/2096 /content/unzipped_images/image_1151.png: 640x192 1 ac, 1 ensuite, 1 tbb, 1 toolbox, 6.4ms\n",
            "image 1118/2096 /content/unzipped_images/image_1152.png: 640x192 1 ac, 1 ensuite, 1 tbb, 1 toolbox, 6.5ms\n",
            "image 1119/2096 /content/unzipped_images/image_1153.png: 640x192 1 ac, 1 ensuite, 1 tbb, 1 toolbox, 6.5ms\n",
            "image 1120/2096 /content/unzipped_images/image_1154.png: 640x192 1 ac, 2 ensuites, 1 tbb, 1 toolbox, 6.7ms\n",
            "image 1121/2096 /content/unzipped_images/image_1155.png: 640x192 1 ac, 1 ensuite, 1 tbb, 1 toolbox, 6.7ms\n",
            "image 1122/2096 /content/unzipped_images/image_1156.png: 640x224 1 ac, 1 ensuite, 1 tbb, 6.9ms\n",
            "image 1123/2096 /content/unzipped_images/image_1157.png: 640x224 1 ac, 1 ensuite, 1 tbb, 6.3ms\n",
            "image 1124/2096 /content/unzipped_images/image_1158.png: 640x224 1 ac, 1 ensuite, 1 tbb, 1 toolbox, 6.4ms\n",
            "image 1125/2096 /content/unzipped_images/image_1159.png: 640x192 1 ac, 1 ensuite, 1 tbb, 1 toolbox, 9.4ms\n",
            "image 1126/2096 /content/unzipped_images/image_116.png: 640x256 1 ac, 1 ensuite, 1 tbb, 1 toolbox, 10.5ms\n",
            "image 1127/2096 /content/unzipped_images/image_1160.png: 640x192 2 acs, 1 ensuite, 1 tbb, 1 toolbox, 6.8ms\n",
            "image 1128/2096 /content/unzipped_images/image_1161.png: 640x192 1 ac, 1 ensuite, 1 tbb, 1 toolbox, 6.3ms\n",
            "image 1129/2096 /content/unzipped_images/image_1162.png: 640x192 1 ac, 1 ensuite, 1 tbb, 1 toolbox, 6.4ms\n",
            "image 1130/2096 /content/unzipped_images/image_1163.png: 640x192 2 acs, 1 ensuite, 1 tbb, 1 toolbox, 6.2ms\n",
            "image 1131/2096 /content/unzipped_images/image_1164.png: 640x224 1 ac, 1 ensuite, 1 tbb, 7.2ms\n",
            "image 1132/2096 /content/unzipped_images/image_1165.png: 640x224 1 ac, 1 ensuite, 1 tbb, 6.2ms\n",
            "image 1133/2096 /content/unzipped_images/image_1166.png: 640x224 1 ac, 1 ensuite, 1 tbb, 1 toolbox, 6.1ms\n",
            "image 1134/2096 /content/unzipped_images/image_1167.png: 640x224 1 ac, 1 ensuite, 1 tbb, 1 toolbox, 8.5ms\n",
            "image 1135/2096 /content/unzipped_images/image_1168.png: 640x224 2 acs, 1 ensuite, 1 tbb, 1 toolbox, 6.4ms\n",
            "image 1136/2096 /content/unzipped_images/image_1169.png: 640x192 2 acs, 1 ensuite, 1 tbb, 1 toolbox, 7.6ms\n",
            "image 1137/2096 /content/unzipped_images/image_117.png: 640x224 1 ac, 1 ensuite, 1 tbb, 10.1ms\n",
            "image 1138/2096 /content/unzipped_images/image_1170.png: 640x192 2 acs, 1 ensuite, 1 tbb, 1 toolbox, 9.1ms\n",
            "image 1139/2096 /content/unzipped_images/image_1171.png: 640x192 1 ac, 1 ensuite, 1 tbb, 1 toolbox, 6.9ms\n",
            "image 1140/2096 /content/unzipped_images/image_1172.png: 640x224 1 ac, 1 ensuite, 1 tbb, 1 toolbox, 7.5ms\n",
            "image 1141/2096 /content/unzipped_images/image_1173.png: 640x192 1 ac, 1 ensuite, 1 tbb, 1 toolbox, 10.1ms\n",
            "image 1142/2096 /content/unzipped_images/image_1174.png: 640x192 2 acs, 1 ensuite, 1 tbb, 1 toolbox, 7.0ms\n",
            "image 1143/2096 /content/unzipped_images/image_1175.png: 640x224 1 ac, 1 ensuite, 1 tbb, 7.5ms\n",
            "image 1144/2096 /content/unzipped_images/image_1176.png: 640x288 2 acs, 1 ensuite, 1 tbb, 2 toolboxs, 7.3ms\n",
            "image 1145/2096 /content/unzipped_images/image_1177.png: 640x192 1 ac, 1 ensuite, 1 tbb, 1 toolbox, 6.8ms\n",
            "image 1146/2096 /content/unzipped_images/image_1178.png: 640x192 1 ac, 1 ensuite, 1 tbb, 1 toolbox, 6.9ms\n",
            "image 1147/2096 /content/unzipped_images/image_1179.png: 640x192 1 ac, 1 ensuite, 1 tbb, 1 toolbox, 10.0ms\n",
            "image 1148/2096 /content/unzipped_images/image_118.png: 640x256 1 ac, 1 ensuite, 1 tbb, 1 toolbox, 7.9ms\n",
            "image 1149/2096 /content/unzipped_images/image_1180.png: 640x256 1 ac, 1 ensuite, 1 tbb, 1 toolbox, 6.3ms\n",
            "image 1150/2096 /content/unzipped_images/image_119.png: 640x192 1 ac, 1 ensuite, 1 tbb, 1 toolbox, 6.8ms\n",
            "image 1151/2096 /content/unzipped_images/image_12.png: 640x224 1 ac, 1 ensuite, 1 tbb, 1 toolbox, 8.5ms\n",
            "image 1152/2096 /content/unzipped_images/image_120.png: 640x224 1 ac, 1 ensuite, 1 tbb, 1 toolbox, 6.1ms\n",
            "image 1153/2096 /content/unzipped_images/image_121.png: 640x256 1 ac, 1 ensuite, 1 tbb, 1 toolbox, 6.8ms\n",
            "image 1154/2096 /content/unzipped_images/image_122.png: 640x224 1 ac, 1 ensuite, 1 tbb, 1 toolbox, 7.2ms\n",
            "image 1155/2096 /content/unzipped_images/image_123.png: 640x224 1 ac, 1 ensuite, 1 tbb, 8.9ms\n",
            "image 1156/2096 /content/unzipped_images/image_124.png: 640x192 1 ac, 1 ensuite, 1 tbb, 1 toolbox, 7.1ms\n",
            "image 1157/2096 /content/unzipped_images/image_125.png: 640x224 1 ac, 1 ensuite, 1 tbb, 1 toolbox, 6.5ms\n",
            "image 1158/2096 /content/unzipped_images/image_126.png: 640x224 1 ac, 1 ensuite, 1 tbb, 1 toolbox, 6.1ms\n",
            "image 1159/2096 /content/unzipped_images/image_127.png: 640x224 1 ac, 1 ensuite, 1 tbb, 6.1ms\n",
            "image 1160/2096 /content/unzipped_images/image_128.png: 640x224 1 ac, 1 ensuite, 1 tbb, 9.0ms\n",
            "image 1161/2096 /content/unzipped_images/image_129.png: 640x288 1 ac, 1 ensuite, 1 tbb, 9.1ms\n",
            "image 1162/2096 /content/unzipped_images/image_13.png: 640x224 1 ac, 1 ensuite, 1 tbb, 1 toolbox, 7.0ms\n",
            "image 1163/2096 /content/unzipped_images/image_130.png: 640x224 1 ac, 1 ensuite, 1 tbb, 1 toolbox, 6.3ms\n",
            "image 1164/2096 /content/unzipped_images/image_131.png: 640x192 1 ac, 1 ensuite, 1 tbb, 1 toolbox, 7.0ms\n",
            "image 1165/2096 /content/unzipped_images/image_132.png: 640x288 1 ac, 1 ensuite, 1 tbb, 1 toolbox, 7.2ms\n",
            "image 1166/2096 /content/unzipped_images/image_133.png: 640x224 1 ac, 1 ensuite, 1 tbb, 1 toolbox, 6.6ms\n",
            "image 1167/2096 /content/unzipped_images/image_134.png: 640x224 1 ac, 1 ensuite, 1 tbb, 1 toolbox, 6.2ms\n",
            "image 1168/2096 /content/unzipped_images/image_135.png: 640x224 1 ac, 1 ensuite, 1 tbb, 7.1ms\n",
            "image 1169/2096 /content/unzipped_images/image_136.png: 640x224 1 ac, 1 ensuite, 1 tbb, 1 toolbox, 6.2ms\n",
            "image 1170/2096 /content/unzipped_images/image_137.png: 640x224 1 ac, 1 ensuite, 1 tbb, 1 toolbox, 6.2ms\n",
            "image 1171/2096 /content/unzipped_images/image_138.png: 640x224 1 ac, 1 ensuite, 1 tbb, 1 toolbox, 6.3ms\n",
            "image 1172/2096 /content/unzipped_images/image_14.png: 640x224 1 ac, 1 ensuite, 1 tbb, 1 toolbox, 6.5ms\n",
            "image 1173/2096 /content/unzipped_images/image_140.png: 640x224 1 ac, 1 ensuite, 1 tbb, 1 toolbox, 9.0ms\n",
            "image 1174/2096 /content/unzipped_images/image_141.png: 640x224 1 ac, 1 ensuite, 1 tbb, 1 toolbox, 8.6ms\n",
            "image 1175/2096 /content/unzipped_images/image_142.png: 640x224 1 ac, 1 ensuite, 1 tbb, 1 toolbox, 8.6ms\n",
            "image 1176/2096 /content/unzipped_images/image_145.png: 640x192 1 ac, 1 ensuite, 1 tbb, 1 toolbox, 6.9ms\n",
            "image 1177/2096 /content/unzipped_images/image_146.png: 640x192 1 ac, 1 ensuite, 1 tbb, 1 toolbox, 8.5ms\n",
            "image 1178/2096 /content/unzipped_images/image_147.png: 640x224 1 ac, 1 ensuite, 1 tbb, 1 toolbox, 7.8ms\n",
            "image 1179/2096 /content/unzipped_images/image_148.png: 640x224 1 ac, 1 ensuite, 1 tbb, 1 toolbox, 6.4ms\n",
            "image 1180/2096 /content/unzipped_images/image_149.png: 640x224 1 ac, 1 ensuite, 1 tbb, 1 toolbox, 6.0ms\n",
            "image 1181/2096 /content/unzipped_images/image_15.png: 640x192 1 ac, 1 ensuite, 1 tbb, 1 toolbox, 6.8ms\n",
            "image 1182/2096 /content/unzipped_images/image_150.png: 640x224 1 ac, 1 ensuite, 1 tbb, 1 toolbox, 7.0ms\n",
            "image 1183/2096 /content/unzipped_images/image_151.png: 640x224 1 ac, 1 ensuite, 1 tbb, 1 toolbox, 5.9ms\n",
            "image 1184/2096 /content/unzipped_images/image_152.png: 640x256 1 ac, 1 ensuite, 1 tbb, 1 toolbox, 6.9ms\n",
            "image 1185/2096 /content/unzipped_images/image_153.png: 640x256 1 ac, 1 ensuite, 1 tbb, 1 toolbox, 6.3ms\n",
            "image 1186/2096 /content/unzipped_images/image_154.png: 640x256 1 ac, 1 ensuite, 1 tbb, 1 toolbox, 6.8ms\n",
            "image 1187/2096 /content/unzipped_images/image_155.png: 640x224 1 ac, 1 ensuite, 1 tbb, 8.5ms\n",
            "image 1188/2096 /content/unzipped_images/image_156.png: 640x256 1 ac, 1 ensuite, 1 tbb, 8.9ms\n",
            "image 1189/2096 /content/unzipped_images/image_157.png: 640x256 1 ac, 1 ensuite, 1 tbb, 1 toolbox, 7.6ms\n",
            "image 1190/2096 /content/unzipped_images/image_158.png: 640x192 1 ac, 1 ensuite, 1 tbb, 1 toolbox, 8.3ms\n",
            "image 1191/2096 /content/unzipped_images/image_159.png: 640x224 1 ac, 1 ensuite, 1 tbb, 1 toolbox, 8.7ms\n",
            "image 1192/2096 /content/unzipped_images/image_16.png: 640x224 1 ac, 1 ensuite, 1 tbb, 6.4ms\n",
            "image 1193/2096 /content/unzipped_images/image_160.png: 640x224 1 ac, 1 ensuite, 1 tbb, 1 toolbox, 6.0ms\n",
            "image 1194/2096 /content/unzipped_images/image_161.png: 640x256 1 ac, 1 ensuite, 1 tbb, 1 toolbox, 6.8ms\n",
            "image 1195/2096 /content/unzipped_images/image_162.png: 640x224 1 ac, 1 ensuite, 1 tbb, 1 toolbox, 7.0ms\n",
            "image 1196/2096 /content/unzipped_images/image_163.png: 640x224 1 ac, 1 ensuite, 1 tbb, 1 toolbox, 6.2ms\n",
            "image 1197/2096 /content/unzipped_images/image_164.png: 640x224 1 ac, 1 ensuite, 1 tbb, 6.2ms\n",
            "image 1198/2096 /content/unzipped_images/image_165.png: 640x224 1 ac, 1 ensuite, 1 tbb, 1 toolbox, 6.1ms\n",
            "image 1199/2096 /content/unzipped_images/image_166.png: 640x224 1 ac, 1 ensuite, 1 tbb, 1 toolbox, 6.1ms\n",
            "image 1200/2096 /content/unzipped_images/image_167.png: 640x256 1 ac, 1 ensuite, 1 tbb, 1 toolbox, 7.3ms\n",
            "image 1201/2096 /content/unzipped_images/image_168.png: 640x256 1 ac, 1 ensuite, 1 tbb, 1 toolbox, 6.6ms\n",
            "image 1202/2096 /content/unzipped_images/image_169.png: 640x192 1 ac, 1 ensuite, 1 tbb, 1 toolbox, 7.2ms\n",
            "image 1203/2096 /content/unzipped_images/image_17.png: 640x192 1 ac, 1 ensuite, 1 tbb, 1 toolbox, 6.0ms\n",
            "image 1204/2096 /content/unzipped_images/image_170.png: 640x288 1 ac, 1 ensuite, 1 tbb, 1 toolbox, 7.2ms\n",
            "image 1205/2096 /content/unzipped_images/image_171.png: 640x224 1 ac, 1 ensuite, 1 tbb, 1 toolbox, 7.0ms\n",
            "image 1206/2096 /content/unzipped_images/image_172.png: 640x224 1 ac, 1 ensuite, 1 tbb, 1 toolbox, 6.2ms\n",
            "image 1207/2096 /content/unzipped_images/image_173.png: 640x224 1 ac, 1 ensuite, 1 tbb, 1 toolbox, 6.2ms\n",
            "image 1208/2096 /content/unzipped_images/image_174.png: 640x224 1 ac, 1 ensuite, 1 tbb, 1 toolbox, 6.3ms\n",
            "image 1209/2096 /content/unzipped_images/image_175.png: 640x224 1 ac, 1 ensuite, 1 tbb, 1 toolbox, 6.1ms\n",
            "image 1210/2096 /content/unzipped_images/image_176.png: 640x192 1 ac, 1 ensuite, 1 tbb, 1 toolbox, 8.1ms\n",
            "image 1211/2096 /content/unzipped_images/image_177.png: 640x224 1 ac, 1 ensuite, 1 tbb, 1 toolbox, 6.7ms\n",
            "image 1212/2096 /content/unzipped_images/image_178.png: 640x224 1 ac, 1 ensuite, 1 tbb, 1 toolbox, 6.8ms\n",
            "image 1213/2096 /content/unzipped_images/image_179.png: 640x224 1 ac, 1 ensuite, 1 tbb, 1 toolbox, 6.3ms\n",
            "image 1214/2096 /content/unzipped_images/image_18.png: 640x192 1 ac, 1 ensuite, 1 tbb, 1 toolbox, 7.3ms\n",
            "image 1215/2096 /content/unzipped_images/image_180.png: 640x256 1 ac, 1 ensuite, 1 tbb, 1 toolbox, 7.0ms\n",
            "image 1216/2096 /content/unzipped_images/image_181.png: 640x256 1 ac, 2 ensuites, 1 tbb, 6.6ms\n",
            "image 1217/2096 /content/unzipped_images/image_182.png: 640x224 1 ac, 1 ensuite, 1 tbb, 1 toolbox, 6.7ms\n",
            "image 1218/2096 /content/unzipped_images/image_183.png: 640x224 1 ac, 1 ensuite, 1 tbb, 1 toolbox, 6.3ms\n",
            "image 1219/2096 /content/unzipped_images/image_184.png: 640x224 1 ac, 1 ensuite, 1 tbb, 1 toolbox, 6.7ms\n",
            "image 1220/2096 /content/unzipped_images/image_185.png: 640x224 1 ac, 1 ensuite, 1 tbb, 1 toolbox, 6.9ms\n",
            "image 1221/2096 /content/unzipped_images/image_186.png: 640x192 1 ac, 1 ensuite, 1 tbb, 7.2ms\n",
            "image 1222/2096 /content/unzipped_images/image_187.png: 640x224 1 ac, 1 ensuite, 1 tbb, 1 toolbox, 7.6ms\n",
            "image 1223/2096 /content/unzipped_images/image_188.png: 640x256 1 ac, 1 ensuite, 1 tbb, 1 toolbox, 7.3ms\n",
            "image 1224/2096 /content/unzipped_images/image_189.png: 640x192 1 ac, 1 ensuite, 1 tbb, 1 toolbox, 7.5ms\n",
            "image 1225/2096 /content/unzipped_images/image_19.png: 640x224 1 ac, 1 ensuite, 1 tbb, 1 toolbox, 7.0ms\n",
            "image 1226/2096 /content/unzipped_images/image_190.png: 640x192 1 ac, 1 ensuite, 1 tbb, 1 toolbox, 7.6ms\n",
            "image 1227/2096 /content/unzipped_images/image_191.png: 640x224 1 ac, 1 ensuite, 1 tbb, 1 toolbox, 8.0ms\n",
            "image 1228/2096 /content/unzipped_images/image_192.png: 640x256 1 ac, 1 ensuite, 1 tbb, 1 toolbox, 7.9ms\n",
            "image 1229/2096 /content/unzipped_images/image_193.png: 640x192 1 ac, 1 ensuite, 1 tbb, 1 toolbox, 7.8ms\n",
            "image 1230/2096 /content/unzipped_images/image_194.png: 640x288 1 ac, 1 ensuite, 1 tbb, 7.6ms\n",
            "image 1231/2096 /content/unzipped_images/image_195.png: 640x224 1 ac, 1 ensuite, 1 tbb, 1 toolbox, 7.7ms\n",
            "image 1232/2096 /content/unzipped_images/image_196.png: 640x224 1 ac, 1 ensuite, 1 tbb, 1 toolbox, 5.9ms\n",
            "image 1233/2096 /content/unzipped_images/image_197.png: 640x224 1 ac, 1 ensuite, 1 tbb, 1 toolbox, 6.0ms\n",
            "image 1234/2096 /content/unzipped_images/image_198.png: 640x288 1 ac, 1 ensuite, 1 tbb, 7.4ms\n",
            "image 1235/2096 /content/unzipped_images/image_199.png: 640x192 1 ensuite, 1 toolbox, 6.6ms\n",
            "image 1236/2096 /content/unzipped_images/image_2.png: 640x224 1 ac, 1 ensuite, 1 tbb, 1 toolbox, 6.9ms\n",
            "image 1237/2096 /content/unzipped_images/image_20.png: 640x224 1 ac, 1 ensuite, 1 tbb, 6.3ms\n",
            "image 1238/2096 /content/unzipped_images/image_200.png: 640x224 1 ac, 1 ensuite, 1 tbb, 1 toolbox, 6.1ms\n",
            "image 1239/2096 /content/unzipped_images/image_201.png: 640x192 1 ac, 1 ensuite, 1 tbb, 1 toolbox, 7.1ms\n",
            "image 1240/2096 /content/unzipped_images/image_202.png: 640x224 1 ac, 1 ensuite, 1 tbb, 1 toolbox, 7.0ms\n",
            "image 1241/2096 /content/unzipped_images/image_204.png: 640x224 1 ac, 1 ensuite, 1 tbb, 1 toolbox, 6.3ms\n",
            "image 1242/2096 /content/unzipped_images/image_205.png: 640x288 1 ac, 1 ensuite, 1 tbb, 7.3ms\n",
            "image 1243/2096 /content/unzipped_images/image_206.png: 640x224 1 ac, 1 ensuite, 1 tbb, 1 toolbox, 6.9ms\n",
            "image 1244/2096 /content/unzipped_images/image_207.png: 640x256 1 ac, 1 ensuite, 1 tbb, 7.0ms\n",
            "image 1245/2096 /content/unzipped_images/image_209.png: 640x224 1 ac, 1 ensuite, 1 tbb, 1 toolbox, 8.0ms\n",
            "image 1246/2096 /content/unzipped_images/image_210.png: 640x224 1 ac, 1 ensuite, 1 tbb, 1 toolbox, 7.0ms\n",
            "image 1247/2096 /content/unzipped_images/image_211.png: 640x224 1 ac, 1 ensuite, 1 tbb, 1 toolbox, 8.5ms\n",
            "image 1248/2096 /content/unzipped_images/image_212.png: 640x224 1 ac, 1 ensuite, 1 tbb, 6.8ms\n",
            "image 1249/2096 /content/unzipped_images/image_213.png: 640x288 1 ac, 1 ensuite, 1 tbb, 7.2ms\n",
            "image 1250/2096 /content/unzipped_images/image_214.png: 640x192 1 ac, 1 ensuite, 1 tbb, 1 toolbox, 7.1ms\n",
            "image 1251/2096 /content/unzipped_images/image_215.png: 640x224 1 ac, 1 ensuite, 1 tbb, 1 toolbox, 7.2ms\n",
            "image 1252/2096 /content/unzipped_images/image_216.png: 640x224 1 ac, 1 ensuite, 1 tbb, 1 toolbox, 6.3ms\n",
            "image 1253/2096 /content/unzipped_images/image_217.png: 640x224 1 ac, 1 ensuite, 1 tbb, 1 toolbox, 6.7ms\n",
            "image 1254/2096 /content/unzipped_images/image_218.png: 640x224 1 ac, 1 ensuite, 1 tbb, 1 toolbox, 6.3ms\n",
            "image 1255/2096 /content/unzipped_images/image_219.png: 640x192 1 ac, 1 ensuite, 1 tbb, 1 toolbox, 6.9ms\n",
            "image 1256/2096 /content/unzipped_images/image_22.png: 640x192 1 ac, 1 ensuite, 1 tbb, 1 toolbox, 6.2ms\n",
            "image 1257/2096 /content/unzipped_images/image_220.png: 640x224 1 ac, 1 ensuite, 1 tbb, 1 toolbox, 6.9ms\n",
            "image 1258/2096 /content/unzipped_images/image_221.png: 640x224 1 ac, 1 ensuite, 1 tbb, 1 toolbox, 6.1ms\n",
            "image 1259/2096 /content/unzipped_images/image_222.png: 640x224 1 ac, 1 ensuite, 1 tbb, 1 toolbox, 6.0ms\n",
            "image 1260/2096 /content/unzipped_images/image_223.png: 640x224 1 ac, 1 ensuite, 1 tbb, 1 toolbox, 6.9ms\n",
            "image 1261/2096 /content/unzipped_images/image_224.png: 640x224 1 ac, 1 ensuite, 1 tbb, 1 toolbox, 5.8ms\n",
            "image 1262/2096 /content/unzipped_images/image_225.png: 640x224 1 ac, 1 ensuite, 1 tbb, 1 toolbox, 6.2ms\n",
            "image 1263/2096 /content/unzipped_images/image_226.png: 640x256 1 ac, 1 ensuite, 1 tbb, 6.8ms\n",
            "image 1264/2096 /content/unzipped_images/image_227.png: 640x256 1 ac, 1 ensuite, 1 tbb, 1 toolbox, 6.6ms\n",
            "image 1265/2096 /content/unzipped_images/image_228.png: 640x256 1 ac, 1 ensuite, 1 tbb, 1 toolbox, 6.1ms\n",
            "image 1266/2096 /content/unzipped_images/image_229.png: 640x192 1 ac, 1 ensuite, 1 tbb, 1 toolbox, 6.8ms\n",
            "image 1267/2096 /content/unzipped_images/image_23.png: 640x192 1 ac, 1 ensuite, 1 tbb, 1 toolbox, 6.4ms\n",
            "image 1268/2096 /content/unzipped_images/image_230.png: 640x224 1 ac, 1 ensuite, 1 tbb, 1 toolbox, 7.8ms\n",
            "image 1269/2096 /content/unzipped_images/image_231.png: 640x224 1 ac, 1 ensuite, 1 tbb, 1 toolbox, 7.6ms\n",
            "image 1270/2096 /content/unzipped_images/image_232.png: 640x256 1 ac, 1 tbb, 1 toolbox, 8.0ms\n",
            "image 1271/2096 /content/unzipped_images/image_233.png: 640x288 1 ac, 1 ensuite, 1 tbb, 7.6ms\n",
            "image 1272/2096 /content/unzipped_images/image_234.png: 640x224 1 ac, 1 ensuite, 1 tbb, 1 toolbox, 7.9ms\n",
            "image 1273/2096 /content/unzipped_images/image_235.png: 640x224 1 ac, 1 ensuite, 1 tbb, 6.8ms\n",
            "image 1274/2096 /content/unzipped_images/image_236.png: 640x224 1 ac, 1 ensuite, 1 tbb, 1 toolbox, 5.9ms\n",
            "image 1275/2096 /content/unzipped_images/image_237.png: 640x288 1 ac, 1 ensuite, 1 tbb, 7.0ms\n",
            "image 1276/2096 /content/unzipped_images/image_238.png: 640x224 1 ac, 1 ensuite, 1 tbb, 1 toolbox, 6.9ms\n",
            "image 1277/2096 /content/unzipped_images/image_239.png: 640x192 1 ac, 1 ensuite, 1 tbb, 1 toolbox, 6.9ms\n",
            "image 1278/2096 /content/unzipped_images/image_24.png: 640x224 1 ac, 1 ensuite, 1 tbb, 1 toolbox, 6.7ms\n",
            "image 1279/2096 /content/unzipped_images/image_240.png: 640x224 1 ac, 1 ensuite, 1 tbb, 5.9ms\n",
            "image 1280/2096 /content/unzipped_images/image_241.png: 640x256 1 ac, 1 ensuite, 1 tbb, 1 toolbox, 6.7ms\n",
            "image 1281/2096 /content/unzipped_images/image_242.png: 640x288 1 ac, 1 ensuite, 1 tbb, 6.8ms\n",
            "image 1282/2096 /content/unzipped_images/image_243.png: 640x256 1 ac, 1 ensuite, 1 tbb, 1 toolbox, 6.9ms\n",
            "image 1283/2096 /content/unzipped_images/image_244.png: 640x224 1 ac, 1 ensuite, 1 tbb, 6.9ms\n",
            "image 1284/2096 /content/unzipped_images/image_245.png: 640x288 1 ac, 1 ensuite, 1 tbb, 6.8ms\n",
            "image 1285/2096 /content/unzipped_images/image_246.png: 640x224 1 ac, 1 ensuite, 1 tbb, 1 toolbox, 6.5ms\n",
            "image 1286/2096 /content/unzipped_images/image_247.png: 640x288 1 ac, 1 ensuite, 1 tbb, 1 toolbox, 6.8ms\n",
            "image 1287/2096 /content/unzipped_images/image_248.png: 640x224 1 ac, 1 ensuite, 1 tbb, 1 toolbox, 8.2ms\n",
            "image 1288/2096 /content/unzipped_images/image_249.png: 640x192 1 ac, 1 tbb, 1 toolbox, 6.9ms\n",
            "image 1289/2096 /content/unzipped_images/image_25.png: 640x224 1 ac, 1 ensuite, 1 tbb, 1 toolbox, 7.2ms\n",
            "image 1290/2096 /content/unzipped_images/image_250.png: 640x224 1 ac, 1 ensuite, 1 tbb, 6.1ms\n",
            "image 1291/2096 /content/unzipped_images/image_251.png: 640x224 1 ac, 1 ensuite, 1 tbb, 1 toolbox, 6.3ms\n",
            "image 1292/2096 /content/unzipped_images/image_252.png: 640x224 1 ac, 1 ensuite, 1 tbb, 6.2ms\n",
            "image 1293/2096 /content/unzipped_images/image_253.png: 640x256 1 ac, 1 ensuite, 1 tbb, 1 toolbox, 7.7ms\n",
            "image 1294/2096 /content/unzipped_images/image_254.png: 640x224 1 ac, 1 ensuite, 1 tbb, 1 toolbox, 7.2ms\n",
            "image 1295/2096 /content/unzipped_images/image_255.png: 640x224 1 ac, 1 ensuite, 1 tbb, 1 toolbox, 6.2ms\n",
            "image 1296/2096 /content/unzipped_images/image_256.png: 640x224 1 ac, 1 ensuite, 1 tbb, 1 toolbox, 6.3ms\n",
            "image 1297/2096 /content/unzipped_images/image_257.png: 640x256 1 ac, 1 ensuite, 1 tbb, 1 toolbox, 7.0ms\n",
            "image 1298/2096 /content/unzipped_images/image_258.png: 640x224 1 ac, 1 ensuite, 1 tbb, 1 toolbox, 6.9ms\n",
            "image 1299/2096 /content/unzipped_images/image_259.png: 640x256 1 ac, 1 ensuite, 1 tbb, 1 toolbox, 7.0ms\n",
            "image 1300/2096 /content/unzipped_images/image_26.png: 640x224 1 ac, 1 ensuite, 1 tbb, 1 toolbox, 6.9ms\n",
            "image 1301/2096 /content/unzipped_images/image_260.png: 640x224 1 ac, 1 ensuite, 1 tbb, 1 toolbox, 6.2ms\n",
            "image 1302/2096 /content/unzipped_images/image_261.png: 640x192 2 acs, 1 ensuite, 1 tbb, 1 toolbox, 7.1ms\n",
            "image 1303/2096 /content/unzipped_images/image_262.png: 640x224 1 ac, 1 ensuite, 1 tbb, 1 toolbox, 7.0ms\n",
            "image 1304/2096 /content/unzipped_images/image_263.png: 640x192 1 ac, 1 ensuite, 1 tbb, 1 toolbox, 6.9ms\n",
            "image 1305/2096 /content/unzipped_images/image_264.png: 640x224 1 ac, 1 ensuite, 1 tbb, 1 toolbox, 7.5ms\n",
            "image 1306/2096 /content/unzipped_images/image_265.png: 640x224 1 ac, 1 ensuite, 1 tbb, 1 toolbox, 7.6ms\n",
            "image 1307/2096 /content/unzipped_images/image_266.png: 640x224 1 ac, 1 ensuite, 1 tbb, 1 toolbox, 7.9ms\n",
            "image 1308/2096 /content/unzipped_images/image_267.png: 640x224 1 ac, 1 ensuite, 1 tbb, 1 toolbox, 8.3ms\n",
            "image 1309/2096 /content/unzipped_images/image_268.png: 640x224 1 ac, 1 ensuite, 1 tbb, 1 toolbox, 7.5ms\n",
            "image 1310/2096 /content/unzipped_images/image_269.png: 640x288 1 ac, 1 ensuite, 1 tbb, 1 toolbox, 7.1ms\n",
            "image 1311/2096 /content/unzipped_images/image_27.png: 640x224 1 ac, 1 ensuite, 1 tbb, 1 toolbox, 6.8ms\n",
            "image 1312/2096 /content/unzipped_images/image_270.png: 640x192 1 ac, 1 ensuite, 1 tbb, 1 toolbox, 6.7ms\n",
            "image 1313/2096 /content/unzipped_images/image_271.png: 640x224 1 ac, 1 ensuite, 1 tbb, 1 toolbox, 7.2ms\n",
            "image 1314/2096 /content/unzipped_images/image_272.png: 640x224 1 ac, 1 ensuite, 1 tbb, 1 toolbox, 6.3ms\n",
            "image 1315/2096 /content/unzipped_images/image_273.png: 640x224 1 ac, 1 ensuite, 1 tbb, 1 toolbox, 6.2ms\n",
            "image 1316/2096 /content/unzipped_images/image_274.png: 640x224 1 ac, 1 ensuite, 1 tbb, 5.9ms\n",
            "image 1317/2096 /content/unzipped_images/image_275.png: 640x224 1 ac, 1 ensuite, 1 tbb, 1 toolbox, 5.9ms\n",
            "image 1318/2096 /content/unzipped_images/image_276.png: 640x224 1 ac, 1 ensuite, 1 tbb, 1 toolbox, 6.2ms\n",
            "image 1319/2096 /content/unzipped_images/image_277.png: 640x256 1 ac, 1 ensuite, 1 tbb, 1 toolbox, 6.8ms\n",
            "image 1320/2096 /content/unzipped_images/image_278.png: 640x224 1 ac, 1 ensuite, 1 tbb, 1 toolbox, 6.8ms\n",
            "image 1321/2096 /content/unzipped_images/image_279.png: 640x256 1 ac, 1 ensuite, 1 tbb, 1 toolbox, 6.9ms\n",
            "image 1322/2096 /content/unzipped_images/image_28.png: 640x224 1 ac, 1 ensuite, 1 tbb, 1 toolbox, 6.8ms\n",
            "image 1323/2096 /content/unzipped_images/image_280.png: 640x224 1 ac, 1 ensuite, 1 tbb, 1 toolbox, 6.0ms\n",
            "image 1324/2096 /content/unzipped_images/image_281.png: 640x192 1 ac, 1 ensuite, 1 tbb, 1 toolbox, 7.0ms\n",
            "image 1325/2096 /content/unzipped_images/image_282.png: 640x224 1 ac, 1 ensuite, 1 tbb, 6.6ms\n",
            "image 1326/2096 /content/unzipped_images/image_283.png: 640x288 1 ac, 1 ensuite, 1 tbb, 1 toolbox, 7.1ms\n",
            "image 1327/2096 /content/unzipped_images/image_284.png: 640x224 1 ac, 1 ensuite, 1 tbb, 1 toolbox, 7.0ms\n",
            "image 1328/2096 /content/unzipped_images/image_285.png: 640x224 1 ac, 1 ensuite, 1 tbb, 6.4ms\n",
            "image 1329/2096 /content/unzipped_images/image_286.png: 640x224 1 ac, 1 ensuite, 1 tbb, 1 toolbox, 6.3ms\n",
            "image 1330/2096 /content/unzipped_images/image_287.png: 640x224 1 ac, 1 ensuite, 1 tbb, 1 toolbox, 6.1ms\n",
            "image 1331/2096 /content/unzipped_images/image_288.png: 640x224 1 ac, 1 ensuite, 1 tbb, 1 toolbox, 6.1ms\n",
            "image 1332/2096 /content/unzipped_images/image_289.png: 640x224 1 ac, 1 ensuite, 1 tbb, 1 toolbox, 5.9ms\n",
            "image 1333/2096 /content/unzipped_images/image_29.png: 640x224 1 ac, 1 ensuite, 1 tbb, 1 toolbox, 6.1ms\n",
            "image 1334/2096 /content/unzipped_images/image_290.png: 640x192 (no detections), 6.8ms\n",
            "image 1335/2096 /content/unzipped_images/image_291.png: 640x224 1 ac, 1 ensuite, 1 tbb, 1 toolbox, 6.7ms\n",
            "image 1336/2096 /content/unzipped_images/image_292.png: 640x288 1 ensuite, 1 tbb, 1 toolbox, 7.3ms\n",
            "image 1337/2096 /content/unzipped_images/image_293.png: 640x288 1 ac, 1 ensuite, 1 tbb, 1 toolbox, 7.1ms\n",
            "image 1338/2096 /content/unzipped_images/image_294.png: 640x224 1 ac, 1 ensuite, 1 tbb, 1 toolbox, 7.1ms\n",
            "image 1339/2096 /content/unzipped_images/image_295.png: 640x192 1 ac, 1 ensuite, 1 tbb, 1 toolbox, 6.9ms\n",
            "image 1340/2096 /content/unzipped_images/image_296.png: 640x192 1 ac, 1 ensuite, 1 tbb, 1 toolbox, 6.0ms\n",
            "image 1341/2096 /content/unzipped_images/image_297.png: 640x224 1 ac, 1 ensuite, 1 tbb, 1 toolbox, 6.7ms\n",
            "image 1342/2096 /content/unzipped_images/image_298.png: 640x224 1 ac, 1 ensuite, 1 tbb, 1 toolbox, 6.0ms\n",
            "image 1343/2096 /content/unzipped_images/image_299.png: 640x192 1 ac, 1 ensuite, 1 tbb, 1 toolbox, 6.7ms\n",
            "image 1344/2096 /content/unzipped_images/image_3.png: 640x224 1 ac, 1 ensuite, 1 tbb, 6.6ms\n",
            "image 1345/2096 /content/unzipped_images/image_30.png: 640x224 1 ac, 1 ensuite, 1 tbb, 1 toolbox, 6.4ms\n",
            "image 1346/2096 /content/unzipped_images/image_300.png: 640x224 1 ac, 1 ensuite, 1 tbb, 1 toolbox, 6.0ms\n",
            "image 1347/2096 /content/unzipped_images/image_301.png: 640x224 1 ac, 1 ensuite, 1 tbb, 1 toolbox, 6.1ms\n",
            "image 1348/2096 /content/unzipped_images/image_302.png: 640x224 1 ac, 1 ensuite, 1 tbb, 1 toolbox, 6.0ms\n",
            "image 1349/2096 /content/unzipped_images/image_303.png: 640x224 1 ac, 1 ensuite, 1 tbb, 1 toolbox, 5.9ms\n",
            "image 1350/2096 /content/unzipped_images/image_304.png: 640x288 1 ac, 1 ensuite, 1 tbb, 7.0ms\n",
            "image 1351/2096 /content/unzipped_images/image_305.png: 640x256 1 ac, 1 ensuite, 1 tbb, 1 toolbox, 6.7ms\n",
            "image 1352/2096 /content/unzipped_images/image_306.png: 640x224 1 ac, 1 ensuite, 1 tbb, 1 toolbox, 7.9ms\n",
            "image 1353/2096 /content/unzipped_images/image_307.png: 640x224 1 ac, 1 ensuite, 1 tbb, 1 toolbox, 7.5ms\n",
            "image 1354/2096 /content/unzipped_images/image_308.png: 640x256 1 ac, 1 ensuite, 1 tbb, 1 toolbox, 8.9ms\n",
            "image 1355/2096 /content/unzipped_images/image_309.png: 640x288 1 ac, 1 ensuite, 1 tbb, 7.6ms\n",
            "image 1356/2096 /content/unzipped_images/image_31.png: 640x192 1 ac, 1 ensuite, 1 tbb, 1 toolbox, 7.6ms\n",
            "image 1357/2096 /content/unzipped_images/image_310.png: 640x224 1 ac, 1 ensuite, 1 tbb, 1 toolbox, 7.9ms\n",
            "image 1358/2096 /content/unzipped_images/image_311.png: 640x224 1 ac, 1 ensuite, 1 tbb, 1 toolbox, 6.2ms\n",
            "image 1359/2096 /content/unzipped_images/image_312.png: 640x192 1 ac, 1 ensuite, 1 tbb, 1 toolbox, 7.0ms\n",
            "image 1360/2096 /content/unzipped_images/image_313.png: 640x224 1 ac, 1 ensuite, 1 tbb, 1 toolbox, 7.0ms\n",
            "image 1361/2096 /content/unzipped_images/image_314.png: 640x224 1 ac, 1 ensuite, 1 tbb, 1 toolbox, 5.8ms\n",
            "image 1362/2096 /content/unzipped_images/image_315.png: 640x224 1 ac, 1 ensuite, 1 tbb, 6.3ms\n",
            "image 1363/2096 /content/unzipped_images/image_316.png: 640x192 1 ac, 1 ensuite, 1 tbb, 1 toolbox, 6.8ms\n",
            "image 1364/2096 /content/unzipped_images/image_317.png: 640x288 1 ac, 1 ensuite, 1 tbb, 6.9ms\n",
            "image 1365/2096 /content/unzipped_images/image_318.png: 640x288 1 ac, 1 ensuite, 1 tbb, 1 toolbox, 6.2ms\n",
            "image 1366/2096 /content/unzipped_images/image_319.png: 640x224 1 ac, 1 ensuite, 1 tbb, 6.9ms\n",
            "image 1367/2096 /content/unzipped_images/image_32.png: 640x192 1 ac, 1 ensuite, 1 tbb, 1 toolbox, 6.8ms\n",
            "image 1368/2096 /content/unzipped_images/image_320.png: 640x192 1 ac, 1 ensuite, 1 tbb, 1 toolbox, 5.9ms\n",
            "image 1369/2096 /content/unzipped_images/image_321.png: 640x224 1 ac, 1 ensuite, 1 tbb, 6.6ms\n",
            "image 1370/2096 /content/unzipped_images/image_322.png: 640x224 1 ac, 1 ensuite, 1 tbb, 1 toolbox, 6.2ms\n",
            "image 1371/2096 /content/unzipped_images/image_323.png: 640x224 1 ac, 1 ensuite, 1 tbb, 1 toolbox, 5.9ms\n",
            "image 1372/2096 /content/unzipped_images/image_324.png: 640x288 1 ac, 1 ensuite, 1 tbb, 2 toolboxs, 6.9ms\n",
            "image 1373/2096 /content/unzipped_images/image_325.png: 640x224 1 ac, 1 ensuite, 1 tbb, 8.3ms\n",
            "image 1374/2096 /content/unzipped_images/image_326.png: 640x192 1 ac, 1 ensuite, 1 tbb, 1 toolbox, 6.7ms\n",
            "image 1375/2096 /content/unzipped_images/image_327.png: 640x288 1 ac, 1 ensuite, 1 tbb, 1 toolbox, 6.9ms\n",
            "image 1376/2096 /content/unzipped_images/image_328.png: 640x224 1 ac, 1 ensuite, 1 tbb, 1 toolbox, 6.7ms\n",
            "image 1377/2096 /content/unzipped_images/image_329.png: 640x224 1 ac, 1 ensuite, 1 tbb, 1 toolbox, 6.1ms\n",
            "image 1378/2096 /content/unzipped_images/image_33.png: 640x224 1 ac, 1 ensuite, 1 tbb, 6.2ms\n",
            "image 1379/2096 /content/unzipped_images/image_330.png: 640x192 2 acs, 1 ensuite, 1 tbb, 1 toolbox, 7.0ms\n",
            "image 1380/2096 /content/unzipped_images/image_331.png: 640x224 1 ac, 1 ensuite, 1 tbb, 1 toolbox, 7.2ms\n",
            "image 1381/2096 /content/unzipped_images/image_332.png: 640x224 1 ac, 1 ensuite, 1 tbb, 1 toolbox, 6.5ms\n",
            "image 1382/2096 /content/unzipped_images/image_333.png: 640x256 1 ac, 1 ensuite, 1 tbb, 1 toolbox, 7.3ms\n",
            "image 1383/2096 /content/unzipped_images/image_334.png: 640x192 1 ac, 1 ensuite, 1 tbb, 1 toolbox, 7.0ms\n",
            "image 1384/2096 /content/unzipped_images/image_335.png: 640x224 1 ac, 1 ensuite, 1 tbb, 1 toolbox, 6.8ms\n",
            "image 1385/2096 /content/unzipped_images/image_336.png: 640x288 1 ac, 1 ensuite, 1 tbb, 1 toolbox, 6.8ms\n",
            "image 1386/2096 /content/unzipped_images/image_337.png: 640x224 1 ac, 1 ensuite, 1 tbb, 1 toolbox, 7.0ms\n",
            "image 1387/2096 /content/unzipped_images/image_338.png: 640x192 1 ac, 1 ensuite, 1 tbb, 1 toolbox, 7.0ms\n",
            "image 1388/2096 /content/unzipped_images/image_339.png: 640x192 1 ac, 1 ensuite, 1 tbb, 1 toolbox, 6.7ms\n",
            "image 1389/2096 /content/unzipped_images/image_34.png: 640x192 1 ac, 1 ensuite, 1 tbb, 1 toolbox, 6.1ms\n",
            "image 1390/2096 /content/unzipped_images/image_340.png: 640x224 1 ac, 1 ensuite, 1 tbb, 6.8ms\n",
            "image 1391/2096 /content/unzipped_images/image_341.png: 640x256 1 ac, 1 ensuite, 1 tbb, 1 toolbox, 6.8ms\n",
            "image 1392/2096 /content/unzipped_images/image_342.png: 640x256 1 ac, 1 ensuite, 1 tbb, 1 toolbox, 6.3ms\n",
            "image 1393/2096 /content/unzipped_images/image_343.png: 640x224 1 ac, 1 ensuite, 1 tbb, 1 toolbox, 6.8ms\n",
            "image 1394/2096 /content/unzipped_images/image_344.png: 640x224 1 ac, 1 ensuite, 1 tbb, 1 toolbox, 6.8ms\n",
            "image 1395/2096 /content/unzipped_images/image_345.png: 640x224 1 ac, 1 ensuite, 1 tbb, 1 toolbox, 7.0ms\n",
            "image 1396/2096 /content/unzipped_images/image_346.png: 640x224 1 ac, 1 ensuite, 1 tbb, 1 toolbox, 7.2ms\n",
            "image 1397/2096 /content/unzipped_images/image_347.png: 640x288 1 ac, 1 ensuite, 1 tbb, 1 toolbox, 7.6ms\n",
            "image 1398/2096 /content/unzipped_images/image_348.png: 640x224 1 ac, 1 ensuite, 1 tbb, 1 toolbox, 8.1ms\n",
            "image 1399/2096 /content/unzipped_images/image_349.png: 640x224 1 ac, 1 ensuite, 1 tbb, 1 toolbox, 7.1ms\n",
            "image 1400/2096 /content/unzipped_images/image_35.png: 640x192 1 ac, 1 tbb, 1 toolbox, 7.2ms\n",
            "image 1401/2096 /content/unzipped_images/image_350.png: 640x224 1 ac, 1 ensuite, 1 tbb, 1 toolbox, 6.8ms\n",
            "image 1402/2096 /content/unzipped_images/image_351.png: 640x224 1 ac, 1 ensuite, 1 tbb, 1 toolbox, 6.0ms\n",
            "image 1403/2096 /content/unzipped_images/image_352.png: 640x256 1 ac, 1 ensuite, 1 tbb, 1 toolbox, 7.1ms\n",
            "image 1404/2096 /content/unzipped_images/image_353.png: 640x224 1 ac, 1 ensuite, 1 tbb, 1 toolbox, 6.8ms\n",
            "image 1405/2096 /content/unzipped_images/image_354.png: 640x192 1 ac, 1 ensuite, 1 tbb, 1 toolbox, 7.1ms\n",
            "image 1406/2096 /content/unzipped_images/image_355.png: 640x224 1 ac, 1 ensuite, 1 tbb, 1 toolbox, 6.7ms\n",
            "image 1407/2096 /content/unzipped_images/image_356.png: 640x192 1 ac, 1 ensuite, 1 tbb, 1 toolbox, 6.8ms\n",
            "image 1408/2096 /content/unzipped_images/image_357.png: 640x224 1 ac, 1 ensuite, 1 tbb, 1 toolbox, 6.6ms\n",
            "image 1409/2096 /content/unzipped_images/image_358.png: 640x288 1 ac, 1 ensuite, 1 tbb, 1 toolbox, 7.1ms\n",
            "image 1410/2096 /content/unzipped_images/image_359.png: 640x224 1 ac, 1 ensuite, 1 tbb, 1 toolbox, 6.9ms\n",
            "image 1411/2096 /content/unzipped_images/image_36.png: 640x224 1 ac, 1 ensuite, 1 tbb, 1 toolbox, 6.2ms\n",
            "image 1412/2096 /content/unzipped_images/image_360.png: 640x224 1 ac, 1 ensuite, 1 tbb, 1 toolbox, 6.2ms\n",
            "image 1413/2096 /content/unzipped_images/image_361.png: 640x288 1 ac, 1 ensuite, 1 tbb, 1 toolbox, 7.2ms\n",
            "image 1414/2096 /content/unzipped_images/image_362.png: 640x192 1 ac, 1 ensuite, 1 tbb, 1 toolbox, 7.1ms\n",
            "image 1415/2096 /content/unzipped_images/image_363.png: 640x224 1 ac, 1 ensuite, 1 tbb, 1 toolbox, 6.6ms\n",
            "image 1416/2096 /content/unzipped_images/image_364.png: 640x224 1 ac, 1 ensuite, 1 tbb, 1 toolbox, 5.9ms\n",
            "image 1417/2096 /content/unzipped_images/image_365.png: 640x224 1 ac, 1 ensuite, 1 tbb, 1 toolbox, 6.1ms\n",
            "image 1418/2096 /content/unzipped_images/image_366.png: 640x224 1 ac, 1 ensuite, 1 tbb, 1 toolbox, 6.0ms\n",
            "image 1419/2096 /content/unzipped_images/image_367.png: 640x288 1 ac, 1 ensuite, 1 tbb, 1 toolbox, 6.9ms\n",
            "image 1420/2096 /content/unzipped_images/image_368.png: 640x192 1 ac, 1 ensuite, 1 tbb, 1 toolbox, 7.0ms\n",
            "image 1421/2096 /content/unzipped_images/image_369.png: 640x224 1 ac, 1 ensuite, 1 tbb, 1 toolbox, 7.2ms\n",
            "image 1422/2096 /content/unzipped_images/image_37.png: 640x224 1 ac, 1 ensuite, 1 tbb, 6.2ms\n",
            "image 1423/2096 /content/unzipped_images/image_370.png: 640x224 1 ac, 1 ensuite, 1 tbb, 1 toolbox, 6.2ms\n",
            "image 1424/2096 /content/unzipped_images/image_371.png: 640x224 1 ac, 1 ensuite, 1 tbb, 1 toolbox, 5.9ms\n",
            "image 1425/2096 /content/unzipped_images/image_372.png: 640x192 1 ac, 1 ensuite, 1 tbb, 1 toolbox, 6.5ms\n",
            "image 1426/2096 /content/unzipped_images/image_373.png: 640x224 1 ac, 1 ensuite, 1 tbb, 1 toolbox, 6.5ms\n",
            "image 1427/2096 /content/unzipped_images/image_374.png: 640x256 1 ac, 1 ensuite, 1 tbb, 1 toolbox, 6.6ms\n",
            "image 1428/2096 /content/unzipped_images/image_375.png: 640x256 1 ac, 1 ensuite, 1 tbb, 1 toolbox, 5.9ms\n",
            "image 1429/2096 /content/unzipped_images/image_376.png: 640x224 1 ac, 1 ensuite, 1 tbb, 1 toolbox, 6.8ms\n",
            "image 1430/2096 /content/unzipped_images/image_377.png: 640x224 1 ac, 1 ensuite, 1 tbb, 1 toolbox, 6.0ms\n",
            "image 1431/2096 /content/unzipped_images/image_378.png: 640x224 1 ac, 1 ensuite, 1 tbb, 1 toolbox, 5.9ms\n",
            "image 1432/2096 /content/unzipped_images/image_379.png: 640x224 1 ac, 1 ensuite, 1 tbb, 1 toolbox, 5.9ms\n",
            "image 1433/2096 /content/unzipped_images/image_38.png: 640x224 1 ac, 1 ensuite, 1 tbb, 1 toolbox, 6.0ms\n",
            "image 1434/2096 /content/unzipped_images/image_380.png: 640x256 1 ac, 1 ensuite, 1 tbb, 1 toolbox, 6.9ms\n",
            "image 1435/2096 /content/unzipped_images/image_381.png: 640x224 1 ac, 1 ensuite, 1 tbb, 1 toolbox, 6.7ms\n",
            "image 1436/2096 /content/unzipped_images/image_382.png: 640x224 1 ac, 1 ensuite, 1 tbb, 1 toolbox, 6.9ms\n",
            "image 1437/2096 /content/unzipped_images/image_383.png: 640x256 1 ac, 1 ensuite, 1 tbb, 1 toolbox, 7.7ms\n",
            "image 1438/2096 /content/unzipped_images/image_384.png: 640x224 1 ac, 1 ensuite, 1 tbb, 1 toolbox, 7.9ms\n",
            "image 1439/2096 /content/unzipped_images/image_385.png: 640x224 1 ac, 1 ensuite, 1 tbb, 1 toolbox, 9.1ms\n",
            "image 1440/2096 /content/unzipped_images/image_386.png: 640x224 1 ac, 1 ensuite, 1 tbb, 1 toolbox, 8.0ms\n",
            "image 1441/2096 /content/unzipped_images/image_387.png: 640x256 1 ac, 1 ensuite, 1 tbb, 7.0ms\n",
            "image 1442/2096 /content/unzipped_images/image_388.png: 640x256 1 ac, 1 ensuite, 1 tbb, 1 toolbox, 6.7ms\n",
            "image 1443/2096 /content/unzipped_images/image_389.png: 640x224 1 ac, 1 ensuite, 1 tbb, 1 toolbox, 6.9ms\n",
            "image 1444/2096 /content/unzipped_images/image_39.png: 640x224 1 ac, 1 ensuite, 1 tbb, 1 toolbox, 6.3ms\n",
            "image 1445/2096 /content/unzipped_images/image_390.png: 640x224 1 ac, 1 ensuite, 1 tbb, 1 toolbox, 8.7ms\n",
            "image 1446/2096 /content/unzipped_images/image_391.png: 640x224 1 ac, 1 ensuite, 1 tbb, 1 toolbox, 6.8ms\n",
            "image 1447/2096 /content/unzipped_images/image_392.png: 640x288 1 ac, 1 ensuite, 1 tbb, 1 toolbox, 7.5ms\n",
            "image 1448/2096 /content/unzipped_images/image_393.png: 640x192 1 ac, 1 ensuite, 1 tbb, 1 toolbox, 7.4ms\n",
            "image 1449/2096 /content/unzipped_images/image_394.png: 640x256 1 ac, 1 ensuite, 1 tbb, 7.6ms\n",
            "image 1450/2096 /content/unzipped_images/image_395.png: 640x224 1 ac, 1 ensuite, 1 tbb, 1 toolbox, 7.4ms\n",
            "image 1451/2096 /content/unzipped_images/image_396.png: 640x288 1 ac, 1 ensuite, 1 tbb, 7.8ms\n",
            "image 1452/2096 /content/unzipped_images/image_397.png: 640x192 1 ac, 1 ensuite, 1 tbb, 1 toolbox, 8.1ms\n",
            "image 1453/2096 /content/unzipped_images/image_398.png: 640x224 1 ac, 1 ensuite, 1 tbb, 1 toolbox, 7.7ms\n",
            "image 1454/2096 /content/unzipped_images/image_399.png: 640x256 1 ac, 1 ensuite, 1 tbb, 7.8ms\n",
            "image 1455/2096 /content/unzipped_images/image_4.png: 640x256 1 ac, 1 ensuite, 1 tbb, 1 toolbox, 6.5ms\n",
            "image 1456/2096 /content/unzipped_images/image_40.png: 640x192 1 ac, 1 ensuite, 1 tbb, 1 toolbox, 7.0ms\n",
            "image 1457/2096 /content/unzipped_images/image_400.png: 640x224 1 ac, 1 ensuite, 1 tbb, 1 toolbox, 6.7ms\n",
            "image 1458/2096 /content/unzipped_images/image_401.png: 640x224 1 ac, 1 ensuite, 1 tbb, 1 toolbox, 5.9ms\n",
            "image 1459/2096 /content/unzipped_images/image_402.png: 640x224 1 ac, 1 ensuite, 1 tbb, 1 toolbox, 8.0ms\n",
            "image 1460/2096 /content/unzipped_images/image_403.png: 640x192 1 ac, 1 ensuite, 1 tbb, 1 toolbox, 6.9ms\n",
            "image 1461/2096 /content/unzipped_images/image_404.png: 640x288 1 ac, 1 ensuite, 1 tbb, 1 toolbox, 7.3ms\n",
            "image 1462/2096 /content/unzipped_images/image_405.png: 640x224 1 ac, 1 ensuite, 1 tbb, 1 toolbox, 6.9ms\n",
            "image 1463/2096 /content/unzipped_images/image_406.png: 640x224 1 ac, 1 ensuite, 1 tbb, 1 toolbox, 6.3ms\n",
            "image 1464/2096 /content/unzipped_images/image_407.png: 640x224 1 ac, 1 ensuite, 1 tbb, 1 toolbox, 6.1ms\n",
            "image 1465/2096 /content/unzipped_images/image_408.png: 640x224 1 ac, 1 ensuite, 1 tbb, 1 toolbox, 6.2ms\n",
            "image 1466/2096 /content/unzipped_images/image_409.png: 640x224 1 ac, 1 ensuite, 1 tbb, 1 toolbox, 6.1ms\n",
            "image 1467/2096 /content/unzipped_images/image_41.png: 640x256 1 ac, 1 ensuite, 1 tbb, 1 toolbox, 6.8ms\n",
            "image 1468/2096 /content/unzipped_images/image_411.png: 640x288 1 ac, 1 ensuite, 1 tbb, 7.2ms\n",
            "image 1469/2096 /content/unzipped_images/image_412.png: 640x224 1 ac, 1 ensuite, 1 tbb, 1 toolbox, 7.0ms\n",
            "image 1470/2096 /content/unzipped_images/image_413.png: 640x224 1 ac, 1 ensuite, 1 tbb, 1 toolbox, 6.1ms\n",
            "image 1471/2096 /content/unzipped_images/image_414.png: 640x288 1 ac, 1 ensuite, 1 tbb, 1 toolbox, 7.2ms\n",
            "image 1472/2096 /content/unzipped_images/image_415.png: 640x224 1 ac, 1 ensuite, 1 tbb, 1 toolbox, 7.0ms\n",
            "image 1473/2096 /content/unzipped_images/image_416.png: 640x224 1 ac, 1 ensuite, 1 tbb, 1 toolbox, 6.0ms\n",
            "image 1474/2096 /content/unzipped_images/image_417.png: 640x192 1 ac, 1 ensuite, 1 tbb, 1 toolbox, 7.1ms\n",
            "image 1475/2096 /content/unzipped_images/image_418.png: 640x224 1 ac, 1 ensuite, 1 tbb, 1 toolbox, 6.8ms\n",
            "image 1476/2096 /content/unzipped_images/image_419.png: 640x224 1 ac, 1 ensuite, 1 tbb, 6.3ms\n",
            "image 1477/2096 /content/unzipped_images/image_42.png: 640x256 1 ac, 1 ensuite, 1 tbb, 1 toolbox, 9.4ms\n",
            "image 1478/2096 /content/unzipped_images/image_420.png: 640x224 1 ac, 1 ensuite, 1 tbb, 1 toolbox, 8.5ms\n",
            "image 1479/2096 /content/unzipped_images/image_421.png: 640x224 1 ac, 1 ensuite, 1 tbb, 7.5ms\n",
            "image 1480/2096 /content/unzipped_images/image_422.png: 640x288 1 ac, 1 ensuite, 1 tbb, 1 toolbox, 8.2ms\n",
            "image 1481/2096 /content/unzipped_images/image_423.png: 640x224 1 ac, 1 ensuite, 1 tbb, 1 toolbox, 8.5ms\n",
            "image 1482/2096 /content/unzipped_images/image_424.png: 640x256 1 ac, 1 ensuite, 1 tbb, 1 toolbox, 6.9ms\n",
            "image 1483/2096 /content/unzipped_images/image_425.png: 640x224 1 ac, 1 ensuite, 1 tbb, 1 toolbox, 6.5ms\n",
            "image 1484/2096 /content/unzipped_images/image_426.png: 640x256 1 ac, 1 ensuite, 1 tbb, 6.9ms\n",
            "image 1485/2096 /content/unzipped_images/image_427.png: 640x256 1 ac, 1 ensuite, 1 tbb, 1 toolbox, 6.0ms\n",
            "image 1486/2096 /content/unzipped_images/image_428.png: 640x224 1 ac, 1 ensuite, 1 tbb, 1 toolbox, 6.8ms\n",
            "image 1487/2096 /content/unzipped_images/image_429.png: 640x128 (no detections), 6.9ms\n",
            "image 1488/2096 /content/unzipped_images/image_43.png: 640x288 1 ac, 1 ensuite, 1 tbb, 2 toolboxs, 7.3ms\n",
            "image 1489/2096 /content/unzipped_images/image_430.png: 640x224 1 ac, 1 ensuite, 1 tbb, 1 toolbox, 6.6ms\n",
            "image 1490/2096 /content/unzipped_images/image_431.png: 640x256 1 ac, 1 ensuite, 1 tbb, 1 toolbox, 7.1ms\n",
            "image 1491/2096 /content/unzipped_images/image_432.png: 640x192 1 ac, 1 ensuite, 1 tbb, 1 toolbox, 6.6ms\n",
            "image 1492/2096 /content/unzipped_images/image_433.png: 640x224 1 ac, 1 ensuite, 1 tbb, 1 toolbox, 6.8ms\n",
            "image 1493/2096 /content/unzipped_images/image_434.png: 640x288 1 ac, 1 ensuite, 1 tbb, 1 toolbox, 7.1ms\n",
            "image 1494/2096 /content/unzipped_images/image_435.png: 640x224 1 ac, 1 ensuite, 1 tbb, 7.1ms\n",
            "image 1495/2096 /content/unzipped_images/image_436.png: 640x192 1 ac, 1 ensuite, 1 tbb, 1 toolbox, 6.9ms\n",
            "image 1496/2096 /content/unzipped_images/image_437.png: 640x192 1 ac, 1 ensuite, 1 tbb, 1 toolbox, 6.4ms\n",
            "image 1497/2096 /content/unzipped_images/image_438.png: 640x224 1 ac, 1 ensuite, 1 tbb, 1 toolbox, 8.9ms\n",
            "image 1498/2096 /content/unzipped_images/image_439.png: 640x224 1 ac, 1 ensuite, 1 tbb, 1 toolbox, 6.3ms\n",
            "image 1499/2096 /content/unzipped_images/image_44.png: 640x224 1 ac, 1 ensuite, 1 tbb, 1 toolbox, 6.3ms\n",
            "image 1500/2096 /content/unzipped_images/image_440.png: 640x192 1 ac, 1 ensuite, 1 tbb, 1 toolbox, 6.9ms\n",
            "image 1501/2096 /content/unzipped_images/image_441.png: 640x288 1 ac, 1 ensuite, 1 tbb, 1 toolbox, 7.2ms\n",
            "image 1502/2096 /content/unzipped_images/image_442.png: 640x224 1 ac, 1 ensuite, 1 tbb, 1 toolbox, 6.8ms\n",
            "image 1503/2096 /content/unzipped_images/image_443.png: 640x224 1 ac, 1 ensuite, 1 tbb, 6.1ms\n",
            "image 1504/2096 /content/unzipped_images/image_444.png: 640x288 1 ac, 1 ensuite, 1 tbb, 1 toolbox, 6.9ms\n",
            "image 1505/2096 /content/unzipped_images/image_445.png: 640x224 1 ac, 1 ensuite, 1 tbb, 1 toolbox, 6.7ms\n",
            "image 1506/2096 /content/unzipped_images/image_446.png: 640x256 1 ac, 1 ensuite, 1 tbb, 11.0ms\n",
            "image 1507/2096 /content/unzipped_images/image_447.png: 640x224 1 ac, 1 ensuite, 1 tbb, 1 toolbox, 7.1ms\n",
            "image 1508/2096 /content/unzipped_images/image_448.png: 640x192 1 ac, 1 ensuite, 1 tbb, 1 toolbox, 7.1ms\n",
            "image 1509/2096 /content/unzipped_images/image_449.png: 640x224 1 ac, 1 ensuite, 1 tbb, 1 toolbox, 7.6ms\n",
            "image 1510/2096 /content/unzipped_images/image_45.png: 640x224 1 ac, 1 ensuite, 1 tbb, 6.1ms\n",
            "image 1511/2096 /content/unzipped_images/image_450.png: 640x288 1 ac, 1 ensuite, 1 tbb, 1 toolbox, 6.9ms\n",
            "image 1512/2096 /content/unzipped_images/image_451.png: 640x224 1 ac, 1 ensuite, 1 tbb, 1 toolbox, 6.8ms\n",
            "image 1513/2096 /content/unzipped_images/image_452.png: 640x192 1 ac, 1 ensuite, 1 tbb, 1 toolbox, 7.1ms\n",
            "image 1514/2096 /content/unzipped_images/image_453.png: 640x224 1 ac, 1 ensuite, 1 tbb, 1 toolbox, 6.9ms\n",
            "image 1515/2096 /content/unzipped_images/image_454.png: 640x192 1 ac, 1 ensuite, 1 tbb, 1 toolbox, 6.8ms\n",
            "image 1516/2096 /content/unzipped_images/image_455.png: 640x224 1 ac, 1 ensuite, 1 tbb, 1 toolbox, 6.7ms\n",
            "image 1517/2096 /content/unzipped_images/image_456.png: 640x192 1 ac, 1 ensuite, 1 tbb, 1 toolbox, 8.7ms\n",
            "image 1518/2096 /content/unzipped_images/image_457.png: 640x224 1 ac, 1 ensuite, 1 tbb, 6.8ms\n",
            "image 1519/2096 /content/unzipped_images/image_458.png: 640x256 1 ac, 1 ensuite, 1 tbb, 1 toolbox, 6.7ms\n",
            "image 1520/2096 /content/unzipped_images/image_459.png: 640x224 1 ac, 1 ensuite, 1 tbb, 1 toolbox, 6.7ms\n",
            "image 1521/2096 /content/unzipped_images/image_46.png: 640x224 1 ac, 1 ensuite, 1 tbb, 1 toolbox, 6.7ms\n",
            "image 1522/2096 /content/unzipped_images/image_460.png: 640x256 1 ac, 1 ensuite, 1 tbb, 1 toolbox, 7.6ms\n",
            "image 1523/2096 /content/unzipped_images/image_461.png: 640x288 1 ac, 1 ensuite, 1 tbb, 1 toolbox, 7.0ms\n",
            "image 1524/2096 /content/unzipped_images/image_462.png: 640x224 1 ac, 1 ensuite, 1 tbb, 1 toolbox, 6.9ms\n",
            "image 1525/2096 /content/unzipped_images/image_463.png: 640x192 1 ac, 1 ensuite, 1 tbb, 1 toolbox, 6.7ms\n",
            "image 1526/2096 /content/unzipped_images/image_464.png: 640x192 1 ac, 1 ensuite, 1 tbb, 1 toolbox, 6.1ms\n",
            "image 1527/2096 /content/unzipped_images/image_465.png: 640x224 1 ac, 1 ensuite, 1 tbb, 1 toolbox, 7.0ms\n",
            "image 1528/2096 /content/unzipped_images/image_466.png: 640x192 1 ac, 1 ensuite, 1 tbb, 1 toolbox, 6.6ms\n",
            "image 1529/2096 /content/unzipped_images/image_467.png: 640x288 1 ac, 1 ensuite, 1 tbb, 7.0ms\n",
            "image 1530/2096 /content/unzipped_images/image_468.png: 640x224 1 ac, 1 ensuite, 1 tbb, 1 toolbox, 6.5ms\n",
            "image 1531/2096 /content/unzipped_images/image_469.png: 640x224 1 ac, 1 ensuite, 1 tbb, 6.1ms\n",
            "image 1532/2096 /content/unzipped_images/image_47.png: 640x224 1 ac, 1 ensuite, 1 tbb, 1 toolbox, 6.3ms\n",
            "image 1533/2096 /content/unzipped_images/image_470.png: 640x224 1 ac, 1 ensuite, 1 tbb, 1 toolbox, 6.0ms\n",
            "image 1534/2096 /content/unzipped_images/image_471.png: 640x224 1 ac, 1 ensuite, 1 tbb, 1 toolbox, 5.9ms\n",
            "image 1535/2096 /content/unzipped_images/image_472.png: 640x224 1 ac, 1 ensuite, 1 tbb, 1 toolbox, 7.3ms\n",
            "image 1536/2096 /content/unzipped_images/image_473.png: 640x192 1 ac, 1 ensuite, 1 tbb, 1 toolbox, 7.0ms\n",
            "image 1537/2096 /content/unzipped_images/image_474.png: 640x224 1 ensuite, 1 tbb, 1 toolbox, 7.1ms\n",
            "image 1538/2096 /content/unzipped_images/image_475.png: 640x224 1 ac, 1 ensuite, 1 tbb, 1 toolbox, 6.2ms\n",
            "image 1539/2096 /content/unzipped_images/image_476.png: 640x288 1 ensuite, 1 tbb, 1 toolbox, 7.1ms\n",
            "image 1540/2096 /content/unzipped_images/image_477.png: 640x224 1 ac, 1 ensuite, 1 tbb, 1 toolbox, 6.6ms\n",
            "image 1541/2096 /content/unzipped_images/image_478.png: 640x224 1 ac, 1 ensuite, 1 tbb, 1 toolbox, 6.3ms\n",
            "image 1542/2096 /content/unzipped_images/image_479.png: 640x256 1 ac, 1 ensuite, 1 tbb, 1 toolbox, 6.8ms\n",
            "image 1543/2096 /content/unzipped_images/image_48.png: 640x192 1 ac, 1 ensuite, 1 tbb, 1 toolbox, 7.1ms\n",
            "image 1544/2096 /content/unzipped_images/image_480.png: 640x224 1 ac, 1 ensuite, 1 tbb, 1 toolbox, 7.0ms\n",
            "image 1545/2096 /content/unzipped_images/image_481.png: 640x224 1 ac, 1 ensuite, 6.3ms\n",
            "image 1546/2096 /content/unzipped_images/image_482.png: 640x224 1 ac, 1 ensuite, 1 tbb, 1 toolbox, 6.3ms\n",
            "image 1547/2096 /content/unzipped_images/image_483.png: 640x288 1 ac, 1 ensuite, 1 tbb, 7.3ms\n",
            "image 1548/2096 /content/unzipped_images/image_484.png: 640x224 1 ac, 1 ensuite, 1 tbb, 1 toolbox, 6.9ms\n",
            "image 1549/2096 /content/unzipped_images/image_485.png: 640x224 1 ac, 1 ensuite, 1 tbb, 1 toolbox, 6.5ms\n",
            "image 1550/2096 /content/unzipped_images/image_486.png: 640x224 1 ac, 1 ensuite, 1 tbb, 1 toolbox, 6.2ms\n",
            "image 1551/2096 /content/unzipped_images/image_487.png: 640x288 1 ac, 1 ensuite, 1 tbb, 1 toolbox, 7.0ms\n",
            "image 1552/2096 /content/unzipped_images/image_488.png: 640x224 1 ac, 1 ensuite, 1 tbb, 6.6ms\n",
            "image 1553/2096 /content/unzipped_images/image_489.png: 640x224 1 ac, 1 ensuite, 1 tbb, 1 toolbox, 6.5ms\n",
            "image 1554/2096 /content/unzipped_images/image_49.png: 640x224 1 ac, 1 ensuite, 1 tbb, 1 toolbox, 6.4ms\n",
            "image 1555/2096 /content/unzipped_images/image_490.png: 640x192 1 ac, 1 ensuite, 1 tbb, 1 toolbox, 7.3ms\n",
            "image 1556/2096 /content/unzipped_images/image_491.png: 640x224 1 ac, 1 ensuite, 1 tbb, 1 toolbox, 7.0ms\n",
            "image 1557/2096 /content/unzipped_images/image_492.png: 640x256 1 ac, 1 ensuite, 1 tbb, 1 toolbox, 7.0ms\n",
            "image 1558/2096 /content/unzipped_images/image_493.png: 640x224 1 ac, 1 ensuite, 1 tbb, 1 toolbox, 7.3ms\n",
            "image 1559/2096 /content/unzipped_images/image_494.png: 640x224 1 ac, 1 ensuite, 1 tbb, 1 toolbox, 6.0ms\n",
            "image 1560/2096 /content/unzipped_images/image_495.png: 640x288 1 ac, 1 ensuite, 1 tbb, 7.9ms\n",
            "image 1561/2096 /content/unzipped_images/image_496.png: 640x192 1 ac, 1 ensuite, 1 tbb, 1 toolbox, 7.4ms\n",
            "image 1562/2096 /content/unzipped_images/image_497.png: 640x224 1 ac, 1 ensuite, 1 tbb, 1 toolbox, 7.3ms\n",
            "image 1563/2096 /content/unzipped_images/image_498.png: 640x224 1 ac, 1 ensuite, 1 tbb, 6.1ms\n",
            "image 1564/2096 /content/unzipped_images/image_499.png: 640x192 1 ac, 1 ensuite, 1 tbb, 1 toolbox, 7.4ms\n",
            "image 1565/2096 /content/unzipped_images/image_5.png: 640x224 1 ac, 1 ensuite, 1 tbb, 1 toolbox, 6.8ms\n",
            "image 1566/2096 /content/unzipped_images/image_50.png: 640x224 1 ac, 1 ensuite, 1 tbb, 1 toolbox, 6.2ms\n",
            "image 1567/2096 /content/unzipped_images/image_500.png: 640x192 1 ac, 1 ensuite, 2 tbbs, 1 toolbox, 6.6ms\n",
            "image 1568/2096 /content/unzipped_images/image_501.png: 640x224 1 ac, 1 ensuite, 1 tbb, 1 toolbox, 6.6ms\n",
            "image 1569/2096 /content/unzipped_images/image_502.png: 640x288 1 ac, 1 ensuite, 1 tbb, 1 toolbox, 6.9ms\n",
            "image 1570/2096 /content/unzipped_images/image_503.png: 640x224 1 ac, 1 ensuite, 1 toolbox, 6.8ms\n",
            "image 1571/2096 /content/unzipped_images/image_504.png: 640x288 1 ac, 1 ensuite, 1 tbb, 1 toolbox, 6.8ms\n",
            "image 1572/2096 /content/unzipped_images/image_505.png: 640x224 1 ac, 1 ensuite, 1 tbb, 1 toolbox, 6.6ms\n",
            "image 1573/2096 /content/unzipped_images/image_506.png: 640x256 1 ac, 1 ensuite, 1 tbb, 8.0ms\n",
            "image 1574/2096 /content/unzipped_images/image_507.png: 640x224 1 ac, 1 ensuite, 1 tbb, 1 toolbox, 6.8ms\n",
            "image 1575/2096 /content/unzipped_images/image_508.png: 640x224 1 ac, 1 ensuite, 1 tbb, 1 toolbox, 6.3ms\n",
            "image 1576/2096 /content/unzipped_images/image_509.png: 640x288 1 ac, 1 ensuite, 1 tbb, 1 toolbox, 6.8ms\n",
            "image 1577/2096 /content/unzipped_images/image_51.png: 640x288 1 ac, 1 ensuite, 1 tbb, 1 toolbox, 6.1ms\n",
            "image 1578/2096 /content/unzipped_images/image_510.png: 640x224 1 ac, 1 ensuite, 1 tbb, 1 toolbox, 8.1ms\n",
            "image 1579/2096 /content/unzipped_images/image_511.png: 640x256 1 ensuite, 7.4ms\n",
            "image 1580/2096 /content/unzipped_images/image_512.png: 640x256 1 ac, 1 ensuite, 1 tbb, 1 toolbox, 6.2ms\n",
            "image 1581/2096 /content/unzipped_images/image_513.png: 640x224 1 ac, 1 ensuite, 1 tbb, 1 toolbox, 6.7ms\n",
            "image 1582/2096 /content/unzipped_images/image_514.png: 640x224 1 ac, 1 ensuite, 1 tbb, 1 toolbox, 6.2ms\n",
            "image 1583/2096 /content/unzipped_images/image_515.png: 640x224 1 ac, 1 ensuite, 1 toolbox, 6.0ms\n",
            "image 1584/2096 /content/unzipped_images/image_516.png: 640x224 1 ac, 1 ensuite, 1 tbb, 1 toolbox, 6.0ms\n",
            "image 1585/2096 /content/unzipped_images/image_517.png: 640x256 1 ac, 1 ensuite, 1 tbb, 1 toolbox, 6.7ms\n",
            "image 1586/2096 /content/unzipped_images/image_518.png: 640x224 1 ac, 1 ensuite, 1 tbb, 1 toolbox, 6.7ms\n",
            "image 1587/2096 /content/unzipped_images/image_519.png: 640x224 1 ac, 1 ensuite, 1 tbb, 1 toolbox, 6.2ms\n",
            "image 1588/2096 /content/unzipped_images/image_52.png: 640x224 1 ac, 1 ensuite, 1 tbb, 1 toolbox, 5.9ms\n",
            "image 1589/2096 /content/unzipped_images/image_520.png: 640x256 1 ac, 1 ensuite, 1 tbb, 1 toolbox, 6.5ms\n",
            "image 1590/2096 /content/unzipped_images/image_521.png: 640x192 1 ac, 1 tbb, 1 toolbox, 6.7ms\n",
            "image 1591/2096 /content/unzipped_images/image_522.png: 640x192 1 ensuite, 1 tbb, 1 toolbox, 5.9ms\n",
            "image 1592/2096 /content/unzipped_images/image_523.png: 640x224 1 ac, 1 tbb, 2 toolboxs, 6.8ms\n",
            "image 1593/2096 /content/unzipped_images/image_524.png: 640x256 1 ac, 1 ensuite, 1 tbb, 1 toolbox, 6.6ms\n",
            "image 1594/2096 /content/unzipped_images/image_525.png: 640x224 1 ac, 1 ensuite, 1 tbb, 1 toolbox, 7.5ms\n",
            "image 1595/2096 /content/unzipped_images/image_526.png: 640x288 1 ac, 1 ensuite, 1 tbb, 1 toolbox, 7.1ms\n",
            "image 1596/2096 /content/unzipped_images/image_527.png: 640x224 1 ac, 1 ensuite, 1 tbb, 1 toolbox, 7.7ms\n",
            "image 1597/2096 /content/unzipped_images/image_528.png: 640x224 1 ac, 1 ensuite, 1 tbb, 1 toolbox, 6.9ms\n",
            "image 1598/2096 /content/unzipped_images/image_529.png: 640x224 1 ac, 1 ensuite, 1 tbb, 1 toolbox, 6.7ms\n",
            "image 1599/2096 /content/unzipped_images/image_53.png: 640x288 1 ac, 1 ensuite, 1 tbb, 1 toolbox, 7.7ms\n",
            "image 1600/2096 /content/unzipped_images/image_530.png: 640x224 1 ac, 1 ensuite, 1 tbb, 1 toolbox, 7.0ms\n",
            "image 1601/2096 /content/unzipped_images/image_531.png: 640x288 1 ac, 1 ensuite, 1 tbb, 7.0ms\n",
            "image 1602/2096 /content/unzipped_images/image_532.png: 640x224 1 ac, 1 ensuite, 1 tbb, 1 toolbox, 7.3ms\n",
            "image 1603/2096 /content/unzipped_images/image_533.png: 640x224 1 ac, 1 ensuite, 1 tbb, 1 toolbox, 6.7ms\n",
            "image 1604/2096 /content/unzipped_images/image_534.png: 640x224 1 ac, 1 ensuite, 1 tbb, 1 toolbox, 6.2ms\n",
            "image 1605/2096 /content/unzipped_images/image_535.png: 640x288 1 ac, 1 ensuite, 1 tbb, 7.0ms\n",
            "image 1606/2096 /content/unzipped_images/image_536.png: 640x224 1 ac, 1 ensuite, 1 tbb, 1 toolbox, 6.7ms\n",
            "image 1607/2096 /content/unzipped_images/image_537.png: 640x256 1 ac, 1 ensuite, 1 tbb, 1 toolbox, 7.1ms\n",
            "image 1608/2096 /content/unzipped_images/image_538.png: 640x224 1 ac, 1 ensuite, 1 tbb, 1 toolbox, 7.3ms\n",
            "image 1609/2096 /content/unzipped_images/image_539.png: 640x224 1 ac, 1 toolbox, 6.7ms\n",
            "image 1610/2096 /content/unzipped_images/image_54.png: 640x288 1 ac, 1 ensuite, 1 tbb, 1 toolbox, 7.1ms\n",
            "image 1611/2096 /content/unzipped_images/image_540.png: 640x288 1 ac, 1 ensuite, 1 tbb, 1 toolbox, 6.8ms\n",
            "image 1612/2096 /content/unzipped_images/image_541.png: 640x224 1 ac, 1 ensuite, 1 toolbox, 7.2ms\n",
            "image 1613/2096 /content/unzipped_images/image_542.png: 640x224 1 ac, 1 ensuite, 1 tbb, 6.1ms\n",
            "image 1614/2096 /content/unzipped_images/image_543.png: 640x288 1 ac, 1 ensuite, 1 tbb, 1 toolbox, 7.0ms\n",
            "image 1615/2096 /content/unzipped_images/image_544.png: 640x224 1 ac, 1 ensuite, 1 tbb, 7.2ms\n",
            "image 1616/2096 /content/unzipped_images/image_545.png: 640x224 1 ac, 1 ensuite, 1 tbb, 1 toolbox, 6.7ms\n",
            "image 1617/2096 /content/unzipped_images/image_546.png: 640x224 1 ac, 1 ensuite, 1 tbb, 6.2ms\n",
            "image 1618/2096 /content/unzipped_images/image_547.png: 640x256 1 ac, 1 ensuite, 1 tbb, 1 toolbox, 7.3ms\n",
            "image 1619/2096 /content/unzipped_images/image_548.png: 640x192 1 ac, 1 tbb, 1 toolbox, 7.6ms\n",
            "image 1620/2096 /content/unzipped_images/image_549.png: 640x224 1 ac, 1 ensuite, 1 tbb, 1 toolbox, 9.9ms\n",
            "image 1621/2096 /content/unzipped_images/image_55.png: 640x192 1 ac, 1 ensuite, 1 tbb, 1 toolbox, 7.3ms\n",
            "image 1622/2096 /content/unzipped_images/image_550.png: 640x224 1 ac, 1 ensuite, 1 tbb, 9.0ms\n",
            "image 1623/2096 /content/unzipped_images/image_551.png: 640x192 1 ac, 7.5ms\n",
            "image 1624/2096 /content/unzipped_images/image_552.png: 640x224 2 acs, 1 ensuite, 2 tbbs, 7.3ms\n",
            "image 1625/2096 /content/unzipped_images/image_553.png: 640x288 1 ac, 1 ensuite, 1 tbb, 1 toolbox, 7.2ms\n",
            "image 1626/2096 /content/unzipped_images/image_554.png: 640x224 1 ac, 1 ensuite, 1 tbb, 1 toolbox, 7.3ms\n",
            "image 1627/2096 /content/unzipped_images/image_555.png: 640x256 1 ac, 1 ensuite, 1 tbb, 7.0ms\n",
            "image 1628/2096 /content/unzipped_images/image_556.png: 640x288 1 ac, 1 ensuite, 1 tbb, 1 toolbox, 7.4ms\n",
            "image 1629/2096 /content/unzipped_images/image_557.png: 640x192 1 ac, 1 ensuite, 1 tbb, 1 toolbox, 7.0ms\n",
            "image 1630/2096 /content/unzipped_images/image_558.png: 640x224 1 ac, 1 ensuite, 1 tbb, 1 toolbox, 7.2ms\n",
            "image 1631/2096 /content/unzipped_images/image_559.png: 640x288 1 ac, 1 ensuite, 1 tbb, 1 toolbox, 7.2ms\n",
            "image 1632/2096 /content/unzipped_images/image_56.png: 640x192 1 ac, 1 ensuite, 1 tbb, 1 toolbox, 7.1ms\n",
            "image 1633/2096 /content/unzipped_images/image_560.png: 640x224 1 ac, 1 ensuite, 1 tbb, 1 toolbox, 7.1ms\n",
            "image 1634/2096 /content/unzipped_images/image_561.png: 640x256 1 ac, 1 ensuite, 1 tbb, 1 toolbox, 7.3ms\n",
            "image 1635/2096 /content/unzipped_images/image_562.png: 640x224 2 acs, 1 ensuite, 2 tbbs, 7.2ms\n",
            "image 1636/2096 /content/unzipped_images/image_563.png: 640x288 1 ac, 1 ensuite, 1 tbb, 7.2ms\n",
            "image 1637/2096 /content/unzipped_images/image_564.png: 640x224 1 ac, 1 ensuite, 1 tbb, 7.2ms\n",
            "image 1638/2096 /content/unzipped_images/image_565.png: 640x224 1 ac, 1 ensuite, 1 tbb, 1 toolbox, 6.1ms\n",
            "image 1639/2096 /content/unzipped_images/image_566.png: 640x288 1 ac, 1 ensuite, 1 tbb, 1 toolbox, 7.1ms\n",
            "image 1640/2096 /content/unzipped_images/image_567.png: 640x256 1 ac, 1 ensuite, 1 tbb, 6.9ms\n",
            "image 1641/2096 /content/unzipped_images/image_568.png: 640x224 1 ac, 1 ensuite, 1 tbb, 1 toolbox, 6.9ms\n",
            "image 1642/2096 /content/unzipped_images/image_569.png: 640x224 1 ac, 1 tbb, 1 toolbox, 6.5ms\n",
            "image 1643/2096 /content/unzipped_images/image_57.png: 640x224 1 ac, 1 ensuite, 1 tbb, 1 toolbox, 6.3ms\n",
            "image 1644/2096 /content/unzipped_images/image_570.png: 640x224 1 ac, 1 ensuite, 1 tbb, 6.3ms\n",
            "image 1645/2096 /content/unzipped_images/image_571.png: 640x192 1 ac, 1 ensuite, 1 tbb, 1 toolbox, 6.9ms\n",
            "image 1646/2096 /content/unzipped_images/image_572.png: 640x224 1 ac, 1 ensuite, 1 tbb, 7.3ms\n",
            "image 1647/2096 /content/unzipped_images/image_573.png: 640x256 1 ac, 1 ensuite, 1 tbb, 1 toolbox, 7.1ms\n",
            "image 1648/2096 /content/unzipped_images/image_574.png: 640x224 1 ac, 1 ensuite, 1 tbb, 1 toolbox, 7.2ms\n",
            "image 1649/2096 /content/unzipped_images/image_575.png: 640x256 1 ac, 1 ensuite, 1 tbb, 1 toolbox, 6.9ms\n",
            "image 1650/2096 /content/unzipped_images/image_576.png: 640x224 1 ac, 1 ensuite, 1 tbb, 1 toolbox, 6.7ms\n",
            "image 1651/2096 /content/unzipped_images/image_577.png: 640x224 1 ac, 1 ensuite, 1 tbb, 1 toolbox, 6.4ms\n",
            "image 1652/2096 /content/unzipped_images/image_578.png: 640x256 1 ac, 1 ensuite, 1 tbb, 7.1ms\n",
            "image 1653/2096 /content/unzipped_images/image_579.png: 640x224 1 ac, 1 ensuite, 1 toolbox, 7.1ms\n",
            "image 1654/2096 /content/unzipped_images/image_58.png: 640x224 1 ac, 1 ensuite, 1 tbb, 1 toolbox, 6.4ms\n",
            "image 1655/2096 /content/unzipped_images/image_580.png: 640x256 1 ac, 1 ensuite, 1 tbb, 1 toolbox, 7.2ms\n",
            "image 1656/2096 /content/unzipped_images/image_581.png: 640x224 1 ac, 1 ensuite, 1 tbb, 1 toolbox, 7.0ms\n",
            "image 1657/2096 /content/unzipped_images/image_582.png: 640x256 1 ac, 1 ensuite, 1 tbb, 1 toolbox, 8.6ms\n",
            "image 1658/2096 /content/unzipped_images/image_583.png: 640x192 1 ac, 1 ensuite, 1 tbb, 1 toolbox, 8.7ms\n",
            "image 1659/2096 /content/unzipped_images/image_584.png: 640x224 1 ac, 1 ensuite, 7.1ms\n",
            "image 1660/2096 /content/unzipped_images/image_585.png: 640x256 1 ac, 1 ensuite, 1 tbb, 1 toolbox, 7.1ms\n",
            "image 1661/2096 /content/unzipped_images/image_586.png: 640x288 1 ac, 1 ensuite, 1 tbb, 1 toolbox, 7.2ms\n",
            "image 1662/2096 /content/unzipped_images/image_587.png: 640x224 1 ac, 1 ensuite, 1 tbb, 1 toolbox, 7.1ms\n",
            "image 1663/2096 /content/unzipped_images/image_588.png: 640x256 1 ac, 1 ensuite, 1 tbb, 1 toolbox, 7.0ms\n",
            "image 1664/2096 /content/unzipped_images/image_589.png: 640x224 1 ac, 1 ensuite, 1 tbb, 1 toolbox, 7.1ms\n",
            "image 1665/2096 /content/unzipped_images/image_59.png: 640x224 1 ac, 1 ensuite, 1 tbb, 1 toolbox, 6.2ms\n",
            "image 1666/2096 /content/unzipped_images/image_590.png: 640x224 1 ac, 1 ensuite, 1 tbb, 1 toolbox, 6.1ms\n",
            "image 1667/2096 /content/unzipped_images/image_591.png: 640x224 1 ac, 1 ensuite, 1 toolbox, 6.2ms\n",
            "image 1668/2096 /content/unzipped_images/image_592.png: 640x192 2 acs, 1 ensuite, 2 tbbs, 1 toolbox, 7.1ms\n",
            "image 1669/2096 /content/unzipped_images/image_593.png: 640x224 1 ac, 1 ensuite, 1 tbb, 1 toolbox, 7.1ms\n",
            "image 1670/2096 /content/unzipped_images/image_594.png: 640x224 1 ac, 1 ensuite, 1 tbb, 1 toolbox, 6.8ms\n",
            "image 1671/2096 /content/unzipped_images/image_595.png: 640x224 1 ac, 1 ensuite, 1 tbb, 1 toolbox, 6.5ms\n",
            "image 1672/2096 /content/unzipped_images/image_596.png: 640x224 1 ac, 1 ensuite, 1 toolbox, 7.7ms\n",
            "image 1673/2096 /content/unzipped_images/image_597.png: 640x224 1 ac, 1 ensuite, 1 tbb, 2 toolboxs, 6.7ms\n",
            "image 1674/2096 /content/unzipped_images/image_598.png: 640x192 1 ac, 1 ensuite, 1 tbb, 1 toolbox, 7.7ms\n",
            "image 1675/2096 /content/unzipped_images/image_599.png: 640x256 1 ac, 1 ensuite, 1 tbb, 8.9ms\n",
            "image 1676/2096 /content/unzipped_images/image_6.png: 640x256 1 ac, 1 ensuite, 1 tbb, 1 toolbox, 6.4ms\n",
            "image 1677/2096 /content/unzipped_images/image_60.png: 640x192 1 ac, 1 ensuite, 1 tbb, 1 toolbox, 6.8ms\n",
            "image 1678/2096 /content/unzipped_images/image_600.png: 640x256 1 ac, 1 ensuite, 1 tbb, 6.9ms\n",
            "image 1679/2096 /content/unzipped_images/image_601.png: 640x256 1 ac, 1 ensuite, 1 tbb, 8.8ms\n",
            "image 1680/2096 /content/unzipped_images/image_602.png: 640x224 1 ac, 1 ensuite, 1 tbb, 1 toolbox, 9.2ms\n",
            "image 1681/2096 /content/unzipped_images/image_603.png: 640x224 1 ac, 1 ensuite, 1 tbb, 1 toolbox, 5.9ms\n",
            "image 1682/2096 /content/unzipped_images/image_604.png: 640x224 1 ac, 1 ensuite, 1 tbb, 1 toolbox, 6.5ms\n",
            "image 1683/2096 /content/unzipped_images/image_605.png: 640x256 1 ac, 1 ensuite, 1 tbb, 1 toolbox, 6.8ms\n",
            "image 1684/2096 /content/unzipped_images/image_606.png: 640x224 1 ac, 1 tbb, 1 toolbox, 9.3ms\n",
            "image 1685/2096 /content/unzipped_images/image_607.png: 640x224 1 ac, 1 ensuite, 1 tbb, 1 toolbox, 7.8ms\n",
            "image 1686/2096 /content/unzipped_images/image_608.png: 640x224 1 ac, 1 ensuite, 1 tbb, 1 toolbox, 8.8ms\n",
            "image 1687/2096 /content/unzipped_images/image_609.png: 640x224 1 ac, 1 ensuite, 1 tbb, 1 toolbox, 6.4ms\n",
            "image 1688/2096 /content/unzipped_images/image_61.png: 640x224 1 ac, 1 ensuite, 1 tbb, 1 toolbox, 6.4ms\n",
            "image 1689/2096 /content/unzipped_images/image_610.png: 640x224 1 ac, 1 ensuite, 1 tbb, 1 toolbox, 6.3ms\n",
            "image 1690/2096 /content/unzipped_images/image_611.png: 640x224 1 ac, 1 ensuite, 1 tbb, 1 toolbox, 6.2ms\n",
            "image 1691/2096 /content/unzipped_images/image_612.png: 640x224 1 ac, 1 ensuite, 1 tbb, 1 toolbox, 6.6ms\n",
            "image 1692/2096 /content/unzipped_images/image_613.png: 640x224 1 ac, 1 ensuite, 1 tbb, 1 toolbox, 6.3ms\n",
            "image 1693/2096 /content/unzipped_images/image_614.png: 640x224 1 ac, 1 ensuite, 1 tbb, 1 toolbox, 8.6ms\n",
            "image 1694/2096 /content/unzipped_images/image_615.png: 640x288 1 ac, 1 ensuite, 1 tbb, 1 toolbox, 7.3ms\n",
            "image 1695/2096 /content/unzipped_images/image_616.png: 640x224 1 ac, 1 ensuite, 1 tbb, 1 toolbox, 7.1ms\n",
            "image 1696/2096 /content/unzipped_images/image_617.png: 640x224 1 ac, 1 ensuite, 1 tbb, 1 toolbox, 6.0ms\n",
            "image 1697/2096 /content/unzipped_images/image_618.png: 640x224 1 ac, 1 ensuite, 1 tbb, 1 toolbox, 5.9ms\n",
            "image 1698/2096 /content/unzipped_images/image_619.png: 640x256 1 ac, 1 ensuite, 1 tbb, 6.7ms\n",
            "image 1699/2096 /content/unzipped_images/image_62.png: 640x192 1 ac, 1 ensuite, 1 tbb, 1 toolbox, 8.2ms\n",
            "image 1700/2096 /content/unzipped_images/image_620.png: 640x256 1 ac, 1 ensuite, 1 tbb, 1 toolbox, 6.8ms\n",
            "image 1701/2096 /content/unzipped_images/image_621.png: 640x224 1 ac, 1 ensuite, 1 tbb, 1 toolbox, 6.6ms\n",
            "image 1702/2096 /content/unzipped_images/image_622.png: 640x192 1 ac, 1 ensuite, 1 toolbox, 7.1ms\n",
            "image 1703/2096 /content/unzipped_images/image_623.png: 640x224 1 ac, 1 ensuite, 1 tbb, 1 toolbox, 7.0ms\n",
            "image 1704/2096 /content/unzipped_images/image_624.png: 640x192 1 ac, 1 ensuite, 1 tbb, 1 toolbox, 7.1ms\n",
            "image 1705/2096 /content/unzipped_images/image_625.png: 640x224 1 ac, 1 ensuite, 1 tbb, 7.5ms\n",
            "image 1706/2096 /content/unzipped_images/image_626.png: 640x256 1 ac, 1 ensuite, 1 tbb, 1 toolbox, 7.6ms\n",
            "image 1707/2096 /content/unzipped_images/image_627.png: 640x224 1 ac, 1 ensuite, 1 tbb, 1 toolbox, 7.1ms\n",
            "image 1708/2096 /content/unzipped_images/image_628.png: 640x224 1 ac, 1 ensuite, 1 tbb, 1 toolbox, 6.6ms\n",
            "image 1709/2096 /content/unzipped_images/image_629.png: 640x256 1 ac, 1 ensuite, 1 tbb, 1 toolbox, 9.1ms\n",
            "image 1710/2096 /content/unzipped_images/image_63.png: 640x224 1 ac, 1 ensuite, 1 tbb, 1 toolbox, 7.0ms\n",
            "image 1711/2096 /content/unzipped_images/image_630.png: 640x192 1 ac, 1 ensuite, 1 tbb, 1 toolbox, 6.9ms\n",
            "image 1712/2096 /content/unzipped_images/image_631.png: 640x192 1 ac, 1 ensuite, 1 tbb, 1 toolbox, 6.6ms\n",
            "image 1713/2096 /content/unzipped_images/image_632.png: 640x224 1 ac, 1 ensuite, 2 tbbs, 8.4ms\n",
            "image 1714/2096 /content/unzipped_images/image_633.png: 640x192 1 ac, 1 ensuite, 1 tbb, 1 toolbox, 7.0ms\n",
            "image 1715/2096 /content/unzipped_images/image_634.png: 640x224 1 ac, 1 ensuite, 1 tbb, 8.1ms\n",
            "image 1716/2096 /content/unzipped_images/image_635.png: 640x224 1 ac, 1 tbb, 1 toolbox, 6.6ms\n",
            "image 1717/2096 /content/unzipped_images/image_636.png: 640x288 1 ac, 1 ensuite, 1 tbb, 1 toolbox, 7.2ms\n",
            "image 1718/2096 /content/unzipped_images/image_637.png: 640x224 1 ac, 1 ensuite, 1 tbb, 1 toolbox, 7.2ms\n",
            "image 1719/2096 /content/unzipped_images/image_638.png: 640x224 2 acs, 1 ensuite, 2 tbbs, 8.8ms\n",
            "image 1720/2096 /content/unzipped_images/image_639.png: 640x224 1 ac, 1 ensuite, 1 tbb, 1 toolbox, 6.3ms\n",
            "image 1721/2096 /content/unzipped_images/image_64.png: 640x192 1 ac, 1 ensuite, 1 tbb, 1 toolbox, 11.6ms\n",
            "image 1722/2096 /content/unzipped_images/image_640.png: 640x192 1 ac, 1 ensuite, 1 tbb, 1 toolbox, 7.0ms\n",
            "image 1723/2096 /content/unzipped_images/image_641.png: 640x224 1 ac, 1 ensuite, 1 tbb, 1 toolbox, 7.5ms\n",
            "image 1724/2096 /content/unzipped_images/image_642.png: 640x256 1 ac, 1 ensuite, 1 tbb, 9.7ms\n",
            "image 1725/2096 /content/unzipped_images/image_643.png: 640x224 1 ac, 1 ensuite, 1 tbb, 1 toolbox, 7.8ms\n",
            "image 1726/2096 /content/unzipped_images/image_644.png: 640x192 1 ac, 1 ensuite, 1 tbb, 1 toolbox, 7.6ms\n",
            "image 1727/2096 /content/unzipped_images/image_645.png: 640x224 2 acs, 1 ensuite, 2 tbbs, 7.0ms\n",
            "image 1728/2096 /content/unzipped_images/image_646.png: 640x288 1 ac, 1 ensuite, 1 tbb, 7.0ms\n",
            "image 1729/2096 /content/unzipped_images/image_647.png: 640x288 1 ac, 1 ensuite, 1 tbb, 8.7ms\n",
            "image 1730/2096 /content/unzipped_images/image_648.png: 640x192 1 ac, 1 toolbox, 7.2ms\n",
            "image 1731/2096 /content/unzipped_images/image_649.png: 640x224 1 ac, 1 tbb, 1 toolbox, 6.9ms\n",
            "image 1732/2096 /content/unzipped_images/image_65.png: 640x256 1 ac, 1 ensuite, 1 tbb, 1 toolbox, 6.9ms\n",
            "image 1733/2096 /content/unzipped_images/image_650.png: 640x224 1 ac, 1 ensuite, 1 tbb, 1 toolbox, 7.3ms\n",
            "image 1734/2096 /content/unzipped_images/image_651.png: 640x256 1 ac, 1 ensuite, 1 tbb, 1 toolbox, 7.0ms\n",
            "image 1735/2096 /content/unzipped_images/image_652.png: 640x224 1 ac, 1 ensuite, 1 tbb, 6.9ms\n",
            "image 1736/2096 /content/unzipped_images/image_653.png: 640x224 1 ac, 1 ensuite, 1 toolbox, 6.3ms\n",
            "image 1737/2096 /content/unzipped_images/image_654.png: 640x224 1 ac, 1 tbb, 1 toolbox, 8.6ms\n",
            "image 1738/2096 /content/unzipped_images/image_655.png: 640x224 1 ac, 1 tbb, 1 toolbox, 6.5ms\n",
            "image 1739/2096 /content/unzipped_images/image_656.png: 640x224 2 acs, 1 ensuite, 2 tbbs, 6.4ms\n",
            "image 1740/2096 /content/unzipped_images/image_657.png: 640x256 1 ac, 1 ensuite, 1 toolbox, 7.1ms\n",
            "image 1741/2096 /content/unzipped_images/image_658.png: 640x224 3 acs, 1 ensuite, 2 tbbs, 8.2ms\n",
            "image 1742/2096 /content/unzipped_images/image_659.png: 640x224 1 ac, 1 ensuite, 1 tbb, 1 toolbox, 6.0ms\n",
            "image 1743/2096 /content/unzipped_images/image_66.png: 640x256 1 ac, 1 ensuite, 1 tbb, 1 toolbox, 7.5ms\n",
            "image 1744/2096 /content/unzipped_images/image_660.png: 640x256 1 ac, 1 ensuite, 1 tbb, 1 toolbox, 6.3ms\n",
            "image 1745/2096 /content/unzipped_images/image_661.png: 640x224 1 ac, 1 ensuite, 1 toolbox, 7.1ms\n",
            "image 1746/2096 /content/unzipped_images/image_662.png: 640x256 1 ac, 1 ensuite, 1 tbb, 7.2ms\n",
            "image 1747/2096 /content/unzipped_images/image_663.png: 640x192 1 ac, 1 ensuite, 1 tbb, 1 toolbox, 6.9ms\n",
            "image 1748/2096 /content/unzipped_images/image_664.png: 640x224 1 ac, 1 ensuite, 1 tbb, 1 toolbox, 6.7ms\n",
            "image 1749/2096 /content/unzipped_images/image_665.png: 640x256 1 ac, 1 ensuite, 1 tbb, 1 toolbox, 9.2ms\n",
            "image 1750/2096 /content/unzipped_images/image_666.png: 640x224 1 ac, 1 ensuite, 1 tbb, 1 toolbox, 6.9ms\n",
            "image 1751/2096 /content/unzipped_images/image_667.png: 640x224 1 ac, 1 ensuite, 1 tbb, 1 toolbox, 8.3ms\n",
            "image 1752/2096 /content/unzipped_images/image_668.png: 640x224 1 ac, 1 ensuite, 1 tbb, 1 toolbox, 6.3ms\n",
            "image 1753/2096 /content/unzipped_images/image_669.png: 640x224 1 ac, 1 ensuite, 1 tbb, 1 toolbox, 6.3ms\n",
            "image 1754/2096 /content/unzipped_images/image_67.png: 640x256 1 ac, 1 ensuite, 1 tbb, 1 toolbox, 7.2ms\n",
            "image 1755/2096 /content/unzipped_images/image_670.png: 640x224 1 ac, 1 tbb, 1 toolbox, 6.9ms\n",
            "image 1756/2096 /content/unzipped_images/image_671.png: 640x224 1 ac, 1 ensuite, 1 toolbox, 6.1ms\n",
            "image 1757/2096 /content/unzipped_images/image_672.png: 640x288 1 ac, 1 ensuite, 1 tbb, 1 toolbox, 7.1ms\n",
            "image 1758/2096 /content/unzipped_images/image_673.png: 640x224 3 acs, 1 ensuite, 2 tbbs, 6.8ms\n",
            "image 1759/2096 /content/unzipped_images/image_674.png: 640x224 2 acs, 1 ensuite, 2 tbbs, 6.3ms\n",
            "image 1760/2096 /content/unzipped_images/image_675.png: 640x288 1 ac, 1 ensuite, 1 tbb, 8.3ms\n",
            "image 1761/2096 /content/unzipped_images/image_676.png: 640x224 1 ac, 1 ensuite, 1 tbb, 1 toolbox, 7.9ms\n",
            "image 1762/2096 /content/unzipped_images/image_677.png: 640x224 1 ac, 1 ensuite, 1 tbb, 1 toolbox, 6.4ms\n",
            "image 1763/2096 /content/unzipped_images/image_678.png: 640x224 3 acs, 1 ensuite, 2 tbbs, 9.4ms\n",
            "image 1764/2096 /content/unzipped_images/image_679.png: 640x224 1 ac, 1 ensuite, 1 tbb, 1 toolbox, 6.8ms\n",
            "image 1765/2096 /content/unzipped_images/image_68.png: 640x224 1 ac, 1 ensuite, 1 tbb, 1 toolbox, 8.6ms\n",
            "image 1766/2096 /content/unzipped_images/image_680.png: 640x224 1 ac, 2 ensuites, 1 tbb, 1 toolbox, 6.3ms\n",
            "image 1767/2096 /content/unzipped_images/image_681.png: 640x224 1 ac, 1 ensuite, 1 tbb, 1 toolbox, 6.2ms\n",
            "image 1768/2096 /content/unzipped_images/image_682.png: 640x224 1 ac, 1 ensuite, 1 tbb, 1 toolbox, 7.6ms\n",
            "image 1769/2096 /content/unzipped_images/image_683.png: 640x256 1 ac, 1 ensuite, 1 tbb, 1 toolbox, 6.9ms\n",
            "image 1770/2096 /content/unzipped_images/image_684.png: 640x224 1 ac, 1 ensuite, 1 tbb, 1 toolbox, 7.3ms\n",
            "image 1771/2096 /content/unzipped_images/image_685.png: 640x224 1 ac, 1 ensuite, 1 tbb, 1 toolbox, 6.3ms\n",
            "image 1772/2096 /content/unzipped_images/image_686.png: 640x288 1 ac, 1 ensuite, 1 tbb, 1 toolbox, 7.0ms\n",
            "image 1773/2096 /content/unzipped_images/image_687.png: 640x224 1 ac, 1 ensuite, 1 tbb, 1 toolbox, 9.0ms\n",
            "image 1774/2096 /content/unzipped_images/image_688.png: 640x256 1 ac, 1 ensuite, 1 tbb, 1 toolbox, 7.0ms\n",
            "image 1775/2096 /content/unzipped_images/image_689.png: 640x224 1 ac, 1 ensuite, 1 tbb, 1 toolbox, 6.8ms\n",
            "image 1776/2096 /content/unzipped_images/image_69.png: 640x256 1 ac, 1 ensuite, 1 tbb, 1 toolbox, 6.9ms\n",
            "image 1777/2096 /content/unzipped_images/image_690.png: 640x224 1 ac, 1 ensuite, 1 toolbox, 6.7ms\n",
            "image 1778/2096 /content/unzipped_images/image_691.png: 640x224 1 ac, 1 ensuite, 1 toolbox, 6.1ms\n",
            "image 1779/2096 /content/unzipped_images/image_692.png: 640x192 1 ac, 1 ensuite, 1 tbb, 1 toolbox, 9.2ms\n",
            "image 1780/2096 /content/unzipped_images/image_693.png: 640x192 1 ac, 1 ensuite, 1 tbb, 1 toolbox, 7.6ms\n",
            "image 1781/2096 /content/unzipped_images/image_694.png: 640x288 1 ac, 1 ensuite, 1 tbb, 1 toolbox, 7.0ms\n",
            "image 1782/2096 /content/unzipped_images/image_695.png: 640x224 1 ac, 1 ensuite, 1 tbb, 6.6ms\n",
            "image 1783/2096 /content/unzipped_images/image_696.png: 640x224 1 ac, 1 ensuite, 1 tbb, 1 toolbox, 6.3ms\n",
            "image 1784/2096 /content/unzipped_images/image_697.png: 640x224 1 ac, 1 ensuite, 1 tbb, 1 toolbox, 6.1ms\n",
            "image 1785/2096 /content/unzipped_images/image_698.png: 640x288 1 ac, 1 ensuite, 1 tbb, 1 toolbox, 7.3ms\n",
            "image 1786/2096 /content/unzipped_images/image_699.png: 640x192 1 ac, 1 ensuite, 1 tbb, 6.7ms\n",
            "image 1787/2096 /content/unzipped_images/image_7.png: 640x192 1 ac, 1 ensuite, 1 tbb, 1 toolbox, 8.0ms\n",
            "image 1788/2096 /content/unzipped_images/image_70.png: 640x256 1 ac, 1 ensuite, 1 tbb, 1 toolbox, 7.1ms\n",
            "image 1789/2096 /content/unzipped_images/image_700.png: 640x224 1 ac, 1 ensuite, 1 tbb, 1 toolbox, 6.9ms\n",
            "image 1790/2096 /content/unzipped_images/image_701.png: 640x288 1 ac, 1 ensuite, 1 tbb, 1 toolbox, 9.3ms\n",
            "image 1791/2096 /content/unzipped_images/image_702.png: 640x224 1 ac, 1 ensuite, 1 toolbox, 6.8ms\n",
            "image 1792/2096 /content/unzipped_images/image_703.png: 640x224 1 ac, 1 ensuite, 1 tbb, 1 toolbox, 6.7ms\n",
            "image 1793/2096 /content/unzipped_images/image_704.png: 640x224 1 ac, 1 ensuite, 1 tbb, 8.2ms\n",
            "image 1794/2096 /content/unzipped_images/image_705.png: 640x224 1 ac, 1 ensuite, 1 tbb, 1 toolbox, 6.5ms\n",
            "image 1795/2096 /content/unzipped_images/image_706.png: 640x224 1 ac, 1 ensuite, 1 tbb, 1 toolbox, 6.6ms\n",
            "image 1796/2096 /content/unzipped_images/image_707.png: 640x288 1 ac, 1 ensuite, 1 tbb, 7.7ms\n",
            "image 1797/2096 /content/unzipped_images/image_708.png: 640x224 1 ac, 1 ensuite, 1 tbb, 1 toolbox, 7.2ms\n",
            "image 1798/2096 /content/unzipped_images/image_709.png: 640x224 1 ac, 1 ensuite, 1 tbb, 1 toolbox, 6.0ms\n",
            "image 1799/2096 /content/unzipped_images/image_71.png: 640x256 1 ac, 1 ensuite, 1 tbb, 6.8ms\n",
            "image 1800/2096 /content/unzipped_images/image_710.png: 640x256 1 ac, 1 ensuite, 1 tbb, 1 toolbox, 6.0ms\n",
            "image 1801/2096 /content/unzipped_images/image_711.png: 640x224 1 ac, 1 ensuite, 1 tbb, 1 toolbox, 7.3ms\n",
            "image 1802/2096 /content/unzipped_images/image_712.png: 640x224 1 ac, 1 ensuite, 1 tbb, 1 toolbox, 8.0ms\n",
            "image 1803/2096 /content/unzipped_images/image_713.png: 640x224 1 ac, 1 ensuite, 1 tbb, 1 toolbox, 7.8ms\n",
            "image 1804/2096 /content/unzipped_images/image_714.png: 640x288 1 ac, 1 ensuite, 1 tbb, 7.7ms\n",
            "image 1805/2096 /content/unzipped_images/image_715.png: 640x192 1 ac, 1 ensuite, 1 tbb, 1 toolbox, 7.1ms\n",
            "image 1806/2096 /content/unzipped_images/image_716.png: 640x224 1 ac, 1 ensuite, 1 tbb, 1 toolbox, 6.9ms\n",
            "image 1807/2096 /content/unzipped_images/image_717.png: 640x288 1 ac, 1 ensuite, 1 tbb, 1 toolbox, 7.4ms\n",
            "image 1808/2096 /content/unzipped_images/image_718.png: 640x224 1 ac, 1 ensuite, 1 tbb, 1 toolbox, 7.0ms\n",
            "image 1809/2096 /content/unzipped_images/image_719.png: 640x224 1 ac, 1 ensuite, 1 tbb, 1 toolbox, 6.4ms\n",
            "image 1810/2096 /content/unzipped_images/image_72.png: 640x224 1 ac, 1 ensuite, 1 tbb, 6.0ms\n",
            "image 1811/2096 /content/unzipped_images/image_720.png: 640x256 1 ac, 1 ensuite, 1 tbb, 6.8ms\n",
            "image 1812/2096 /content/unzipped_images/image_721.png: 640x288 1 ac, 1 ensuite, 1 tbb, 7.1ms\n",
            "image 1813/2096 /content/unzipped_images/image_722.png: 640x224 1 ac, 1 ensuite, 1 tbb, 1 toolbox, 6.8ms\n",
            "image 1814/2096 /content/unzipped_images/image_723.png: 640x224 1 ac, 1 ensuite, 1 tbb, 1 toolbox, 6.1ms\n",
            "image 1815/2096 /content/unzipped_images/image_724.png: 640x224 1 ac, 1 ensuite, 1 tbb, 1 toolbox, 6.2ms\n",
            "image 1816/2096 /content/unzipped_images/image_725.png: 640x256 1 ac, 1 ensuite, 1 tbb, 7.0ms\n",
            "image 1817/2096 /content/unzipped_images/image_726.png: 640x288 1 ac, 1 ensuite, 1 tbb, 1 toolbox, 7.1ms\n",
            "image 1818/2096 /content/unzipped_images/image_727.png: 640x192 2 acs, 1 toolbox, 7.2ms\n",
            "image 1819/2096 /content/unzipped_images/image_728.png: 640x288 1 ac, 1 ensuite, 1 tbb, 7.3ms\n",
            "image 1820/2096 /content/unzipped_images/image_729.png: 640x224 1 ac, 1 ensuite, 1 tbb, 1 toolbox, 7.0ms\n",
            "image 1821/2096 /content/unzipped_images/image_73.png: 640x224 1 ac, 1 ensuite, 1 tbb, 1 toolbox, 5.9ms\n",
            "image 1822/2096 /content/unzipped_images/image_730.png: 640x256 1 ac, 1 ensuite, 1 tbb, 7.2ms\n",
            "image 1823/2096 /content/unzipped_images/image_731.png: 640x224 1 ac, 1 ensuite, 1 tbb, 1 toolbox, 7.1ms\n",
            "image 1824/2096 /content/unzipped_images/image_732.png: 640x256 1 ac, 1 ensuite, 1 tbb, 1 toolbox, 7.1ms\n",
            "image 1825/2096 /content/unzipped_images/image_733.png: 640x224 1 ac, 1 ensuite, 1 tbb, 1 toolbox, 7.0ms\n",
            "image 1826/2096 /content/unzipped_images/image_734.png: 640x224 1 ac, 1 ensuite, 1 tbb, 1 toolbox, 6.0ms\n",
            "image 1827/2096 /content/unzipped_images/image_735.png: 640x224 1 ac, 1 ensuite, 1 tbb, 1 toolbox, 6.2ms\n",
            "image 1828/2096 /content/unzipped_images/image_736.png: 640x224 1 ac, 1 ensuite, 2 tbbs, 5.9ms\n",
            "image 1829/2096 /content/unzipped_images/image_737.png: 640x224 1 ac, 1 ensuite, 1 tbb, 1 toolbox, 5.9ms\n",
            "image 1830/2096 /content/unzipped_images/image_738.png: 640x288 1 ac, 1 ensuite, 1 tbb, 1 toolbox, 7.1ms\n",
            "image 1831/2096 /content/unzipped_images/image_739.png: 640x224 1 ac, 1 ensuite, 1 tbb, 1 toolbox, 6.8ms\n",
            "image 1832/2096 /content/unzipped_images/image_74.png: 640x224 1 ac, 1 ensuite, 1 tbb, 1 toolbox, 5.9ms\n",
            "image 1833/2096 /content/unzipped_images/image_740.png: 640x224 1 ac, 1 tbb, 1 toolbox, 6.7ms\n",
            "image 1834/2096 /content/unzipped_images/image_741.png: 640x224 1 ac, 1 ensuite, 1 tbb, 1 toolbox, 5.9ms\n",
            "image 1835/2096 /content/unzipped_images/image_742.png: 640x224 1 ac, 1 ensuite, 1 tbb, 1 toolbox, 6.2ms\n",
            "image 1836/2096 /content/unzipped_images/image_743.png: 640x256 1 ac, 1 ensuite, 1 tbb, 1 toolbox, 7.0ms\n",
            "image 1837/2096 /content/unzipped_images/image_744.png: 640x224 1 ac, 1 ensuite, 1 tbb, 1 toolbox, 7.0ms\n",
            "image 1838/2096 /content/unzipped_images/image_745.png: 640x224 1 ac, 1 ensuite, 1 tbb, 1 toolbox, 5.9ms\n",
            "image 1839/2096 /content/unzipped_images/image_746.png: 640x192 1 ac, 1 ensuite, 1 tbb, 1 toolbox, 6.8ms\n",
            "image 1840/2096 /content/unzipped_images/image_747.png: 640x256 1 ac, 1 ensuite, 1 tbb, 1 toolbox, 7.1ms\n",
            "image 1841/2096 /content/unzipped_images/image_748.png: 640x288 1 ac, 1 ensuite, 1 tbb, 1 toolbox, 8.2ms\n",
            "image 1842/2096 /content/unzipped_images/image_749.png: 640x224 1 ac, 1 ensuite, 1 tbb, 1 toolbox, 7.2ms\n",
            "image 1843/2096 /content/unzipped_images/image_75.png: 640x224 1 ac, 1 ensuite, 1 tbb, 1 toolbox, 6.7ms\n",
            "image 1844/2096 /content/unzipped_images/image_750.png: 640x224 1 ac, 1 ensuite, 1 tbb, 1 toolbox, 6.8ms\n",
            "image 1845/2096 /content/unzipped_images/image_751.png: 640x224 1 ac, 1 ensuite, 1 tbb, 1 toolbox, 6.8ms\n",
            "image 1846/2096 /content/unzipped_images/image_752.png: 640x224 1 ac, 1 ensuite, 1 tbb, 6.6ms\n",
            "image 1847/2096 /content/unzipped_images/image_753.png: 640x224 1 ac, 1 ensuite, 1 tbb, 6.0ms\n",
            "image 1848/2096 /content/unzipped_images/image_754.png: 640x224 1 ac, 1 ensuite, 1 tbb, 1 toolbox, 6.0ms\n",
            "image 1849/2096 /content/unzipped_images/image_755.png: 640x224 1 ac, 1 ensuite, 1 tbb, 1 toolbox, 6.2ms\n",
            "image 1850/2096 /content/unzipped_images/image_756.png: 640x224 1 ac, 1 ensuite, 1 tbb, 1 toolbox, 6.3ms\n",
            "image 1851/2096 /content/unzipped_images/image_757.png: 640x192 1 ac, 1 toolbox, 7.1ms\n",
            "image 1852/2096 /content/unzipped_images/image_758.png: 640x224 1 ac, 1 ensuite, 1 tbb, 1 toolbox, 7.1ms\n",
            "image 1853/2096 /content/unzipped_images/image_759.png: 640x192 1 ac, 1 tbb, 1 toolbox, 6.7ms\n",
            "image 1854/2096 /content/unzipped_images/image_76.png: 640x224 1 ac, 1 ensuite, 1 tbb, 1 toolbox, 6.7ms\n",
            "image 1855/2096 /content/unzipped_images/image_760.png: 640x288 1 ac, 1 ensuite, 1 tbb, 2 toolboxs, 6.9ms\n",
            "image 1856/2096 /content/unzipped_images/image_761.png: 640x192 1 ac, 1 ensuite, 1 tbb, 1 toolbox, 6.8ms\n",
            "image 1857/2096 /content/unzipped_images/image_762.png: 640x224 1 ac, 1 ensuite, 1 tbb, 1 toolbox, 6.8ms\n",
            "image 1858/2096 /content/unzipped_images/image_763.png: 640x288 1 ac, 1 ensuite, 1 tbb, 1 toolbox, 7.2ms\n",
            "image 1859/2096 /content/unzipped_images/image_764.png: 640x192 1 ac, 1 tbb, 1 toolbox, 6.8ms\n",
            "image 1860/2096 /content/unzipped_images/image_765.png: 640x224 1 ac, 1 ensuite, 1 tbb, 1 toolbox, 6.7ms\n",
            "image 1861/2096 /content/unzipped_images/image_766.png: 640x224 1 ac, 1 ensuite, 1 tbb, 7.7ms\n",
            "image 1862/2096 /content/unzipped_images/image_767.png: 640x224 1 ac, 1 ensuite, 1 toolbox, 6.0ms\n",
            "image 1863/2096 /content/unzipped_images/image_768.png: 640x224 1 ac, 1 tbb, 1 toolbox, 6.0ms\n",
            "image 1864/2096 /content/unzipped_images/image_769.png: 640x192 2 acs, 1 tbb, 1 toolbox, 7.1ms\n",
            "image 1865/2096 /content/unzipped_images/image_77.png: 640x224 1 ac, 1 ensuite, 1 tbb, 1 toolbox, 6.9ms\n",
            "image 1866/2096 /content/unzipped_images/image_770.png: 640x224 1 ac, 1 ensuite, 1 tbb, 1 toolbox, 6.1ms\n",
            "image 1867/2096 /content/unzipped_images/image_771.png: 640x256 1 ac, 1 ensuite, 1 tbb, 1 toolbox, 7.0ms\n",
            "image 1868/2096 /content/unzipped_images/image_772.png: 640x224 1 ac, 1 ensuite, 1 tbb, 1 toolbox, 6.9ms\n",
            "image 1869/2096 /content/unzipped_images/image_773.png: 640x224 1 ac, 1 ensuite, 1 tbb, 1 toolbox, 6.2ms\n",
            "image 1870/2096 /content/unzipped_images/image_774.png: 640x288 1 ac, 1 ensuite, 1 tbb, 6.8ms\n",
            "image 1871/2096 /content/unzipped_images/image_775.png: 640x224 1 ac, 1 ensuite, 1 tbb, 6.7ms\n",
            "image 1872/2096 /content/unzipped_images/image_776.png: 640x192 1 ac, 1 ensuite, 1 tbb, 1 toolbox, 6.6ms\n",
            "image 1873/2096 /content/unzipped_images/image_777.png: 640x224 1 ac, 1 ensuite, 1 tbb, 6.6ms\n",
            "image 1874/2096 /content/unzipped_images/image_778.png: 640x224 1 ac, 1 ensuite, 1 tbb, 1 toolbox, 5.9ms\n",
            "image 1875/2096 /content/unzipped_images/image_779.png: 640x224 1 ac, 1 ensuite, 1 toolbox, 6.0ms\n",
            "image 1876/2096 /content/unzipped_images/image_78.png: 640x224 1 ac, 1 ensuite, 1 tbb, 1 toolbox, 6.0ms\n",
            "image 1877/2096 /content/unzipped_images/image_780.png: 640x224 1 ac, 1 ensuite, 1 tbb, 1 toolbox, 6.3ms\n",
            "image 1878/2096 /content/unzipped_images/image_781.png: 640x224 1 ac, 1 ensuite, 1 tbb, 1 toolbox, 6.7ms\n",
            "image 1879/2096 /content/unzipped_images/image_782.png: 640x224 1 ac, 1 ensuite, 1 tbb, 6.6ms\n",
            "image 1880/2096 /content/unzipped_images/image_783.png: 640x224 1 ac, 1 ensuite, 1 tbb, 1 toolbox, 6.0ms\n",
            "image 1881/2096 /content/unzipped_images/image_784.png: 640x256 1 ac, 1 ensuite, 1 tbb, 7.3ms\n",
            "image 1882/2096 /content/unzipped_images/image_785.png: 640x224 1 ac, 1 ensuite, 1 tbb, 1 toolbox, 6.8ms\n",
            "image 1883/2096 /content/unzipped_images/image_786.png: 640x192 1 ac, 1 ensuite, 1 tbb, 1 toolbox, 7.6ms\n",
            "image 1884/2096 /content/unzipped_images/image_787.png: 640x224 1 ac, 1 ensuite, 1 toolbox, 7.8ms\n",
            "image 1885/2096 /content/unzipped_images/image_788.png: 640x224 1 ac, 1 ensuite, 1 tbb, 6.9ms\n",
            "image 1886/2096 /content/unzipped_images/image_789.png: 640x224 1 ac, 1 ensuite, 1 tbb, 1 toolbox, 6.9ms\n",
            "image 1887/2096 /content/unzipped_images/image_79.png: 640x224 1 ac, 1 ensuite, 1 tbb, 1 toolbox, 6.7ms\n",
            "image 1888/2096 /content/unzipped_images/image_790.png: 640x288 1 ac, 1 ensuite, 1 tbb, 7.2ms\n",
            "image 1889/2096 /content/unzipped_images/image_791.png: 640x192 1 ac, 1 tbb, 1 toolbox, 6.9ms\n",
            "image 1890/2096 /content/unzipped_images/image_792.png: 640x192 1 ac, 1 ensuite, 1 tbb, 1 toolbox, 6.1ms\n",
            "image 1891/2096 /content/unzipped_images/image_793.png: 640x224 1 ac, 1 ensuite, 1 tbb, 6.5ms\n",
            "image 1892/2096 /content/unzipped_images/image_794.png: 640x224 1 ac, 1 ensuite, 1 tbb, 1 toolbox, 6.1ms\n",
            "image 1893/2096 /content/unzipped_images/image_795.png: 640x320 1 ac, 1 ensuite, 1 tbb, 7.0ms\n",
            "image 1894/2096 /content/unzipped_images/image_797.png: 640x224 1 ac, 1 ensuite, 1 tbb, 6.6ms\n",
            "image 1895/2096 /content/unzipped_images/image_798.png: 640x288 1 ac, 1 ensuite, 1 tbb, 7.0ms\n",
            "image 1896/2096 /content/unzipped_images/image_799.png: 640x256 1 ac, 1 ensuite, 1 tbb, 6.7ms\n",
            "image 1897/2096 /content/unzipped_images/image_8.png: 640x224 1 ac, 1 ensuite, 1 tbb, 1 toolbox, 6.7ms\n",
            "image 1898/2096 /content/unzipped_images/image_80.png: 640x224 1 ac, 1 ensuite, 1 tbb, 1 toolbox, 6.0ms\n",
            "image 1899/2096 /content/unzipped_images/image_800.png: 640x224 1 ac, 1 ensuite, 1 tbb, 1 toolbox, 6.1ms\n",
            "image 1900/2096 /content/unzipped_images/image_801.png: 640x224 1 ac, 1 ensuite, 1 tbb, 6.0ms\n",
            "image 1901/2096 /content/unzipped_images/image_802.png: 640x224 1 ac, 1 ensuite, 1 tbb, 1 toolbox, 6.0ms\n",
            "image 1902/2096 /content/unzipped_images/image_803.png: 640x288 1 ac, 1 ensuite, 1 tbb, 1 toolbox, 8.7ms\n",
            "image 1903/2096 /content/unzipped_images/image_804.png: 640x288 1 ac, 1 ensuite, 1 tbb, 6.3ms\n",
            "image 1904/2096 /content/unzipped_images/image_805.png: 640x224 1 ac, 1 ensuite, 1 tbb, 7.3ms\n",
            "image 1905/2096 /content/unzipped_images/image_806.png: 640x224 1 ac, 1 ensuite, 1 tbb, 1 toolbox, 6.0ms\n",
            "image 1906/2096 /content/unzipped_images/image_807.png: 640x224 1 ac, 1 ensuite, 1 tbb, 1 toolbox, 6.1ms\n",
            "image 1907/2096 /content/unzipped_images/image_808.png: 640x256 1 ac, 1 ensuite, 1 tbb, 6.6ms\n",
            "image 1908/2096 /content/unzipped_images/image_809.png: 640x288 1 ac, 1 ensuite, 1 tbb, 1 toolbox, 6.9ms\n",
            "image 1909/2096 /content/unzipped_images/image_81.png: 640x224 1 ac, 1 ensuite, 1 tbb, 1 toolbox, 6.8ms\n",
            "image 1910/2096 /content/unzipped_images/image_810.png: 640x224 1 ac, 1 ensuite, 1 tbb, 1 toolbox, 6.2ms\n",
            "image 1911/2096 /content/unzipped_images/image_811.png: 640x224 1 ac, 1 ensuite, 1 tbb, 1 toolbox, 6.2ms\n",
            "image 1912/2096 /content/unzipped_images/image_812.png: 640x224 1 ac, 1 ensuite, 1 tbb, 1 toolbox, 6.1ms\n",
            "image 1913/2096 /content/unzipped_images/image_813.png: 640x224 1 ac, 1 ensuite, 1 tbb, 1 toolbox, 5.8ms\n",
            "image 1914/2096 /content/unzipped_images/image_814.png: 640x288 1 ac, 1 ensuite, 1 tbb, 1 toolbox, 6.9ms\n",
            "image 1915/2096 /content/unzipped_images/image_815.png: 640x192 1 ac, 1 ensuite, 1 tbb, 1 toolbox, 7.9ms\n",
            "image 1916/2096 /content/unzipped_images/image_816.png: 640x224 1 ac, 1 ensuite, 1 tbb, 1 toolbox, 7.0ms\n",
            "image 1917/2096 /content/unzipped_images/image_817.png: 640x224 1 ac, 1 ensuite, 1 tbb, 1 toolbox, 6.0ms\n",
            "image 1918/2096 /content/unzipped_images/image_818.png: 640x256 1 ac, 1 ensuite, 1 tbb, 1 toolbox, 8.4ms\n",
            "image 1919/2096 /content/unzipped_images/image_819.png: 640x224 1 ac, 1 ensuite, 1 tbb, 1 toolbox, 6.5ms\n",
            "image 1920/2096 /content/unzipped_images/image_82.png: 640x224 1 ac, 1 ensuite, 1 tbb, 6.0ms\n",
            "image 1921/2096 /content/unzipped_images/image_820.png: 640x224 3 acs, 1 ensuite, 2 tbbs, 1 toolbox, 6.1ms\n",
            "image 1922/2096 /content/unzipped_images/image_821.png: 640x224 1 ac, 1 ensuite, 1 tbb, 1 toolbox, 6.2ms\n",
            "image 1923/2096 /content/unzipped_images/image_822.png: 640x224 1 ac, 1 ensuite, 1 toolbox, 6.2ms\n",
            "image 1924/2096 /content/unzipped_images/image_823.png: 640x288 1 ac, 1 ensuite, 1 tbb, 7.7ms\n",
            "image 1925/2096 /content/unzipped_images/image_824.png: 640x224 1 ac, 1 ensuite, 1 tbb, 1 toolbox, 7.8ms\n",
            "image 1926/2096 /content/unzipped_images/image_825.png: 640x192 1 ac, 1 ensuite, 1 tbb, 1 toolbox, 10.6ms\n",
            "image 1927/2096 /content/unzipped_images/image_826.png: 640x224 2 acs, 1 ensuite, 1 tbb, 1 toolbox, 7.1ms\n",
            "image 1928/2096 /content/unzipped_images/image_827.png: 640x192 1 ac, 1 tbb, 1 toolbox, 7.2ms\n",
            "image 1929/2096 /content/unzipped_images/image_828.png: 640x288 1 ac, 1 ensuite, 1 tbb, 7.0ms\n",
            "image 1930/2096 /content/unzipped_images/image_829.png: 640x288 1 ac, 1 ensuite, 1 tbb, 6.6ms\n",
            "image 1931/2096 /content/unzipped_images/image_83.png: 640x224 1 ac, 1 ensuite, 1 tbb, 1 toolbox, 6.7ms\n",
            "image 1932/2096 /content/unzipped_images/image_830.png: 640x224 1 ac, 1 ensuite, 1 tbb, 1 toolbox, 7.4ms\n",
            "image 1933/2096 /content/unzipped_images/image_831.png: 640x256 1 ac, 1 ensuite, 6.6ms\n",
            "image 1934/2096 /content/unzipped_images/image_832.png: 640x224 1 ac, 1 ensuite, 1 tbb, 1 toolbox, 7.0ms\n",
            "image 1935/2096 /content/unzipped_images/image_833.png: 192x640 1 tbb, 7.2ms\n",
            "image 1936/2096 /content/unzipped_images/image_834.png: 640x288 1 ac, 1 ensuite, 1 tbb, 7.1ms\n",
            "image 1937/2096 /content/unzipped_images/image_835.png: 640x224 1 ac, 1 ensuite, 1 tbb, 1 toolbox, 7.0ms\n",
            "image 1938/2096 /content/unzipped_images/image_836.png: 640x192 1 ac, 1 tbb, 1 toolbox, 6.5ms\n",
            "image 1939/2096 /content/unzipped_images/image_837.png: 640x256 1 ac, 1 ensuite, 1 tbb, 6.8ms\n",
            "image 1940/2096 /content/unzipped_images/image_838.png: 640x256 1 ac, 1 ensuite, 1 tbb, 1 toolbox, 6.0ms\n",
            "image 1941/2096 /content/unzipped_images/image_839.png: 640x224 1 ac, 1 ensuite, 1 tbb, 1 toolbox, 6.9ms\n",
            "image 1942/2096 /content/unzipped_images/image_84.png: 640x224 1 ac, 1 ensuite, 1 tbb, 1 toolbox, 6.4ms\n",
            "image 1943/2096 /content/unzipped_images/image_840.png: 640x288 1 ac, 1 ensuite, 1 tbb, 1 toolbox, 6.9ms\n",
            "image 1944/2096 /content/unzipped_images/image_841.png: 640x224 1 ac, 1 ensuite, 1 tbb, 1 toolbox, 6.6ms\n",
            "image 1945/2096 /content/unzipped_images/image_842.png: 640x224 1 ac, 1 ensuite, 1 tbb, 1 toolbox, 5.9ms\n",
            "image 1946/2096 /content/unzipped_images/image_843.png: 640x192 2 acs, 1 ensuite, 1 tbb, 1 toolbox, 6.7ms\n",
            "image 1947/2096 /content/unzipped_images/image_844.png: 640x256 1 ac, 1 ensuite, 1 tbb, 1 toolbox, 6.7ms\n",
            "image 1948/2096 /content/unzipped_images/image_845.png: 640x192 1 ac, 1 ensuite, 1 tbb, 1 toolbox, 6.6ms\n",
            "image 1949/2096 /content/unzipped_images/image_846.png: 640x224 1 ac, 1 ensuite, 1 tbb, 1 toolbox, 6.5ms\n",
            "image 1950/2096 /content/unzipped_images/image_847.png: 640x224 1 ac, 1 ensuite, 1 tbb, 1 toolbox, 5.8ms\n",
            "image 1951/2096 /content/unzipped_images/image_848.png: 640x256 1 ac, 1 ensuite, 1 tbb, 1 toolbox, 8.5ms\n",
            "image 1952/2096 /content/unzipped_images/image_849.png: 640x256 1 ac, 1 ensuite, 1 tbb, 1 toolbox, 6.6ms\n",
            "image 1953/2096 /content/unzipped_images/image_85.png: 640x224 1 ac, 1 ensuite, 1 tbb, 1 toolbox, 7.4ms\n",
            "image 1954/2096 /content/unzipped_images/image_850.png: 640x256 1 ac, 1 ensuite, 1 tbb, 6.8ms\n",
            "image 1955/2096 /content/unzipped_images/image_851.png: 640x224 1 ac, 1 ensuite, 1 tbb, 7.1ms\n",
            "image 1956/2096 /content/unzipped_images/image_852.png: 640x224 1 ac, 1 ensuite, 1 tbb, 1 toolbox, 6.2ms\n",
            "image 1957/2096 /content/unzipped_images/image_853.png: 640x224 1 ac, 1 ensuite, 1 tbb, 1 toolbox, 6.0ms\n",
            "image 1958/2096 /content/unzipped_images/image_854.png: 640x224 1 ac, 1 ensuite, 1 tbb, 1 toolbox, 6.4ms\n",
            "image 1959/2096 /content/unzipped_images/image_856.png: 640x224 2 acs, 1 ensuite, 2 tbbs, 6.4ms\n",
            "image 1960/2096 /content/unzipped_images/image_857.png: 640x256 1 ac, 1 ensuite, 1 tbb, 1 toolbox, 8.0ms\n",
            "image 1961/2096 /content/unzipped_images/image_858.png: 640x256 1 ac, 1 ensuite, 1 tbb, 6.0ms\n",
            "image 1962/2096 /content/unzipped_images/image_859.png: 640x192 1 ac, 1 ensuite, 1 tbb, 1 toolbox, 7.1ms\n",
            "image 1963/2096 /content/unzipped_images/image_86.png: 640x224 1 ac, 1 ensuite, 1 tbb, 1 toolbox, 7.2ms\n",
            "image 1964/2096 /content/unzipped_images/image_860.png: 640x224 1 ac, 1 ensuite, 1 tbb, 1 toolbox, 6.8ms\n",
            "image 1965/2096 /content/unzipped_images/image_861.png: 640x224 1 ac, 1 ensuite, 1 tbb, 1 toolbox, 7.0ms\n",
            "image 1966/2096 /content/unzipped_images/image_862.png: 640x224 1 ac, 1 ensuite, 1 tbb, 1 toolbox, 6.5ms\n",
            "image 1967/2096 /content/unzipped_images/image_863.png: 640x192 1 ac, 1 ensuite, 1 tbb, 1 toolbox, 7.3ms\n",
            "image 1968/2096 /content/unzipped_images/image_864.png: 640x288 1 ac, 1 ensuite, 1 tbb, 1 toolbox, 7.7ms\n",
            "image 1969/2096 /content/unzipped_images/image_865.png: 640x224 1 ac, 1 ensuite, 1 tbb, 1 toolbox, 7.2ms\n",
            "image 1970/2096 /content/unzipped_images/image_866.png: 640x224 1 ac, 1 ensuite, 6.1ms\n",
            "image 1971/2096 /content/unzipped_images/image_867.png: 640x224 1 ac, 1 ensuite, 1 tbb, 7.6ms\n",
            "image 1972/2096 /content/unzipped_images/image_868.png: 640x256 1 ac, 1 ensuite, 1 tbb, 1 toolbox, 7.4ms\n",
            "image 1973/2096 /content/unzipped_images/image_869.png: 640x224 1 ac, 1 ensuite, 1 tbb, 1 toolbox, 6.6ms\n",
            "image 1974/2096 /content/unzipped_images/image_87.png: 640x224 1 ac, 1 ensuite, 1 tbb, 1 toolbox, 6.0ms\n",
            "image 1975/2096 /content/unzipped_images/image_870.png: 640x192 1 ac, 1 ensuite, 1 tbb, 1 toolbox, 6.7ms\n",
            "image 1976/2096 /content/unzipped_images/image_871.png: 640x192 1 ac, 1 tbb, 1 toolbox, 6.0ms\n",
            "image 1977/2096 /content/unzipped_images/image_872.png: 640x256 1 ac, 1 ensuite, 1 tbb, 6.7ms\n",
            "image 1978/2096 /content/unzipped_images/image_873.png: 640x192 1 ac, 1 ensuite, 1 tbb, 1 toolbox, 6.5ms\n",
            "image 1979/2096 /content/unzipped_images/image_874.png: 640x288 1 ac, 1 ensuite, 1 tbb, 1 toolbox, 6.9ms\n",
            "image 1980/2096 /content/unzipped_images/image_875.png: 640x192 2 acs, 1 ensuite, 2 tbbs, 1 toolbox, 6.9ms\n",
            "image 1981/2096 /content/unzipped_images/image_876.png: 640x256 1 ac, 1 ensuite, 1 tbb, 6.8ms\n",
            "image 1982/2096 /content/unzipped_images/image_877.png: 640x192 1 ac, 1 ensuite, 1 tbb, 1 toolbox, 6.9ms\n",
            "image 1983/2096 /content/unzipped_images/image_878.png: 640x256 1 tbb, 6.7ms\n",
            "image 1984/2096 /content/unzipped_images/image_879.png: 640x192 1 ac, 1 ensuite, 1 tbb, 1 toolbox, 6.7ms\n",
            "image 1985/2096 /content/unzipped_images/image_88.png: 640x288 1 ac, 1 ensuite, 1 tbb, 1 toolbox, 7.3ms\n",
            "image 1986/2096 /content/unzipped_images/image_880.png: 640x224 1 ac, 1 ensuite, 1 tbb, 1 toolbox, 6.8ms\n",
            "image 1987/2096 /content/unzipped_images/image_881.png: 640x224 1 ac, 1 ensuite, 1 tbb, 1 toolbox, 6.1ms\n",
            "image 1988/2096 /content/unzipped_images/image_882.png: 640x224 1 ac, 1 ensuite, 1 tbb, 1 toolbox, 6.3ms\n",
            "image 1989/2096 /content/unzipped_images/image_883.png: 640x256 1 ac, 1 ensuite, 1 tbb, 6.8ms\n",
            "image 1990/2096 /content/unzipped_images/image_884.png: 640x224 1 ac, 1 ensuite, 1 tbb, 6.9ms\n",
            "image 1991/2096 /content/unzipped_images/image_885.png: 640x224 1 ac, 1 ensuite, 1 tbb, 6.0ms\n",
            "image 1992/2096 /content/unzipped_images/image_886.png: 640x288 1 ac, 1 ensuite, 1 tbb, 7.1ms\n",
            "image 1993/2096 /content/unzipped_images/image_887.png: 640x288 1 ac, 1 ensuite, 1 tbb, 1 toolbox, 6.4ms\n",
            "image 1994/2096 /content/unzipped_images/image_888.png: 640x288 1 ac, 1 ensuite, 1 tbb, 1 toolbox, 6.5ms\n",
            "image 1995/2096 /content/unzipped_images/image_889.png: 640x256 1 ac, 1 ensuite, 1 tbb, 7.2ms\n",
            "image 1996/2096 /content/unzipped_images/image_89.png: 640x288 1 ac, 1 ensuite, 1 tbb, 1 toolbox, 7.1ms\n",
            "image 1997/2096 /content/unzipped_images/image_890.png: 640x224 1 ensuite, 1 tbb, 1 toolbox, 6.9ms\n",
            "image 1998/2096 /content/unzipped_images/image_891.png: 640x256 1 ac, 1 ensuite, 1 tbb, 6.8ms\n",
            "image 1999/2096 /content/unzipped_images/image_892.png: 640x224 1 ac, 1 ensuite, 1 tbb, 1 toolbox, 6.9ms\n",
            "image 2000/2096 /content/unzipped_images/image_893.png: 640x192 4 acs, 1 ensuite, 2 tbbs, 1 toolbox, 7.0ms\n",
            "image 2001/2096 /content/unzipped_images/image_894.png: 640x288 1 ac, 1 ensuite, 1 tbb, 7.1ms\n",
            "image 2002/2096 /content/unzipped_images/image_895.png: 640x192 2 acs, 1 ensuite, 1 tbb, 1 toolbox, 7.0ms\n",
            "image 2003/2096 /content/unzipped_images/image_896.png: 640x224 1 ac, 1 ensuite, 1 tbb, 1 toolbox, 6.9ms\n",
            "image 2004/2096 /content/unzipped_images/image_897.png: 640x224 1 ac, 1 ensuite, 1 tbb, 1 toolbox, 6.3ms\n",
            "image 2005/2096 /content/unzipped_images/image_898.png: 640x256 1 ac, 1 ensuite, 1 tbb, 1 toolbox, 6.9ms\n",
            "image 2006/2096 /content/unzipped_images/image_899.png: 288x640 1 tbb, 6.8ms\n",
            "image 2007/2096 /content/unzipped_images/image_9.png: 640x256 1 ac, 1 ensuite, 1 tbb, 6.7ms\n",
            "image 2008/2096 /content/unzipped_images/image_90.png: 640x256 1 ac, 1 ensuite, 1 tbb, 1 toolbox, 6.1ms\n",
            "image 2009/2096 /content/unzipped_images/image_900.png: 640x224 1 ac, 1 ensuite, 1 tbb, 1 toolbox, 6.7ms\n",
            "image 2010/2096 /content/unzipped_images/image_901.png: 640x288 1 ac, 1 ensuite, 1 tbb, 6.8ms\n",
            "image 2011/2096 /content/unzipped_images/image_902.png: 640x224 2 acs, 1 ensuite, 2 tbbs, 6.8ms\n",
            "image 2012/2096 /content/unzipped_images/image_903.png: 640x224 1 ac, 1 tbb, 1 toolbox, 6.5ms\n",
            "image 2013/2096 /content/unzipped_images/image_904.png: 640x224 1 ac, 1 ensuite, 1 tbb, 1 toolbox, 6.4ms\n",
            "image 2014/2096 /content/unzipped_images/image_905.png: 128x640 1 tbb, 6.7ms\n",
            "image 2015/2096 /content/unzipped_images/image_906.png: 640x224 1 ac, 1 tbb, 1 toolbox, 6.8ms\n",
            "image 2016/2096 /content/unzipped_images/image_907.png: 640x224 1 ac, 1 ensuite, 1 tbb, 1 toolbox, 7.7ms\n",
            "image 2017/2096 /content/unzipped_images/image_908.png: 640x224 1 ac, 1 ensuite, 1 tbb, 1 toolbox, 7.9ms\n",
            "image 2018/2096 /content/unzipped_images/image_909.png: 640x224 1 ac, 1 ensuite, 1 tbb, 6.2ms\n",
            "image 2019/2096 /content/unzipped_images/image_91.png: 640x224 1 ac, 1 ensuite, 1 tbb, 1 toolbox, 6.2ms\n",
            "image 2020/2096 /content/unzipped_images/image_910.png: 640x224 1 tbb, 6.2ms\n",
            "image 2021/2096 /content/unzipped_images/image_911.png: 640x256 1 ac, 1 ensuite, 1 tbb, 1 toolbox, 6.9ms\n",
            "image 2022/2096 /content/unzipped_images/image_912.png: 640x288 1 ac, 1 ensuite, 1 tbb, 1 toolbox, 7.1ms\n",
            "image 2023/2096 /content/unzipped_images/image_913.png: 640x224 1 ac, 1 ensuite, 1 tbb, 1 toolbox, 7.0ms\n",
            "image 2024/2096 /content/unzipped_images/image_914.png: 640x224 1 ac, 1 ensuite, 1 tbb, 1 toolbox, 6.3ms\n",
            "image 2025/2096 /content/unzipped_images/image_915.png: 640x224 1 ac, 1 ensuite, 1 tbb, 1 toolbox, 5.9ms\n",
            "image 2026/2096 /content/unzipped_images/image_916.png: 640x256 1 ac, 1 ensuite, 1 tbb, 1 toolbox, 6.8ms\n",
            "image 2027/2096 /content/unzipped_images/image_917.png: 640x224 1 ac, 1 ensuite, 1 tbb, 1 toolbox, 6.6ms\n",
            "image 2028/2096 /content/unzipped_images/image_918.png: 640x256 1 ac, 1 ensuite, 6.6ms\n",
            "image 2029/2096 /content/unzipped_images/image_919.png: 640x192 1 ac, 1 ensuite, 1 tbb, 1 toolbox, 6.6ms\n",
            "image 2030/2096 /content/unzipped_images/image_92.png: 640x224 1 ac, 1 ensuite, 1 tbb, 1 toolbox, 6.7ms\n",
            "image 2031/2096 /content/unzipped_images/image_920.png: 640x192 1 ac, 2 ensuites, 1 tbb, 7.0ms\n",
            "image 2032/2096 /content/unzipped_images/image_921.png: 640x224 1 ac, 1 ensuite, 1 tbb, 1 toolbox, 6.7ms\n",
            "image 2033/2096 /content/unzipped_images/image_922.png: 640x224 1 ac, 1 ensuite, 1 tbb, 1 toolbox, 5.9ms\n",
            "image 2034/2096 /content/unzipped_images/image_923.png: 640x224 1 ac, 1 ensuite, 1 tbb, 1 toolbox, 6.4ms\n",
            "image 2035/2096 /content/unzipped_images/image_924.png: 640x224 1 ac, 1 tbb, 1 toolbox, 6.1ms\n",
            "image 2036/2096 /content/unzipped_images/image_925.png: 640x224 1 ac, 1 ensuite, 1 tbb, 1 toolbox, 6.1ms\n",
            "image 2037/2096 /content/unzipped_images/image_926.png: 640x224 1 ac, 1 ensuite, 1 tbb, 6.2ms\n",
            "image 2038/2096 /content/unzipped_images/image_927.png: 640x192 1 ac, 1 ensuite, 1 tbb, 1 toolbox, 6.9ms\n",
            "image 2039/2096 /content/unzipped_images/image_928.png: 640x256 1 ac, 2 ensuites, 1 tbb, 1 toolbox, 7.1ms\n",
            "image 2040/2096 /content/unzipped_images/image_929.png: 640x224 1 ac, 1 ensuite, 1 tbb, 6.7ms\n",
            "image 2041/2096 /content/unzipped_images/image_93.png: 640x256 1 ac, 1 ensuite, 1 tbb, 6.6ms\n",
            "image 2042/2096 /content/unzipped_images/image_930.png: 640x224 1 ac, 1 ensuite, 1 tbb, 1 toolbox, 6.5ms\n",
            "image 2043/2096 /content/unzipped_images/image_931.png: 640x224 1 ac, 1 tbb, 1 toolbox, 6.1ms\n",
            "image 2044/2096 /content/unzipped_images/image_932.png: 640x256 1 ac, 1 ensuite, 1 tbb, 1 toolbox, 6.9ms\n",
            "image 2045/2096 /content/unzipped_images/image_933.png: 640x256 1 ac, 1 ensuite, 1 tbb, 1 toolbox, 6.4ms\n",
            "image 2046/2096 /content/unzipped_images/image_934.png: 640x224 1 ac, 1 ensuite, 1 tbb, 1 toolbox, 7.3ms\n",
            "image 2047/2096 /content/unzipped_images/image_935.png: 640x224 1 ac, 1 ensuite, 1 tbb, 1 toolbox, 6.3ms\n",
            "image 2048/2096 /content/unzipped_images/image_936.png: 640x224 1 ac, 1 ensuite, 1 tbb, 1 toolbox, 6.4ms\n",
            "image 2049/2096 /content/unzipped_images/image_937.png: 640x224 1 ac, 1 ensuite, 1 tbb, 6.6ms\n",
            "image 2050/2096 /content/unzipped_images/image_938.png: 640x192 1 ac, 1 ensuite, 1 tbb, 1 toolbox, 7.1ms\n",
            "image 2051/2096 /content/unzipped_images/image_939.png: 640x224 1 ac, 1 ensuite, 1 tbb, 1 toolbox, 7.1ms\n",
            "image 2052/2096 /content/unzipped_images/image_94.png: 640x256 1 ac, 1 ensuite, 1 tbb, 1 toolbox, 7.1ms\n",
            "image 2053/2096 /content/unzipped_images/image_940.png: 640x256 1 ac, 1 ensuite, 1 tbb, 1 toolbox, 6.2ms\n",
            "image 2054/2096 /content/unzipped_images/image_941.png: 640x224 1 ac, 1 ensuite, 1 tbb, 1 toolbox, 8.3ms\n",
            "image 2055/2096 /content/unzipped_images/image_942.png: 640x224 1 ac, 1 ensuite, 1 tbb, 1 toolbox, 6.0ms\n",
            "image 2056/2096 /content/unzipped_images/image_943.png: 640x192 1 ac, 1 ensuite, 1 tbb, 1 toolbox, 6.7ms\n",
            "image 2057/2096 /content/unzipped_images/image_944.png: 640x288 1 ac, 1 ensuite, 1 tbb, 1 toolbox, 7.0ms\n",
            "image 2058/2096 /content/unzipped_images/image_945.png: 640x192 1 ac, 1 tbb, 1 toolbox, 6.7ms\n",
            "image 2059/2096 /content/unzipped_images/image_946.png: 640x192 1 ac, 1 ensuite, 1 tbb, 1 toolbox, 5.9ms\n",
            "image 2060/2096 /content/unzipped_images/image_947.png: 640x224 1 ac, 1 ensuite, 1 tbb, 1 toolbox, 6.8ms\n",
            "image 2061/2096 /content/unzipped_images/image_948.png: 640x192 1 ac, 1 ensuite, 1 tbb, 1 toolbox, 6.8ms\n",
            "image 2062/2096 /content/unzipped_images/image_949.png: 640x224 1 ac, 1 ensuite, 1 tbb, 1 toolbox, 6.6ms\n",
            "image 2063/2096 /content/unzipped_images/image_95.png: 640x288 1 ac, 1 ensuite, 1 tbb, 1 toolbox, 6.8ms\n",
            "image 2064/2096 /content/unzipped_images/image_950.png: 640x256 1 ac, 1 ensuite, 1 tbb, 1 toolbox, 6.6ms\n",
            "image 2065/2096 /content/unzipped_images/image_951.png: 640x224 1 ac, 1 ensuite, 1 tbb, 1 toolbox, 6.7ms\n",
            "image 2066/2096 /content/unzipped_images/image_952.png: 640x224 1 ac, 1 ensuite, 1 tbb, 1 toolbox, 6.0ms\n",
            "image 2067/2096 /content/unzipped_images/image_953.png: 640x224 1 ac, 1 ensuite, 1 tbb, 6.0ms\n",
            "image 2068/2096 /content/unzipped_images/image_954.png: 640x224 1 ac, 1 ensuite, 1 tbb, 6.4ms\n",
            "image 2069/2096 /content/unzipped_images/image_955.png: 640x224 1 ac, 1 ensuite, 1 tbb, 7.8ms\n",
            "image 2070/2096 /content/unzipped_images/image_956.png: 640x224 1 ac, 1 ensuite, 1 tbb, 6.1ms\n",
            "image 2071/2096 /content/unzipped_images/image_957.png: 640x256 1 ac, 1 ensuite, 1 tbb, 7.2ms\n",
            "image 2072/2096 /content/unzipped_images/image_958.png: 640x224 1 ac, 1 ensuite, 1 tbb, 7.0ms\n",
            "image 2073/2096 /content/unzipped_images/image_959.png: 640x224 1 ac, 1 ensuite, 1 tbb, 1 toolbox, 6.1ms\n",
            "image 2074/2096 /content/unzipped_images/image_96.png: 640x224 1 ac, 1 ensuite, 1 tbb, 1 toolbox, 6.0ms\n",
            "image 2075/2096 /content/unzipped_images/image_960.png: 640x256 1 ac, 1 ensuite, 1 tbb, 1 toolbox, 7.0ms\n",
            "image 2076/2096 /content/unzipped_images/image_962.png: 640x192 2 acs, 1 ensuite, 2 tbbs, 1 toolbox, 6.9ms\n",
            "image 2077/2096 /content/unzipped_images/image_964.png: 640x224 1 ac, 1 ensuite, 1 tbb, 6.8ms\n",
            "image 2078/2096 /content/unzipped_images/image_965.png: 640x256 1 ac, 1 ensuite, 1 tbb, 6.9ms\n",
            "image 2079/2096 /content/unzipped_images/image_966.png: 640x224 1 ac, 1 ensuite, 1 tbb, 6.7ms\n",
            "image 2080/2096 /content/unzipped_images/image_967.png: 640x256 1 ac, 1 ensuite, 1 tbb, 6.5ms\n",
            "image 2081/2096 /content/unzipped_images/image_968.png: 640x224 1 ac, 1 ensuite, 1 tbb, 6.8ms\n",
            "image 2082/2096 /content/unzipped_images/image_969.png: 640x224 1 ac, 1 ensuite, 1 tbb, 6.0ms\n",
            "image 2083/2096 /content/unzipped_images/image_97.png: 640x224 1 ac, 1 ensuite, 1 tbb, 1 toolbox, 5.8ms\n",
            "image 2084/2096 /content/unzipped_images/image_970.png: 640x256 1 ac, 1 ensuite, 1 tbb, 6.6ms\n",
            "image 2085/2096 /content/unzipped_images/image_971.png: 640x224 1 ac, 1 ensuite, 1 tbb, 6.8ms\n",
            "image 2086/2096 /content/unzipped_images/image_972.png: 640x224 1 ac, 1 ensuite, 1 tbb, 6.0ms\n",
            "image 2087/2096 /content/unzipped_images/image_973.png: 640x224 1 ac, 1 ensuite, 1 tbb, 5.9ms\n",
            "image 2088/2096 /content/unzipped_images/image_974.png: 640x224 1 ac, 1 ensuite, 1 tbb, 6.0ms\n",
            "image 2089/2096 /content/unzipped_images/image_975.png: 640x288 1 ac, 1 ensuite, 1 tbb, 8.0ms\n",
            "image 2090/2096 /content/unzipped_images/image_976.png: 640x256 1 ac, 1 ensuite, 1 tbb, 6.7ms\n",
            "image 2091/2096 /content/unzipped_images/image_977.png: 640x224 1 ac, 1 ensuite, 1 tbb, 6.7ms\n",
            "image 2092/2096 /content/unzipped_images/image_98.png: 640x256 1 ac, 1 ensuite, 1 tbb, 6.9ms\n",
            "image 2093/2096 /content/unzipped_images/image_99.png: 640x224 1 ac, 1 ensuite, 1 tbb, 1 toolbox, 6.9ms\n",
            "image 2094/2096 /content/unzipped_images/image_995.png: 640x256 1 ac, 1 ensuite, 1 tbb, 1 toolbox, 6.7ms\n",
            "image 2095/2096 /content/unzipped_images/image_996.png: 640x224 1 ac, 1 ensuite, 1 tbb, 1 toolbox, 6.9ms\n",
            "image 2096/2096 /content/unzipped_images/image_997.png: 640x256 1 ac, 1 ensuite, 1 tbb, 1 toolbox, 7.0ms\n",
            "Speed: 1.1ms preprocess, 6.9ms inference, 1.2ms postprocess per image at shape (1, 3, 640, 256)\n",
            "Results saved to \u001b[1mruns/detect/predict\u001b[0m\n",
            "         Image Name  ac       ac X1       ac Y1       ac X2       ac Y2  \\\n",
            "0         10671.png   1   96.049721  231.891068  155.883530  296.365967   \n",
            "1         11092.png   1   86.866806  248.232910  144.858749  311.531860   \n",
            "2         11328.png   1   96.090706  263.985718  156.096375  328.540100   \n",
            "3         11456.png   1   88.494446  325.062195  142.184219  387.247070   \n",
            "4         11678.png   1   81.066475  170.535812  129.557388  226.213806   \n",
            "...             ...  ..         ...         ...         ...         ...   \n",
            "2091   image_98.png   1  101.967010  237.949951  167.133102  310.652374   \n",
            "2092   image_99.png   1   88.995262  250.985046  146.571182  313.891541   \n",
            "2093  image_995.png   1  111.563461  248.804199  181.293167  323.427124   \n",
            "2094  image_996.png   1   84.322205  342.305573  141.753128  402.788788   \n",
            "2095  image_997.png   1   94.066071  244.131912  156.875000  310.437286   \n",
            "\n",
            "      ensuite  ensuite X1  ensuite Y1  ensuite X2  ...  tbb     tbb X1  \\\n",
            "0           1    8.798108    1.706781  242.772522  ...    1   9.705726   \n",
            "1           1    8.841985    1.422221  225.289917  ...    1   6.650471   \n",
            "2           1   10.457565    3.709124  241.002350  ...    1  10.827909   \n",
            "3           1    5.570927    9.847665   87.728386  ...    1   5.664706   \n",
            "4           1    7.762650  324.537079  201.793152  ...    1   7.955186   \n",
            "...       ...         ...         ...         ...  ...  ...        ...   \n",
            "2091        1    7.793285    2.847429  262.370026  ...    1   8.365790   \n",
            "2092        1    9.526469    3.028545  227.998215  ...    1   5.428912   \n",
            "2093        1   19.267271   13.125025  107.401512  ...    1  18.966045   \n",
            "2094        1    6.861698    2.006765  219.664536  ...    1   7.040757   \n",
            "2095        1    7.492769    1.076925  242.847198  ...    1   6.826830   \n",
            "\n",
            "          tbb Y1      tbb X2      tbb Y2  toolbox  toolbox X1  toolbox Y1  \\\n",
            "0     384.074829  243.401154  573.724670        1   18.098768  574.743530   \n",
            "1     411.530151  225.076141  592.321411        1   16.701921  595.017578   \n",
            "2     441.402374  241.239120  629.634277        0    0.000000    0.000000   \n",
            "3     444.716431  225.345093  622.000244        0    0.000000    0.000000   \n",
            "4     455.525513  202.160339  612.397522        1   15.750918  613.637634   \n",
            "...          ...         ...         ...      ...         ...         ...   \n",
            "2091  410.624084  261.334778  615.151489        0    0.000000    0.000000   \n",
            "2092  369.069122  228.377457  598.592346        1   17.305212  601.678467   \n",
            "2093  326.686432  271.834778  569.053528        1   35.314899  572.106567   \n",
            "2094  418.748871  220.693619  589.991516        1   16.033863  591.989563   \n",
            "2095  395.833893  242.961075  587.452393        1   31.059658  591.088989   \n",
            "\n",
            "      toolbox X2  toolbox Y2  \n",
            "0     232.440201  637.058167  \n",
            "1     215.858887  650.875183  \n",
            "2       0.000000    0.000000  \n",
            "3       0.000000    0.000000  \n",
            "4     192.055466  664.011902  \n",
            "...          ...         ...  \n",
            "2091    0.000000    0.000000  \n",
            "2092  219.324051  659.002625  \n",
            "2093  256.614899  645.886902  \n",
            "2094  211.738953  647.510925  \n",
            "2095  218.686508  651.484436  \n",
            "\n",
            "[2096 rows x 21 columns]\n"
          ]
        }
      ]
    },
    {
      "cell_type": "markdown",
      "metadata": {
        "id": "HE7Xa9wGPFfw"
      },
      "source": [
        "#Inference on Test images"
      ]
    },
    {
      "cell_type": "code",
      "source": [
        "from ultralytics import YOLO\n",
        "import os\n",
        "import shutil\n",
        "\n",
        "# Define paths\n",
        "best_model_path = os.path.join('/content/assemblyCompoDetection', 'detect_component2', 'weights', 'best.pt')\n",
        "test_image_dir = '/content/datasets/WeighBridge-2-1/test/images'\n",
        "\n",
        "# Load the YOLOv8 model\n",
        "model = YOLO(best_model_path)\n",
        "\n",
        "# Run inference on images\n",
        "results = model(test_image_dir, save=True)\n",
        "\n",
        "# Get the default output directory where predictions are saved\n",
        "output_dir = 'runs/detect/predict'\n",
        "\n",
        "# Ensure the output directory exists\n",
        "if not os.path.exists(output_dir):\n",
        "    os.makedirs(output_dir)\n",
        "\n",
        "print(\"---------------------\")\n",
        "# Iterate through each result to get the original paths and rename the saved predictions\n",
        "for result in results:\n",
        "    original_path = result.path  # Path to the original image\n",
        "    original_name = os.path.basename(original_path)  # Extract the original image name\n",
        "\n",
        "    print(original_name)\n",
        "\n",
        "    # Path of the predicted image saved by YOLO\n",
        "    predicted_path = os.path.join(output_dir, original_name)\n",
        "\n",
        "    # Move the predicted image to the same directory with the original name\n",
        "    if os.path.exists(predicted_path):\n",
        "        shutil.move(predicted_path, os.path.join(output_dir, original_name))\n",
        "    else:\n",
        "        print(f\"Prediction for {original_name} not found.\")\n"
      ],
      "metadata": {
        "colab": {
          "base_uri": "https://localhost:8080/"
        },
        "collapsed": true,
        "id": "X4-9HN54mSlh",
        "outputId": "e797029d-76ac-44b5-c28a-0d031efe899f"
      },
      "execution_count": 14,
      "outputs": [
        {
          "output_type": "stream",
          "name": "stdout",
          "text": [
            "\n",
            "image 1/22 /content/datasets/WeighBridge-2-1/test/images/12907_png.rf.de4a367b9c567a793c63806d06043408.jpg: 640x224 1 ac, 1 ensuite, 1 tbb, 1 toolbox, 7.4ms\n",
            "image 2/22 /content/datasets/WeighBridge-2-1/test/images/12960_png.rf.147af7b9a08829714d9baac9e74a8d80.jpg: 640x224 1 ac, 1 ensuite, 1 tbb, 1 toolbox, 8.8ms\n",
            "image 3/22 /content/datasets/WeighBridge-2-1/test/images/13189_png.rf.3409b4beb32740041319c18889bc13ee.jpg: 640x288 1 ac, 1 ensuite, 1 tbb, 1 toolbox, 7.0ms\n",
            "image 4/22 /content/datasets/WeighBridge-2-1/test/images/13305_png.rf.7a75f1c248b844204a90020b8b0a33b3.jpg: 640x224 1 ac, 1 ensuite, 1 toolbox, 6.6ms\n",
            "image 5/22 /content/datasets/WeighBridge-2-1/test/images/13338_png.rf.f4cfa5830d3f9eb64e1125ebf7bb3f75.jpg: 640x256 1 ac, 2 ensuites, 1 tbb, 1 toolbox, 7.0ms\n",
            "image 6/22 /content/datasets/WeighBridge-2-1/test/images/13513_png.rf.07e6230068d8d167fa5aaf42624f871c.jpg: 640x224 1 ac, 1 ensuite, 1 tbb, 1 toolbox, 7.0ms\n",
            "image 7/22 /content/datasets/WeighBridge-2-1/test/images/13835_png.rf.6a1f60bde3dd85b2a178f69d60013047.jpg: 640x288 1 ac, 1 ensuite, 1 tbb, 1 toolbox, 9.0ms\n",
            "image 8/22 /content/datasets/WeighBridge-2-1/test/images/14239_png.rf.b51642002336b6b1db34067c6583ba95.jpg: 640x224 1 ac, 1 ensuite, 1 tbb, 1 toolbox, 6.5ms\n",
            "image 9/22 /content/datasets/WeighBridge-2-1/test/images/14240_png.rf.55ba0f56184c9dec320ee11365b8fb37.jpg: 640x224 1 ac, 1 ensuite, 1 tbb, 6.1ms\n",
            "image 10/22 /content/datasets/WeighBridge-2-1/test/images/14249_png.rf.63b039258cfb73b57c879a67539dcd6e.jpg: 640x224 1 ac, 1 ensuite, 1 tbb, 1 toolbox, 6.1ms\n",
            "image 11/22 /content/datasets/WeighBridge-2-1/test/images/14321_png.rf.6942e405bc51f826347e906293babda7.jpg: 640x224 1 ac, 1 ensuite, 1 tbb, 1 toolbox, 6.2ms\n",
            "image 12/22 /content/datasets/WeighBridge-2-1/test/images/14373_png.rf.ef6c01300e89722797d8c10bacb99735.jpg: 640x224 1 ac, 1 ensuite, 1 tbb, 1 toolbox, 5.9ms\n",
            "image 13/22 /content/datasets/WeighBridge-2-1/test/images/14540_png.rf.33237a170f78e8014ef4be26ba92553e.jpg: 640x224 1 ac, 1 ensuite, 1 tbb, 6.0ms\n",
            "image 14/22 /content/datasets/WeighBridge-2-1/test/images/14594_png.rf.f84cd445f15d0c0374e25d6a7eead45a.jpg: 640x192 1 ac, 1 tbb, 1 toolbox, 6.8ms\n",
            "image 15/22 /content/datasets/WeighBridge-2-1/test/images/14750_png.rf.917c6cdf84ed6ef6e2bda849c8768451.jpg: 640x288 1 ac, 1 ensuite, 1 tbb, 2 toolboxs, 6.9ms\n",
            "image 16/22 /content/datasets/WeighBridge-2-1/test/images/14803_png.rf.ff9ce9328caf7a8f001d02924a46fc99.jpg: 640x224 1 ac, 1 ensuite, 1 tbb, 1 toolbox, 7.2ms\n",
            "image 17/22 /content/datasets/WeighBridge-2-1/test/images/14835_png.rf.c058ee3ad8b710cdf9c7fee9335949be.jpg: 640x224 1 ac, 1 ensuite, 1 tbb, 6.1ms\n",
            "image 18/22 /content/datasets/WeighBridge-2-1/test/images/14957_png.rf.13da099756d63ef404cd7a6975ee66a3.jpg: 640x224 1 ac, 1 ensuite, 1 tbb, 1 toolbox, 6.5ms\n",
            "image 19/22 /content/datasets/WeighBridge-2-1/test/images/15121_png.rf.7ce0321bf601200a60e419b0c41287cf.jpg: 640x224 1 ac, 1 ensuite, 1 tbb, 1 toolbox, 7.4ms\n",
            "image 20/22 /content/datasets/WeighBridge-2-1/test/images/15149_png.rf.87e0444b344ce93c5d4c66dcf9a99873.jpg: 640x192 1 ac, 1 ensuite, 1 tbb, 1 toolbox, 7.0ms\n",
            "image 21/22 /content/datasets/WeighBridge-2-1/test/images/15151_png.rf.8793e8e74a348983764d0108dd3e89f5.jpg: 640x192 1 ac, 1 ensuite, 1 tbb, 1 toolbox, 6.3ms\n",
            "image 22/22 /content/datasets/WeighBridge-2-1/test/images/15181_png.rf.d12d3cda3aaeace0960d56084885da10.jpg: 640x224 1 ac, 1 ensuite, 1 tbb, 6.7ms\n",
            "Speed: 0.7ms preprocess, 6.8ms inference, 1.2ms postprocess per image at shape (1, 3, 640, 224)\n",
            "Results saved to \u001b[1mruns/detect/predict4\u001b[0m\n",
            "---------------------\n",
            "12907_png.rf.de4a367b9c567a793c63806d06043408.jpg\n",
            "12960_png.rf.147af7b9a08829714d9baac9e74a8d80.jpg\n",
            "13189_png.rf.3409b4beb32740041319c18889bc13ee.jpg\n",
            "13305_png.rf.7a75f1c248b844204a90020b8b0a33b3.jpg\n",
            "13338_png.rf.f4cfa5830d3f9eb64e1125ebf7bb3f75.jpg\n",
            "13513_png.rf.07e6230068d8d167fa5aaf42624f871c.jpg\n",
            "13835_png.rf.6a1f60bde3dd85b2a178f69d60013047.jpg\n",
            "14239_png.rf.b51642002336b6b1db34067c6583ba95.jpg\n",
            "14240_png.rf.55ba0f56184c9dec320ee11365b8fb37.jpg\n",
            "14249_png.rf.63b039258cfb73b57c879a67539dcd6e.jpg\n",
            "14321_png.rf.6942e405bc51f826347e906293babda7.jpg\n",
            "14373_png.rf.ef6c01300e89722797d8c10bacb99735.jpg\n",
            "14540_png.rf.33237a170f78e8014ef4be26ba92553e.jpg\n",
            "14594_png.rf.f84cd445f15d0c0374e25d6a7eead45a.jpg\n",
            "14750_png.rf.917c6cdf84ed6ef6e2bda849c8768451.jpg\n",
            "14803_png.rf.ff9ce9328caf7a8f001d02924a46fc99.jpg\n",
            "14835_png.rf.c058ee3ad8b710cdf9c7fee9335949be.jpg\n",
            "14957_png.rf.13da099756d63ef404cd7a6975ee66a3.jpg\n",
            "15121_png.rf.7ce0321bf601200a60e419b0c41287cf.jpg\n",
            "15149_png.rf.87e0444b344ce93c5d4c66dcf9a99873.jpg\n",
            "15151_png.rf.8793e8e74a348983764d0108dd3e89f5.jpg\n",
            "15181_png.rf.d12d3cda3aaeace0960d56084885da10.jpg\n"
          ]
        }
      ]
    },
    {
      "cell_type": "markdown",
      "metadata": {
        "id": "RbnnxLtLPJMh"
      },
      "source": [
        "#Download predicted image folder"
      ]
    },
    {
      "cell_type": "code",
      "execution_count": null,
      "metadata": {
        "id": "ytdFxwsxFz09"
      },
      "outputs": [],
      "source": [
        "from google.colab import files\n",
        "import os\n",
        "\n",
        "dir_to_zip = '/content/datasets/WeighBridge-2-1/runs/detect/predict' #@param {type: \"string\"}\n",
        "output_filename = 'file.zip' #@param {type: \"string\"}\n",
        "delete_dir_after_download = \"No\"  #@param ['Yes', 'No']\n",
        "\n",
        "os.system( \"zip -r {} {}\".format( output_filename , dir_to_zip ) )\n",
        "\n",
        "if delete_dir_after_download == \"Yes\":\n",
        "    os.system( \"rm -r {}\".format( dir_to_zip ) )\n",
        "\n",
        "files.download( output_filename )"
      ]
    },
    {
      "cell_type": "markdown",
      "metadata": {
        "id": "ZPJ57_QXybVM"
      },
      "source": [
        "#Predict on uploded Zipped images\n"
      ]
    },
    {
      "cell_type": "markdown",
      "metadata": {
        "id": "WK2-_GA01Qdr"
      },
      "source": [
        "##Unzip the file"
      ]
    },
    {
      "cell_type": "code",
      "execution_count": 16,
      "metadata": {
        "id": "QCMHi0eZRQzJ"
      },
      "outputs": [],
      "source": [
        "import zipfile\n",
        "from google.colab import drive\n",
        "\n",
        "zip_ref = zipfile.ZipFile(\"/content/images.zip\", 'r')\n",
        "zip_ref.extractall(\"/content/unzipped_images\")\n",
        "zip_ref.close()\n"
      ]
    },
    {
      "cell_type": "code",
      "execution_count": null,
      "metadata": {
        "id": "CTekzkRI38rr"
      },
      "outputs": [],
      "source": [
        "import zipfile\n",
        "from google.colab import drive\n",
        "\n",
        "zip_ref = zipfile.ZipFile(\"/content/file_predicted(1).zip\", 'r')\n",
        "zip_ref.extractall(\"/content/file_predicted\")\n",
        "zip_ref.close()\n"
      ]
    },
    {
      "cell_type": "markdown",
      "metadata": {
        "id": "noPl89GFtY3m"
      },
      "source": [
        "#Infer on the Unizipped images"
      ]
    },
    {
      "cell_type": "code",
      "execution_count": null,
      "metadata": {
        "collapsed": true,
        "id": "JBBayM4-VfSa"
      },
      "outputs": [],
      "source": [
        "\n",
        "from ultralytics import YOLO\n",
        "from IPython.display import Image, display  # To display images in Jupyter/Colab\n",
        "\n",
        "best_model_path = os.path.join('/content/assemblyCompoDetection', 'detect_component2', 'weights', 'best.pt')\n",
        "\n",
        "# Load the trained YOLOv8 model\n",
        "model = YOLO(best_model_path)\n",
        "\n",
        "# Run inference on images, save=True ensures results are saved\n",
        "results = model('/content/images', save=True)\n",
        "\n",
        "# Change directory to where the predictions are saved\n",
        "import os\n",
        "output_dir = 'runs/detect/predict'  # This is the default output directory\n",
        "os.chdir(output_dir)"
      ]
    },
    {
      "cell_type": "markdown",
      "metadata": {
        "id": "BuOKiFsatfF_"
      },
      "source": [
        "#Create Zip and Download"
      ]
    },
    {
      "cell_type": "code",
      "execution_count": null,
      "metadata": {
        "id": "zZEyYJkpXciq"
      },
      "outputs": [],
      "source": [
        "from google.colab import files\n",
        "import os\n",
        "\n",
        "dir_to_zip = '/content/datasets/WeighBridge-2-1/runs/detect/predict/runs/detect/predict' #@param {type: \"string\"}\n",
        "output_filename = 'file_predicted.zip' #@param {type: \"string\"}\n",
        "delete_dir_after_download = \"No\"  #@param ['Yes', 'No']\n",
        "\n",
        "os.system( \"zip -r {} {}\".format( output_filename , dir_to_zip ) )\n",
        "\n",
        "if delete_dir_after_download == \"Yes\":\n",
        "    os.system( \"rm -r {}\".format( dir_to_zip ) )\n",
        "\n",
        "files.download( output_filename )"
      ]
    },
    {
      "cell_type": "code",
      "execution_count": null,
      "metadata": {
        "id": "jryEMdXd5jlG"
      },
      "outputs": [],
      "source": [
        "from google.colab import files\n",
        "import os\n",
        "\n",
        "dir_to_zip = '/content/images_ouput' #@param {type: \"string\"}\n",
        "output_filename = 'predicted.zip' #@param {type: \"string\"}\n",
        "delete_dir_after_download = \"No\"  #@param ['Yes', 'No']\n",
        "\n",
        "os.system( \"zip -r {} {}\".format( output_filename , dir_to_zip ) )\n",
        "\n",
        "if delete_dir_after_download == \"Yes\":\n",
        "    os.system( \"rm -r {}\".format( dir_to_zip ) )\n",
        "\n",
        "files.download( output_filename )"
      ]
    }
  ],
  "metadata": {
    "accelerator": "GPU",
    "colab": {
      "gpuType": "T4",
      "provenance": [],
      "machine_shape": "hm",
      "collapsed_sections": [
        "HE7Xa9wGPFfw",
        "RbnnxLtLPJMh",
        "WK2-_GA01Qdr",
        "noPl89GFtY3m",
        "BuOKiFsatfF_"
      ],
      "include_colab_link": true
    },
    "kernelspec": {
      "display_name": "Python 3",
      "name": "python3"
    },
    "language_info": {
      "name": "python"
    }
  },
  "nbformat": 4,
  "nbformat_minor": 0
}